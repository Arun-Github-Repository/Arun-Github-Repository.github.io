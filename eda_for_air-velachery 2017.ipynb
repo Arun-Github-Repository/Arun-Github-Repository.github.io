{
 "cells": [
  {
   "cell_type": "code",
   "execution_count": 303,
   "metadata": {},
   "outputs": [],
   "source": [
    "import pandas as pd\n",
    "import numpy as np\n",
    "import matplotlib.pyplot as plt\n",
    "import seaborn as sns\n",
    "from scipy.stats import stats\n",
    "import warnings;\n",
    "warnings.filterwarnings(\"ignore\")"
   ]
  },
  {
   "cell_type": "code",
   "execution_count": 304,
   "metadata": {},
   "outputs": [],
   "source": [
    "df1=pd.read_excel('vel_2017.xlsx')"
   ]
  },
  {
   "cell_type": "code",
   "execution_count": 305,
   "metadata": {},
   "outputs": [
    {
     "data": {
      "text/html": [
       "<div>\n",
       "<style scoped>\n",
       "    .dataframe tbody tr th:only-of-type {\n",
       "        vertical-align: middle;\n",
       "    }\n",
       "\n",
       "    .dataframe tbody tr th {\n",
       "        vertical-align: top;\n",
       "    }\n",
       "\n",
       "    .dataframe thead th {\n",
       "        text-align: right;\n",
       "    }\n",
       "</style>\n",
       "<table border=\"1\" class=\"dataframe\">\n",
       "  <thead>\n",
       "    <tr style=\"text-align: right;\">\n",
       "      <th></th>\n",
       "      <th>From Date</th>\n",
       "      <th>To Date</th>\n",
       "      <th>CO</th>\n",
       "      <th>Ozone</th>\n",
       "      <th>NO2</th>\n",
       "      <th>NO</th>\n",
       "      <th>NOx</th>\n",
       "      <th>SO2</th>\n",
       "      <th>RH</th>\n",
       "      <th>VWS</th>\n",
       "      <th>...</th>\n",
       "      <th>WD</th>\n",
       "      <th>BP</th>\n",
       "      <th>PM2.5</th>\n",
       "      <th>Temp</th>\n",
       "      <th>SR</th>\n",
       "      <th>Benzene</th>\n",
       "      <th>MP-Xylene</th>\n",
       "      <th>Toluene</th>\n",
       "      <th>O</th>\n",
       "      <th>Eth-Benzene</th>\n",
       "    </tr>\n",
       "  </thead>\n",
       "  <tbody>\n",
       "    <tr>\n",
       "      <th>0</th>\n",
       "      <td>01-01-2017 00:00</td>\n",
       "      <td>01-01-2017 01:00</td>\n",
       "      <td>165.03</td>\n",
       "      <td>2.84</td>\n",
       "      <td>24.15</td>\n",
       "      <td>7.71</td>\n",
       "      <td>None</td>\n",
       "      <td>2.48</td>\n",
       "      <td>86.34</td>\n",
       "      <td>0.06</td>\n",
       "      <td>...</td>\n",
       "      <td>186.03</td>\n",
       "      <td>1015.27</td>\n",
       "      <td>26.97</td>\n",
       "      <td>None</td>\n",
       "      <td>0.66</td>\n",
       "      <td>2.22</td>\n",
       "      <td>4.93</td>\n",
       "      <td>9.97</td>\n",
       "      <td>2.21</td>\n",
       "      <td>NaN</td>\n",
       "    </tr>\n",
       "    <tr>\n",
       "      <th>1</th>\n",
       "      <td>01-01-2017 01:00</td>\n",
       "      <td>01-01-2017 02:00</td>\n",
       "      <td>171.83</td>\n",
       "      <td>4.88</td>\n",
       "      <td>20.28</td>\n",
       "      <td>4.36</td>\n",
       "      <td>None</td>\n",
       "      <td>2.93</td>\n",
       "      <td>86.78</td>\n",
       "      <td>0.08</td>\n",
       "      <td>...</td>\n",
       "      <td>261.78</td>\n",
       "      <td>1014.55</td>\n",
       "      <td>34.88</td>\n",
       "      <td>None</td>\n",
       "      <td>0.68</td>\n",
       "      <td>2.1</td>\n",
       "      <td>3.87</td>\n",
       "      <td>7.93</td>\n",
       "      <td>1.83</td>\n",
       "      <td>NaN</td>\n",
       "    </tr>\n",
       "    <tr>\n",
       "      <th>2</th>\n",
       "      <td>01-01-2017 02:00</td>\n",
       "      <td>01-01-2017 03:00</td>\n",
       "      <td>169.17</td>\n",
       "      <td>4.57</td>\n",
       "      <td>18.6</td>\n",
       "      <td>3.78</td>\n",
       "      <td>None</td>\n",
       "      <td>2.72</td>\n",
       "      <td>89.43</td>\n",
       "      <td>0.07</td>\n",
       "      <td>...</td>\n",
       "      <td>180.56</td>\n",
       "      <td>1013.88</td>\n",
       "      <td>57.49</td>\n",
       "      <td>None</td>\n",
       "      <td>0.27</td>\n",
       "      <td>1.69</td>\n",
       "      <td>1.71</td>\n",
       "      <td>2.97</td>\n",
       "      <td>3.36</td>\n",
       "      <td>NaN</td>\n",
       "    </tr>\n",
       "    <tr>\n",
       "      <th>3</th>\n",
       "      <td>01-01-2017 03:00</td>\n",
       "      <td>01-01-2017 04:00</td>\n",
       "      <td>170.48</td>\n",
       "      <td>6.1</td>\n",
       "      <td>16.03</td>\n",
       "      <td>3.16</td>\n",
       "      <td>None</td>\n",
       "      <td>3.03</td>\n",
       "      <td>90.15</td>\n",
       "      <td>0.08</td>\n",
       "      <td>...</td>\n",
       "      <td>353.43</td>\n",
       "      <td>1013.48</td>\n",
       "      <td>62.75</td>\n",
       "      <td>None</td>\n",
       "      <td>2.33</td>\n",
       "      <td>1.69</td>\n",
       "      <td>2.88</td>\n",
       "      <td>5.47</td>\n",
       "      <td>2.2</td>\n",
       "      <td>NaN</td>\n",
       "    </tr>\n",
       "    <tr>\n",
       "      <th>4</th>\n",
       "      <td>01-01-2017 04:00</td>\n",
       "      <td>01-01-2017 05:00</td>\n",
       "      <td>171.73</td>\n",
       "      <td>10.07</td>\n",
       "      <td>10.18</td>\n",
       "      <td>2.05</td>\n",
       "      <td>None</td>\n",
       "      <td>2.74</td>\n",
       "      <td>93.62</td>\n",
       "      <td>0.08</td>\n",
       "      <td>...</td>\n",
       "      <td>11.94</td>\n",
       "      <td>1013.73</td>\n",
       "      <td>67.49</td>\n",
       "      <td>None</td>\n",
       "      <td>0.2</td>\n",
       "      <td>0.07</td>\n",
       "      <td>1.61</td>\n",
       "      <td>3.61</td>\n",
       "      <td>0.08</td>\n",
       "      <td>NaN</td>\n",
       "    </tr>\n",
       "  </tbody>\n",
       "</table>\n",
       "<p>5 rows × 21 columns</p>\n",
       "</div>"
      ],
      "text/plain": [
       "          From Date           To Date      CO  Ozone    NO2    NO   NOx   SO2  \\\n",
       "0  01-01-2017 00:00  01-01-2017 01:00  165.03   2.84  24.15  7.71  None  2.48   \n",
       "1  01-01-2017 01:00  01-01-2017 02:00  171.83   4.88  20.28  4.36  None  2.93   \n",
       "2  01-01-2017 02:00  01-01-2017 03:00  169.17   4.57   18.6  3.78  None  2.72   \n",
       "3  01-01-2017 03:00  01-01-2017 04:00  170.48    6.1  16.03  3.16  None  3.03   \n",
       "4  01-01-2017 04:00  01-01-2017 05:00  171.73  10.07  10.18  2.05  None  2.74   \n",
       "\n",
       "      RH   VWS  ...      WD       BP  PM2.5  Temp    SR Benzene MP-Xylene  \\\n",
       "0  86.34  0.06  ...  186.03  1015.27  26.97  None  0.66    2.22      4.93   \n",
       "1  86.78  0.08  ...  261.78  1014.55  34.88  None  0.68     2.1      3.87   \n",
       "2  89.43  0.07  ...  180.56  1013.88  57.49  None  0.27    1.69      1.71   \n",
       "3  90.15  0.08  ...  353.43  1013.48  62.75  None  2.33    1.69      2.88   \n",
       "4  93.62  0.08  ...   11.94  1013.73  67.49  None   0.2    0.07      1.61   \n",
       "\n",
       "  Toluene     O Eth-Benzene  \n",
       "0    9.97  2.21         NaN  \n",
       "1    7.93  1.83         NaN  \n",
       "2    2.97  3.36         NaN  \n",
       "3    5.47   2.2         NaN  \n",
       "4    3.61  0.08         NaN  \n",
       "\n",
       "[5 rows x 21 columns]"
      ]
     },
     "execution_count": 305,
     "metadata": {},
     "output_type": "execute_result"
    }
   ],
   "source": [
    "df1.head()"
   ]
  },
  {
   "cell_type": "code",
   "execution_count": 306,
   "metadata": {},
   "outputs": [],
   "source": [
    "df=df1[['From Date','BP','CO','VWS','WD','WS','NO','NO2','PM2.5','RH','SO2','SR']]"
   ]
  },
  {
   "cell_type": "code",
   "execution_count": 307,
   "metadata": {},
   "outputs": [
    {
     "data": {
      "text/html": [
       "<div>\n",
       "<style scoped>\n",
       "    .dataframe tbody tr th:only-of-type {\n",
       "        vertical-align: middle;\n",
       "    }\n",
       "\n",
       "    .dataframe tbody tr th {\n",
       "        vertical-align: top;\n",
       "    }\n",
       "\n",
       "    .dataframe thead th {\n",
       "        text-align: right;\n",
       "    }\n",
       "</style>\n",
       "<table border=\"1\" class=\"dataframe\">\n",
       "  <thead>\n",
       "    <tr style=\"text-align: right;\">\n",
       "      <th></th>\n",
       "      <th>From Date</th>\n",
       "      <th>BP</th>\n",
       "      <th>CO</th>\n",
       "      <th>VWS</th>\n",
       "      <th>WD</th>\n",
       "      <th>WS</th>\n",
       "      <th>NO</th>\n",
       "      <th>NO2</th>\n",
       "      <th>PM2.5</th>\n",
       "      <th>RH</th>\n",
       "      <th>SO2</th>\n",
       "      <th>SR</th>\n",
       "    </tr>\n",
       "  </thead>\n",
       "  <tbody>\n",
       "    <tr>\n",
       "      <th>0</th>\n",
       "      <td>01-01-2017 00:00</td>\n",
       "      <td>1015.27</td>\n",
       "      <td>165.03</td>\n",
       "      <td>0.06</td>\n",
       "      <td>186.03</td>\n",
       "      <td>0.17</td>\n",
       "      <td>7.71</td>\n",
       "      <td>24.15</td>\n",
       "      <td>26.97</td>\n",
       "      <td>86.34</td>\n",
       "      <td>2.48</td>\n",
       "      <td>0.66</td>\n",
       "    </tr>\n",
       "    <tr>\n",
       "      <th>1</th>\n",
       "      <td>01-01-2017 01:00</td>\n",
       "      <td>1014.55</td>\n",
       "      <td>171.83</td>\n",
       "      <td>0.08</td>\n",
       "      <td>261.78</td>\n",
       "      <td>0.35</td>\n",
       "      <td>4.36</td>\n",
       "      <td>20.28</td>\n",
       "      <td>34.88</td>\n",
       "      <td>86.78</td>\n",
       "      <td>2.93</td>\n",
       "      <td>0.68</td>\n",
       "    </tr>\n",
       "    <tr>\n",
       "      <th>2</th>\n",
       "      <td>01-01-2017 02:00</td>\n",
       "      <td>1013.88</td>\n",
       "      <td>169.17</td>\n",
       "      <td>0.07</td>\n",
       "      <td>180.56</td>\n",
       "      <td>0.26</td>\n",
       "      <td>3.78</td>\n",
       "      <td>18.6</td>\n",
       "      <td>57.49</td>\n",
       "      <td>89.43</td>\n",
       "      <td>2.72</td>\n",
       "      <td>0.27</td>\n",
       "    </tr>\n",
       "    <tr>\n",
       "      <th>3</th>\n",
       "      <td>01-01-2017 03:00</td>\n",
       "      <td>1013.48</td>\n",
       "      <td>170.48</td>\n",
       "      <td>0.08</td>\n",
       "      <td>353.43</td>\n",
       "      <td>0.28</td>\n",
       "      <td>3.16</td>\n",
       "      <td>16.03</td>\n",
       "      <td>62.75</td>\n",
       "      <td>90.15</td>\n",
       "      <td>3.03</td>\n",
       "      <td>2.33</td>\n",
       "    </tr>\n",
       "    <tr>\n",
       "      <th>4</th>\n",
       "      <td>01-01-2017 04:00</td>\n",
       "      <td>1013.73</td>\n",
       "      <td>171.73</td>\n",
       "      <td>0.08</td>\n",
       "      <td>11.94</td>\n",
       "      <td>0.27</td>\n",
       "      <td>2.05</td>\n",
       "      <td>10.18</td>\n",
       "      <td>67.49</td>\n",
       "      <td>93.62</td>\n",
       "      <td>2.74</td>\n",
       "      <td>0.2</td>\n",
       "    </tr>\n",
       "  </tbody>\n",
       "</table>\n",
       "</div>"
      ],
      "text/plain": [
       "          From Date       BP      CO   VWS      WD    WS    NO    NO2  PM2.5  \\\n",
       "0  01-01-2017 00:00  1015.27  165.03  0.06  186.03  0.17  7.71  24.15  26.97   \n",
       "1  01-01-2017 01:00  1014.55  171.83  0.08  261.78  0.35  4.36  20.28  34.88   \n",
       "2  01-01-2017 02:00  1013.88  169.17  0.07  180.56  0.26  3.78   18.6  57.49   \n",
       "3  01-01-2017 03:00  1013.48  170.48  0.08  353.43  0.28  3.16  16.03  62.75   \n",
       "4  01-01-2017 04:00  1013.73  171.73  0.08   11.94  0.27  2.05  10.18  67.49   \n",
       "\n",
       "      RH   SO2    SR  \n",
       "0  86.34  2.48  0.66  \n",
       "1  86.78  2.93  0.68  \n",
       "2  89.43  2.72  0.27  \n",
       "3  90.15  3.03  2.33  \n",
       "4  93.62  2.74   0.2  "
      ]
     },
     "execution_count": 307,
     "metadata": {},
     "output_type": "execute_result"
    }
   ],
   "source": [
    "df.head()"
   ]
  },
  {
   "cell_type": "code",
   "execution_count": 308,
   "metadata": {},
   "outputs": [
    {
     "data": {
      "text/plain": [
       "(8760, 12)"
      ]
     },
     "execution_count": 308,
     "metadata": {},
     "output_type": "execute_result"
    }
   ],
   "source": [
    "df.shape"
   ]
  },
  {
   "cell_type": "code",
   "execution_count": 309,
   "metadata": {},
   "outputs": [
    {
     "name": "stdout",
     "output_type": "stream",
     "text": [
      "<class 'pandas.core.frame.DataFrame'>\n",
      "RangeIndex: 8760 entries, 0 to 8759\n",
      "Data columns (total 12 columns):\n",
      "From Date    8760 non-null object\n",
      "BP           8760 non-null object\n",
      "CO           8760 non-null object\n",
      "VWS          8760 non-null object\n",
      "WD           8760 non-null object\n",
      "WS           8760 non-null object\n",
      "NO           8760 non-null object\n",
      "NO2          8760 non-null object\n",
      "PM2.5        8760 non-null object\n",
      "RH           8760 non-null object\n",
      "SO2          8760 non-null object\n",
      "SR           8760 non-null object\n",
      "dtypes: object(12)\n",
      "memory usage: 821.4+ KB\n"
     ]
    }
   ],
   "source": [
    "df.info()"
   ]
  },
  {
   "cell_type": "code",
   "execution_count": 310,
   "metadata": {},
   "outputs": [],
   "source": [
    "for i in df.columns:\n",
    "    for j in df[i]:\n",
    "        if(j=='None'):\n",
    "            df[i]=df[i].replace(j,np.nan)"
   ]
  },
  {
   "cell_type": "code",
   "execution_count": 311,
   "metadata": {},
   "outputs": [
    {
     "name": "stdout",
     "output_type": "stream",
     "text": [
      "Percentage of Null values in Velachery 2017:  5.878995433789954\n"
     ]
    }
   ],
   "source": [
    "print(\"Percentage of Null values in Velachery 2017: \",((df.isna().sum()/(len(df)*12)).sum())*100)"
   ]
  },
  {
   "cell_type": "code",
   "execution_count": 312,
   "metadata": {},
   "outputs": [
    {
     "data": {
      "text/plain": [
       "From Date      0\n",
       "BP           547\n",
       "CO           548\n",
       "VWS          564\n",
       "WD           602\n",
       "WS           592\n",
       "NO           555\n",
       "NO2          553\n",
       "PM2.5        548\n",
       "RH           575\n",
       "SO2          550\n",
       "SR           546\n",
       "dtype: int64"
      ]
     },
     "execution_count": 312,
     "metadata": {},
     "output_type": "execute_result"
    }
   ],
   "source": [
    "df.isna().sum()"
   ]
  },
  {
   "cell_type": "code",
   "execution_count": 313,
   "metadata": {},
   "outputs": [],
   "source": [
    "list1=['BP','CO','VWS','WD','WS','NO','NO2','PM2.5','RH','SO2','SR']\n",
    "count=0\n",
    "for i in list1:\n",
    "    for j in df[i]:\n",
    "        if(j<0):\n",
    "            count=count+1"
   ]
  },
  {
   "cell_type": "code",
   "execution_count": 314,
   "metadata": {},
   "outputs": [
    {
     "data": {
      "text/plain": [
       "94"
      ]
     },
     "execution_count": 314,
     "metadata": {},
     "output_type": "execute_result"
    }
   ],
   "source": [
    "count"
   ]
  },
  {
   "cell_type": "code",
   "execution_count": 315,
   "metadata": {},
   "outputs": [
    {
     "data": {
      "text/plain": [
       "0.0008942161339421614"
      ]
     },
     "execution_count": 315,
     "metadata": {},
     "output_type": "execute_result"
    }
   ],
   "source": [
    "count/(len(df)*12)"
   ]
  },
  {
   "cell_type": "code",
   "execution_count": 316,
   "metadata": {},
   "outputs": [
    {
     "data": {
      "text/plain": [
       "\"for col in list1:\\n    if (df[col]<0).sum() >1 and col != 'VWS':\\n        df[col][(df[col]<0)] = np.NaN\""
      ]
     },
     "execution_count": 316,
     "metadata": {},
     "output_type": "execute_result"
    }
   ],
   "source": [
    "\"\"\"for col in list1:\n",
    "    if (df[col]<0).sum() >1 and col != 'VWS':\n",
    "        df[col][(df[col]<0)] = np.NaN\"\"\""
   ]
  },
  {
   "cell_type": "code",
   "execution_count": 317,
   "metadata": {},
   "outputs": [
    {
     "data": {
      "text/plain": [
       "2773    42.35\n",
       "6375     1.44\n",
       "6607    70.65\n",
       "6614    15.10\n",
       "6991     1.32\n",
       "        ...  \n",
       "8362     0.44\n",
       "8380     0.40\n",
       "8381     0.24\n",
       "8635     0.83\n",
       "8636     0.51\n",
       "Name: CO, Length: 808, dtype: float64"
      ]
     },
     "execution_count": 317,
     "metadata": {},
     "output_type": "execute_result"
    }
   ],
   "source": [
    "df['CO'][(df['CO']>0) & (df['CO']<80)]"
   ]
  },
  {
   "cell_type": "code",
   "execution_count": 318,
   "metadata": {},
   "outputs": [],
   "source": [
    "for col in list1:\n",
    "    if(col!='VWS'):\n",
    "        for j in df[col]:\n",
    "            if(j<0):\n",
    "                df[col]=df[col].replace(j,np.nan)"
   ]
  },
  {
   "cell_type": "code",
   "execution_count": 319,
   "metadata": {},
   "outputs": [
    {
     "data": {
      "text/plain": [
       "From Date      0\n",
       "BP           547\n",
       "CO           549\n",
       "VWS          564\n",
       "WD           602\n",
       "WS           592\n",
       "NO           563\n",
       "NO2          553\n",
       "PM2.5        548\n",
       "RH           600\n",
       "SO2          550\n",
       "SR           578\n",
       "dtype: int64"
      ]
     },
     "execution_count": 319,
     "metadata": {},
     "output_type": "execute_result"
    }
   ],
   "source": [
    "df.isna().sum()"
   ]
  },
  {
   "cell_type": "code",
   "execution_count": 320,
   "metadata": {},
   "outputs": [
    {
     "name": "stdout",
     "output_type": "stream",
     "text": [
      "Percentage of Null values in Velachery 2017:  5.941780821917809\n"
     ]
    }
   ],
   "source": [
    "print(\"Percentage of Null values in Velachery 2017: \",((df.isna().sum()/(len(df)*12)).sum())*100)"
   ]
  },
  {
   "cell_type": "code",
   "execution_count": 321,
   "metadata": {},
   "outputs": [],
   "source": [
    "list1=['BP','CO','VWS','WD','WS','NO','NO2','PM2.5','RH','SO2','SR']\n",
    "count=0\n",
    "for i in list1:\n",
    "    for j in df[i]:\n",
    "        if(j<0):\n",
    "            count=count+1"
   ]
  },
  {
   "cell_type": "code",
   "execution_count": 322,
   "metadata": {},
   "outputs": [
    {
     "data": {
      "text/plain": [
       "28"
      ]
     },
     "execution_count": 322,
     "metadata": {},
     "output_type": "execute_result"
    }
   ],
   "source": [
    "count"
   ]
  },
  {
   "cell_type": "code",
   "execution_count": 323,
   "metadata": {},
   "outputs": [
    {
     "data": {
      "text/plain": [
       "From Date      0\n",
       "BP           547\n",
       "CO           549\n",
       "VWS          564\n",
       "WD           602\n",
       "WS           592\n",
       "NO           563\n",
       "NO2          553\n",
       "PM2.5        548\n",
       "RH           600\n",
       "SO2          550\n",
       "SR           578\n",
       "dtype: int64"
      ]
     },
     "execution_count": 323,
     "metadata": {},
     "output_type": "execute_result"
    }
   ],
   "source": [
    "df.isna().sum()"
   ]
  },
  {
   "cell_type": "code",
   "execution_count": 324,
   "metadata": {},
   "outputs": [],
   "source": [
    "df=df.dropna(axis=0,subset=['PM2.5'])"
   ]
  },
  {
   "cell_type": "code",
   "execution_count": 325,
   "metadata": {},
   "outputs": [],
   "source": [
    "m=['BP','CO','VWS','WD','WS','NO','NO2','PM2.5','RH','SO2','SR']\n",
    "for col in m:\n",
    "    df[col] = df[col].interpolate(method='nearest',limit_direction = 'both')"
   ]
  },
  {
   "cell_type": "code",
   "execution_count": 326,
   "metadata": {},
   "outputs": [
    {
     "data": {
      "text/plain": [
       "From Date    0\n",
       "BP           0\n",
       "CO           0\n",
       "VWS          0\n",
       "WD           0\n",
       "WS           0\n",
       "NO           0\n",
       "NO2          0\n",
       "PM2.5        0\n",
       "RH           0\n",
       "SO2          0\n",
       "SR           0\n",
       "dtype: int64"
      ]
     },
     "execution_count": 326,
     "metadata": {},
     "output_type": "execute_result"
    }
   ],
   "source": [
    "df.isna().sum()"
   ]
  },
  {
   "cell_type": "code",
   "execution_count": 327,
   "metadata": {},
   "outputs": [],
   "source": [
    "df['BP']=df['BP'].astype(float)\n",
    "df['CO']=df['CO'].astype(float)\n",
    "df['VWS']=df['VWS'].astype(float)\n",
    "df['WD']=df['WD'].astype(float)\n",
    "df['WS']=df['WS'].astype(float)\n",
    "df['NO']=df['NO'].astype(float)\n",
    "df['NO2']=df['NO2'].astype(float)\n",
    "df['PM2.5']=df['PM2.5'].astype(float)\n",
    "df['RH']=df['RH'].astype(float)\n",
    "df['SO2']=df['SO2'].astype(float)\n",
    "df['SR']=df['SR'].astype(float)"
   ]
  },
  {
   "cell_type": "code",
   "execution_count": 328,
   "metadata": {},
   "outputs": [
    {
     "data": {
      "text/html": [
       "<div>\n",
       "<style scoped>\n",
       "    .dataframe tbody tr th:only-of-type {\n",
       "        vertical-align: middle;\n",
       "    }\n",
       "\n",
       "    .dataframe tbody tr th {\n",
       "        vertical-align: top;\n",
       "    }\n",
       "\n",
       "    .dataframe thead th {\n",
       "        text-align: right;\n",
       "    }\n",
       "</style>\n",
       "<table border=\"1\" class=\"dataframe\">\n",
       "  <thead>\n",
       "    <tr style=\"text-align: right;\">\n",
       "      <th></th>\n",
       "      <th>From Date</th>\n",
       "      <th>BP</th>\n",
       "      <th>CO</th>\n",
       "      <th>VWS</th>\n",
       "      <th>WD</th>\n",
       "      <th>WS</th>\n",
       "      <th>NO</th>\n",
       "      <th>NO2</th>\n",
       "      <th>PM2.5</th>\n",
       "      <th>RH</th>\n",
       "      <th>SO2</th>\n",
       "      <th>SR</th>\n",
       "    </tr>\n",
       "  </thead>\n",
       "  <tbody>\n",
       "    <tr>\n",
       "      <th>0</th>\n",
       "      <td>01-01-2017 00:00</td>\n",
       "      <td>1015.27</td>\n",
       "      <td>165.03</td>\n",
       "      <td>0.06</td>\n",
       "      <td>186.03</td>\n",
       "      <td>0.17</td>\n",
       "      <td>7.71</td>\n",
       "      <td>24.15</td>\n",
       "      <td>26.97</td>\n",
       "      <td>86.34</td>\n",
       "      <td>2.48</td>\n",
       "      <td>0.66</td>\n",
       "    </tr>\n",
       "    <tr>\n",
       "      <th>1</th>\n",
       "      <td>01-01-2017 01:00</td>\n",
       "      <td>1014.55</td>\n",
       "      <td>171.83</td>\n",
       "      <td>0.08</td>\n",
       "      <td>261.78</td>\n",
       "      <td>0.35</td>\n",
       "      <td>4.36</td>\n",
       "      <td>20.28</td>\n",
       "      <td>34.88</td>\n",
       "      <td>86.78</td>\n",
       "      <td>2.93</td>\n",
       "      <td>0.68</td>\n",
       "    </tr>\n",
       "    <tr>\n",
       "      <th>2</th>\n",
       "      <td>01-01-2017 02:00</td>\n",
       "      <td>1013.88</td>\n",
       "      <td>169.17</td>\n",
       "      <td>0.07</td>\n",
       "      <td>180.56</td>\n",
       "      <td>0.26</td>\n",
       "      <td>3.78</td>\n",
       "      <td>18.60</td>\n",
       "      <td>57.49</td>\n",
       "      <td>89.43</td>\n",
       "      <td>2.72</td>\n",
       "      <td>0.27</td>\n",
       "    </tr>\n",
       "    <tr>\n",
       "      <th>3</th>\n",
       "      <td>01-01-2017 03:00</td>\n",
       "      <td>1013.48</td>\n",
       "      <td>170.48</td>\n",
       "      <td>0.08</td>\n",
       "      <td>353.43</td>\n",
       "      <td>0.28</td>\n",
       "      <td>3.16</td>\n",
       "      <td>16.03</td>\n",
       "      <td>62.75</td>\n",
       "      <td>90.15</td>\n",
       "      <td>3.03</td>\n",
       "      <td>2.33</td>\n",
       "    </tr>\n",
       "    <tr>\n",
       "      <th>4</th>\n",
       "      <td>01-01-2017 04:00</td>\n",
       "      <td>1013.73</td>\n",
       "      <td>171.73</td>\n",
       "      <td>0.08</td>\n",
       "      <td>11.94</td>\n",
       "      <td>0.27</td>\n",
       "      <td>2.05</td>\n",
       "      <td>10.18</td>\n",
       "      <td>67.49</td>\n",
       "      <td>93.62</td>\n",
       "      <td>2.74</td>\n",
       "      <td>0.20</td>\n",
       "    </tr>\n",
       "  </tbody>\n",
       "</table>\n",
       "</div>"
      ],
      "text/plain": [
       "          From Date       BP      CO   VWS      WD    WS    NO    NO2  PM2.5  \\\n",
       "0  01-01-2017 00:00  1015.27  165.03  0.06  186.03  0.17  7.71  24.15  26.97   \n",
       "1  01-01-2017 01:00  1014.55  171.83  0.08  261.78  0.35  4.36  20.28  34.88   \n",
       "2  01-01-2017 02:00  1013.88  169.17  0.07  180.56  0.26  3.78  18.60  57.49   \n",
       "3  01-01-2017 03:00  1013.48  170.48  0.08  353.43  0.28  3.16  16.03  62.75   \n",
       "4  01-01-2017 04:00  1013.73  171.73  0.08   11.94  0.27  2.05  10.18  67.49   \n",
       "\n",
       "      RH   SO2    SR  \n",
       "0  86.34  2.48  0.66  \n",
       "1  86.78  2.93  0.68  \n",
       "2  89.43  2.72  0.27  \n",
       "3  90.15  3.03  2.33  \n",
       "4  93.62  2.74  0.20  "
      ]
     },
     "execution_count": 328,
     "metadata": {},
     "output_type": "execute_result"
    }
   ],
   "source": [
    "df.head()"
   ]
  },
  {
   "cell_type": "code",
   "execution_count": 329,
   "metadata": {},
   "outputs": [
    {
     "data": {
      "text/html": [
       "<div>\n",
       "<style scoped>\n",
       "    .dataframe tbody tr th:only-of-type {\n",
       "        vertical-align: middle;\n",
       "    }\n",
       "\n",
       "    .dataframe tbody tr th {\n",
       "        vertical-align: top;\n",
       "    }\n",
       "\n",
       "    .dataframe thead th {\n",
       "        text-align: right;\n",
       "    }\n",
       "</style>\n",
       "<table border=\"1\" class=\"dataframe\">\n",
       "  <thead>\n",
       "    <tr style=\"text-align: right;\">\n",
       "      <th></th>\n",
       "      <th>BP</th>\n",
       "      <th>CO</th>\n",
       "      <th>VWS</th>\n",
       "      <th>WD</th>\n",
       "      <th>WS</th>\n",
       "      <th>NO</th>\n",
       "      <th>NO2</th>\n",
       "      <th>PM2.5</th>\n",
       "      <th>RH</th>\n",
       "      <th>SO2</th>\n",
       "      <th>SR</th>\n",
       "    </tr>\n",
       "  </thead>\n",
       "  <tbody>\n",
       "    <tr>\n",
       "      <th>count</th>\n",
       "      <td>8212.000000</td>\n",
       "      <td>8212.000000</td>\n",
       "      <td>8212.000000</td>\n",
       "      <td>8212.000000</td>\n",
       "      <td>8212.000000</td>\n",
       "      <td>8212.000000</td>\n",
       "      <td>8212.000000</td>\n",
       "      <td>8212.000000</td>\n",
       "      <td>8212.000000</td>\n",
       "      <td>8212.000000</td>\n",
       "      <td>8212.000000</td>\n",
       "    </tr>\n",
       "    <tr>\n",
       "      <th>mean</th>\n",
       "      <td>903.166778</td>\n",
       "      <td>652.588354</td>\n",
       "      <td>0.123401</td>\n",
       "      <td>147.012544</td>\n",
       "      <td>1.161465</td>\n",
       "      <td>5.248422</td>\n",
       "      <td>15.074605</td>\n",
       "      <td>30.809720</td>\n",
       "      <td>64.575972</td>\n",
       "      <td>4.081673</td>\n",
       "      <td>148.138928</td>\n",
       "    </tr>\n",
       "    <tr>\n",
       "      <th>std</th>\n",
       "      <td>307.889080</td>\n",
       "      <td>654.789809</td>\n",
       "      <td>0.105510</td>\n",
       "      <td>98.996017</td>\n",
       "      <td>0.883127</td>\n",
       "      <td>11.929179</td>\n",
       "      <td>16.396508</td>\n",
       "      <td>25.126528</td>\n",
       "      <td>26.868534</td>\n",
       "      <td>6.798189</td>\n",
       "      <td>236.630065</td>\n",
       "    </tr>\n",
       "    <tr>\n",
       "      <th>min</th>\n",
       "      <td>0.000000</td>\n",
       "      <td>0.000000</td>\n",
       "      <td>-2.980000</td>\n",
       "      <td>0.000000</td>\n",
       "      <td>0.000000</td>\n",
       "      <td>0.000000</td>\n",
       "      <td>0.000000</td>\n",
       "      <td>0.000000</td>\n",
       "      <td>0.000000</td>\n",
       "      <td>0.000000</td>\n",
       "      <td>0.000000</td>\n",
       "    </tr>\n",
       "    <tr>\n",
       "      <th>25%</th>\n",
       "      <td>1005.570000</td>\n",
       "      <td>0.950000</td>\n",
       "      <td>0.070000</td>\n",
       "      <td>42.875000</td>\n",
       "      <td>0.520000</td>\n",
       "      <td>2.450000</td>\n",
       "      <td>7.720000</td>\n",
       "      <td>15.897500</td>\n",
       "      <td>52.250000</td>\n",
       "      <td>2.320000</td>\n",
       "      <td>0.000000</td>\n",
       "    </tr>\n",
       "    <tr>\n",
       "      <th>50%</th>\n",
       "      <td>1008.550000</td>\n",
       "      <td>527.400000</td>\n",
       "      <td>0.120000</td>\n",
       "      <td>157.965000</td>\n",
       "      <td>1.030000</td>\n",
       "      <td>3.470000</td>\n",
       "      <td>12.270000</td>\n",
       "      <td>27.515000</td>\n",
       "      <td>68.930000</td>\n",
       "      <td>3.265000</td>\n",
       "      <td>1.820000</td>\n",
       "    </tr>\n",
       "    <tr>\n",
       "      <th>75%</th>\n",
       "      <td>1011.680000</td>\n",
       "      <td>986.605000</td>\n",
       "      <td>0.180000</td>\n",
       "      <td>207.460000</td>\n",
       "      <td>1.700000</td>\n",
       "      <td>5.320000</td>\n",
       "      <td>18.942500</td>\n",
       "      <td>41.612500</td>\n",
       "      <td>84.092500</td>\n",
       "      <td>4.680000</td>\n",
       "      <td>222.312500</td>\n",
       "    </tr>\n",
       "    <tr>\n",
       "      <th>max</th>\n",
       "      <td>1020.350000</td>\n",
       "      <td>9999.900000</td>\n",
       "      <td>0.680000</td>\n",
       "      <td>358.710000</td>\n",
       "      <td>7.620000</td>\n",
       "      <td>501.310000</td>\n",
       "      <td>505.570000</td>\n",
       "      <td>584.230000</td>\n",
       "      <td>418.960000</td>\n",
       "      <td>500.400000</td>\n",
       "      <td>999.990000</td>\n",
       "    </tr>\n",
       "  </tbody>\n",
       "</table>\n",
       "</div>"
      ],
      "text/plain": [
       "                BP           CO          VWS           WD           WS  \\\n",
       "count  8212.000000  8212.000000  8212.000000  8212.000000  8212.000000   \n",
       "mean    903.166778   652.588354     0.123401   147.012544     1.161465   \n",
       "std     307.889080   654.789809     0.105510    98.996017     0.883127   \n",
       "min       0.000000     0.000000    -2.980000     0.000000     0.000000   \n",
       "25%    1005.570000     0.950000     0.070000    42.875000     0.520000   \n",
       "50%    1008.550000   527.400000     0.120000   157.965000     1.030000   \n",
       "75%    1011.680000   986.605000     0.180000   207.460000     1.700000   \n",
       "max    1020.350000  9999.900000     0.680000   358.710000     7.620000   \n",
       "\n",
       "                NO          NO2        PM2.5           RH          SO2  \\\n",
       "count  8212.000000  8212.000000  8212.000000  8212.000000  8212.000000   \n",
       "mean      5.248422    15.074605    30.809720    64.575972     4.081673   \n",
       "std      11.929179    16.396508    25.126528    26.868534     6.798189   \n",
       "min       0.000000     0.000000     0.000000     0.000000     0.000000   \n",
       "25%       2.450000     7.720000    15.897500    52.250000     2.320000   \n",
       "50%       3.470000    12.270000    27.515000    68.930000     3.265000   \n",
       "75%       5.320000    18.942500    41.612500    84.092500     4.680000   \n",
       "max     501.310000   505.570000   584.230000   418.960000   500.400000   \n",
       "\n",
       "                SR  \n",
       "count  8212.000000  \n",
       "mean    148.138928  \n",
       "std     236.630065  \n",
       "min       0.000000  \n",
       "25%       0.000000  \n",
       "50%       1.820000  \n",
       "75%     222.312500  \n",
       "max     999.990000  "
      ]
     },
     "execution_count": 329,
     "metadata": {},
     "output_type": "execute_result"
    }
   ],
   "source": [
    "df.describe()"
   ]
  },
  {
   "cell_type": "code",
   "execution_count": 330,
   "metadata": {},
   "outputs": [],
   "source": [
    "df['CO'] = np.where((df.CO >100),df['CO']/1000,df.CO)\n"
   ]
  },
  {
   "cell_type": "code",
   "execution_count": 331,
   "metadata": {},
   "outputs": [
    {
     "data": {
      "text/html": [
       "<div>\n",
       "<style scoped>\n",
       "    .dataframe tbody tr th:only-of-type {\n",
       "        vertical-align: middle;\n",
       "    }\n",
       "\n",
       "    .dataframe tbody tr th {\n",
       "        vertical-align: top;\n",
       "    }\n",
       "\n",
       "    .dataframe thead th {\n",
       "        text-align: right;\n",
       "    }\n",
       "</style>\n",
       "<table border=\"1\" class=\"dataframe\">\n",
       "  <thead>\n",
       "    <tr style=\"text-align: right;\">\n",
       "      <th></th>\n",
       "      <th>BP</th>\n",
       "      <th>CO</th>\n",
       "      <th>VWS</th>\n",
       "      <th>WD</th>\n",
       "      <th>WS</th>\n",
       "      <th>NO</th>\n",
       "      <th>NO2</th>\n",
       "      <th>PM2.5</th>\n",
       "      <th>RH</th>\n",
       "      <th>SO2</th>\n",
       "      <th>SR</th>\n",
       "    </tr>\n",
       "  </thead>\n",
       "  <tbody>\n",
       "    <tr>\n",
       "      <th>count</th>\n",
       "      <td>8212.000000</td>\n",
       "      <td>8212.000000</td>\n",
       "      <td>8212.000000</td>\n",
       "      <td>8212.000000</td>\n",
       "      <td>8212.000000</td>\n",
       "      <td>8212.000000</td>\n",
       "      <td>8212.000000</td>\n",
       "      <td>8212.000000</td>\n",
       "      <td>8212.000000</td>\n",
       "      <td>8212.000000</td>\n",
       "      <td>8212.000000</td>\n",
       "    </tr>\n",
       "    <tr>\n",
       "      <th>mean</th>\n",
       "      <td>903.166778</td>\n",
       "      <td>0.795252</td>\n",
       "      <td>0.123401</td>\n",
       "      <td>147.012544</td>\n",
       "      <td>1.161465</td>\n",
       "      <td>5.248422</td>\n",
       "      <td>15.074605</td>\n",
       "      <td>30.809720</td>\n",
       "      <td>64.575972</td>\n",
       "      <td>4.081673</td>\n",
       "      <td>148.138928</td>\n",
       "    </tr>\n",
       "    <tr>\n",
       "      <th>std</th>\n",
       "      <td>307.889080</td>\n",
       "      <td>2.293146</td>\n",
       "      <td>0.105510</td>\n",
       "      <td>98.996017</td>\n",
       "      <td>0.883127</td>\n",
       "      <td>11.929179</td>\n",
       "      <td>16.396508</td>\n",
       "      <td>25.126528</td>\n",
       "      <td>26.868534</td>\n",
       "      <td>6.798189</td>\n",
       "      <td>236.630065</td>\n",
       "    </tr>\n",
       "    <tr>\n",
       "      <th>min</th>\n",
       "      <td>0.000000</td>\n",
       "      <td>0.000000</td>\n",
       "      <td>-2.980000</td>\n",
       "      <td>0.000000</td>\n",
       "      <td>0.000000</td>\n",
       "      <td>0.000000</td>\n",
       "      <td>0.000000</td>\n",
       "      <td>0.000000</td>\n",
       "      <td>0.000000</td>\n",
       "      <td>0.000000</td>\n",
       "      <td>0.000000</td>\n",
       "    </tr>\n",
       "    <tr>\n",
       "      <th>25%</th>\n",
       "      <td>1005.570000</td>\n",
       "      <td>0.334040</td>\n",
       "      <td>0.070000</td>\n",
       "      <td>42.875000</td>\n",
       "      <td>0.520000</td>\n",
       "      <td>2.450000</td>\n",
       "      <td>7.720000</td>\n",
       "      <td>15.897500</td>\n",
       "      <td>52.250000</td>\n",
       "      <td>2.320000</td>\n",
       "      <td>0.000000</td>\n",
       "    </tr>\n",
       "    <tr>\n",
       "      <th>50%</th>\n",
       "      <td>1008.550000</td>\n",
       "      <td>0.614775</td>\n",
       "      <td>0.120000</td>\n",
       "      <td>157.965000</td>\n",
       "      <td>1.030000</td>\n",
       "      <td>3.470000</td>\n",
       "      <td>12.270000</td>\n",
       "      <td>27.515000</td>\n",
       "      <td>68.930000</td>\n",
       "      <td>3.265000</td>\n",
       "      <td>1.820000</td>\n",
       "    </tr>\n",
       "    <tr>\n",
       "      <th>75%</th>\n",
       "      <td>1011.680000</td>\n",
       "      <td>1.040625</td>\n",
       "      <td>0.180000</td>\n",
       "      <td>207.460000</td>\n",
       "      <td>1.700000</td>\n",
       "      <td>5.320000</td>\n",
       "      <td>18.942500</td>\n",
       "      <td>41.612500</td>\n",
       "      <td>84.092500</td>\n",
       "      <td>4.680000</td>\n",
       "      <td>222.312500</td>\n",
       "    </tr>\n",
       "    <tr>\n",
       "      <th>max</th>\n",
       "      <td>1020.350000</td>\n",
       "      <td>99.550000</td>\n",
       "      <td>0.680000</td>\n",
       "      <td>358.710000</td>\n",
       "      <td>7.620000</td>\n",
       "      <td>501.310000</td>\n",
       "      <td>505.570000</td>\n",
       "      <td>584.230000</td>\n",
       "      <td>418.960000</td>\n",
       "      <td>500.400000</td>\n",
       "      <td>999.990000</td>\n",
       "    </tr>\n",
       "  </tbody>\n",
       "</table>\n",
       "</div>"
      ],
      "text/plain": [
       "                BP           CO          VWS           WD           WS  \\\n",
       "count  8212.000000  8212.000000  8212.000000  8212.000000  8212.000000   \n",
       "mean    903.166778     0.795252     0.123401   147.012544     1.161465   \n",
       "std     307.889080     2.293146     0.105510    98.996017     0.883127   \n",
       "min       0.000000     0.000000    -2.980000     0.000000     0.000000   \n",
       "25%    1005.570000     0.334040     0.070000    42.875000     0.520000   \n",
       "50%    1008.550000     0.614775     0.120000   157.965000     1.030000   \n",
       "75%    1011.680000     1.040625     0.180000   207.460000     1.700000   \n",
       "max    1020.350000    99.550000     0.680000   358.710000     7.620000   \n",
       "\n",
       "                NO          NO2        PM2.5           RH          SO2  \\\n",
       "count  8212.000000  8212.000000  8212.000000  8212.000000  8212.000000   \n",
       "mean      5.248422    15.074605    30.809720    64.575972     4.081673   \n",
       "std      11.929179    16.396508    25.126528    26.868534     6.798189   \n",
       "min       0.000000     0.000000     0.000000     0.000000     0.000000   \n",
       "25%       2.450000     7.720000    15.897500    52.250000     2.320000   \n",
       "50%       3.470000    12.270000    27.515000    68.930000     3.265000   \n",
       "75%       5.320000    18.942500    41.612500    84.092500     4.680000   \n",
       "max     501.310000   505.570000   584.230000   418.960000   500.400000   \n",
       "\n",
       "                SR  \n",
       "count  8212.000000  \n",
       "mean    148.138928  \n",
       "std     236.630065  \n",
       "min       0.000000  \n",
       "25%       0.000000  \n",
       "50%       1.820000  \n",
       "75%     222.312500  \n",
       "max     999.990000  "
      ]
     },
     "execution_count": 331,
     "metadata": {},
     "output_type": "execute_result"
    }
   ],
   "source": [
    "df.describe()"
   ]
  },
  {
   "cell_type": "code",
   "execution_count": 332,
   "metadata": {},
   "outputs": [
    {
     "data": {
      "text/plain": [
       "From Date    0\n",
       "BP           0\n",
       "CO           0\n",
       "VWS          0\n",
       "WD           0\n",
       "WS           0\n",
       "NO           0\n",
       "NO2          0\n",
       "PM2.5        0\n",
       "RH           0\n",
       "SO2          0\n",
       "SR           0\n",
       "dtype: int64"
      ]
     },
     "execution_count": 332,
     "metadata": {},
     "output_type": "execute_result"
    }
   ],
   "source": [
    "df.isna().sum()"
   ]
  },
  {
   "cell_type": "code",
   "execution_count": 333,
   "metadata": {},
   "outputs": [
    {
     "data": {
      "text/plain": [
       "<matplotlib.axes._subplots.AxesSubplot at 0x1d612b31630>"
      ]
     },
     "execution_count": 333,
     "metadata": {},
     "output_type": "execute_result"
    },
    {
     "data": {
      "image/png": "[encoded data removed]",
      "text/plain": [
       "<Figure size 432x288 with 1 Axes>"
      ]
     },
     "metadata": {
      "needs_background": "light"
     },
     "output_type": "display_data"
    }
   ],
   "source": [
    "sns.boxplot(data=df)"
   ]
  },
  {
   "cell_type": "code",
   "execution_count": 334,
   "metadata": {},
   "outputs": [
    {
     "data": {
      "text/plain": [
       "(8212, 12)"
      ]
     },
     "execution_count": 334,
     "metadata": {},
     "output_type": "execute_result"
    }
   ],
   "source": [
    "df.shape"
   ]
  },
  {
   "cell_type": "code",
   "execution_count": 335,
   "metadata": {},
   "outputs": [],
   "source": [
    "df['location']=1\n",
    "df['location']=df['location'].astype('category')"
   ]
  },
  {
   "cell_type": "code",
   "execution_count": 336,
   "metadata": {},
   "outputs": [
    {
     "data": {
      "text/html": [
       "<div>\n",
       "<style scoped>\n",
       "    .dataframe tbody tr th:only-of-type {\n",
       "        vertical-align: middle;\n",
       "    }\n",
       "\n",
       "    .dataframe tbody tr th {\n",
       "        vertical-align: top;\n",
       "    }\n",
       "\n",
       "    .dataframe thead th {\n",
       "        text-align: right;\n",
       "    }\n",
       "</style>\n",
       "<table border=\"1\" class=\"dataframe\">\n",
       "  <thead>\n",
       "    <tr style=\"text-align: right;\">\n",
       "      <th></th>\n",
       "      <th>From Date</th>\n",
       "      <th>BP</th>\n",
       "      <th>CO</th>\n",
       "      <th>VWS</th>\n",
       "      <th>WD</th>\n",
       "      <th>WS</th>\n",
       "      <th>NO</th>\n",
       "      <th>NO2</th>\n",
       "      <th>PM2.5</th>\n",
       "      <th>RH</th>\n",
       "      <th>SO2</th>\n",
       "      <th>SR</th>\n",
       "      <th>location</th>\n",
       "    </tr>\n",
       "  </thead>\n",
       "  <tbody>\n",
       "    <tr>\n",
       "      <th>0</th>\n",
       "      <td>01-01-2017 00:00</td>\n",
       "      <td>1015.27</td>\n",
       "      <td>0.16503</td>\n",
       "      <td>0.06</td>\n",
       "      <td>186.03</td>\n",
       "      <td>0.17</td>\n",
       "      <td>7.71</td>\n",
       "      <td>24.15</td>\n",
       "      <td>26.97</td>\n",
       "      <td>86.34</td>\n",
       "      <td>2.48</td>\n",
       "      <td>0.66</td>\n",
       "      <td>1</td>\n",
       "    </tr>\n",
       "    <tr>\n",
       "      <th>1</th>\n",
       "      <td>01-01-2017 01:00</td>\n",
       "      <td>1014.55</td>\n",
       "      <td>0.17183</td>\n",
       "      <td>0.08</td>\n",
       "      <td>261.78</td>\n",
       "      <td>0.35</td>\n",
       "      <td>4.36</td>\n",
       "      <td>20.28</td>\n",
       "      <td>34.88</td>\n",
       "      <td>86.78</td>\n",
       "      <td>2.93</td>\n",
       "      <td>0.68</td>\n",
       "      <td>1</td>\n",
       "    </tr>\n",
       "    <tr>\n",
       "      <th>2</th>\n",
       "      <td>01-01-2017 02:00</td>\n",
       "      <td>1013.88</td>\n",
       "      <td>0.16917</td>\n",
       "      <td>0.07</td>\n",
       "      <td>180.56</td>\n",
       "      <td>0.26</td>\n",
       "      <td>3.78</td>\n",
       "      <td>18.60</td>\n",
       "      <td>57.49</td>\n",
       "      <td>89.43</td>\n",
       "      <td>2.72</td>\n",
       "      <td>0.27</td>\n",
       "      <td>1</td>\n",
       "    </tr>\n",
       "    <tr>\n",
       "      <th>3</th>\n",
       "      <td>01-01-2017 03:00</td>\n",
       "      <td>1013.48</td>\n",
       "      <td>0.17048</td>\n",
       "      <td>0.08</td>\n",
       "      <td>353.43</td>\n",
       "      <td>0.28</td>\n",
       "      <td>3.16</td>\n",
       "      <td>16.03</td>\n",
       "      <td>62.75</td>\n",
       "      <td>90.15</td>\n",
       "      <td>3.03</td>\n",
       "      <td>2.33</td>\n",
       "      <td>1</td>\n",
       "    </tr>\n",
       "    <tr>\n",
       "      <th>4</th>\n",
       "      <td>01-01-2017 04:00</td>\n",
       "      <td>1013.73</td>\n",
       "      <td>0.17173</td>\n",
       "      <td>0.08</td>\n",
       "      <td>11.94</td>\n",
       "      <td>0.27</td>\n",
       "      <td>2.05</td>\n",
       "      <td>10.18</td>\n",
       "      <td>67.49</td>\n",
       "      <td>93.62</td>\n",
       "      <td>2.74</td>\n",
       "      <td>0.20</td>\n",
       "      <td>1</td>\n",
       "    </tr>\n",
       "  </tbody>\n",
       "</table>\n",
       "</div>"
      ],
      "text/plain": [
       "          From Date       BP       CO   VWS      WD    WS    NO    NO2  PM2.5  \\\n",
       "0  01-01-2017 00:00  1015.27  0.16503  0.06  186.03  0.17  7.71  24.15  26.97   \n",
       "1  01-01-2017 01:00  1014.55  0.17183  0.08  261.78  0.35  4.36  20.28  34.88   \n",
       "2  01-01-2017 02:00  1013.88  0.16917  0.07  180.56  0.26  3.78  18.60  57.49   \n",
       "3  01-01-2017 03:00  1013.48  0.17048  0.08  353.43  0.28  3.16  16.03  62.75   \n",
       "4  01-01-2017 04:00  1013.73  0.17173  0.08   11.94  0.27  2.05  10.18  67.49   \n",
       "\n",
       "      RH   SO2    SR location  \n",
       "0  86.34  2.48  0.66        1  \n",
       "1  86.78  2.93  0.68        1  \n",
       "2  89.43  2.72  0.27        1  \n",
       "3  90.15  3.03  2.33        1  \n",
       "4  93.62  2.74  0.20        1  "
      ]
     },
     "execution_count": 336,
     "metadata": {},
     "output_type": "execute_result"
    }
   ],
   "source": [
    "df.head()"
   ]
  },
  {
   "cell_type": "code",
   "execution_count": 337,
   "metadata": {},
   "outputs": [
    {
     "data": {
      "text/plain": [
       "<matplotlib.axes._subplots.AxesSubplot at 0x1d6122087f0>"
      ]
     },
     "execution_count": 337,
     "metadata": {},
     "output_type": "execute_result"
    },
    {
     "data": {
      "image/png": "[encoded data removed]",
      "text/plain": [
       "<Figure size 1080x720 with 2 Axes>"
      ]
     },
     "metadata": {
      "needs_background": "light"
     },
     "output_type": "display_data"
    }
   ],
   "source": [
    "m=df.corr()\n",
    "plt.subplots(figsize=(15,10))\n",
    "sns.heatmap(m,annot=True)"
   ]
  },
  {
   "cell_type": "code",
   "execution_count": 338,
   "metadata": {},
   "outputs": [
    {
     "data": {
      "text/plain": [
       "Index(['From Date', 'BP', 'CO', 'VWS', 'WD', 'WS', 'NO', 'NO2', 'PM2.5', 'RH',\n",
       "       'SO2', 'SR', 'location'],\n",
       "      dtype='object')"
      ]
     },
     "execution_count": 338,
     "metadata": {},
     "output_type": "execute_result"
    }
   ],
   "source": [
    "df.columns"
   ]
  },
  {
   "cell_type": "code",
   "execution_count": 339,
   "metadata": {},
   "outputs": [
    {
     "data": {
      "text/plain": [
       "\"iqr_bp=df['BP'].quantile(.75)-df['BP'].quantile(.25)\\nup_bp=df['BP'].quantile(.75)+(1.5*iqr_bp)\\nlow_bp=df['BP'].quantile(.25)-(1.5*iqr_bp)\\n\\niqr_co=df['CO'].quantile(.75)-df['CO'].quantile(.25)\\nup_co=df['CO'].quantile(.75)+(1.5*iqr_co)\\nlow_co=df['CO'].quantile(.25)-(1.5*iqr_co)\\n\\niqr_wd=df['WD'].quantile(.75)-df['WD'].quantile(.25)\\nup_wd=df['WD'].quantile(.75)+(1.5*iqr_wd)\\nlow_wd=df['WD'].quantile(.25)-(1.5*iqr_wd)\\n\\n\\niqr_vws=df['VWS'].quantile(.75)-df['VWS'].quantile(.25)\\nup_vws=df['VWS'].quantile(.75)+(1.5*iqr_vws)\\nlow_vws=df['VWS'].quantile(.25)-(1.5*iqr_vws)\\n\\n\\niqr_ws=df['WS'].quantile(.75)-df['WS'].quantile(.25)\\nup_ws=df['WS'].quantile(.75)+(1.5*iqr_ws)\\nlow_ws=df['WS'].quantile(.25)-(1.5*iqr_ws)\\n\\niqr_no=df['NO'].quantile(.75)-df['NO'].quantile(.25)\\nup_no=df['NO'].quantile(.75)+(1.5*iqr_no)\\nlow_no=df['NO'].quantile(.25)-(1.5*iqr_no)\\n\\niqr_no2=df['NO2'].quantile(.75)-df['NO2'].quantile(.25)\\nup_no2=df['NO2'].quantile(.75)+(1.5*iqr_no2)\\nlow_no2=df['NO2'].quantile(.25)-(1.5*iqr_no2)\\n\\n\\niqr_pm=df['PM2.5'].quantile(.75)-df['PM2.5'].quantile(.25)\\nup_pm=df['PM2.5'].quantile(.75)+(1.5*iqr_pm)\\nlow_pm=df['PM2.5'].quantile(.25)-(1.5*iqr_pm)\\n\\niqr_rh=df['RH'].quantile(.75)-df['RH'].quantile(.25)\\nup_rh=df['RH'].quantile(.75)+(1.5*iqr_rh)\\nlow_rh=df['RH'].quantile(.25)-(1.5*iqr_rh)\\n\\niqr_so2=df['SO2'].quantile(.75)-df['SO2'].quantile(.25)\\nup_so2=df['SO2'].quantile(.75)+(1.5*iqr_so2)\\nlow_so2=df['SO2'].quantile(.25)-(1.5*iqr_so2)\\n\\niqr_sr=df['SR'].quantile(.75)-df['SR'].quantile(.25)\\nup_sr=df['SR'].quantile(.75)+(1.5*iqr_sr)\\nlow_sr=df['SR'].quantile(.25)-(1.5*iqr_sr)\\n\""
      ]
     },
     "execution_count": 339,
     "metadata": {},
     "output_type": "execute_result"
    }
   ],
   "source": [
    "\"\"\"iqr_bp=df['BP'].quantile(.75)-df['BP'].quantile(.25)\n",
    "up_bp=df['BP'].quantile(.75)+(1.5*iqr_bp)\n",
    "low_bp=df['BP'].quantile(.25)-(1.5*iqr_bp)\n",
    "\n",
    "iqr_co=df['CO'].quantile(.75)-df['CO'].quantile(.25)\n",
    "up_co=df['CO'].quantile(.75)+(1.5*iqr_co)\n",
    "low_co=df['CO'].quantile(.25)-(1.5*iqr_co)\n",
    "\n",
    "iqr_wd=df['WD'].quantile(.75)-df['WD'].quantile(.25)\n",
    "up_wd=df['WD'].quantile(.75)+(1.5*iqr_wd)\n",
    "low_wd=df['WD'].quantile(.25)-(1.5*iqr_wd)\n",
    "\n",
    "\n",
    "iqr_vws=df['VWS'].quantile(.75)-df['VWS'].quantile(.25)\n",
    "up_vws=df['VWS'].quantile(.75)+(1.5*iqr_vws)\n",
    "low_vws=df['VWS'].quantile(.25)-(1.5*iqr_vws)\n",
    "\n",
    "\n",
    "iqr_ws=df['WS'].quantile(.75)-df['WS'].quantile(.25)\n",
    "up_ws=df['WS'].quantile(.75)+(1.5*iqr_ws)\n",
    "low_ws=df['WS'].quantile(.25)-(1.5*iqr_ws)\n",
    "\n",
    "iqr_no=df['NO'].quantile(.75)-df['NO'].quantile(.25)\n",
    "up_no=df['NO'].quantile(.75)+(1.5*iqr_no)\n",
    "low_no=df['NO'].quantile(.25)-(1.5*iqr_no)\n",
    "\n",
    "iqr_no2=df['NO2'].quantile(.75)-df['NO2'].quantile(.25)\n",
    "up_no2=df['NO2'].quantile(.75)+(1.5*iqr_no2)\n",
    "low_no2=df['NO2'].quantile(.25)-(1.5*iqr_no2)\n",
    "\n",
    "\n",
    "iqr_pm=df['PM2.5'].quantile(.75)-df['PM2.5'].quantile(.25)\n",
    "up_pm=df['PM2.5'].quantile(.75)+(1.5*iqr_pm)\n",
    "low_pm=df['PM2.5'].quantile(.25)-(1.5*iqr_pm)\n",
    "\n",
    "iqr_rh=df['RH'].quantile(.75)-df['RH'].quantile(.25)\n",
    "up_rh=df['RH'].quantile(.75)+(1.5*iqr_rh)\n",
    "low_rh=df['RH'].quantile(.25)-(1.5*iqr_rh)\n",
    "\n",
    "iqr_so2=df['SO2'].quantile(.75)-df['SO2'].quantile(.25)\n",
    "up_so2=df['SO2'].quantile(.75)+(1.5*iqr_so2)\n",
    "low_so2=df['SO2'].quantile(.25)-(1.5*iqr_so2)\n",
    "\n",
    "iqr_sr=df['SR'].quantile(.75)-df['SR'].quantile(.25)\n",
    "up_sr=df['SR'].quantile(.75)+(1.5*iqr_sr)\n",
    "low_sr=df['SR'].quantile(.25)-(1.5*iqr_sr)\n",
    "\"\"\""
   ]
  },
  {
   "cell_type": "code",
   "execution_count": 340,
   "metadata": {},
   "outputs": [
    {
     "data": {
      "text/plain": [
       "\"for i in df['CO']:\\n    if(i>up_co):\\n        df['CO']=df['CO'].replace(i,up_co)\\n\\nfor i in df['NO2']:\\n    if(i>up_no2):\\n        df['NO2']=df['NO2'].replace(i,up_no2)\\nfor i in df['NO']:\\n    if(i>up_no):\\n        df['NO']=df['NO'].replace(i,up_no)\\n\\nfor i in df['SO2']:\\n    if(i>up_so2):\\n        df['SO2']=df['SO2'].replace(i,up_so2)\\n        \\nfor i in df['RH']:\\n    if(i>up_rh):\\n        df['RH']=df['RH'].replace(i,up_rh)\\n        \\nfor i in df['VWS']:\\n    if(i>up_vws):\\n        df['VWS']=df['VWS'].replace(i,up_vws)\\n        \\nfor i in df['WS']:\\n    if(i>up_ws):\\n        df['WS']=df['WS'].replace(i,up_ws)\\n        \\nfor i in df['WD']:\\n    if(i>up_wd):\\n        df['WD']=df['WD'].replace(i,up_wd)\\n        \\nfor i in df['PM2.5']:\\n    if(i>up_pm):\\n        df['PM2.5']=df['PM2.5'].replace(i,up_pm)\\n        \\nfor i in df['SR']:\\n    if(i>up_sr):\\n        df['SR']=df['SR'].replace(i,up_sr)\\n\\nfor i in df['BP']:\\n    if(i<low_bp):\\n        df['BP']=df['BP'].replace(i,low_bp)\\n    elif(i>up_bp):\\n        df['BP']=df['BP'].replace(i,up_bp)\""
      ]
     },
     "execution_count": 340,
     "metadata": {},
     "output_type": "execute_result"
    }
   ],
   "source": [
    "\"\"\"for i in df['CO']:\n",
    "    if(i>up_co):\n",
    "        df['CO']=df['CO'].replace(i,up_co)\n",
    "\n",
    "for i in df['NO2']:\n",
    "    if(i>up_no2):\n",
    "        df['NO2']=df['NO2'].replace(i,up_no2)\n",
    "for i in df['NO']:\n",
    "    if(i>up_no):\n",
    "        df['NO']=df['NO'].replace(i,up_no)\n",
    "\n",
    "for i in df['SO2']:\n",
    "    if(i>up_so2):\n",
    "        df['SO2']=df['SO2'].replace(i,up_so2)\n",
    "        \n",
    "for i in df['RH']:\n",
    "    if(i>up_rh):\n",
    "        df['RH']=df['RH'].replace(i,up_rh)\n",
    "        \n",
    "for i in df['VWS']:\n",
    "    if(i>up_vws):\n",
    "        df['VWS']=df['VWS'].replace(i,up_vws)\n",
    "        \n",
    "for i in df['WS']:\n",
    "    if(i>up_ws):\n",
    "        df['WS']=df['WS'].replace(i,up_ws)\n",
    "        \n",
    "for i in df['WD']:\n",
    "    if(i>up_wd):\n",
    "        df['WD']=df['WD'].replace(i,up_wd)\n",
    "        \n",
    "for i in df['PM2.5']:\n",
    "    if(i>up_pm):\n",
    "        df['PM2.5']=df['PM2.5'].replace(i,up_pm)\n",
    "        \n",
    "for i in df['SR']:\n",
    "    if(i>up_sr):\n",
    "        df['SR']=df['SR'].replace(i,up_sr)\n",
    "\n",
    "for i in df['BP']:\n",
    "    if(i<low_bp):\n",
    "        df['BP']=df['BP'].replace(i,low_bp)\n",
    "    elif(i>up_bp):\n",
    "        df['BP']=df['BP'].replace(i,up_bp)\"\"\""
   ]
  },
  {
   "cell_type": "code",
   "execution_count": 341,
   "metadata": {},
   "outputs": [
    {
     "data": {
      "text/plain": [
       "<matplotlib.axes._subplots.AxesSubplot at 0x1d612208f28>"
      ]
     },
     "execution_count": 341,
     "metadata": {},
     "output_type": "execute_result"
    },
    {
     "data": {
      "image/png": "[encoded data removed]",
      "text/plain": [
       "<Figure size 432x288 with 1 Axes>"
      ]
     },
     "metadata": {
      "needs_background": "light"
     },
     "output_type": "display_data"
    }
   ],
   "source": [
    "sns.boxplot(data=df)"
   ]
  },
  {
   "cell_type": "code",
   "execution_count": 342,
   "metadata": {},
   "outputs": [],
   "source": [
    "result_csv1 = df.to_csv (r'C:\\dse_new\\eda_vel_17.csv', index = None, header=True)"
   ]
  },
  {
   "cell_type": "markdown",
   "metadata": {},
   "source": [
    "# Upto this basic EDA is done"
   ]
  },
  {
   "cell_type": "markdown",
   "metadata": {},
   "source": [
    "# ---------------------------------------------------------------------------------------------------------------"
   ]
  },
  {
   "cell_type": "code",
   "execution_count": 343,
   "metadata": {},
   "outputs": [
    {
     "data": {
      "text/html": [
       "<div>\n",
       "<style scoped>\n",
       "    .dataframe tbody tr th:only-of-type {\n",
       "        vertical-align: middle;\n",
       "    }\n",
       "\n",
       "    .dataframe tbody tr th {\n",
       "        vertical-align: top;\n",
       "    }\n",
       "\n",
       "    .dataframe thead th {\n",
       "        text-align: right;\n",
       "    }\n",
       "</style>\n",
       "<table border=\"1\" class=\"dataframe\">\n",
       "  <thead>\n",
       "    <tr style=\"text-align: right;\">\n",
       "      <th></th>\n",
       "      <th>BP</th>\n",
       "      <th>CO</th>\n",
       "      <th>VWS</th>\n",
       "      <th>WD</th>\n",
       "      <th>WS</th>\n",
       "      <th>NO</th>\n",
       "      <th>NO2</th>\n",
       "      <th>PM2.5</th>\n",
       "      <th>RH</th>\n",
       "      <th>SO2</th>\n",
       "      <th>SR</th>\n",
       "    </tr>\n",
       "  </thead>\n",
       "  <tbody>\n",
       "    <tr>\n",
       "      <th>count</th>\n",
       "      <td>8212.000000</td>\n",
       "      <td>8212.000000</td>\n",
       "      <td>8212.000000</td>\n",
       "      <td>8212.000000</td>\n",
       "      <td>8212.000000</td>\n",
       "      <td>8212.000000</td>\n",
       "      <td>8212.000000</td>\n",
       "      <td>8212.000000</td>\n",
       "      <td>8212.000000</td>\n",
       "      <td>8212.000000</td>\n",
       "      <td>8212.000000</td>\n",
       "    </tr>\n",
       "    <tr>\n",
       "      <th>mean</th>\n",
       "      <td>903.166778</td>\n",
       "      <td>0.795252</td>\n",
       "      <td>0.123401</td>\n",
       "      <td>147.012544</td>\n",
       "      <td>1.161465</td>\n",
       "      <td>5.248422</td>\n",
       "      <td>15.074605</td>\n",
       "      <td>30.809720</td>\n",
       "      <td>64.575972</td>\n",
       "      <td>4.081673</td>\n",
       "      <td>148.138928</td>\n",
       "    </tr>\n",
       "    <tr>\n",
       "      <th>std</th>\n",
       "      <td>307.889080</td>\n",
       "      <td>2.293146</td>\n",
       "      <td>0.105510</td>\n",
       "      <td>98.996017</td>\n",
       "      <td>0.883127</td>\n",
       "      <td>11.929179</td>\n",
       "      <td>16.396508</td>\n",
       "      <td>25.126528</td>\n",
       "      <td>26.868534</td>\n",
       "      <td>6.798189</td>\n",
       "      <td>236.630065</td>\n",
       "    </tr>\n",
       "    <tr>\n",
       "      <th>min</th>\n",
       "      <td>0.000000</td>\n",
       "      <td>0.000000</td>\n",
       "      <td>-2.980000</td>\n",
       "      <td>0.000000</td>\n",
       "      <td>0.000000</td>\n",
       "      <td>0.000000</td>\n",
       "      <td>0.000000</td>\n",
       "      <td>0.000000</td>\n",
       "      <td>0.000000</td>\n",
       "      <td>0.000000</td>\n",
       "      <td>0.000000</td>\n",
       "    </tr>\n",
       "    <tr>\n",
       "      <th>25%</th>\n",
       "      <td>1005.570000</td>\n",
       "      <td>0.334040</td>\n",
       "      <td>0.070000</td>\n",
       "      <td>42.875000</td>\n",
       "      <td>0.520000</td>\n",
       "      <td>2.450000</td>\n",
       "      <td>7.720000</td>\n",
       "      <td>15.897500</td>\n",
       "      <td>52.250000</td>\n",
       "      <td>2.320000</td>\n",
       "      <td>0.000000</td>\n",
       "    </tr>\n",
       "    <tr>\n",
       "      <th>50%</th>\n",
       "      <td>1008.550000</td>\n",
       "      <td>0.614775</td>\n",
       "      <td>0.120000</td>\n",
       "      <td>157.965000</td>\n",
       "      <td>1.030000</td>\n",
       "      <td>3.470000</td>\n",
       "      <td>12.270000</td>\n",
       "      <td>27.515000</td>\n",
       "      <td>68.930000</td>\n",
       "      <td>3.265000</td>\n",
       "      <td>1.820000</td>\n",
       "    </tr>\n",
       "    <tr>\n",
       "      <th>75%</th>\n",
       "      <td>1011.680000</td>\n",
       "      <td>1.040625</td>\n",
       "      <td>0.180000</td>\n",
       "      <td>207.460000</td>\n",
       "      <td>1.700000</td>\n",
       "      <td>5.320000</td>\n",
       "      <td>18.942500</td>\n",
       "      <td>41.612500</td>\n",
       "      <td>84.092500</td>\n",
       "      <td>4.680000</td>\n",
       "      <td>222.312500</td>\n",
       "    </tr>\n",
       "    <tr>\n",
       "      <th>max</th>\n",
       "      <td>1020.350000</td>\n",
       "      <td>99.550000</td>\n",
       "      <td>0.680000</td>\n",
       "      <td>358.710000</td>\n",
       "      <td>7.620000</td>\n",
       "      <td>501.310000</td>\n",
       "      <td>505.570000</td>\n",
       "      <td>584.230000</td>\n",
       "      <td>418.960000</td>\n",
       "      <td>500.400000</td>\n",
       "      <td>999.990000</td>\n",
       "    </tr>\n",
       "  </tbody>\n",
       "</table>\n",
       "</div>"
      ],
      "text/plain": [
       "                BP           CO          VWS           WD           WS  \\\n",
       "count  8212.000000  8212.000000  8212.000000  8212.000000  8212.000000   \n",
       "mean    903.166778     0.795252     0.123401   147.012544     1.161465   \n",
       "std     307.889080     2.293146     0.105510    98.996017     0.883127   \n",
       "min       0.000000     0.000000    -2.980000     0.000000     0.000000   \n",
       "25%    1005.570000     0.334040     0.070000    42.875000     0.520000   \n",
       "50%    1008.550000     0.614775     0.120000   157.965000     1.030000   \n",
       "75%    1011.680000     1.040625     0.180000   207.460000     1.700000   \n",
       "max    1020.350000    99.550000     0.680000   358.710000     7.620000   \n",
       "\n",
       "                NO          NO2        PM2.5           RH          SO2  \\\n",
       "count  8212.000000  8212.000000  8212.000000  8212.000000  8212.000000   \n",
       "mean      5.248422    15.074605    30.809720    64.575972     4.081673   \n",
       "std      11.929179    16.396508    25.126528    26.868534     6.798189   \n",
       "min       0.000000     0.000000     0.000000     0.000000     0.000000   \n",
       "25%       2.450000     7.720000    15.897500    52.250000     2.320000   \n",
       "50%       3.470000    12.270000    27.515000    68.930000     3.265000   \n",
       "75%       5.320000    18.942500    41.612500    84.092500     4.680000   \n",
       "max     501.310000   505.570000   584.230000   418.960000   500.400000   \n",
       "\n",
       "                SR  \n",
       "count  8212.000000  \n",
       "mean    148.138928  \n",
       "std     236.630065  \n",
       "min       0.000000  \n",
       "25%       0.000000  \n",
       "50%       1.820000  \n",
       "75%     222.312500  \n",
       "max     999.990000  "
      ]
     },
     "execution_count": 343,
     "metadata": {},
     "output_type": "execute_result"
    }
   ],
   "source": [
    "df.describe()"
   ]
  },
  {
   "cell_type": "code",
   "execution_count": null,
   "metadata": {},
   "outputs": [],
   "source": []
  },
  {
   "cell_type": "code",
   "execution_count": null,
   "metadata": {},
   "outputs": [],
   "source": []
  }
 ],
 "metadata": {
  "kernelspec": {
   "display_name": "Python 3",
   "language": "python",
   "name": "python3"
  },
  "language_info": {
   "codemirror_mode": {
    "name": "ipython",
    "version": 3
   },
   "file_extension": ".py",
   "mimetype": "text/x-python",
   "name": "python",
   "nbconvert_exporter": "python",
   "pygments_lexer": "ipython3",
   "version": "3.7.0"
  }
 },
 "nbformat": 4,
 "nbformat_minor": 2
}
