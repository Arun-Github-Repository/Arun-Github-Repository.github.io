{
 "cells": [
  {
   "cell_type": "code",
   "execution_count": 106,
   "metadata": {},
   "outputs": [],
   "source": [
    "import pandas as pd\n",
    "import numpy as np\n",
    "import matplotlib.pyplot as plt\n",
    "import seaborn as sns\n",
    "from scipy.stats import stats\n",
    "import warnings;\n",
    "warnings.filterwarnings(\"ignore\")"
   ]
  },
  {
   "cell_type": "code",
   "execution_count": 107,
   "metadata": {},
   "outputs": [],
   "source": [
    "df1=pd.read_excel('man_2017.xlsx')"
   ]
  },
  {
   "cell_type": "code",
   "execution_count": 108,
   "metadata": {},
   "outputs": [
    {
     "data": {
      "text/html": [
       "<div>\n",
       "<style scoped>\n",
       "    .dataframe tbody tr th:only-of-type {\n",
       "        vertical-align: middle;\n",
       "    }\n",
       "\n",
       "    .dataframe tbody tr th {\n",
       "        vertical-align: top;\n",
       "    }\n",
       "\n",
       "    .dataframe thead th {\n",
       "        text-align: right;\n",
       "    }\n",
       "</style>\n",
       "<table border=\"1\" class=\"dataframe\">\n",
       "  <thead>\n",
       "    <tr style=\"text-align: right;\">\n",
       "      <th></th>\n",
       "      <th>From Date</th>\n",
       "      <th>To Date</th>\n",
       "      <th>BP</th>\n",
       "      <th>CH4</th>\n",
       "      <th>PM2.5</th>\n",
       "      <th>RH</th>\n",
       "      <th>SR</th>\n",
       "      <th>Temp</th>\n",
       "      <th>THC</th>\n",
       "      <th>VWS</th>\n",
       "      <th>WD</th>\n",
       "      <th>WS</th>\n",
       "      <th>CO</th>\n",
       "      <th>NH3</th>\n",
       "      <th>NOx</th>\n",
       "      <th>NO</th>\n",
       "      <th>NO2</th>\n",
       "      <th>SO2</th>\n",
       "    </tr>\n",
       "  </thead>\n",
       "  <tbody>\n",
       "    <tr>\n",
       "      <th>0</th>\n",
       "      <td>01-01-2017 00:00</td>\n",
       "      <td>01-01-2017 01:00</td>\n",
       "      <td>1004.58</td>\n",
       "      <td>None</td>\n",
       "      <td>71.93</td>\n",
       "      <td>87.07</td>\n",
       "      <td>None</td>\n",
       "      <td>None</td>\n",
       "      <td>3441.88</td>\n",
       "      <td>0.23</td>\n",
       "      <td>338.53</td>\n",
       "      <td>0.13</td>\n",
       "      <td>481.72</td>\n",
       "      <td>172.02</td>\n",
       "      <td>None</td>\n",
       "      <td>7.95</td>\n",
       "      <td>32.01</td>\n",
       "      <td>22.06</td>\n",
       "    </tr>\n",
       "    <tr>\n",
       "      <th>1</th>\n",
       "      <td>01-01-2017 01:00</td>\n",
       "      <td>01-01-2017 02:00</td>\n",
       "      <td>1003.03</td>\n",
       "      <td>None</td>\n",
       "      <td>97.55</td>\n",
       "      <td>91.59</td>\n",
       "      <td>None</td>\n",
       "      <td>None</td>\n",
       "      <td>3142.55</td>\n",
       "      <td>0.22</td>\n",
       "      <td>333.24</td>\n",
       "      <td>0.12</td>\n",
       "      <td>328.12</td>\n",
       "      <td>100.31</td>\n",
       "      <td>None</td>\n",
       "      <td>2.36</td>\n",
       "      <td>23.36</td>\n",
       "      <td>11.76</td>\n",
       "    </tr>\n",
       "    <tr>\n",
       "      <th>2</th>\n",
       "      <td>01-01-2017 02:00</td>\n",
       "      <td>01-01-2017 03:00</td>\n",
       "      <td>1002.65</td>\n",
       "      <td>None</td>\n",
       "      <td>78.58</td>\n",
       "      <td>94.37</td>\n",
       "      <td>None</td>\n",
       "      <td>None</td>\n",
       "      <td>3112</td>\n",
       "      <td>0.23</td>\n",
       "      <td>314.88</td>\n",
       "      <td>0.16</td>\n",
       "      <td>334.27</td>\n",
       "      <td>231.6</td>\n",
       "      <td>None</td>\n",
       "      <td>2.83</td>\n",
       "      <td>21.54</td>\n",
       "      <td>8.12</td>\n",
       "    </tr>\n",
       "    <tr>\n",
       "      <th>3</th>\n",
       "      <td>01-01-2017 03:00</td>\n",
       "      <td>01-01-2017 04:00</td>\n",
       "      <td>1002.25</td>\n",
       "      <td>None</td>\n",
       "      <td>81.77</td>\n",
       "      <td>93.5</td>\n",
       "      <td>None</td>\n",
       "      <td>None</td>\n",
       "      <td>2999.72</td>\n",
       "      <td>0.22</td>\n",
       "      <td>315.32</td>\n",
       "      <td>0.39</td>\n",
       "      <td>184.85</td>\n",
       "      <td>275.26</td>\n",
       "      <td>None</td>\n",
       "      <td>2.21</td>\n",
       "      <td>17.59</td>\n",
       "      <td>6.14</td>\n",
       "    </tr>\n",
       "    <tr>\n",
       "      <th>4</th>\n",
       "      <td>01-01-2017 04:00</td>\n",
       "      <td>01-01-2017 05:00</td>\n",
       "      <td>1002.15</td>\n",
       "      <td>None</td>\n",
       "      <td>62.45</td>\n",
       "      <td>93.63</td>\n",
       "      <td>None</td>\n",
       "      <td>None</td>\n",
       "      <td>3000.38</td>\n",
       "      <td>0.23</td>\n",
       "      <td>335.61</td>\n",
       "      <td>0.4</td>\n",
       "      <td>548.73</td>\n",
       "      <td>32.42</td>\n",
       "      <td>None</td>\n",
       "      <td>2.79</td>\n",
       "      <td>17.88</td>\n",
       "      <td>10.13</td>\n",
       "    </tr>\n",
       "  </tbody>\n",
       "</table>\n",
       "</div>"
      ],
      "text/plain": [
       "          From Date           To Date       BP   CH4  PM2.5     RH    SR  \\\n",
       "0  01-01-2017 00:00  01-01-2017 01:00  1004.58  None  71.93  87.07  None   \n",
       "1  01-01-2017 01:00  01-01-2017 02:00  1003.03  None  97.55  91.59  None   \n",
       "2  01-01-2017 02:00  01-01-2017 03:00  1002.65  None  78.58  94.37  None   \n",
       "3  01-01-2017 03:00  01-01-2017 04:00  1002.25  None  81.77   93.5  None   \n",
       "4  01-01-2017 04:00  01-01-2017 05:00  1002.15  None  62.45  93.63  None   \n",
       "\n",
       "   Temp      THC   VWS      WD    WS      CO     NH3   NOx    NO    NO2    SO2  \n",
       "0  None  3441.88  0.23  338.53  0.13  481.72  172.02  None  7.95  32.01  22.06  \n",
       "1  None  3142.55  0.22  333.24  0.12  328.12  100.31  None  2.36  23.36  11.76  \n",
       "2  None     3112  0.23  314.88  0.16  334.27   231.6  None  2.83  21.54   8.12  \n",
       "3  None  2999.72  0.22  315.32  0.39  184.85  275.26  None  2.21  17.59   6.14  \n",
       "4  None  3000.38  0.23  335.61   0.4  548.73   32.42  None  2.79  17.88  10.13  "
      ]
     },
     "execution_count": 108,
     "metadata": {},
     "output_type": "execute_result"
    }
   ],
   "source": [
    "df1.head()"
   ]
  },
  {
   "cell_type": "code",
   "execution_count": 109,
   "metadata": {},
   "outputs": [],
   "source": [
    "df=df1[['From Date','BP','CO','VWS','WD','WS','NO','NO2','PM2.5','RH','SO2','SR']]"
   ]
  },
  {
   "cell_type": "code",
   "execution_count": 110,
   "metadata": {},
   "outputs": [
    {
     "data": {
      "text/html": [
       "<div>\n",
       "<style scoped>\n",
       "    .dataframe tbody tr th:only-of-type {\n",
       "        vertical-align: middle;\n",
       "    }\n",
       "\n",
       "    .dataframe tbody tr th {\n",
       "        vertical-align: top;\n",
       "    }\n",
       "\n",
       "    .dataframe thead th {\n",
       "        text-align: right;\n",
       "    }\n",
       "</style>\n",
       "<table border=\"1\" class=\"dataframe\">\n",
       "  <thead>\n",
       "    <tr style=\"text-align: right;\">\n",
       "      <th></th>\n",
       "      <th>From Date</th>\n",
       "      <th>BP</th>\n",
       "      <th>CO</th>\n",
       "      <th>VWS</th>\n",
       "      <th>WD</th>\n",
       "      <th>WS</th>\n",
       "      <th>NO</th>\n",
       "      <th>NO2</th>\n",
       "      <th>PM2.5</th>\n",
       "      <th>RH</th>\n",
       "      <th>SO2</th>\n",
       "      <th>SR</th>\n",
       "    </tr>\n",
       "  </thead>\n",
       "  <tbody>\n",
       "    <tr>\n",
       "      <th>0</th>\n",
       "      <td>01-01-2017 00:00</td>\n",
       "      <td>1004.58</td>\n",
       "      <td>481.72</td>\n",
       "      <td>0.23</td>\n",
       "      <td>338.53</td>\n",
       "      <td>0.13</td>\n",
       "      <td>7.95</td>\n",
       "      <td>32.01</td>\n",
       "      <td>71.93</td>\n",
       "      <td>87.07</td>\n",
       "      <td>22.06</td>\n",
       "      <td>None</td>\n",
       "    </tr>\n",
       "    <tr>\n",
       "      <th>1</th>\n",
       "      <td>01-01-2017 01:00</td>\n",
       "      <td>1003.03</td>\n",
       "      <td>328.12</td>\n",
       "      <td>0.22</td>\n",
       "      <td>333.24</td>\n",
       "      <td>0.12</td>\n",
       "      <td>2.36</td>\n",
       "      <td>23.36</td>\n",
       "      <td>97.55</td>\n",
       "      <td>91.59</td>\n",
       "      <td>11.76</td>\n",
       "      <td>None</td>\n",
       "    </tr>\n",
       "    <tr>\n",
       "      <th>2</th>\n",
       "      <td>01-01-2017 02:00</td>\n",
       "      <td>1002.65</td>\n",
       "      <td>334.27</td>\n",
       "      <td>0.23</td>\n",
       "      <td>314.88</td>\n",
       "      <td>0.16</td>\n",
       "      <td>2.83</td>\n",
       "      <td>21.54</td>\n",
       "      <td>78.58</td>\n",
       "      <td>94.37</td>\n",
       "      <td>8.12</td>\n",
       "      <td>None</td>\n",
       "    </tr>\n",
       "    <tr>\n",
       "      <th>3</th>\n",
       "      <td>01-01-2017 03:00</td>\n",
       "      <td>1002.25</td>\n",
       "      <td>184.85</td>\n",
       "      <td>0.22</td>\n",
       "      <td>315.32</td>\n",
       "      <td>0.39</td>\n",
       "      <td>2.21</td>\n",
       "      <td>17.59</td>\n",
       "      <td>81.77</td>\n",
       "      <td>93.5</td>\n",
       "      <td>6.14</td>\n",
       "      <td>None</td>\n",
       "    </tr>\n",
       "    <tr>\n",
       "      <th>4</th>\n",
       "      <td>01-01-2017 04:00</td>\n",
       "      <td>1002.15</td>\n",
       "      <td>548.73</td>\n",
       "      <td>0.23</td>\n",
       "      <td>335.61</td>\n",
       "      <td>0.4</td>\n",
       "      <td>2.79</td>\n",
       "      <td>17.88</td>\n",
       "      <td>62.45</td>\n",
       "      <td>93.63</td>\n",
       "      <td>10.13</td>\n",
       "      <td>None</td>\n",
       "    </tr>\n",
       "  </tbody>\n",
       "</table>\n",
       "</div>"
      ],
      "text/plain": [
       "          From Date       BP      CO   VWS      WD    WS    NO    NO2  PM2.5  \\\n",
       "0  01-01-2017 00:00  1004.58  481.72  0.23  338.53  0.13  7.95  32.01  71.93   \n",
       "1  01-01-2017 01:00  1003.03  328.12  0.22  333.24  0.12  2.36  23.36  97.55   \n",
       "2  01-01-2017 02:00  1002.65  334.27  0.23  314.88  0.16  2.83  21.54  78.58   \n",
       "3  01-01-2017 03:00  1002.25  184.85  0.22  315.32  0.39  2.21  17.59  81.77   \n",
       "4  01-01-2017 04:00  1002.15  548.73  0.23  335.61   0.4  2.79  17.88  62.45   \n",
       "\n",
       "      RH    SO2    SR  \n",
       "0  87.07  22.06  None  \n",
       "1  91.59  11.76  None  \n",
       "2  94.37   8.12  None  \n",
       "3   93.5   6.14  None  \n",
       "4  93.63  10.13  None  "
      ]
     },
     "execution_count": 110,
     "metadata": {},
     "output_type": "execute_result"
    }
   ],
   "source": [
    "df.head()"
   ]
  },
  {
   "cell_type": "code",
   "execution_count": 111,
   "metadata": {},
   "outputs": [
    {
     "data": {
      "text/plain": [
       "(8737, 12)"
      ]
     },
     "execution_count": 111,
     "metadata": {},
     "output_type": "execute_result"
    }
   ],
   "source": [
    "df.shape"
   ]
  },
  {
   "cell_type": "code",
   "execution_count": 112,
   "metadata": {},
   "outputs": [
    {
     "name": "stdout",
     "output_type": "stream",
     "text": [
      "<class 'pandas.core.frame.DataFrame'>\n",
      "RangeIndex: 8737 entries, 0 to 8736\n",
      "Data columns (total 12 columns):\n",
      "From Date    8737 non-null object\n",
      "BP           8737 non-null object\n",
      "CO           8737 non-null object\n",
      "VWS          8737 non-null object\n",
      "WD           8737 non-null object\n",
      "WS           8737 non-null object\n",
      "NO           8737 non-null object\n",
      "NO2          8737 non-null object\n",
      "PM2.5        8737 non-null object\n",
      "RH           8737 non-null object\n",
      "SO2          8737 non-null object\n",
      "SR           8737 non-null object\n",
      "dtypes: object(12)\n",
      "memory usage: 819.2+ KB\n"
     ]
    }
   ],
   "source": [
    "df.info()"
   ]
  },
  {
   "cell_type": "code",
   "execution_count": 113,
   "metadata": {},
   "outputs": [],
   "source": [
    "for i in df.columns:\n",
    "    for j in df[i]:\n",
    "        if(j=='None'):\n",
    "            df[i]=df[i].replace(j,np.nan)"
   ]
  },
  {
   "cell_type": "code",
   "execution_count": 114,
   "metadata": {},
   "outputs": [
    {
     "name": "stdout",
     "output_type": "stream",
     "text": [
      "Percentage of Null values in Maneli 2017:  7.241234596161917\n"
     ]
    }
   ],
   "source": [
    "print(\"Percentage of Null values in Maneli 2017: \",((df.isna().sum()/(len(df)*12)).sum())*100)"
   ]
  },
  {
   "cell_type": "code",
   "execution_count": 115,
   "metadata": {},
   "outputs": [
    {
     "data": {
      "text/plain": [
       "From Date       0\n",
       "BP            412\n",
       "CO            460\n",
       "VWS           410\n",
       "WD            416\n",
       "WS            415\n",
       "NO            399\n",
       "NO2           395\n",
       "PM2.5         407\n",
       "RH            413\n",
       "SO2           475\n",
       "SR           3390\n",
       "dtype: int64"
      ]
     },
     "execution_count": 115,
     "metadata": {},
     "output_type": "execute_result"
    }
   ],
   "source": [
    "df.isna().sum()"
   ]
  },
  {
   "cell_type": "code",
   "execution_count": 116,
   "metadata": {},
   "outputs": [],
   "source": [
    "list1=['BP','CO','VWS','WD','WS','NO','NO2','PM2.5','RH','SO2','SR']\n",
    "count=0\n",
    "for i in list1:\n",
    "    for j in df[i]:\n",
    "        if(j<0):\n",
    "            count=count+1"
   ]
  },
  {
   "cell_type": "code",
   "execution_count": 117,
   "metadata": {},
   "outputs": [
    {
     "data": {
      "text/plain": [
       "0.0003147533478310633"
      ]
     },
     "execution_count": 117,
     "metadata": {},
     "output_type": "execute_result"
    }
   ],
   "source": [
    "count/(len(df)*12)"
   ]
  },
  {
   "cell_type": "code",
   "execution_count": 118,
   "metadata": {},
   "outputs": [],
   "source": [
    "for col in list1:\n",
    "    if(col!='VWS'):\n",
    "        for j in df[col]:\n",
    "            if(j<0):\n",
    "                df[col]=df[col].replace(j,np.nan)"
   ]
  },
  {
   "cell_type": "code",
   "execution_count": 119,
   "metadata": {},
   "outputs": [
    {
     "name": "stdout",
     "output_type": "stream",
     "text": [
      "Percentage of Null values in Maneli 2017:  7.263171950707719\n"
     ]
    }
   ],
   "source": [
    "print(\"Percentage of Null values in Maneli 2017: \",((df.isna().sum()/(len(df)*12)).sum())*100)"
   ]
  },
  {
   "cell_type": "code",
   "execution_count": 120,
   "metadata": {},
   "outputs": [
    {
     "data": {
      "text/plain": [
       "From Date       0\n",
       "BP            412\n",
       "CO            460\n",
       "VWS           410\n",
       "WD            416\n",
       "WS            415\n",
       "NO            399\n",
       "NO2           396\n",
       "PM2.5         411\n",
       "RH            418\n",
       "SO2           475\n",
       "SR           3403\n",
       "dtype: int64"
      ]
     },
     "execution_count": 120,
     "metadata": {},
     "output_type": "execute_result"
    }
   ],
   "source": [
    "df.isna().sum()"
   ]
  },
  {
   "cell_type": "code",
   "execution_count": 121,
   "metadata": {},
   "outputs": [],
   "source": [
    "df=df.dropna(axis=0,subset=['PM2.5'])"
   ]
  },
  {
   "cell_type": "code",
   "execution_count": 122,
   "metadata": {},
   "outputs": [],
   "source": [
    "m=['BP','CO','VWS','WD','WS','NO','NO2','PM2.5','RH','SO2','SR']\n",
    "for col in m:\n",
    "    df[col] = df[col].interpolate(method='nearest',limit_direction = 'both')"
   ]
  },
  {
   "cell_type": "code",
   "execution_count": 123,
   "metadata": {},
   "outputs": [
    {
     "data": {
      "text/plain": [
       "From Date       0\n",
       "BP              0\n",
       "CO              0\n",
       "VWS             0\n",
       "WD              0\n",
       "WS              0\n",
       "NO              0\n",
       "NO2             0\n",
       "PM2.5           0\n",
       "RH              0\n",
       "SO2             0\n",
       "SR           1047\n",
       "dtype: int64"
      ]
     },
     "execution_count": 123,
     "metadata": {},
     "output_type": "execute_result"
    }
   ],
   "source": [
    "df.isna().sum()"
   ]
  },
  {
   "cell_type": "code",
   "execution_count": 124,
   "metadata": {},
   "outputs": [],
   "source": [
    "df['SR'] = df['SR'].interpolate(method='nearest',limit_direction = 'both')"
   ]
  },
  {
   "cell_type": "code",
   "execution_count": 125,
   "metadata": {},
   "outputs": [],
   "source": [
    "df['BP']=df['BP'].astype(float)\n",
    "df['CO']=df['CO'].astype(float)\n",
    "df['VWS']=df['VWS'].astype(float)\n",
    "df['WD']=df['WD'].astype(float)\n",
    "df['WS']=df['WS'].astype(float)\n",
    "df['NO']=df['NO'].astype(float)\n",
    "df['NO2']=df['NO2'].astype(float)\n",
    "df['PM2.5']=df['PM2.5'].astype(float)\n",
    "df['RH']=df['RH'].astype(float)\n",
    "df['SO2']=df['SO2'].astype(float)\n",
    "df['SR']=df['SR'].astype(float)"
   ]
  },
  {
   "cell_type": "code",
   "execution_count": 126,
   "metadata": {},
   "outputs": [
    {
     "data": {
      "text/html": [
       "<div>\n",
       "<style scoped>\n",
       "    .dataframe tbody tr th:only-of-type {\n",
       "        vertical-align: middle;\n",
       "    }\n",
       "\n",
       "    .dataframe tbody tr th {\n",
       "        vertical-align: top;\n",
       "    }\n",
       "\n",
       "    .dataframe thead th {\n",
       "        text-align: right;\n",
       "    }\n",
       "</style>\n",
       "<table border=\"1\" class=\"dataframe\">\n",
       "  <thead>\n",
       "    <tr style=\"text-align: right;\">\n",
       "      <th></th>\n",
       "      <th>From Date</th>\n",
       "      <th>BP</th>\n",
       "      <th>CO</th>\n",
       "      <th>VWS</th>\n",
       "      <th>WD</th>\n",
       "      <th>WS</th>\n",
       "      <th>NO</th>\n",
       "      <th>NO2</th>\n",
       "      <th>PM2.5</th>\n",
       "      <th>RH</th>\n",
       "      <th>SO2</th>\n",
       "      <th>SR</th>\n",
       "    </tr>\n",
       "  </thead>\n",
       "  <tbody>\n",
       "    <tr>\n",
       "      <th>0</th>\n",
       "      <td>01-01-2017 00:00</td>\n",
       "      <td>1004.58</td>\n",
       "      <td>481.72</td>\n",
       "      <td>0.23</td>\n",
       "      <td>338.53</td>\n",
       "      <td>0.13</td>\n",
       "      <td>7.95</td>\n",
       "      <td>32.01</td>\n",
       "      <td>71.93</td>\n",
       "      <td>87.07</td>\n",
       "      <td>22.06</td>\n",
       "      <td>NaN</td>\n",
       "    </tr>\n",
       "    <tr>\n",
       "      <th>1</th>\n",
       "      <td>01-01-2017 01:00</td>\n",
       "      <td>1003.03</td>\n",
       "      <td>328.12</td>\n",
       "      <td>0.22</td>\n",
       "      <td>333.24</td>\n",
       "      <td>0.12</td>\n",
       "      <td>2.36</td>\n",
       "      <td>23.36</td>\n",
       "      <td>97.55</td>\n",
       "      <td>91.59</td>\n",
       "      <td>11.76</td>\n",
       "      <td>NaN</td>\n",
       "    </tr>\n",
       "    <tr>\n",
       "      <th>2</th>\n",
       "      <td>01-01-2017 02:00</td>\n",
       "      <td>1002.65</td>\n",
       "      <td>334.27</td>\n",
       "      <td>0.23</td>\n",
       "      <td>314.88</td>\n",
       "      <td>0.16</td>\n",
       "      <td>2.83</td>\n",
       "      <td>21.54</td>\n",
       "      <td>78.58</td>\n",
       "      <td>94.37</td>\n",
       "      <td>8.12</td>\n",
       "      <td>NaN</td>\n",
       "    </tr>\n",
       "    <tr>\n",
       "      <th>3</th>\n",
       "      <td>01-01-2017 03:00</td>\n",
       "      <td>1002.25</td>\n",
       "      <td>184.85</td>\n",
       "      <td>0.22</td>\n",
       "      <td>315.32</td>\n",
       "      <td>0.39</td>\n",
       "      <td>2.21</td>\n",
       "      <td>17.59</td>\n",
       "      <td>81.77</td>\n",
       "      <td>93.50</td>\n",
       "      <td>6.14</td>\n",
       "      <td>NaN</td>\n",
       "    </tr>\n",
       "    <tr>\n",
       "      <th>4</th>\n",
       "      <td>01-01-2017 04:00</td>\n",
       "      <td>1002.15</td>\n",
       "      <td>548.73</td>\n",
       "      <td>0.23</td>\n",
       "      <td>335.61</td>\n",
       "      <td>0.40</td>\n",
       "      <td>2.79</td>\n",
       "      <td>17.88</td>\n",
       "      <td>62.45</td>\n",
       "      <td>93.63</td>\n",
       "      <td>10.13</td>\n",
       "      <td>NaN</td>\n",
       "    </tr>\n",
       "  </tbody>\n",
       "</table>\n",
       "</div>"
      ],
      "text/plain": [
       "          From Date       BP      CO   VWS      WD    WS    NO    NO2  PM2.5  \\\n",
       "0  01-01-2017 00:00  1004.58  481.72  0.23  338.53  0.13  7.95  32.01  71.93   \n",
       "1  01-01-2017 01:00  1003.03  328.12  0.22  333.24  0.12  2.36  23.36  97.55   \n",
       "2  01-01-2017 02:00  1002.65  334.27  0.23  314.88  0.16  2.83  21.54  78.58   \n",
       "3  01-01-2017 03:00  1002.25  184.85  0.22  315.32  0.39  2.21  17.59  81.77   \n",
       "4  01-01-2017 04:00  1002.15  548.73  0.23  335.61  0.40  2.79  17.88  62.45   \n",
       "\n",
       "      RH    SO2  SR  \n",
       "0  87.07  22.06 NaN  \n",
       "1  91.59  11.76 NaN  \n",
       "2  94.37   8.12 NaN  \n",
       "3  93.50   6.14 NaN  \n",
       "4  93.63  10.13 NaN  "
      ]
     },
     "execution_count": 126,
     "metadata": {},
     "output_type": "execute_result"
    }
   ],
   "source": [
    "df.head()"
   ]
  },
  {
   "cell_type": "code",
   "execution_count": 127,
   "metadata": {},
   "outputs": [
    {
     "data": {
      "text/html": [
       "<div>\n",
       "<style scoped>\n",
       "    .dataframe tbody tr th:only-of-type {\n",
       "        vertical-align: middle;\n",
       "    }\n",
       "\n",
       "    .dataframe tbody tr th {\n",
       "        vertical-align: top;\n",
       "    }\n",
       "\n",
       "    .dataframe thead th {\n",
       "        text-align: right;\n",
       "    }\n",
       "</style>\n",
       "<table border=\"1\" class=\"dataframe\">\n",
       "  <thead>\n",
       "    <tr style=\"text-align: right;\">\n",
       "      <th></th>\n",
       "      <th>BP</th>\n",
       "      <th>CO</th>\n",
       "      <th>VWS</th>\n",
       "      <th>WD</th>\n",
       "      <th>WS</th>\n",
       "      <th>NO</th>\n",
       "      <th>NO2</th>\n",
       "      <th>PM2.5</th>\n",
       "      <th>RH</th>\n",
       "      <th>SO2</th>\n",
       "      <th>SR</th>\n",
       "    </tr>\n",
       "  </thead>\n",
       "  <tbody>\n",
       "    <tr>\n",
       "      <th>count</th>\n",
       "      <td>8326.000000</td>\n",
       "      <td>8326.000000</td>\n",
       "      <td>8326.000000</td>\n",
       "      <td>8326.000000</td>\n",
       "      <td>8326.000000</td>\n",
       "      <td>8326.000000</td>\n",
       "      <td>8326.000000</td>\n",
       "      <td>8326.000000</td>\n",
       "      <td>8326.000000</td>\n",
       "      <td>8326.000000</td>\n",
       "      <td>7279.000000</td>\n",
       "    </tr>\n",
       "    <tr>\n",
       "      <th>mean</th>\n",
       "      <td>986.506892</td>\n",
       "      <td>406.641924</td>\n",
       "      <td>0.220586</td>\n",
       "      <td>170.088688</td>\n",
       "      <td>1.153397</td>\n",
       "      <td>8.724676</td>\n",
       "      <td>23.936095</td>\n",
       "      <td>62.916929</td>\n",
       "      <td>73.637342</td>\n",
       "      <td>14.055985</td>\n",
       "      <td>134.231111</td>\n",
       "    </tr>\n",
       "    <tr>\n",
       "      <th>std</th>\n",
       "      <td>157.635143</td>\n",
       "      <td>340.721088</td>\n",
       "      <td>0.042056</td>\n",
       "      <td>90.552094</td>\n",
       "      <td>0.657170</td>\n",
       "      <td>10.840582</td>\n",
       "      <td>14.611566</td>\n",
       "      <td>77.718206</td>\n",
       "      <td>19.914843</td>\n",
       "      <td>36.283121</td>\n",
       "      <td>201.068622</td>\n",
       "    </tr>\n",
       "    <tr>\n",
       "      <th>min</th>\n",
       "      <td>0.000000</td>\n",
       "      <td>0.000000</td>\n",
       "      <td>-0.500000</td>\n",
       "      <td>0.000000</td>\n",
       "      <td>0.000000</td>\n",
       "      <td>0.000000</td>\n",
       "      <td>0.000000</td>\n",
       "      <td>0.000000</td>\n",
       "      <td>0.000000</td>\n",
       "      <td>0.000000</td>\n",
       "      <td>0.000000</td>\n",
       "    </tr>\n",
       "    <tr>\n",
       "      <th>25%</th>\n",
       "      <td>1010.730000</td>\n",
       "      <td>224.745000</td>\n",
       "      <td>0.220000</td>\n",
       "      <td>105.222500</td>\n",
       "      <td>0.680000</td>\n",
       "      <td>3.690000</td>\n",
       "      <td>15.940000</td>\n",
       "      <td>25.720000</td>\n",
       "      <td>62.260000</td>\n",
       "      <td>4.050000</td>\n",
       "      <td>1.660000</td>\n",
       "    </tr>\n",
       "    <tr>\n",
       "      <th>50%</th>\n",
       "      <td>1012.800000</td>\n",
       "      <td>422.050000</td>\n",
       "      <td>0.230000</td>\n",
       "      <td>181.980000</td>\n",
       "      <td>0.970000</td>\n",
       "      <td>5.640000</td>\n",
       "      <td>21.225000</td>\n",
       "      <td>43.850000</td>\n",
       "      <td>75.500000</td>\n",
       "      <td>8.060000</td>\n",
       "      <td>16.210000</td>\n",
       "    </tr>\n",
       "    <tr>\n",
       "      <th>75%</th>\n",
       "      <td>1014.620000</td>\n",
       "      <td>569.895000</td>\n",
       "      <td>0.230000</td>\n",
       "      <td>237.150000</td>\n",
       "      <td>1.510000</td>\n",
       "      <td>10.850000</td>\n",
       "      <td>28.837500</td>\n",
       "      <td>70.827500</td>\n",
       "      <td>88.780000</td>\n",
       "      <td>13.165000</td>\n",
       "      <td>232.615000</td>\n",
       "    </tr>\n",
       "    <tr>\n",
       "      <th>max</th>\n",
       "      <td>1024.530000</td>\n",
       "      <td>7075.580000</td>\n",
       "      <td>0.340000</td>\n",
       "      <td>359.430000</td>\n",
       "      <td>4.040000</td>\n",
       "      <td>276.170000</td>\n",
       "      <td>336.500000</td>\n",
       "      <td>999.990000</td>\n",
       "      <td>100.000000</td>\n",
       "      <td>936.280000</td>\n",
       "      <td>1403.700000</td>\n",
       "    </tr>\n",
       "  </tbody>\n",
       "</table>\n",
       "</div>"
      ],
      "text/plain": [
       "                BP           CO          VWS           WD           WS  \\\n",
       "count  8326.000000  8326.000000  8326.000000  8326.000000  8326.000000   \n",
       "mean    986.506892   406.641924     0.220586   170.088688     1.153397   \n",
       "std     157.635143   340.721088     0.042056    90.552094     0.657170   \n",
       "min       0.000000     0.000000    -0.500000     0.000000     0.000000   \n",
       "25%    1010.730000   224.745000     0.220000   105.222500     0.680000   \n",
       "50%    1012.800000   422.050000     0.230000   181.980000     0.970000   \n",
       "75%    1014.620000   569.895000     0.230000   237.150000     1.510000   \n",
       "max    1024.530000  7075.580000     0.340000   359.430000     4.040000   \n",
       "\n",
       "                NO          NO2        PM2.5           RH          SO2  \\\n",
       "count  8326.000000  8326.000000  8326.000000  8326.000000  8326.000000   \n",
       "mean      8.724676    23.936095    62.916929    73.637342    14.055985   \n",
       "std      10.840582    14.611566    77.718206    19.914843    36.283121   \n",
       "min       0.000000     0.000000     0.000000     0.000000     0.000000   \n",
       "25%       3.690000    15.940000    25.720000    62.260000     4.050000   \n",
       "50%       5.640000    21.225000    43.850000    75.500000     8.060000   \n",
       "75%      10.850000    28.837500    70.827500    88.780000    13.165000   \n",
       "max     276.170000   336.500000   999.990000   100.000000   936.280000   \n",
       "\n",
       "                SR  \n",
       "count  7279.000000  \n",
       "mean    134.231111  \n",
       "std     201.068622  \n",
       "min       0.000000  \n",
       "25%       1.660000  \n",
       "50%      16.210000  \n",
       "75%     232.615000  \n",
       "max    1403.700000  "
      ]
     },
     "execution_count": 127,
     "metadata": {},
     "output_type": "execute_result"
    }
   ],
   "source": [
    "df.describe()"
   ]
  },
  {
   "cell_type": "code",
   "execution_count": 128,
   "metadata": {},
   "outputs": [
    {
     "data": {
      "text/plain": [
       "0       481.72\n",
       "1       328.12\n",
       "2       334.27\n",
       "3       184.85\n",
       "4       548.73\n",
       "         ...  \n",
       "7092    191.24\n",
       "7093    187.90\n",
       "7095    634.99\n",
       "7096    149.38\n",
       "7098    190.33\n",
       "Name: CO, Length: 6475, dtype: float64"
      ]
     },
     "execution_count": 128,
     "metadata": {},
     "output_type": "execute_result"
    }
   ],
   "source": [
    "df['CO'][df['CO']>100]"
   ]
  },
  {
   "cell_type": "code",
   "execution_count": 129,
   "metadata": {},
   "outputs": [],
   "source": [
    "df['CO'] = np.where((df.CO >100),df['CO']/1000,df.CO)\n"
   ]
  },
  {
   "cell_type": "code",
   "execution_count": 130,
   "metadata": {},
   "outputs": [
    {
     "data": {
      "text/plain": [
       "From Date       0\n",
       "BP              0\n",
       "CO              0\n",
       "VWS             0\n",
       "WD              0\n",
       "WS              0\n",
       "NO              0\n",
       "NO2             0\n",
       "PM2.5           0\n",
       "RH              0\n",
       "SO2             0\n",
       "SR           1047\n",
       "dtype: int64"
      ]
     },
     "execution_count": 130,
     "metadata": {},
     "output_type": "execute_result"
    }
   ],
   "source": [
    "df.isna().sum()"
   ]
  },
  {
   "cell_type": "code",
   "execution_count": 131,
   "metadata": {},
   "outputs": [
    {
     "data": {
      "text/plain": [
       "<matplotlib.axes._subplots.AxesSubplot at 0x22f1d7ccf28>"
      ]
     },
     "execution_count": 131,
     "metadata": {},
     "output_type": "execute_result"
    },
    {
     "data": {
      "image/png": "[encoded data removed]",
      "text/plain": [
       "<Figure size 432x288 with 1 Axes>"
      ]
     },
     "metadata": {
      "needs_background": "light"
     },
     "output_type": "display_data"
    }
   ],
   "source": [
    "sns.boxplot(data=df)"
   ]
  },
  {
   "cell_type": "code",
   "execution_count": 132,
   "metadata": {},
   "outputs": [
    {
     "data": {
      "text/html": [
       "<div>\n",
       "<style scoped>\n",
       "    .dataframe tbody tr th:only-of-type {\n",
       "        vertical-align: middle;\n",
       "    }\n",
       "\n",
       "    .dataframe tbody tr th {\n",
       "        vertical-align: top;\n",
       "    }\n",
       "\n",
       "    .dataframe thead th {\n",
       "        text-align: right;\n",
       "    }\n",
       "</style>\n",
       "<table border=\"1\" class=\"dataframe\">\n",
       "  <thead>\n",
       "    <tr style=\"text-align: right;\">\n",
       "      <th></th>\n",
       "      <th>BP</th>\n",
       "      <th>CO</th>\n",
       "      <th>VWS</th>\n",
       "      <th>WD</th>\n",
       "      <th>WS</th>\n",
       "      <th>NO</th>\n",
       "      <th>NO2</th>\n",
       "      <th>PM2.5</th>\n",
       "      <th>RH</th>\n",
       "      <th>SO2</th>\n",
       "      <th>SR</th>\n",
       "    </tr>\n",
       "  </thead>\n",
       "  <tbody>\n",
       "    <tr>\n",
       "      <th>count</th>\n",
       "      <td>8326.000000</td>\n",
       "      <td>8326.000000</td>\n",
       "      <td>8326.000000</td>\n",
       "      <td>8326.000000</td>\n",
       "      <td>8326.000000</td>\n",
       "      <td>8326.000000</td>\n",
       "      <td>8326.000000</td>\n",
       "      <td>8326.000000</td>\n",
       "      <td>8326.000000</td>\n",
       "      <td>8326.000000</td>\n",
       "      <td>7279.000000</td>\n",
       "    </tr>\n",
       "    <tr>\n",
       "      <th>mean</th>\n",
       "      <td>986.506892</td>\n",
       "      <td>0.849720</td>\n",
       "      <td>0.220586</td>\n",
       "      <td>170.088688</td>\n",
       "      <td>1.153397</td>\n",
       "      <td>8.724676</td>\n",
       "      <td>23.936095</td>\n",
       "      <td>62.916929</td>\n",
       "      <td>73.637342</td>\n",
       "      <td>14.055985</td>\n",
       "      <td>134.231111</td>\n",
       "    </tr>\n",
       "    <tr>\n",
       "      <th>std</th>\n",
       "      <td>157.635143</td>\n",
       "      <td>4.937531</td>\n",
       "      <td>0.042056</td>\n",
       "      <td>90.552094</td>\n",
       "      <td>0.657170</td>\n",
       "      <td>10.840582</td>\n",
       "      <td>14.611566</td>\n",
       "      <td>77.718206</td>\n",
       "      <td>19.914843</td>\n",
       "      <td>36.283121</td>\n",
       "      <td>201.068622</td>\n",
       "    </tr>\n",
       "    <tr>\n",
       "      <th>min</th>\n",
       "      <td>0.000000</td>\n",
       "      <td>0.000000</td>\n",
       "      <td>-0.500000</td>\n",
       "      <td>0.000000</td>\n",
       "      <td>0.000000</td>\n",
       "      <td>0.000000</td>\n",
       "      <td>0.000000</td>\n",
       "      <td>0.000000</td>\n",
       "      <td>0.000000</td>\n",
       "      <td>0.000000</td>\n",
       "      <td>0.000000</td>\n",
       "    </tr>\n",
       "    <tr>\n",
       "      <th>25%</th>\n",
       "      <td>1010.730000</td>\n",
       "      <td>0.354352</td>\n",
       "      <td>0.220000</td>\n",
       "      <td>105.222500</td>\n",
       "      <td>0.680000</td>\n",
       "      <td>3.690000</td>\n",
       "      <td>15.940000</td>\n",
       "      <td>25.720000</td>\n",
       "      <td>62.260000</td>\n",
       "      <td>4.050000</td>\n",
       "      <td>1.660000</td>\n",
       "    </tr>\n",
       "    <tr>\n",
       "      <th>50%</th>\n",
       "      <td>1012.800000</td>\n",
       "      <td>0.482210</td>\n",
       "      <td>0.230000</td>\n",
       "      <td>181.980000</td>\n",
       "      <td>0.970000</td>\n",
       "      <td>5.640000</td>\n",
       "      <td>21.225000</td>\n",
       "      <td>43.850000</td>\n",
       "      <td>75.500000</td>\n",
       "      <td>8.060000</td>\n",
       "      <td>16.210000</td>\n",
       "    </tr>\n",
       "    <tr>\n",
       "      <th>75%</th>\n",
       "      <td>1014.620000</td>\n",
       "      <td>0.640090</td>\n",
       "      <td>0.230000</td>\n",
       "      <td>237.150000</td>\n",
       "      <td>1.510000</td>\n",
       "      <td>10.850000</td>\n",
       "      <td>28.837500</td>\n",
       "      <td>70.827500</td>\n",
       "      <td>88.780000</td>\n",
       "      <td>13.165000</td>\n",
       "      <td>232.615000</td>\n",
       "    </tr>\n",
       "    <tr>\n",
       "      <th>max</th>\n",
       "      <td>1024.530000</td>\n",
       "      <td>98.950000</td>\n",
       "      <td>0.340000</td>\n",
       "      <td>359.430000</td>\n",
       "      <td>4.040000</td>\n",
       "      <td>276.170000</td>\n",
       "      <td>336.500000</td>\n",
       "      <td>999.990000</td>\n",
       "      <td>100.000000</td>\n",
       "      <td>936.280000</td>\n",
       "      <td>1403.700000</td>\n",
       "    </tr>\n",
       "  </tbody>\n",
       "</table>\n",
       "</div>"
      ],
      "text/plain": [
       "                BP           CO          VWS           WD           WS  \\\n",
       "count  8326.000000  8326.000000  8326.000000  8326.000000  8326.000000   \n",
       "mean    986.506892     0.849720     0.220586   170.088688     1.153397   \n",
       "std     157.635143     4.937531     0.042056    90.552094     0.657170   \n",
       "min       0.000000     0.000000    -0.500000     0.000000     0.000000   \n",
       "25%    1010.730000     0.354352     0.220000   105.222500     0.680000   \n",
       "50%    1012.800000     0.482210     0.230000   181.980000     0.970000   \n",
       "75%    1014.620000     0.640090     0.230000   237.150000     1.510000   \n",
       "max    1024.530000    98.950000     0.340000   359.430000     4.040000   \n",
       "\n",
       "                NO          NO2        PM2.5           RH          SO2  \\\n",
       "count  8326.000000  8326.000000  8326.000000  8326.000000  8326.000000   \n",
       "mean      8.724676    23.936095    62.916929    73.637342    14.055985   \n",
       "std      10.840582    14.611566    77.718206    19.914843    36.283121   \n",
       "min       0.000000     0.000000     0.000000     0.000000     0.000000   \n",
       "25%       3.690000    15.940000    25.720000    62.260000     4.050000   \n",
       "50%       5.640000    21.225000    43.850000    75.500000     8.060000   \n",
       "75%      10.850000    28.837500    70.827500    88.780000    13.165000   \n",
       "max     276.170000   336.500000   999.990000   100.000000   936.280000   \n",
       "\n",
       "                SR  \n",
       "count  7279.000000  \n",
       "mean    134.231111  \n",
       "std     201.068622  \n",
       "min       0.000000  \n",
       "25%       1.660000  \n",
       "50%      16.210000  \n",
       "75%     232.615000  \n",
       "max    1403.700000  "
      ]
     },
     "execution_count": 132,
     "metadata": {},
     "output_type": "execute_result"
    }
   ],
   "source": [
    "df.describe()"
   ]
  },
  {
   "cell_type": "code",
   "execution_count": 133,
   "metadata": {},
   "outputs": [
    {
     "data": {
      "text/plain": [
       "(8326, 12)"
      ]
     },
     "execution_count": 133,
     "metadata": {},
     "output_type": "execute_result"
    }
   ],
   "source": [
    "df.shape"
   ]
  },
  {
   "cell_type": "code",
   "execution_count": 134,
   "metadata": {},
   "outputs": [],
   "source": [
    "df['location']=2\n",
    "df['location']=df['location'].astype('category')"
   ]
  },
  {
   "cell_type": "code",
   "execution_count": 135,
   "metadata": {},
   "outputs": [
    {
     "data": {
      "text/html": [
       "<div>\n",
       "<style scoped>\n",
       "    .dataframe tbody tr th:only-of-type {\n",
       "        vertical-align: middle;\n",
       "    }\n",
       "\n",
       "    .dataframe tbody tr th {\n",
       "        vertical-align: top;\n",
       "    }\n",
       "\n",
       "    .dataframe thead th {\n",
       "        text-align: right;\n",
       "    }\n",
       "</style>\n",
       "<table border=\"1\" class=\"dataframe\">\n",
       "  <thead>\n",
       "    <tr style=\"text-align: right;\">\n",
       "      <th></th>\n",
       "      <th>From Date</th>\n",
       "      <th>BP</th>\n",
       "      <th>CO</th>\n",
       "      <th>VWS</th>\n",
       "      <th>WD</th>\n",
       "      <th>WS</th>\n",
       "      <th>NO</th>\n",
       "      <th>NO2</th>\n",
       "      <th>PM2.5</th>\n",
       "      <th>RH</th>\n",
       "      <th>SO2</th>\n",
       "      <th>SR</th>\n",
       "      <th>location</th>\n",
       "    </tr>\n",
       "  </thead>\n",
       "  <tbody>\n",
       "    <tr>\n",
       "      <th>0</th>\n",
       "      <td>01-01-2017 00:00</td>\n",
       "      <td>1004.58</td>\n",
       "      <td>0.48172</td>\n",
       "      <td>0.23</td>\n",
       "      <td>338.53</td>\n",
       "      <td>0.13</td>\n",
       "      <td>7.95</td>\n",
       "      <td>32.01</td>\n",
       "      <td>71.93</td>\n",
       "      <td>87.07</td>\n",
       "      <td>22.06</td>\n",
       "      <td>NaN</td>\n",
       "      <td>2</td>\n",
       "    </tr>\n",
       "    <tr>\n",
       "      <th>1</th>\n",
       "      <td>01-01-2017 01:00</td>\n",
       "      <td>1003.03</td>\n",
       "      <td>0.32812</td>\n",
       "      <td>0.22</td>\n",
       "      <td>333.24</td>\n",
       "      <td>0.12</td>\n",
       "      <td>2.36</td>\n",
       "      <td>23.36</td>\n",
       "      <td>97.55</td>\n",
       "      <td>91.59</td>\n",
       "      <td>11.76</td>\n",
       "      <td>NaN</td>\n",
       "      <td>2</td>\n",
       "    </tr>\n",
       "    <tr>\n",
       "      <th>2</th>\n",
       "      <td>01-01-2017 02:00</td>\n",
       "      <td>1002.65</td>\n",
       "      <td>0.33427</td>\n",
       "      <td>0.23</td>\n",
       "      <td>314.88</td>\n",
       "      <td>0.16</td>\n",
       "      <td>2.83</td>\n",
       "      <td>21.54</td>\n",
       "      <td>78.58</td>\n",
       "      <td>94.37</td>\n",
       "      <td>8.12</td>\n",
       "      <td>NaN</td>\n",
       "      <td>2</td>\n",
       "    </tr>\n",
       "    <tr>\n",
       "      <th>3</th>\n",
       "      <td>01-01-2017 03:00</td>\n",
       "      <td>1002.25</td>\n",
       "      <td>0.18485</td>\n",
       "      <td>0.22</td>\n",
       "      <td>315.32</td>\n",
       "      <td>0.39</td>\n",
       "      <td>2.21</td>\n",
       "      <td>17.59</td>\n",
       "      <td>81.77</td>\n",
       "      <td>93.50</td>\n",
       "      <td>6.14</td>\n",
       "      <td>NaN</td>\n",
       "      <td>2</td>\n",
       "    </tr>\n",
       "    <tr>\n",
       "      <th>4</th>\n",
       "      <td>01-01-2017 04:00</td>\n",
       "      <td>1002.15</td>\n",
       "      <td>0.54873</td>\n",
       "      <td>0.23</td>\n",
       "      <td>335.61</td>\n",
       "      <td>0.40</td>\n",
       "      <td>2.79</td>\n",
       "      <td>17.88</td>\n",
       "      <td>62.45</td>\n",
       "      <td>93.63</td>\n",
       "      <td>10.13</td>\n",
       "      <td>NaN</td>\n",
       "      <td>2</td>\n",
       "    </tr>\n",
       "  </tbody>\n",
       "</table>\n",
       "</div>"
      ],
      "text/plain": [
       "          From Date       BP       CO   VWS      WD    WS    NO    NO2  PM2.5  \\\n",
       "0  01-01-2017 00:00  1004.58  0.48172  0.23  338.53  0.13  7.95  32.01  71.93   \n",
       "1  01-01-2017 01:00  1003.03  0.32812  0.22  333.24  0.12  2.36  23.36  97.55   \n",
       "2  01-01-2017 02:00  1002.65  0.33427  0.23  314.88  0.16  2.83  21.54  78.58   \n",
       "3  01-01-2017 03:00  1002.25  0.18485  0.22  315.32  0.39  2.21  17.59  81.77   \n",
       "4  01-01-2017 04:00  1002.15  0.54873  0.23  335.61  0.40  2.79  17.88  62.45   \n",
       "\n",
       "      RH    SO2  SR location  \n",
       "0  87.07  22.06 NaN        2  \n",
       "1  91.59  11.76 NaN        2  \n",
       "2  94.37   8.12 NaN        2  \n",
       "3  93.50   6.14 NaN        2  \n",
       "4  93.63  10.13 NaN        2  "
      ]
     },
     "execution_count": 135,
     "metadata": {},
     "output_type": "execute_result"
    }
   ],
   "source": [
    "df.head()"
   ]
  },
  {
   "cell_type": "code",
   "execution_count": 136,
   "metadata": {},
   "outputs": [
    {
     "data": {
      "text/plain": [
       "<matplotlib.axes._subplots.AxesSubplot at 0x22f20c0a358>"
      ]
     },
     "execution_count": 136,
     "metadata": {},
     "output_type": "execute_result"
    },
    {
     "data": {
      "image/png": "[encoded data removed]",
      "text/plain": [
       "<Figure size 1080x720 with 2 Axes>"
      ]
     },
     "metadata": {
      "needs_background": "light"
     },
     "output_type": "display_data"
    }
   ],
   "source": [
    "m=df.corr()\n",
    "plt.subplots(figsize=(15,10))\n",
    "sns.heatmap(m,annot=True)"
   ]
  },
  {
   "cell_type": "code",
   "execution_count": 137,
   "metadata": {},
   "outputs": [
    {
     "data": {
      "text/plain": [
       "Index(['From Date', 'BP', 'CO', 'VWS', 'WD', 'WS', 'NO', 'NO2', 'PM2.5', 'RH',\n",
       "       'SO2', 'SR', 'location'],\n",
       "      dtype='object')"
      ]
     },
     "execution_count": 137,
     "metadata": {},
     "output_type": "execute_result"
    }
   ],
   "source": [
    "df.columns"
   ]
  },
  {
   "cell_type": "code",
   "execution_count": 138,
   "metadata": {},
   "outputs": [
    {
     "data": {
      "text/plain": [
       "\"iqr_bp=df['BP'].quantile(.75)-df['BP'].quantile(.25)\\nup_bp=df['BP'].quantile(.75)+(1.5*iqr_bp)\\nlow_bp=df['BP'].quantile(.25)-(1.5*iqr_bp)\\n\\niqr_co=df['CO'].quantile(.75)-df['CO'].quantile(.25)\\nup_co=df['CO'].quantile(.75)+(1.5*iqr_co)\\nlow_co=df['CO'].quantile(.25)-(1.5*iqr_co)\\n\\niqr_wd=df['WD'].quantile(.75)-df['WD'].quantile(.25)\\nup_wd=df['WD'].quantile(.75)+(1.5*iqr_wd)\\nlow_wd=df['WD'].quantile(.25)-(1.5*iqr_wd)\\n\\n\\niqr_vws=df['VWS'].quantile(.75)-df['VWS'].quantile(.25)\\nup_vws=df['VWS'].quantile(.75)+(1.5*iqr_vws)\\nlow_vws=df['VWS'].quantile(.25)-(1.5*iqr_vws)\\n\\n\\niqr_ws=df['WS'].quantile(.75)-df['WS'].quantile(.25)\\nup_ws=df['WS'].quantile(.75)+(1.5*iqr_ws)\\nlow_ws=df['WS'].quantile(.25)-(1.5*iqr_ws)\\n\\niqr_no=df['NO'].quantile(.75)-df['NO'].quantile(.25)\\nup_no=df['NO'].quantile(.75)+(1.5*iqr_no)\\nlow_no=df['NO'].quantile(.25)-(1.5*iqr_no)\\n\\niqr_no2=df['NO2'].quantile(.75)-df['NO2'].quantile(.25)\\nup_no2=df['NO2'].quantile(.75)+(1.5*iqr_no2)\\nlow_no2=df['NO2'].quantile(.25)-(1.5*iqr_no2)\\n\\n\\niqr_pm=df['PM2.5'].quantile(.75)-df['PM2.5'].quantile(.25)\\nup_pm=df['PM2.5'].quantile(.75)+(1.5*iqr_pm)\\nlow_pm=df['PM2.5'].quantile(.25)-(1.5*iqr_pm)\\n\\niqr_rh=df['RH'].quantile(.75)-df['RH'].quantile(.25)\\nup_rh=df['RH'].quantile(.75)+(1.5*iqr_rh)\\nlow_rh=df['RH'].quantile(.25)-(1.5*iqr_rh)\\n\\niqr_so2=df['SO2'].quantile(.75)-df['SO2'].quantile(.25)\\nup_so2=df['SO2'].quantile(.75)+(1.5*iqr_so2)\\nlow_so2=df['SO2'].quantile(.25)-(1.5*iqr_so2)\\n\\niqr_sr=df['SR'].quantile(.75)-df['SR'].quantile(.25)\\nup_sr=df['SR'].quantile(.75)+(1.5*iqr_sr)\\nlow_sr=df['SR'].quantile(.25)-(1.5*iqr_sr)\\n\""
      ]
     },
     "execution_count": 138,
     "metadata": {},
     "output_type": "execute_result"
    }
   ],
   "source": [
    "\"\"\"iqr_bp=df['BP'].quantile(.75)-df['BP'].quantile(.25)\n",
    "up_bp=df['BP'].quantile(.75)+(1.5*iqr_bp)\n",
    "low_bp=df['BP'].quantile(.25)-(1.5*iqr_bp)\n",
    "\n",
    "iqr_co=df['CO'].quantile(.75)-df['CO'].quantile(.25)\n",
    "up_co=df['CO'].quantile(.75)+(1.5*iqr_co)\n",
    "low_co=df['CO'].quantile(.25)-(1.5*iqr_co)\n",
    "\n",
    "iqr_wd=df['WD'].quantile(.75)-df['WD'].quantile(.25)\n",
    "up_wd=df['WD'].quantile(.75)+(1.5*iqr_wd)\n",
    "low_wd=df['WD'].quantile(.25)-(1.5*iqr_wd)\n",
    "\n",
    "\n",
    "iqr_vws=df['VWS'].quantile(.75)-df['VWS'].quantile(.25)\n",
    "up_vws=df['VWS'].quantile(.75)+(1.5*iqr_vws)\n",
    "low_vws=df['VWS'].quantile(.25)-(1.5*iqr_vws)\n",
    "\n",
    "\n",
    "iqr_ws=df['WS'].quantile(.75)-df['WS'].quantile(.25)\n",
    "up_ws=df['WS'].quantile(.75)+(1.5*iqr_ws)\n",
    "low_ws=df['WS'].quantile(.25)-(1.5*iqr_ws)\n",
    "\n",
    "iqr_no=df['NO'].quantile(.75)-df['NO'].quantile(.25)\n",
    "up_no=df['NO'].quantile(.75)+(1.5*iqr_no)\n",
    "low_no=df['NO'].quantile(.25)-(1.5*iqr_no)\n",
    "\n",
    "iqr_no2=df['NO2'].quantile(.75)-df['NO2'].quantile(.25)\n",
    "up_no2=df['NO2'].quantile(.75)+(1.5*iqr_no2)\n",
    "low_no2=df['NO2'].quantile(.25)-(1.5*iqr_no2)\n",
    "\n",
    "\n",
    "iqr_pm=df['PM2.5'].quantile(.75)-df['PM2.5'].quantile(.25)\n",
    "up_pm=df['PM2.5'].quantile(.75)+(1.5*iqr_pm)\n",
    "low_pm=df['PM2.5'].quantile(.25)-(1.5*iqr_pm)\n",
    "\n",
    "iqr_rh=df['RH'].quantile(.75)-df['RH'].quantile(.25)\n",
    "up_rh=df['RH'].quantile(.75)+(1.5*iqr_rh)\n",
    "low_rh=df['RH'].quantile(.25)-(1.5*iqr_rh)\n",
    "\n",
    "iqr_so2=df['SO2'].quantile(.75)-df['SO2'].quantile(.25)\n",
    "up_so2=df['SO2'].quantile(.75)+(1.5*iqr_so2)\n",
    "low_so2=df['SO2'].quantile(.25)-(1.5*iqr_so2)\n",
    "\n",
    "iqr_sr=df['SR'].quantile(.75)-df['SR'].quantile(.25)\n",
    "up_sr=df['SR'].quantile(.75)+(1.5*iqr_sr)\n",
    "low_sr=df['SR'].quantile(.25)-(1.5*iqr_sr)\n",
    "\"\"\""
   ]
  },
  {
   "cell_type": "code",
   "execution_count": 139,
   "metadata": {},
   "outputs": [
    {
     "data": {
      "text/plain": [
       "\"for i in df['CO']:\\n    if(i>up_co):\\n        df['CO']=df['CO'].replace(i,up_co)\\n\\nfor i in df['NO2']:\\n    if(i>up_no2):\\n        df['NO2']=df['NO2'].replace(i,up_no2)\\nfor i in df['NO']:\\n    if(i>up_no):\\n        df['NO']=df['NO'].replace(i,up_no)\\n\\nfor i in df['SO2']:\\n    if(i>up_so2):\\n        df['SO2']=df['SO2'].replace(i,up_so2)\\n        \\nfor i in df['RH']:\\n    if(i>up_rh):\\n        df['RH']=df['RH'].replace(i,up_rh)\\n        \\nfor i in df['VWS']:\\n    if(i>up_vws):\\n        df['VWS']=df['VWS'].replace(i,up_vws)\\n        \\nfor i in df['WS']:\\n    if(i>up_ws):\\n        df['WS']=df['WS'].replace(i,up_ws)\\n        \\nfor i in df['WD']:\\n    if(i>up_wd):\\n        df['WD']=df['WD'].replace(i,up_wd)\\n        \\nfor i in df['PM2.5']:\\n    if(i>up_pm):\\n        df['PM2.5']=df['PM2.5'].replace(i,up_pm)\\n        \\nfor i in df['SR']:\\n    if(i>up_sr):\\n        df['SR']=df['SR'].replace(i,up_sr)\\n\\nfor i in df['BP']:\\n    if(i<low_bp):\\n        df['BP']=df['BP'].replace(i,low_bp)\\n    elif(i>up_bp):\\n        df['BP']=df['BP'].replace(i,up_bp)\""
      ]
     },
     "execution_count": 139,
     "metadata": {},
     "output_type": "execute_result"
    }
   ],
   "source": [
    "\"\"\"for i in df['CO']:\n",
    "    if(i>up_co):\n",
    "        df['CO']=df['CO'].replace(i,up_co)\n",
    "\n",
    "for i in df['NO2']:\n",
    "    if(i>up_no2):\n",
    "        df['NO2']=df['NO2'].replace(i,up_no2)\n",
    "for i in df['NO']:\n",
    "    if(i>up_no):\n",
    "        df['NO']=df['NO'].replace(i,up_no)\n",
    "\n",
    "for i in df['SO2']:\n",
    "    if(i>up_so2):\n",
    "        df['SO2']=df['SO2'].replace(i,up_so2)\n",
    "        \n",
    "for i in df['RH']:\n",
    "    if(i>up_rh):\n",
    "        df['RH']=df['RH'].replace(i,up_rh)\n",
    "        \n",
    "for i in df['VWS']:\n",
    "    if(i>up_vws):\n",
    "        df['VWS']=df['VWS'].replace(i,up_vws)\n",
    "        \n",
    "for i in df['WS']:\n",
    "    if(i>up_ws):\n",
    "        df['WS']=df['WS'].replace(i,up_ws)\n",
    "        \n",
    "for i in df['WD']:\n",
    "    if(i>up_wd):\n",
    "        df['WD']=df['WD'].replace(i,up_wd)\n",
    "        \n",
    "for i in df['PM2.5']:\n",
    "    if(i>up_pm):\n",
    "        df['PM2.5']=df['PM2.5'].replace(i,up_pm)\n",
    "        \n",
    "for i in df['SR']:\n",
    "    if(i>up_sr):\n",
    "        df['SR']=df['SR'].replace(i,up_sr)\n",
    "\n",
    "for i in df['BP']:\n",
    "    if(i<low_bp):\n",
    "        df['BP']=df['BP'].replace(i,low_bp)\n",
    "    elif(i>up_bp):\n",
    "        df['BP']=df['BP'].replace(i,up_bp)\"\"\""
   ]
  },
  {
   "cell_type": "code",
   "execution_count": 140,
   "metadata": {},
   "outputs": [
    {
     "data": {
      "text/plain": [
       "<matplotlib.axes._subplots.AxesSubplot at 0x22f20c45860>"
      ]
     },
     "execution_count": 140,
     "metadata": {},
     "output_type": "execute_result"
    },
    {
     "data": {
      "image/png": "[encoded data removed]",
      "text/plain": [
       "<Figure size 432x288 with 1 Axes>"
      ]
     },
     "metadata": {
      "needs_background": "light"
     },
     "output_type": "display_data"
    }
   ],
   "source": [
    "sns.boxplot(data=df)"
   ]
  },
  {
   "cell_type": "code",
   "execution_count": 141,
   "metadata": {},
   "outputs": [],
   "source": [
    "result_csv1 = df.to_csv (r'C:\\dse_new\\eda_man_17.csv', index = None, header=True)"
   ]
  },
  {
   "cell_type": "markdown",
   "metadata": {},
   "source": [
    "# Upto this basic EDA is done"
   ]
  },
  {
   "cell_type": "markdown",
   "metadata": {},
   "source": [
    "# ---------------------------------------------------------------------------------------------------------------"
   ]
  },
  {
   "cell_type": "code",
   "execution_count": null,
   "metadata": {},
   "outputs": [],
   "source": []
  }
 ],
 "metadata": {
  "kernelspec": {
   "display_name": "Python 3",
   "language": "python",
   "name": "python3"
  },
  "language_info": {
   "codemirror_mode": {
    "name": "ipython",
    "version": 3
   },
   "file_extension": ".py",
   "mimetype": "text/x-python",
   "name": "python",
   "nbconvert_exporter": "python",
   "pygments_lexer": "ipython3",
   "version": "3.6.8"
  }
 },
 "nbformat": 4,
 "nbformat_minor": 2
}
