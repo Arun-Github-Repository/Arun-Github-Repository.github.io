{
 "cells": [
  {
   "cell_type": "code",
   "execution_count": 166,
   "metadata": {},
   "outputs": [],
   "source": [
    "import pandas as pd\n",
    "import numpy as np\n",
    "import matplotlib.pyplot as plt\n",
    "import seaborn as sns\n",
    "from scipy.stats import stats\n",
    "import warnings;\n",
    "warnings.filterwarnings(\"ignore\")"
   ]
  },
  {
   "cell_type": "code",
   "execution_count": 167,
   "metadata": {},
   "outputs": [],
   "source": [
    "df1=pd.read_excel('man_2018.xlsx')"
   ]
  },
  {
   "cell_type": "code",
   "execution_count": 168,
   "metadata": {},
   "outputs": [
    {
     "data": {
      "text/html": [
       "<div>\n",
       "<style scoped>\n",
       "    .dataframe tbody tr th:only-of-type {\n",
       "        vertical-align: middle;\n",
       "    }\n",
       "\n",
       "    .dataframe tbody tr th {\n",
       "        vertical-align: top;\n",
       "    }\n",
       "\n",
       "    .dataframe thead th {\n",
       "        text-align: right;\n",
       "    }\n",
       "</style>\n",
       "<table border=\"1\" class=\"dataframe\">\n",
       "  <thead>\n",
       "    <tr style=\"text-align: right;\">\n",
       "      <th></th>\n",
       "      <th>From Date</th>\n",
       "      <th>To Date</th>\n",
       "      <th>BP</th>\n",
       "      <th>CH4</th>\n",
       "      <th>PM2.5</th>\n",
       "      <th>RH</th>\n",
       "      <th>SR</th>\n",
       "      <th>Temp</th>\n",
       "      <th>THC</th>\n",
       "      <th>VWS</th>\n",
       "      <th>WD</th>\n",
       "      <th>WS</th>\n",
       "      <th>CO</th>\n",
       "      <th>NH3</th>\n",
       "      <th>NOx</th>\n",
       "      <th>NO</th>\n",
       "      <th>NO2</th>\n",
       "      <th>SO2</th>\n",
       "    </tr>\n",
       "  </thead>\n",
       "  <tbody>\n",
       "    <tr>\n",
       "      <th>0</th>\n",
       "      <td>01-01-2018 00:00</td>\n",
       "      <td>01-01-2018 01:00</td>\n",
       "      <td>1008.3</td>\n",
       "      <td>0</td>\n",
       "      <td>88.01</td>\n",
       "      <td>89.18</td>\n",
       "      <td>None</td>\n",
       "      <td>None</td>\n",
       "      <td>1768.5</td>\n",
       "      <td>0.23</td>\n",
       "      <td>329.17</td>\n",
       "      <td>0.64</td>\n",
       "      <td>0</td>\n",
       "      <td>199.36</td>\n",
       "      <td>14.66</td>\n",
       "      <td>16.13</td>\n",
       "      <td>8.2</td>\n",
       "      <td>2.76</td>\n",
       "    </tr>\n",
       "    <tr>\n",
       "      <th>1</th>\n",
       "      <td>01-01-2018 01:00</td>\n",
       "      <td>01-01-2018 02:00</td>\n",
       "      <td>1007.88</td>\n",
       "      <td>0</td>\n",
       "      <td>75.69</td>\n",
       "      <td>89.19</td>\n",
       "      <td>None</td>\n",
       "      <td>None</td>\n",
       "      <td>1762.45</td>\n",
       "      <td>0.23</td>\n",
       "      <td>328.17</td>\n",
       "      <td>0.61</td>\n",
       "      <td>0</td>\n",
       "      <td>355.8</td>\n",
       "      <td>11.22</td>\n",
       "      <td>15.25</td>\n",
       "      <td>2.66</td>\n",
       "      <td>2.82</td>\n",
       "    </tr>\n",
       "    <tr>\n",
       "      <th>2</th>\n",
       "      <td>01-01-2018 02:00</td>\n",
       "      <td>01-01-2018 03:00</td>\n",
       "      <td>1007.55</td>\n",
       "      <td>0</td>\n",
       "      <td>55.88</td>\n",
       "      <td>89.19</td>\n",
       "      <td>None</td>\n",
       "      <td>None</td>\n",
       "      <td>1756.45</td>\n",
       "      <td>0.22</td>\n",
       "      <td>335.16</td>\n",
       "      <td>0.61</td>\n",
       "      <td>0</td>\n",
       "      <td>92.02</td>\n",
       "      <td>9.47</td>\n",
       "      <td>14.49</td>\n",
       "      <td>0.92</td>\n",
       "      <td>2.61</td>\n",
       "    </tr>\n",
       "    <tr>\n",
       "      <th>3</th>\n",
       "      <td>01-01-2018 03:00</td>\n",
       "      <td>01-01-2018 04:00</td>\n",
       "      <td>1007.2</td>\n",
       "      <td>0</td>\n",
       "      <td>50.68</td>\n",
       "      <td>89.19</td>\n",
       "      <td>None</td>\n",
       "      <td>None</td>\n",
       "      <td>1749.38</td>\n",
       "      <td>0.21</td>\n",
       "      <td>335.65</td>\n",
       "      <td>0.62</td>\n",
       "      <td>0</td>\n",
       "      <td>152.52</td>\n",
       "      <td>8.95</td>\n",
       "      <td>12.76</td>\n",
       "      <td>1.93</td>\n",
       "      <td>2.58</td>\n",
       "    </tr>\n",
       "    <tr>\n",
       "      <th>4</th>\n",
       "      <td>01-01-2018 04:00</td>\n",
       "      <td>01-01-2018 05:00</td>\n",
       "      <td>1006.88</td>\n",
       "      <td>0</td>\n",
       "      <td>47.27</td>\n",
       "      <td>89.19</td>\n",
       "      <td>None</td>\n",
       "      <td>None</td>\n",
       "      <td>1746.85</td>\n",
       "      <td>0.23</td>\n",
       "      <td>328.27</td>\n",
       "      <td>0.57</td>\n",
       "      <td>0</td>\n",
       "      <td>102.63</td>\n",
       "      <td>7.8</td>\n",
       "      <td>10.26</td>\n",
       "      <td>3.26</td>\n",
       "      <td>2.18</td>\n",
       "    </tr>\n",
       "  </tbody>\n",
       "</table>\n",
       "</div>"
      ],
      "text/plain": [
       "          From Date           To Date       BP CH4  PM2.5     RH    SR  Temp  \\\n",
       "0  01-01-2018 00:00  01-01-2018 01:00   1008.3   0  88.01  89.18  None  None   \n",
       "1  01-01-2018 01:00  01-01-2018 02:00  1007.88   0  75.69  89.19  None  None   \n",
       "2  01-01-2018 02:00  01-01-2018 03:00  1007.55   0  55.88  89.19  None  None   \n",
       "3  01-01-2018 03:00  01-01-2018 04:00   1007.2   0  50.68  89.19  None  None   \n",
       "4  01-01-2018 04:00  01-01-2018 05:00  1006.88   0  47.27  89.19  None  None   \n",
       "\n",
       "       THC   VWS      WD    WS CO     NH3    NOx     NO   NO2   SO2  \n",
       "0   1768.5  0.23  329.17  0.64  0  199.36  14.66  16.13   8.2  2.76  \n",
       "1  1762.45  0.23  328.17  0.61  0   355.8  11.22  15.25  2.66  2.82  \n",
       "2  1756.45  0.22  335.16  0.61  0   92.02   9.47  14.49  0.92  2.61  \n",
       "3  1749.38  0.21  335.65  0.62  0  152.52   8.95  12.76  1.93  2.58  \n",
       "4  1746.85  0.23  328.27  0.57  0  102.63    7.8  10.26  3.26  2.18  "
      ]
     },
     "execution_count": 168,
     "metadata": {},
     "output_type": "execute_result"
    }
   ],
   "source": [
    "df1.head()"
   ]
  },
  {
   "cell_type": "code",
   "execution_count": 169,
   "metadata": {},
   "outputs": [],
   "source": [
    "df=df1[['From Date','BP','CO','VWS','WD','WS','NO','NO2','PM2.5','RH','SO2','SR']]"
   ]
  },
  {
   "cell_type": "code",
   "execution_count": 170,
   "metadata": {},
   "outputs": [
    {
     "data": {
      "text/html": [
       "<div>\n",
       "<style scoped>\n",
       "    .dataframe tbody tr th:only-of-type {\n",
       "        vertical-align: middle;\n",
       "    }\n",
       "\n",
       "    .dataframe tbody tr th {\n",
       "        vertical-align: top;\n",
       "    }\n",
       "\n",
       "    .dataframe thead th {\n",
       "        text-align: right;\n",
       "    }\n",
       "</style>\n",
       "<table border=\"1\" class=\"dataframe\">\n",
       "  <thead>\n",
       "    <tr style=\"text-align: right;\">\n",
       "      <th></th>\n",
       "      <th>From Date</th>\n",
       "      <th>BP</th>\n",
       "      <th>CO</th>\n",
       "      <th>VWS</th>\n",
       "      <th>WD</th>\n",
       "      <th>WS</th>\n",
       "      <th>NO</th>\n",
       "      <th>NO2</th>\n",
       "      <th>PM2.5</th>\n",
       "      <th>RH</th>\n",
       "      <th>SO2</th>\n",
       "      <th>SR</th>\n",
       "    </tr>\n",
       "  </thead>\n",
       "  <tbody>\n",
       "    <tr>\n",
       "      <th>0</th>\n",
       "      <td>01-01-2018 00:00</td>\n",
       "      <td>1008.3</td>\n",
       "      <td>0</td>\n",
       "      <td>0.23</td>\n",
       "      <td>329.17</td>\n",
       "      <td>0.64</td>\n",
       "      <td>16.13</td>\n",
       "      <td>8.2</td>\n",
       "      <td>88.01</td>\n",
       "      <td>89.18</td>\n",
       "      <td>2.76</td>\n",
       "      <td>None</td>\n",
       "    </tr>\n",
       "    <tr>\n",
       "      <th>1</th>\n",
       "      <td>01-01-2018 01:00</td>\n",
       "      <td>1007.88</td>\n",
       "      <td>0</td>\n",
       "      <td>0.23</td>\n",
       "      <td>328.17</td>\n",
       "      <td>0.61</td>\n",
       "      <td>15.25</td>\n",
       "      <td>2.66</td>\n",
       "      <td>75.69</td>\n",
       "      <td>89.19</td>\n",
       "      <td>2.82</td>\n",
       "      <td>None</td>\n",
       "    </tr>\n",
       "    <tr>\n",
       "      <th>2</th>\n",
       "      <td>01-01-2018 02:00</td>\n",
       "      <td>1007.55</td>\n",
       "      <td>0</td>\n",
       "      <td>0.22</td>\n",
       "      <td>335.16</td>\n",
       "      <td>0.61</td>\n",
       "      <td>14.49</td>\n",
       "      <td>0.92</td>\n",
       "      <td>55.88</td>\n",
       "      <td>89.19</td>\n",
       "      <td>2.61</td>\n",
       "      <td>None</td>\n",
       "    </tr>\n",
       "    <tr>\n",
       "      <th>3</th>\n",
       "      <td>01-01-2018 03:00</td>\n",
       "      <td>1007.2</td>\n",
       "      <td>0</td>\n",
       "      <td>0.21</td>\n",
       "      <td>335.65</td>\n",
       "      <td>0.62</td>\n",
       "      <td>12.76</td>\n",
       "      <td>1.93</td>\n",
       "      <td>50.68</td>\n",
       "      <td>89.19</td>\n",
       "      <td>2.58</td>\n",
       "      <td>None</td>\n",
       "    </tr>\n",
       "    <tr>\n",
       "      <th>4</th>\n",
       "      <td>01-01-2018 04:00</td>\n",
       "      <td>1006.88</td>\n",
       "      <td>0</td>\n",
       "      <td>0.23</td>\n",
       "      <td>328.27</td>\n",
       "      <td>0.57</td>\n",
       "      <td>10.26</td>\n",
       "      <td>3.26</td>\n",
       "      <td>47.27</td>\n",
       "      <td>89.19</td>\n",
       "      <td>2.18</td>\n",
       "      <td>None</td>\n",
       "    </tr>\n",
       "  </tbody>\n",
       "</table>\n",
       "</div>"
      ],
      "text/plain": [
       "          From Date       BP CO   VWS      WD    WS     NO   NO2  PM2.5  \\\n",
       "0  01-01-2018 00:00   1008.3  0  0.23  329.17  0.64  16.13   8.2  88.01   \n",
       "1  01-01-2018 01:00  1007.88  0  0.23  328.17  0.61  15.25  2.66  75.69   \n",
       "2  01-01-2018 02:00  1007.55  0  0.22  335.16  0.61  14.49  0.92  55.88   \n",
       "3  01-01-2018 03:00   1007.2  0  0.21  335.65  0.62  12.76  1.93  50.68   \n",
       "4  01-01-2018 04:00  1006.88  0  0.23  328.27  0.57  10.26  3.26  47.27   \n",
       "\n",
       "      RH   SO2    SR  \n",
       "0  89.18  2.76  None  \n",
       "1  89.19  2.82  None  \n",
       "2  89.19  2.61  None  \n",
       "3  89.19  2.58  None  \n",
       "4  89.19  2.18  None  "
      ]
     },
     "execution_count": 170,
     "metadata": {},
     "output_type": "execute_result"
    }
   ],
   "source": [
    "df.head()"
   ]
  },
  {
   "cell_type": "code",
   "execution_count": 171,
   "metadata": {},
   "outputs": [
    {
     "data": {
      "text/plain": [
       "(8760, 12)"
      ]
     },
     "execution_count": 171,
     "metadata": {},
     "output_type": "execute_result"
    }
   ],
   "source": [
    "df.shape"
   ]
  },
  {
   "cell_type": "code",
   "execution_count": 172,
   "metadata": {},
   "outputs": [
    {
     "name": "stdout",
     "output_type": "stream",
     "text": [
      "<class 'pandas.core.frame.DataFrame'>\n",
      "RangeIndex: 8760 entries, 0 to 8759\n",
      "Data columns (total 12 columns):\n",
      "From Date    8760 non-null object\n",
      "BP           8760 non-null object\n",
      "CO           8760 non-null object\n",
      "VWS          8760 non-null object\n",
      "WD           8760 non-null object\n",
      "WS           8760 non-null object\n",
      "NO           8760 non-null object\n",
      "NO2          8760 non-null object\n",
      "PM2.5        8760 non-null object\n",
      "RH           8760 non-null object\n",
      "SO2          8760 non-null object\n",
      "SR           8760 non-null object\n",
      "dtypes: object(12)\n",
      "memory usage: 821.4+ KB\n"
     ]
    }
   ],
   "source": [
    "df.info()"
   ]
  },
  {
   "cell_type": "code",
   "execution_count": 173,
   "metadata": {},
   "outputs": [],
   "source": [
    "for i in df.columns:\n",
    "    for j in df[i]:\n",
    "        if(j=='None'):\n",
    "            df[i]=df[i].replace(j,np.nan)"
   ]
  },
  {
   "cell_type": "code",
   "execution_count": 174,
   "metadata": {},
   "outputs": [
    {
     "name": "stdout",
     "output_type": "stream",
     "text": [
      "Percentage of Null values in Maneli 2018:  9.960996955859969\n"
     ]
    }
   ],
   "source": [
    "print(\"Percentage of Null values in Maneli 2018: \",((df.isna().sum()/(len(df)*12)).sum())*100)"
   ]
  },
  {
   "cell_type": "code",
   "execution_count": 175,
   "metadata": {},
   "outputs": [
    {
     "data": {
      "text/plain": [
       "From Date       0\n",
       "BP            102\n",
       "CO            127\n",
       "VWS           102\n",
       "WD            122\n",
       "WS            123\n",
       "NO            106\n",
       "NO2           106\n",
       "PM2.5         126\n",
       "RH            589\n",
       "SO2           208\n",
       "SR           8760\n",
       "dtype: int64"
      ]
     },
     "execution_count": 175,
     "metadata": {},
     "output_type": "execute_result"
    }
   ],
   "source": [
    "df.isna().sum()"
   ]
  },
  {
   "cell_type": "code",
   "execution_count": 176,
   "metadata": {},
   "outputs": [],
   "source": [
    "list1=['BP','CO','VWS','WD','WS','NO','NO2','PM2.5','RH','SO2','SR']\n",
    "count=0\n",
    "for i in list1:\n",
    "    for j in df[i]:\n",
    "        if(j<0):\n",
    "            count=count+1"
   ]
  },
  {
   "cell_type": "code",
   "execution_count": 177,
   "metadata": {},
   "outputs": [
    {
     "data": {
      "text/plain": [
       "0.000884703196347032"
      ]
     },
     "execution_count": 177,
     "metadata": {},
     "output_type": "execute_result"
    }
   ],
   "source": [
    "count/(len(df)*12)"
   ]
  },
  {
   "cell_type": "code",
   "execution_count": 178,
   "metadata": {},
   "outputs": [],
   "source": [
    "for col in list1:\n",
    "    if(col!='VWS'):\n",
    "        for j in df[col]:\n",
    "            if(j<0):\n",
    "                df[col]=df[col].replace(j,np.nan)"
   ]
  },
  {
   "cell_type": "code",
   "execution_count": 179,
   "metadata": {},
   "outputs": [
    {
     "name": "stdout",
     "output_type": "stream",
     "text": [
      "Percentage of Null values in Maneli 2018:  9.960996955859969\n"
     ]
    }
   ],
   "source": [
    "print(\"Percentage of Null values in Maneli 2018: \",((df.isna().sum()/(len(df)*12)).sum())*100)"
   ]
  },
  {
   "cell_type": "code",
   "execution_count": 180,
   "metadata": {},
   "outputs": [
    {
     "data": {
      "text/plain": [
       "From Date       0\n",
       "BP            102\n",
       "CO            127\n",
       "VWS           102\n",
       "WD            122\n",
       "WS            123\n",
       "NO            106\n",
       "NO2           106\n",
       "PM2.5         126\n",
       "RH            589\n",
       "SO2           208\n",
       "SR           8760\n",
       "dtype: int64"
      ]
     },
     "execution_count": 180,
     "metadata": {},
     "output_type": "execute_result"
    }
   ],
   "source": [
    "df.isna().sum()"
   ]
  },
  {
   "cell_type": "code",
   "execution_count": 181,
   "metadata": {},
   "outputs": [],
   "source": [
    "df=df.dropna(axis=0,subset=['PM2.5'])"
   ]
  },
  {
   "cell_type": "code",
   "execution_count": 182,
   "metadata": {},
   "outputs": [],
   "source": [
    "m=['BP','CO','VWS','WD','WS','NO','NO2','PM2.5','RH','SO2','SR']\n",
    "for col in m:\n",
    "    df[col] = df[col].interpolate(method='nearest',limit_direction = 'both')"
   ]
  },
  {
   "cell_type": "code",
   "execution_count": 183,
   "metadata": {},
   "outputs": [
    {
     "data": {
      "text/plain": [
       "From Date       0\n",
       "BP              0\n",
       "CO              0\n",
       "VWS             0\n",
       "WD              0\n",
       "WS              0\n",
       "NO              0\n",
       "NO2             0\n",
       "PM2.5           0\n",
       "RH              0\n",
       "SO2             0\n",
       "SR           8634\n",
       "dtype: int64"
      ]
     },
     "execution_count": 183,
     "metadata": {},
     "output_type": "execute_result"
    }
   ],
   "source": [
    "df.isna().sum()"
   ]
  },
  {
   "cell_type": "code",
   "execution_count": 184,
   "metadata": {},
   "outputs": [],
   "source": [
    "df['SR'].replace(np.nan,0,inplace=True)"
   ]
  },
  {
   "cell_type": "code",
   "execution_count": 185,
   "metadata": {},
   "outputs": [
    {
     "data": {
      "text/plain": [
       "From Date    0\n",
       "BP           0\n",
       "CO           0\n",
       "VWS          0\n",
       "WD           0\n",
       "WS           0\n",
       "NO           0\n",
       "NO2          0\n",
       "PM2.5        0\n",
       "RH           0\n",
       "SO2          0\n",
       "SR           0\n",
       "dtype: int64"
      ]
     },
     "execution_count": 185,
     "metadata": {},
     "output_type": "execute_result"
    }
   ],
   "source": [
    "df.isna().sum()"
   ]
  },
  {
   "cell_type": "code",
   "execution_count": 186,
   "metadata": {},
   "outputs": [],
   "source": [
    "df['BP']=df['BP'].astype(float)\n",
    "df['CO']=df['CO'].astype(float)\n",
    "df['VWS']=df['VWS'].astype(float)\n",
    "df['WD']=df['WD'].astype(float)\n",
    "df['WS']=df['WS'].astype(float)\n",
    "df['NO']=df['NO'].astype(float)\n",
    "df['NO2']=df['NO2'].astype(float)\n",
    "df['PM2.5']=df['PM2.5'].astype(float)\n",
    "df['RH']=df['RH'].astype(float)\n",
    "df['SO2']=df['SO2'].astype(float)\n",
    "df['SR']=df['SR'].astype(float)"
   ]
  },
  {
   "cell_type": "code",
   "execution_count": 187,
   "metadata": {},
   "outputs": [
    {
     "data": {
      "text/html": [
       "<div>\n",
       "<style scoped>\n",
       "    .dataframe tbody tr th:only-of-type {\n",
       "        vertical-align: middle;\n",
       "    }\n",
       "\n",
       "    .dataframe tbody tr th {\n",
       "        vertical-align: top;\n",
       "    }\n",
       "\n",
       "    .dataframe thead th {\n",
       "        text-align: right;\n",
       "    }\n",
       "</style>\n",
       "<table border=\"1\" class=\"dataframe\">\n",
       "  <thead>\n",
       "    <tr style=\"text-align: right;\">\n",
       "      <th></th>\n",
       "      <th>From Date</th>\n",
       "      <th>BP</th>\n",
       "      <th>CO</th>\n",
       "      <th>VWS</th>\n",
       "      <th>WD</th>\n",
       "      <th>WS</th>\n",
       "      <th>NO</th>\n",
       "      <th>NO2</th>\n",
       "      <th>PM2.5</th>\n",
       "      <th>RH</th>\n",
       "      <th>SO2</th>\n",
       "      <th>SR</th>\n",
       "    </tr>\n",
       "  </thead>\n",
       "  <tbody>\n",
       "    <tr>\n",
       "      <th>0</th>\n",
       "      <td>01-01-2018 00:00</td>\n",
       "      <td>1008.30</td>\n",
       "      <td>0.0</td>\n",
       "      <td>0.23</td>\n",
       "      <td>329.17</td>\n",
       "      <td>0.64</td>\n",
       "      <td>16.13</td>\n",
       "      <td>8.20</td>\n",
       "      <td>88.01</td>\n",
       "      <td>89.18</td>\n",
       "      <td>2.76</td>\n",
       "      <td>0.0</td>\n",
       "    </tr>\n",
       "    <tr>\n",
       "      <th>1</th>\n",
       "      <td>01-01-2018 01:00</td>\n",
       "      <td>1007.88</td>\n",
       "      <td>0.0</td>\n",
       "      <td>0.23</td>\n",
       "      <td>328.17</td>\n",
       "      <td>0.61</td>\n",
       "      <td>15.25</td>\n",
       "      <td>2.66</td>\n",
       "      <td>75.69</td>\n",
       "      <td>89.19</td>\n",
       "      <td>2.82</td>\n",
       "      <td>0.0</td>\n",
       "    </tr>\n",
       "    <tr>\n",
       "      <th>2</th>\n",
       "      <td>01-01-2018 02:00</td>\n",
       "      <td>1007.55</td>\n",
       "      <td>0.0</td>\n",
       "      <td>0.22</td>\n",
       "      <td>335.16</td>\n",
       "      <td>0.61</td>\n",
       "      <td>14.49</td>\n",
       "      <td>0.92</td>\n",
       "      <td>55.88</td>\n",
       "      <td>89.19</td>\n",
       "      <td>2.61</td>\n",
       "      <td>0.0</td>\n",
       "    </tr>\n",
       "    <tr>\n",
       "      <th>3</th>\n",
       "      <td>01-01-2018 03:00</td>\n",
       "      <td>1007.20</td>\n",
       "      <td>0.0</td>\n",
       "      <td>0.21</td>\n",
       "      <td>335.65</td>\n",
       "      <td>0.62</td>\n",
       "      <td>12.76</td>\n",
       "      <td>1.93</td>\n",
       "      <td>50.68</td>\n",
       "      <td>89.19</td>\n",
       "      <td>2.58</td>\n",
       "      <td>0.0</td>\n",
       "    </tr>\n",
       "    <tr>\n",
       "      <th>4</th>\n",
       "      <td>01-01-2018 04:00</td>\n",
       "      <td>1006.88</td>\n",
       "      <td>0.0</td>\n",
       "      <td>0.23</td>\n",
       "      <td>328.27</td>\n",
       "      <td>0.57</td>\n",
       "      <td>10.26</td>\n",
       "      <td>3.26</td>\n",
       "      <td>47.27</td>\n",
       "      <td>89.19</td>\n",
       "      <td>2.18</td>\n",
       "      <td>0.0</td>\n",
       "    </tr>\n",
       "  </tbody>\n",
       "</table>\n",
       "</div>"
      ],
      "text/plain": [
       "          From Date       BP   CO   VWS      WD    WS     NO   NO2  PM2.5  \\\n",
       "0  01-01-2018 00:00  1008.30  0.0  0.23  329.17  0.64  16.13  8.20  88.01   \n",
       "1  01-01-2018 01:00  1007.88  0.0  0.23  328.17  0.61  15.25  2.66  75.69   \n",
       "2  01-01-2018 02:00  1007.55  0.0  0.22  335.16  0.61  14.49  0.92  55.88   \n",
       "3  01-01-2018 03:00  1007.20  0.0  0.21  335.65  0.62  12.76  1.93  50.68   \n",
       "4  01-01-2018 04:00  1006.88  0.0  0.23  328.27  0.57  10.26  3.26  47.27   \n",
       "\n",
       "      RH   SO2   SR  \n",
       "0  89.18  2.76  0.0  \n",
       "1  89.19  2.82  0.0  \n",
       "2  89.19  2.61  0.0  \n",
       "3  89.19  2.58  0.0  \n",
       "4  89.19  2.18  0.0  "
      ]
     },
     "execution_count": 187,
     "metadata": {},
     "output_type": "execute_result"
    }
   ],
   "source": [
    "df.head()"
   ]
  },
  {
   "cell_type": "code",
   "execution_count": 188,
   "metadata": {},
   "outputs": [
    {
     "data": {
      "text/html": [
       "<div>\n",
       "<style scoped>\n",
       "    .dataframe tbody tr th:only-of-type {\n",
       "        vertical-align: middle;\n",
       "    }\n",
       "\n",
       "    .dataframe tbody tr th {\n",
       "        vertical-align: top;\n",
       "    }\n",
       "\n",
       "    .dataframe thead th {\n",
       "        text-align: right;\n",
       "    }\n",
       "</style>\n",
       "<table border=\"1\" class=\"dataframe\">\n",
       "  <thead>\n",
       "    <tr style=\"text-align: right;\">\n",
       "      <th></th>\n",
       "      <th>BP</th>\n",
       "      <th>CO</th>\n",
       "      <th>VWS</th>\n",
       "      <th>WD</th>\n",
       "      <th>WS</th>\n",
       "      <th>NO</th>\n",
       "      <th>NO2</th>\n",
       "      <th>PM2.5</th>\n",
       "      <th>RH</th>\n",
       "      <th>SO2</th>\n",
       "      <th>SR</th>\n",
       "    </tr>\n",
       "  </thead>\n",
       "  <tbody>\n",
       "    <tr>\n",
       "      <th>count</th>\n",
       "      <td>8634.000000</td>\n",
       "      <td>8634.000000</td>\n",
       "      <td>8634.000000</td>\n",
       "      <td>8634.000000</td>\n",
       "      <td>8634.000000</td>\n",
       "      <td>8634.000000</td>\n",
       "      <td>8634.000000</td>\n",
       "      <td>8634.000000</td>\n",
       "      <td>8634.000000</td>\n",
       "      <td>8634.000000</td>\n",
       "      <td>8634.0</td>\n",
       "    </tr>\n",
       "    <tr>\n",
       "      <th>mean</th>\n",
       "      <td>1005.937922</td>\n",
       "      <td>0.911713</td>\n",
       "      <td>0.211919</td>\n",
       "      <td>147.520351</td>\n",
       "      <td>1.498404</td>\n",
       "      <td>11.223179</td>\n",
       "      <td>19.583069</td>\n",
       "      <td>62.192517</td>\n",
       "      <td>74.570576</td>\n",
       "      <td>11.987703</td>\n",
       "      <td>0.0</td>\n",
       "    </tr>\n",
       "    <tr>\n",
       "      <th>std</th>\n",
       "      <td>22.726029</td>\n",
       "      <td>0.396922</td>\n",
       "      <td>0.063718</td>\n",
       "      <td>83.014144</td>\n",
       "      <td>0.881019</td>\n",
       "      <td>8.472396</td>\n",
       "      <td>14.469095</td>\n",
       "      <td>58.677337</td>\n",
       "      <td>21.656023</td>\n",
       "      <td>16.510548</td>\n",
       "      <td>0.0</td>\n",
       "    </tr>\n",
       "    <tr>\n",
       "      <th>min</th>\n",
       "      <td>0.000000</td>\n",
       "      <td>0.000000</td>\n",
       "      <td>-0.500000</td>\n",
       "      <td>1.710000</td>\n",
       "      <td>0.220000</td>\n",
       "      <td>0.000000</td>\n",
       "      <td>0.000000</td>\n",
       "      <td>0.000000</td>\n",
       "      <td>0.000000</td>\n",
       "      <td>0.000000</td>\n",
       "      <td>0.0</td>\n",
       "    </tr>\n",
       "    <tr>\n",
       "      <th>25%</th>\n",
       "      <td>1007.700000</td>\n",
       "      <td>0.680000</td>\n",
       "      <td>0.210000</td>\n",
       "      <td>72.657500</td>\n",
       "      <td>0.810000</td>\n",
       "      <td>8.280000</td>\n",
       "      <td>12.560000</td>\n",
       "      <td>30.782500</td>\n",
       "      <td>57.680000</td>\n",
       "      <td>5.320000</td>\n",
       "      <td>0.0</td>\n",
       "    </tr>\n",
       "    <tr>\n",
       "      <th>50%</th>\n",
       "      <td>1010.850000</td>\n",
       "      <td>0.880000</td>\n",
       "      <td>0.220000</td>\n",
       "      <td>142.090000</td>\n",
       "      <td>1.215000</td>\n",
       "      <td>9.600000</td>\n",
       "      <td>17.420000</td>\n",
       "      <td>51.345000</td>\n",
       "      <td>76.570000</td>\n",
       "      <td>7.830000</td>\n",
       "      <td>0.0</td>\n",
       "    </tr>\n",
       "    <tr>\n",
       "      <th>75%</th>\n",
       "      <td>1013.265000</td>\n",
       "      <td>1.100000</td>\n",
       "      <td>0.230000</td>\n",
       "      <td>210.597500</td>\n",
       "      <td>1.980000</td>\n",
       "      <td>11.710000</td>\n",
       "      <td>24.420000</td>\n",
       "      <td>77.532500</td>\n",
       "      <td>96.450000</td>\n",
       "      <td>12.130000</td>\n",
       "      <td>0.0</td>\n",
       "    </tr>\n",
       "    <tr>\n",
       "      <th>max</th>\n",
       "      <td>1021.680000</td>\n",
       "      <td>10.000000</td>\n",
       "      <td>0.540000</td>\n",
       "      <td>358.990000</td>\n",
       "      <td>6.500000</td>\n",
       "      <td>274.270000</td>\n",
       "      <td>364.180000</td>\n",
       "      <td>999.990000</td>\n",
       "      <td>100.000000</td>\n",
       "      <td>188.180000</td>\n",
       "      <td>0.0</td>\n",
       "    </tr>\n",
       "  </tbody>\n",
       "</table>\n",
       "</div>"
      ],
      "text/plain": [
       "                BP           CO          VWS           WD           WS  \\\n",
       "count  8634.000000  8634.000000  8634.000000  8634.000000  8634.000000   \n",
       "mean   1005.937922     0.911713     0.211919   147.520351     1.498404   \n",
       "std      22.726029     0.396922     0.063718    83.014144     0.881019   \n",
       "min       0.000000     0.000000    -0.500000     1.710000     0.220000   \n",
       "25%    1007.700000     0.680000     0.210000    72.657500     0.810000   \n",
       "50%    1010.850000     0.880000     0.220000   142.090000     1.215000   \n",
       "75%    1013.265000     1.100000     0.230000   210.597500     1.980000   \n",
       "max    1021.680000    10.000000     0.540000   358.990000     6.500000   \n",
       "\n",
       "                NO          NO2        PM2.5           RH          SO2      SR  \n",
       "count  8634.000000  8634.000000  8634.000000  8634.000000  8634.000000  8634.0  \n",
       "mean     11.223179    19.583069    62.192517    74.570576    11.987703     0.0  \n",
       "std       8.472396    14.469095    58.677337    21.656023    16.510548     0.0  \n",
       "min       0.000000     0.000000     0.000000     0.000000     0.000000     0.0  \n",
       "25%       8.280000    12.560000    30.782500    57.680000     5.320000     0.0  \n",
       "50%       9.600000    17.420000    51.345000    76.570000     7.830000     0.0  \n",
       "75%      11.710000    24.420000    77.532500    96.450000    12.130000     0.0  \n",
       "max     274.270000   364.180000   999.990000   100.000000   188.180000     0.0  "
      ]
     },
     "execution_count": 188,
     "metadata": {},
     "output_type": "execute_result"
    }
   ],
   "source": [
    "df.describe()"
   ]
  },
  {
   "cell_type": "code",
   "execution_count": 189,
   "metadata": {},
   "outputs": [
    {
     "data": {
      "text/plain": [
       "\"df['CO'] = np.where((df.CO >60),df['CO']/1000,df.CO)\\ndf\""
      ]
     },
     "execution_count": 189,
     "metadata": {},
     "output_type": "execute_result"
    }
   ],
   "source": [
    "\"\"\"df['CO'] = np.where((df.CO >60),df['CO']/1000,df.CO)\n",
    "df\"\"\""
   ]
  },
  {
   "cell_type": "code",
   "execution_count": 190,
   "metadata": {},
   "outputs": [
    {
     "data": {
      "text/plain": [
       "From Date    0\n",
       "BP           0\n",
       "CO           0\n",
       "VWS          0\n",
       "WD           0\n",
       "WS           0\n",
       "NO           0\n",
       "NO2          0\n",
       "PM2.5        0\n",
       "RH           0\n",
       "SO2          0\n",
       "SR           0\n",
       "dtype: int64"
      ]
     },
     "execution_count": 190,
     "metadata": {},
     "output_type": "execute_result"
    }
   ],
   "source": [
    "df.isna().sum()"
   ]
  },
  {
   "cell_type": "code",
   "execution_count": 191,
   "metadata": {},
   "outputs": [
    {
     "data": {
      "text/plain": [
       "<matplotlib.axes._subplots.AxesSubplot at 0x1923b0eacc0>"
      ]
     },
     "execution_count": 191,
     "metadata": {},
     "output_type": "execute_result"
    },
    {
     "data": {
      "image/png": "[encoded data removed]",
      "text/plain": [
       "<Figure size 432x288 with 1 Axes>"
      ]
     },
     "metadata": {
      "needs_background": "light"
     },
     "output_type": "display_data"
    }
   ],
   "source": [
    "sns.boxplot(data=df)"
   ]
  },
  {
   "cell_type": "code",
   "execution_count": 192,
   "metadata": {},
   "outputs": [
    {
     "data": {
      "text/plain": [
       "(8634, 12)"
      ]
     },
     "execution_count": 192,
     "metadata": {},
     "output_type": "execute_result"
    }
   ],
   "source": [
    "df.shape"
   ]
  },
  {
   "cell_type": "code",
   "execution_count": 193,
   "metadata": {},
   "outputs": [],
   "source": [
    "df['location']=2\n",
    "df['location']=df['location'].astype('category')"
   ]
  },
  {
   "cell_type": "code",
   "execution_count": 194,
   "metadata": {},
   "outputs": [
    {
     "data": {
      "text/html": [
       "<div>\n",
       "<style scoped>\n",
       "    .dataframe tbody tr th:only-of-type {\n",
       "        vertical-align: middle;\n",
       "    }\n",
       "\n",
       "    .dataframe tbody tr th {\n",
       "        vertical-align: top;\n",
       "    }\n",
       "\n",
       "    .dataframe thead th {\n",
       "        text-align: right;\n",
       "    }\n",
       "</style>\n",
       "<table border=\"1\" class=\"dataframe\">\n",
       "  <thead>\n",
       "    <tr style=\"text-align: right;\">\n",
       "      <th></th>\n",
       "      <th>From Date</th>\n",
       "      <th>BP</th>\n",
       "      <th>CO</th>\n",
       "      <th>VWS</th>\n",
       "      <th>WD</th>\n",
       "      <th>WS</th>\n",
       "      <th>NO</th>\n",
       "      <th>NO2</th>\n",
       "      <th>PM2.5</th>\n",
       "      <th>RH</th>\n",
       "      <th>SO2</th>\n",
       "      <th>SR</th>\n",
       "      <th>location</th>\n",
       "    </tr>\n",
       "  </thead>\n",
       "  <tbody>\n",
       "    <tr>\n",
       "      <th>0</th>\n",
       "      <td>01-01-2018 00:00</td>\n",
       "      <td>1008.30</td>\n",
       "      <td>0.0</td>\n",
       "      <td>0.23</td>\n",
       "      <td>329.17</td>\n",
       "      <td>0.64</td>\n",
       "      <td>16.13</td>\n",
       "      <td>8.20</td>\n",
       "      <td>88.01</td>\n",
       "      <td>89.18</td>\n",
       "      <td>2.76</td>\n",
       "      <td>0.0</td>\n",
       "      <td>2</td>\n",
       "    </tr>\n",
       "    <tr>\n",
       "      <th>1</th>\n",
       "      <td>01-01-2018 01:00</td>\n",
       "      <td>1007.88</td>\n",
       "      <td>0.0</td>\n",
       "      <td>0.23</td>\n",
       "      <td>328.17</td>\n",
       "      <td>0.61</td>\n",
       "      <td>15.25</td>\n",
       "      <td>2.66</td>\n",
       "      <td>75.69</td>\n",
       "      <td>89.19</td>\n",
       "      <td>2.82</td>\n",
       "      <td>0.0</td>\n",
       "      <td>2</td>\n",
       "    </tr>\n",
       "    <tr>\n",
       "      <th>2</th>\n",
       "      <td>01-01-2018 02:00</td>\n",
       "      <td>1007.55</td>\n",
       "      <td>0.0</td>\n",
       "      <td>0.22</td>\n",
       "      <td>335.16</td>\n",
       "      <td>0.61</td>\n",
       "      <td>14.49</td>\n",
       "      <td>0.92</td>\n",
       "      <td>55.88</td>\n",
       "      <td>89.19</td>\n",
       "      <td>2.61</td>\n",
       "      <td>0.0</td>\n",
       "      <td>2</td>\n",
       "    </tr>\n",
       "    <tr>\n",
       "      <th>3</th>\n",
       "      <td>01-01-2018 03:00</td>\n",
       "      <td>1007.20</td>\n",
       "      <td>0.0</td>\n",
       "      <td>0.21</td>\n",
       "      <td>335.65</td>\n",
       "      <td>0.62</td>\n",
       "      <td>12.76</td>\n",
       "      <td>1.93</td>\n",
       "      <td>50.68</td>\n",
       "      <td>89.19</td>\n",
       "      <td>2.58</td>\n",
       "      <td>0.0</td>\n",
       "      <td>2</td>\n",
       "    </tr>\n",
       "    <tr>\n",
       "      <th>4</th>\n",
       "      <td>01-01-2018 04:00</td>\n",
       "      <td>1006.88</td>\n",
       "      <td>0.0</td>\n",
       "      <td>0.23</td>\n",
       "      <td>328.27</td>\n",
       "      <td>0.57</td>\n",
       "      <td>10.26</td>\n",
       "      <td>3.26</td>\n",
       "      <td>47.27</td>\n",
       "      <td>89.19</td>\n",
       "      <td>2.18</td>\n",
       "      <td>0.0</td>\n",
       "      <td>2</td>\n",
       "    </tr>\n",
       "  </tbody>\n",
       "</table>\n",
       "</div>"
      ],
      "text/plain": [
       "          From Date       BP   CO   VWS      WD    WS     NO   NO2  PM2.5  \\\n",
       "0  01-01-2018 00:00  1008.30  0.0  0.23  329.17  0.64  16.13  8.20  88.01   \n",
       "1  01-01-2018 01:00  1007.88  0.0  0.23  328.17  0.61  15.25  2.66  75.69   \n",
       "2  01-01-2018 02:00  1007.55  0.0  0.22  335.16  0.61  14.49  0.92  55.88   \n",
       "3  01-01-2018 03:00  1007.20  0.0  0.21  335.65  0.62  12.76  1.93  50.68   \n",
       "4  01-01-2018 04:00  1006.88  0.0  0.23  328.27  0.57  10.26  3.26  47.27   \n",
       "\n",
       "      RH   SO2   SR location  \n",
       "0  89.18  2.76  0.0        2  \n",
       "1  89.19  2.82  0.0        2  \n",
       "2  89.19  2.61  0.0        2  \n",
       "3  89.19  2.58  0.0        2  \n",
       "4  89.19  2.18  0.0        2  "
      ]
     },
     "execution_count": 194,
     "metadata": {},
     "output_type": "execute_result"
    }
   ],
   "source": [
    "df.head()"
   ]
  },
  {
   "cell_type": "code",
   "execution_count": 195,
   "metadata": {},
   "outputs": [
    {
     "data": {
      "text/plain": [
       "<matplotlib.axes._subplots.AxesSubplot at 0x1923be2b2e8>"
      ]
     },
     "execution_count": 195,
     "metadata": {},
     "output_type": "execute_result"
    },
    {
     "data": {
      "image/png": "[encoded data removed]",
      "text/plain": [
       "<Figure size 1080x720 with 2 Axes>"
      ]
     },
     "metadata": {
      "needs_background": "light"
     },
     "output_type": "display_data"
    }
   ],
   "source": [
    "m=df.corr()\n",
    "plt.subplots(figsize=(15,10))\n",
    "sns.heatmap(m,annot=True)"
   ]
  },
  {
   "cell_type": "code",
   "execution_count": 196,
   "metadata": {},
   "outputs": [
    {
     "data": {
      "text/plain": [
       "Index(['From Date', 'BP', 'CO', 'VWS', 'WD', 'WS', 'NO', 'NO2', 'PM2.5', 'RH',\n",
       "       'SO2', 'SR', 'location'],\n",
       "      dtype='object')"
      ]
     },
     "execution_count": 196,
     "metadata": {},
     "output_type": "execute_result"
    }
   ],
   "source": [
    "df.columns"
   ]
  },
  {
   "cell_type": "code",
   "execution_count": 197,
   "metadata": {},
   "outputs": [
    {
     "data": {
      "text/plain": [
       "\"iqr_bp=df['BP'].quantile(.75)-df['BP'].quantile(.25)\\nup_bp=df['BP'].quantile(.75)+(1.5*iqr_bp)\\nlow_bp=df['BP'].quantile(.25)-(1.5*iqr_bp)\\n\\niqr_co=df['CO'].quantile(.75)-df['CO'].quantile(.25)\\nup_co=df['CO'].quantile(.75)+(1.5*iqr_co)\\nlow_co=df['CO'].quantile(.25)-(1.5*iqr_co)\\n\\niqr_wd=df['WD'].quantile(.75)-df['WD'].quantile(.25)\\nup_wd=df['WD'].quantile(.75)+(1.5*iqr_wd)\\nlow_wd=df['WD'].quantile(.25)-(1.5*iqr_wd)\\n\\n\\niqr_vws=df['VWS'].quantile(.75)-df['VWS'].quantile(.25)\\nup_vws=df['VWS'].quantile(.75)+(1.5*iqr_vws)\\nlow_vws=df['VWS'].quantile(.25)-(1.5*iqr_vws)\\n\\n\\niqr_ws=df['WS'].quantile(.75)-df['WS'].quantile(.25)\\nup_ws=df['WS'].quantile(.75)+(1.5*iqr_ws)\\nlow_ws=df['WS'].quantile(.25)-(1.5*iqr_ws)\\n\\niqr_no=df['NO'].quantile(.75)-df['NO'].quantile(.25)\\nup_no=df['NO'].quantile(.75)+(1.5*iqr_no)\\nlow_no=df['NO'].quantile(.25)-(1.5*iqr_no)\\n\\niqr_no2=df['NO2'].quantile(.75)-df['NO2'].quantile(.25)\\nup_no2=df['NO2'].quantile(.75)+(1.5*iqr_no2)\\nlow_no2=df['NO2'].quantile(.25)-(1.5*iqr_no2)\\n\\n\\niqr_pm=df['PM2.5'].quantile(.75)-df['PM2.5'].quantile(.25)\\nup_pm=df['PM2.5'].quantile(.75)+(1.5*iqr_pm)\\nlow_pm=df['PM2.5'].quantile(.25)-(1.5*iqr_pm)\\n\\niqr_rh=df['RH'].quantile(.75)-df['RH'].quantile(.25)\\nup_rh=df['RH'].quantile(.75)+(1.5*iqr_rh)\\nlow_rh=df['RH'].quantile(.25)-(1.5*iqr_rh)\\n\\niqr_so2=df['SO2'].quantile(.75)-df['SO2'].quantile(.25)\\nup_so2=df['SO2'].quantile(.75)+(1.5*iqr_so2)\\nlow_so2=df['SO2'].quantile(.25)-(1.5*iqr_so2)\\n\\niqr_sr=df['SR'].quantile(.75)-df['SR'].quantile(.25)\\nup_sr=df['SR'].quantile(.75)+(1.5*iqr_sr)\\nlow_sr=df['SR'].quantile(.25)-(1.5*iqr_sr)\\n\""
      ]
     },
     "execution_count": 197,
     "metadata": {},
     "output_type": "execute_result"
    }
   ],
   "source": [
    "\"\"\"iqr_bp=df['BP'].quantile(.75)-df['BP'].quantile(.25)\n",
    "up_bp=df['BP'].quantile(.75)+(1.5*iqr_bp)\n",
    "low_bp=df['BP'].quantile(.25)-(1.5*iqr_bp)\n",
    "\n",
    "iqr_co=df['CO'].quantile(.75)-df['CO'].quantile(.25)\n",
    "up_co=df['CO'].quantile(.75)+(1.5*iqr_co)\n",
    "low_co=df['CO'].quantile(.25)-(1.5*iqr_co)\n",
    "\n",
    "iqr_wd=df['WD'].quantile(.75)-df['WD'].quantile(.25)\n",
    "up_wd=df['WD'].quantile(.75)+(1.5*iqr_wd)\n",
    "low_wd=df['WD'].quantile(.25)-(1.5*iqr_wd)\n",
    "\n",
    "\n",
    "iqr_vws=df['VWS'].quantile(.75)-df['VWS'].quantile(.25)\n",
    "up_vws=df['VWS'].quantile(.75)+(1.5*iqr_vws)\n",
    "low_vws=df['VWS'].quantile(.25)-(1.5*iqr_vws)\n",
    "\n",
    "\n",
    "iqr_ws=df['WS'].quantile(.75)-df['WS'].quantile(.25)\n",
    "up_ws=df['WS'].quantile(.75)+(1.5*iqr_ws)\n",
    "low_ws=df['WS'].quantile(.25)-(1.5*iqr_ws)\n",
    "\n",
    "iqr_no=df['NO'].quantile(.75)-df['NO'].quantile(.25)\n",
    "up_no=df['NO'].quantile(.75)+(1.5*iqr_no)\n",
    "low_no=df['NO'].quantile(.25)-(1.5*iqr_no)\n",
    "\n",
    "iqr_no2=df['NO2'].quantile(.75)-df['NO2'].quantile(.25)\n",
    "up_no2=df['NO2'].quantile(.75)+(1.5*iqr_no2)\n",
    "low_no2=df['NO2'].quantile(.25)-(1.5*iqr_no2)\n",
    "\n",
    "\n",
    "iqr_pm=df['PM2.5'].quantile(.75)-df['PM2.5'].quantile(.25)\n",
    "up_pm=df['PM2.5'].quantile(.75)+(1.5*iqr_pm)\n",
    "low_pm=df['PM2.5'].quantile(.25)-(1.5*iqr_pm)\n",
    "\n",
    "iqr_rh=df['RH'].quantile(.75)-df['RH'].quantile(.25)\n",
    "up_rh=df['RH'].quantile(.75)+(1.5*iqr_rh)\n",
    "low_rh=df['RH'].quantile(.25)-(1.5*iqr_rh)\n",
    "\n",
    "iqr_so2=df['SO2'].quantile(.75)-df['SO2'].quantile(.25)\n",
    "up_so2=df['SO2'].quantile(.75)+(1.5*iqr_so2)\n",
    "low_so2=df['SO2'].quantile(.25)-(1.5*iqr_so2)\n",
    "\n",
    "iqr_sr=df['SR'].quantile(.75)-df['SR'].quantile(.25)\n",
    "up_sr=df['SR'].quantile(.75)+(1.5*iqr_sr)\n",
    "low_sr=df['SR'].quantile(.25)-(1.5*iqr_sr)\n",
    "\"\"\""
   ]
  },
  {
   "cell_type": "code",
   "execution_count": 198,
   "metadata": {},
   "outputs": [
    {
     "data": {
      "text/plain": [
       "\"for i in df['CO']:\\n    if(i>up_co):\\n        df['CO']=df['CO'].replace(i,up_co)\\n\\nfor i in df['NO2']:\\n    if(i>up_no2):\\n        df['NO2']=df['NO2'].replace(i,up_no2)\\nfor i in df['NO']:\\n    if(i>up_no):\\n        df['NO']=df['NO'].replace(i,up_no)\\n\\nfor i in df['SO2']:\\n    if(i>up_so2):\\n        df['SO2']=df['SO2'].replace(i,up_so2)\\n        \\nfor i in df['RH']:\\n    if(i>up_rh):\\n        df['RH']=df['RH'].replace(i,up_rh)\\n        \\nfor i in df['VWS']:\\n    if(i>up_vws):\\n        df['VWS']=df['VWS'].replace(i,up_vws)\\n        \\nfor i in df['WS']:\\n    if(i>up_ws):\\n        df['WS']=df['WS'].replace(i,up_ws)\\n        \\nfor i in df['WD']:\\n    if(i>up_wd):\\n        df['WD']=df['WD'].replace(i,up_wd)\\n        \\nfor i in df['PM2.5']:\\n    if(i>up_pm):\\n        df['PM2.5']=df['PM2.5'].replace(i,up_pm)\\n        \\nfor i in df['SR']:\\n    if(i>up_sr):\\n        df['SR']=df['SR'].replace(i,up_sr)\\n\\nfor i in df['BP']:\\n    if(i<low_bp):\\n        df['BP']=df['BP'].replace(i,low_bp)\\n    elif(i>up_bp):\\n        df['BP']=df['BP'].replace(i,up_bp)\""
      ]
     },
     "execution_count": 198,
     "metadata": {},
     "output_type": "execute_result"
    }
   ],
   "source": [
    "\"\"\"for i in df['CO']:\n",
    "    if(i>up_co):\n",
    "        df['CO']=df['CO'].replace(i,up_co)\n",
    "\n",
    "for i in df['NO2']:\n",
    "    if(i>up_no2):\n",
    "        df['NO2']=df['NO2'].replace(i,up_no2)\n",
    "for i in df['NO']:\n",
    "    if(i>up_no):\n",
    "        df['NO']=df['NO'].replace(i,up_no)\n",
    "\n",
    "for i in df['SO2']:\n",
    "    if(i>up_so2):\n",
    "        df['SO2']=df['SO2'].replace(i,up_so2)\n",
    "        \n",
    "for i in df['RH']:\n",
    "    if(i>up_rh):\n",
    "        df['RH']=df['RH'].replace(i,up_rh)\n",
    "        \n",
    "for i in df['VWS']:\n",
    "    if(i>up_vws):\n",
    "        df['VWS']=df['VWS'].replace(i,up_vws)\n",
    "        \n",
    "for i in df['WS']:\n",
    "    if(i>up_ws):\n",
    "        df['WS']=df['WS'].replace(i,up_ws)\n",
    "        \n",
    "for i in df['WD']:\n",
    "    if(i>up_wd):\n",
    "        df['WD']=df['WD'].replace(i,up_wd)\n",
    "        \n",
    "for i in df['PM2.5']:\n",
    "    if(i>up_pm):\n",
    "        df['PM2.5']=df['PM2.5'].replace(i,up_pm)\n",
    "        \n",
    "for i in df['SR']:\n",
    "    if(i>up_sr):\n",
    "        df['SR']=df['SR'].replace(i,up_sr)\n",
    "\n",
    "for i in df['BP']:\n",
    "    if(i<low_bp):\n",
    "        df['BP']=df['BP'].replace(i,low_bp)\n",
    "    elif(i>up_bp):\n",
    "        df['BP']=df['BP'].replace(i,up_bp)\"\"\""
   ]
  },
  {
   "cell_type": "code",
   "execution_count": 199,
   "metadata": {},
   "outputs": [
    {
     "data": {
      "text/plain": [
       "<matplotlib.axes._subplots.AxesSubplot at 0x1923bdc3208>"
      ]
     },
     "execution_count": 199,
     "metadata": {},
     "output_type": "execute_result"
    },
    {
     "data": {
      "image/png": "[encoded data removed]",
      "text/plain": [
       "<Figure size 432x288 with 1 Axes>"
      ]
     },
     "metadata": {
      "needs_background": "light"
     },
     "output_type": "display_data"
    }
   ],
   "source": [
    "sns.boxplot(data=df)"
   ]
  },
  {
   "cell_type": "code",
   "execution_count": 200,
   "metadata": {},
   "outputs": [],
   "source": [
    "result_csv1 = df.to_csv (r'C:\\dse_new\\eda_man_18.csv', index = None, header=True)"
   ]
  },
  {
   "cell_type": "markdown",
   "metadata": {},
   "source": [
    "# Upto this basic EDA is done"
   ]
  },
  {
   "cell_type": "markdown",
   "metadata": {},
   "source": [
    "# ---------------------------------------------------------------------------------------------------------------"
   ]
  },
  {
   "cell_type": "code",
   "execution_count": null,
   "metadata": {},
   "outputs": [],
   "source": []
  }
 ],
 "metadata": {
  "kernelspec": {
   "display_name": "Python 3",
   "language": "python",
   "name": "python3"
  },
  "language_info": {
   "codemirror_mode": {
    "name": "ipython",
    "version": 3
   },
   "file_extension": ".py",
   "mimetype": "text/x-python",
   "name": "python",
   "nbconvert_exporter": "python",
   "pygments_lexer": "ipython3",
   "version": "3.6.8"
  }
 },
 "nbformat": 4,
 "nbformat_minor": 2
}
