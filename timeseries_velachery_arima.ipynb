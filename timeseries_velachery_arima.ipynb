{
 "cells": [
  {
   "cell_type": "code",
   "execution_count": 0,
   "metadata": {
    "colab": {},
    "colab_type": "code",
    "id": "693j0i-XU61C"
   },
   "outputs": [],
   "source": [
    "import numpy as np \n",
    "import pandas as pd \n",
    "import seaborn as sns \n",
    "import matplotlib.pyplot as plt \n",
    "%matplotlib inline\n",
    "\n",
    "from statsmodels.graphics.tsaplots import plot_acf\n",
    "from statsmodels.graphics.tsaplots import plot_pacf\n",
    "from statsmodels.tsa.arima_model import ARIMA\n",
    "from statsmodels.tsa.stattools import adfuller"
   ]
  },
  {
   "cell_type": "markdown",
   "metadata": {
    "colab_type": "text",
    "id": "JU1571E1dgJf"
   },
   "source": []
  },
  {
   "cell_type": "code",
   "execution_count": 0,
   "metadata": {
    "colab": {},
    "colab_type": "code",
    "id": "hNOZJHhFVZeP"
   },
   "outputs": [],
   "source": [
    "df1=pd.read_excel(\"/content/velachery_timeseries_Pm2.5.xlsx\")"
   ]
  },
  {
   "cell_type": "code",
   "execution_count": 0,
   "metadata": {
    "colab": {},
    "colab_type": "code",
    "id": "e21Fdpm7gk4o"
   },
   "outputs": [],
   "source": [
    "df=df1.copy()"
   ]
  },
  {
   "cell_type": "code",
   "execution_count": 5,
   "metadata": {
    "colab": {
     "base_uri": "https://localhost:8080/",
     "height": 34
    },
    "colab_type": "code",
    "id": "uIY4i-0JVf2O",
    "outputId": "6d2ef0b9-6fb2-4dbd-8af4-832ec83aa9d3"
   },
   "outputs": [
    {
     "data": {
      "text/plain": [
       "Index(['From Date', 'To Date', 'PM2.5'], dtype='object')"
      ]
     },
     "execution_count": 5,
     "metadata": {
      "tags": []
     },
     "output_type": "execute_result"
    }
   ],
   "source": [
    "df.columns"
   ]
  },
  {
   "cell_type": "code",
   "execution_count": 6,
   "metadata": {
    "colab": {
     "base_uri": "https://localhost:8080/",
     "height": 197
    },
    "colab_type": "code",
    "id": "hi-BK-eRViVX",
    "outputId": "b03ecabd-8030-45ed-b1c7-4e1dafda8ad1"
   },
   "outputs": [
    {
     "data": {
      "text/html": [
       "<div>\n",
       "<style scoped>\n",
       "    .dataframe tbody tr th:only-of-type {\n",
       "        vertical-align: middle;\n",
       "    }\n",
       "\n",
       "    .dataframe tbody tr th {\n",
       "        vertical-align: top;\n",
       "    }\n",
       "\n",
       "    .dataframe thead th {\n",
       "        text-align: right;\n",
       "    }\n",
       "</style>\n",
       "<table border=\"1\" class=\"dataframe\">\n",
       "  <thead>\n",
       "    <tr style=\"text-align: right;\">\n",
       "      <th></th>\n",
       "      <th>From Date</th>\n",
       "      <th>To Date</th>\n",
       "      <th>PM2.5</th>\n",
       "    </tr>\n",
       "  </thead>\n",
       "  <tbody>\n",
       "    <tr>\n",
       "      <th>0</th>\n",
       "      <td>2017-01-01 00:00:00</td>\n",
       "      <td>2017-01-01 01:00:00</td>\n",
       "      <td>26.97</td>\n",
       "    </tr>\n",
       "    <tr>\n",
       "      <th>1</th>\n",
       "      <td>2017-01-01 01:00:00</td>\n",
       "      <td>2017-01-01 02:00:00</td>\n",
       "      <td>34.88</td>\n",
       "    </tr>\n",
       "    <tr>\n",
       "      <th>2</th>\n",
       "      <td>2017-01-01 02:00:00</td>\n",
       "      <td>2017-01-01 03:00:00</td>\n",
       "      <td>57.49</td>\n",
       "    </tr>\n",
       "    <tr>\n",
       "      <th>3</th>\n",
       "      <td>2017-01-01 03:00:00</td>\n",
       "      <td>2017-01-01 04:00:00</td>\n",
       "      <td>62.75</td>\n",
       "    </tr>\n",
       "    <tr>\n",
       "      <th>4</th>\n",
       "      <td>2017-01-01 04:00:00</td>\n",
       "      <td>2017-01-01 05:00:00</td>\n",
       "      <td>67.49</td>\n",
       "    </tr>\n",
       "  </tbody>\n",
       "</table>\n",
       "</div>"
      ],
      "text/plain": [
       "            From Date             To Date  PM2.5\n",
       "0 2017-01-01 00:00:00 2017-01-01 01:00:00  26.97\n",
       "1 2017-01-01 01:00:00 2017-01-01 02:00:00  34.88\n",
       "2 2017-01-01 02:00:00 2017-01-01 03:00:00  57.49\n",
       "3 2017-01-01 03:00:00 2017-01-01 04:00:00  62.75\n",
       "4 2017-01-01 04:00:00 2017-01-01 05:00:00  67.49"
      ]
     },
     "execution_count": 6,
     "metadata": {
      "tags": []
     },
     "output_type": "execute_result"
    }
   ],
   "source": [
    "df.head()"
   ]
  },
  {
   "cell_type": "code",
   "execution_count": 7,
   "metadata": {
    "colab": {
     "base_uri": "https://localhost:8080/",
     "height": 70
    },
    "colab_type": "code",
    "id": "Gg5HlTFoVlJm",
    "outputId": "be2469c4-0cc2-410e-8181-30a4c12b6193"
   },
   "outputs": [
    {
     "data": {
      "text/plain": [
       "From Date      0\n",
       "PM2.5        582\n",
       "dtype: int64"
      ]
     },
     "execution_count": 7,
     "metadata": {
      "tags": []
     },
     "output_type": "execute_result"
    }
   ],
   "source": [
    "df.drop(['To Date'],1,inplace=True)\n",
    "\n",
    "\n",
    "df['From Date']=pd.to_datetime(df['From Date'])\n",
    "\n",
    "\n",
    "for i in df.columns:\n",
    "    for j in df[i]:\n",
    "        if(j=='None'):\n",
    "            df[i]=df[i].replace(j,np.nan) \n",
    "\n",
    "\n",
    "df=df.dropna(axis=0, subset=['PM2.5'])\n",
    "df.isna().sum()"
   ]
  },
  {
   "cell_type": "code",
   "execution_count": 94,
   "metadata": {
    "colab": {
     "base_uri": "https://localhost:8080/",
     "height": 70
    },
    "colab_type": "code",
    "id": "WjIjhrYBuPzW",
    "outputId": "ba9e423d-5286-4b03-a292-3b380abb8f31"
   },
   "outputs": [
    {
     "data": {
      "text/plain": [
       "From Date    0\n",
       "PM2.5        0\n",
       "dtype: int64"
      ]
     },
     "execution_count": 94,
     "metadata": {
      "tags": []
     },
     "output_type": "execute_result"
    }
   ],
   "source": [
    "df.isna().sum()"
   ]
  },
  {
   "cell_type": "code",
   "execution_count": 0,
   "metadata": {
    "colab": {},
    "colab_type": "code",
    "id": "CNKTNUUoduYs"
   },
   "outputs": [],
   "source": [
    "for col in df:\n",
    "    df[col] = df[col].interpolate(method='nearest',limit_direction = 'both')"
   ]
  },
  {
   "cell_type": "code",
   "execution_count": 9,
   "metadata": {
    "colab": {
     "base_uri": "https://localhost:8080/",
     "height": 141
    },
    "colab_type": "code",
    "id": "PsypWdvpVuVH",
    "outputId": "93fb7dca-ff85-48ff-de57-a592c9ad90ed"
   },
   "outputs": [
    {
     "data": {
      "text/plain": [
       "From Date\n",
       "2017-01-01 00:00:00    26.97\n",
       "2017-01-01 01:00:00    34.88\n",
       "2017-01-01 02:00:00    57.49\n",
       "2017-01-01 03:00:00    62.75\n",
       "2017-01-01 04:00:00    67.49\n",
       "Name: PM2.5, dtype: float64"
      ]
     },
     "execution_count": 9,
     "metadata": {
      "tags": []
     },
     "output_type": "execute_result"
    }
   ],
   "source": [
    "df['From Date']=pd.to_datetime(df['From Date'])\n",
    "\n",
    "df.set_index(df['From Date'],inplace=True)\n",
    "\n",
    "df5 = pd.Series(df['PM2.5'])\n",
    "\n",
    "df5.head()"
   ]
  },
  {
   "cell_type": "code",
   "execution_count": 0,
   "metadata": {
    "colab": {},
    "colab_type": "code",
    "id": "9ocUwRAhWIMU"
   },
   "outputs": [],
   "source": [
    "#df5[0:]=df5[0:].astype(float)"
   ]
  },
  {
   "cell_type": "code",
   "execution_count": 11,
   "metadata": {
    "colab": {
     "base_uri": "https://localhost:8080/",
     "height": 650
    },
    "colab_type": "code",
    "id": "8CEiz2g4V5rg",
    "outputId": "29e93b09-1b3b-4f7e-b7fb-225eac237762"
   },
   "outputs": [
    {
     "data": {
      "text/plain": [
       "Text(0.5, 0, 'Year')"
      ]
     },
     "execution_count": 11,
     "metadata": {
      "tags": []
     },
     "output_type": "execute_result"
    },
    {
     "data": {
      "image/png": "[encoded data removed]",
      "text/plain": [
       "<Figure size 1440x720 with 1 Axes>"
      ]
     },
     "metadata": {
      "tags": []
     },
     "output_type": "display_data"
    }
   ],
   "source": [
    "df5.plot(figsize=(20,10), linewidth=5, fontsize=20)\n",
    "plt.xlabel('Year', fontsize=20)"
   ]
  },
  {
   "cell_type": "code",
   "execution_count": 12,
   "metadata": {
    "colab": {
     "base_uri": "https://localhost:8080/",
     "height": 52
    },
    "colab_type": "code",
    "id": "SPb3knatWCVh",
    "outputId": "d121b8a2-edff-4b84-eb29-e5697663f6ad"
   },
   "outputs": [
    {
     "name": "stdout",
     "output_type": "stream",
     "text": [
      "Test Statistic:  -8.335071347070745\n",
      "pvalue:  3.2891272033464956e-13\n"
     ]
    }
   ],
   "source": [
    "adf = adfuller(df5) \n",
    "print ('Test Statistic: ', adf[0])\n",
    "print ('pvalue: ', adf[1])"
   ]
  },
  {
   "cell_type": "markdown",
   "metadata": {
    "colab_type": "text",
    "id": "P_hjGGujxUdd"
   },
   "source": [
    "# **From the dicky fuller test we infer that P value is less than 0.05. Hence, our data is stationary which is a necessary criteria to go with ARIMA**"
   ]
  },
  {
   "cell_type": "code",
   "execution_count": 39,
   "metadata": {
    "colab": {
     "base_uri": "https://localhost:8080/",
     "height": 281
    },
    "colab_type": "code",
    "id": "kno1TpiSWW-j",
    "outputId": "7116069e-e5bc-4a75-beb5-0e7d1288fe25"
   },
   "outputs": [
    {
     "data": {
      "image/png": "[encoded data removed]",
      "text/plain": [
       "<Figure size 432x288 with 1 Axes>"
      ]
     },
     "metadata": {
      "tags": []
     },
     "output_type": "display_data"
    }
   ],
   "source": [
    "plot_acf(df5);"
   ]
  },
  {
   "cell_type": "code",
   "execution_count": 0,
   "metadata": {
    "colab": {},
    "colab_type": "code",
    "id": "VD3J2pS3pOXf"
   },
   "outputs": [],
   "source": [
    "from pandas.plotting import autocorrelation_plot\n",
    "from matplotlib import pyplot"
   ]
  },
  {
   "cell_type": "code",
   "execution_count": 40,
   "metadata": {
    "colab": {
     "base_uri": "https://localhost:8080/",
     "height": 281
    },
    "colab_type": "code",
    "id": "Id4mcE7GWajq",
    "outputId": "89ecb8bf-f7a1-417c-b35a-b4c02910e4cc"
   },
   "outputs": [
    {
     "data": {
      "image/png": "[encoded data removed]",
      "text/plain": [
       "<Figure size 432x288 with 1 Axes>"
      ]
     },
     "metadata": {
      "tags": []
     },
     "output_type": "display_data"
    }
   ],
   "source": [
    "plot_pacf(df5);"
   ]
  },
  {
   "cell_type": "code",
   "execution_count": 17,
   "metadata": {
    "colab": {
     "base_uri": "https://localhost:8080/",
     "height": 141
    },
    "colab_type": "code",
    "id": "JJaEefyE-for",
    "outputId": "8641d5b6-33bb-4c2c-cecb-b74842c34671"
   },
   "outputs": [
    {
     "data": {
      "text/plain": [
       "From Date\n",
       "2017-01-01 00:00:00    26.97\n",
       "2017-01-01 01:00:00    34.88\n",
       "2017-01-01 02:00:00    57.49\n",
       "2017-01-01 03:00:00    62.75\n",
       "2017-01-01 04:00:00    67.49\n",
       "Name: PM2.5, dtype: float64"
      ]
     },
     "execution_count": 17,
     "metadata": {
      "tags": []
     },
     "output_type": "execute_result"
    }
   ],
   "source": [
    "df5.head()"
   ]
  },
  {
   "cell_type": "code",
   "execution_count": 53,
   "metadata": {
    "colab": {
     "base_uri": "https://localhost:8080/",
     "height": 498
    },
    "colab_type": "code",
    "id": "5EeLsRvIWfE0",
    "outputId": "ff3afc80-ff29-41cb-8d4a-0eca86dac7fd"
   },
   "outputs": [
    {
     "name": "stderr",
     "output_type": "stream",
     "text": [
      "/usr/local/lib/python3.6/dist-packages/statsmodels/tsa/base/tsa_model.py:219: ValueWarning: A date index has been provided, but it has no associated frequency information and so will be ignored when e.g. forecasting.\n",
      "  ' ignored when e.g. forecasting.', ValueWarning)\n"
     ]
    },
    {
     "name": "stdout",
     "output_type": "stream",
     "text": [
      "                              ARMA Model Results                              \n",
      "==============================================================================\n",
      "Dep. Variable:                  PM2.5   No. Observations:                17520\n",
      "Model:                     ARMA(1, 2)   Log Likelihood              -67364.665\n",
      "Method:                       css-mle   S.D. of innovations             11.314\n",
      "Date:                Sun, 22 Sep 2019   AIC                         134739.329\n",
      "Time:                        08:20:31   BIC                         134778.185\n",
      "Sample:                             0   HQIC                        134752.124\n",
      "                                                                              \n",
      "===============================================================================\n",
      "                  coef    std err          z      P>|z|      [0.025      0.975]\n",
      "-------------------------------------------------------------------------------\n",
      "const          35.1806      0.794     44.331      0.000      33.625      36.736\n",
      "ar.L1.PM2.5     0.9034      0.005    198.666      0.000       0.895       0.912\n",
      "ma.L1.PM2.5     0.0869      0.010      9.053      0.000       0.068       0.106\n",
      "ma.L2.PM2.5    -0.1899      0.010    -19.173      0.000      -0.209      -0.170\n",
      "                                    Roots                                    \n",
      "=============================================================================\n",
      "                  Real          Imaginary           Modulus         Frequency\n",
      "-----------------------------------------------------------------------------\n",
      "AR.1            1.1069           +0.0000j            1.1069            0.0000\n",
      "MA.1           -2.0773           +0.0000j            2.0773            0.5000\n",
      "MA.2            2.5351           +0.0000j            2.5351            0.0000\n",
      "-----------------------------------------------------------------------------\n"
     ]
    }
   ],
   "source": [
    "df5_ar = ARIMA(df5, order=(1,0,2))\n",
    "df5_arma = df5_ar.fit(disp=0)\n",
    "\n",
    "print(df5_arma.summary())\n"
   ]
  },
  {
   "cell_type": "code",
   "execution_count": 54,
   "metadata": {
    "colab": {
     "base_uri": "https://localhost:8080/",
     "height": 281
    },
    "colab_type": "code",
    "id": "orIxKnu7jFox",
    "outputId": "2441524a-a805-43a4-d121-7453233d572d"
   },
   "outputs": [
    {
     "data": {
      "image/png": "[encoded data removed]",
      "text/plain": [
       "<Figure size 432x288 with 1 Axes>"
      ]
     },
     "metadata": {
      "tags": []
     },
     "output_type": "display_data"
    }
   ],
   "source": [
    "resids = pd.DataFrame(df5_arma.resid)\n",
    "\n",
    "resids.plot();"
   ]
  },
  {
   "cell_type": "code",
   "execution_count": 55,
   "metadata": {
    "colab": {
     "base_uri": "https://localhost:8080/",
     "height": 446
    },
    "colab_type": "code",
    "id": "1p-dnWS5jjGV",
    "outputId": "1729b426-178a-403a-c6dc-a27be9d7c82b"
   },
   "outputs": [
    {
     "name": "stdout",
     "output_type": "stream",
     "text": [
      "                  0\n",
      "count  17520.000000\n",
      "mean       0.000190\n",
      "std       11.314380\n",
      "min     -346.163599\n",
      "25%       -3.944480\n",
      "50%       -1.058855\n",
      "75%        3.528384\n",
      "max      481.417466\n"
     ]
    },
    {
     "data": {
      "text/plain": [
       "<matplotlib.axes._subplots.AxesSubplot at 0x7efe6f3be278>"
      ]
     },
     "execution_count": 55,
     "metadata": {
      "tags": []
     },
     "output_type": "execute_result"
    },
    {
     "data": {
      "image/png": "[encoded data removed]",
      "text/plain": [
       "<Figure size 432x288 with 1 Axes>"
      ]
     },
     "metadata": {
      "tags": []
     },
     "output_type": "display_data"
    }
   ],
   "source": [
    "print(resids.describe())\n",
    "\n",
    "resids.plot(kind='kde')"
   ]
  },
  {
   "cell_type": "code",
   "execution_count": 56,
   "metadata": {
    "colab": {
     "base_uri": "https://localhost:8080/",
     "height": 230
    },
    "colab_type": "code",
    "id": "dPrg0EBEjoh3",
    "outputId": "c93022ae-94cb-48b8-b2f1-f63c32106f81"
   },
   "outputs": [
    {
     "name": "stdout",
     "output_type": "stream",
     "text": [
      "     obs        est\n",
      "1  34.88  27.940190\n",
      "2  57.49  35.683797\n",
      "3  62.75  55.814028\n",
      "4  67.49  56.666353\n",
      "5  54.08  63.992358\n",
      "         obs        est\n",
      "17515  34.07  35.921219\n",
      "17516  33.35  33.973682\n",
      "17517  33.80  33.824096\n",
      "17518  35.17  34.049656\n",
      "17519  34.86  35.272971\n"
     ]
    }
   ],
   "source": [
    "colnames = ['obs', 'est']\n",
    "data = pd.DataFrame(columns = colnames)\n",
    "\n",
    "for t in range(1, len(df5)):\n",
    "    obs = df5[t].item()\n",
    "    est = df5_arma.predict(start=t, end=t).item()\n",
    "    dfrow = pd.DataFrame({'obs':obs, 'est':est}, index=[t])\n",
    "    data = data.append(dfrow)\n",
    "\n",
    "print(data.head())\n",
    "print(data.tail())"
   ]
  },
  {
   "cell_type": "code",
   "execution_count": 57,
   "metadata": {
    "colab": {
     "base_uri": "https://localhost:8080/",
     "height": 286
    },
    "colab_type": "code",
    "id": "6HZHN7Gxj6Lb",
    "outputId": "491cc929-a6ea-412f-820e-a135117c4709"
   },
   "outputs": [
    {
     "data": {
      "text/plain": [
       "<matplotlib.axes._subplots.AxesSubplot at 0x7efe68dd9780>"
      ]
     },
     "execution_count": 57,
     "metadata": {
      "tags": []
     },
     "output_type": "execute_result"
    },
    {
     "data": {
      "image/png": "[encoded data removed]",
      "text/plain": [
       "<Figure size 432x288 with 1 Axes>"
      ]
     },
     "metadata": {
      "tags": []
     },
     "output_type": "display_data"
    }
   ],
   "source": [
    "data.obs.plot(color='green')\n",
    "data.est.plot(color='blue')"
   ]
  },
  {
   "cell_type": "code",
   "execution_count": 93,
   "metadata": {
    "colab": {
     "base_uri": "https://localhost:8080/",
     "height": 105
    },
    "colab_type": "code",
    "id": "SiBW0cqtwl8e",
    "outputId": "d43e07c7-0d7f-4ac0-be5d-ea620c1eaf88"
   },
   "outputs": [
    {
     "data": {
      "text/plain": [
       "array([34.64231973, 34.77271681, 34.81210218, 34.84768419, 34.87983013,\n",
       "       34.90887181, 34.93510901, 34.95881254, 34.98022708, 34.99957367,\n",
       "       35.017052  , 35.03284249, 35.04710813, 35.05999617, 35.07163964,\n",
       "       35.08215873, 35.09166202, 35.10024759, 35.10800408, 35.11501154,\n",
       "       35.12134231, 35.12706173, 35.13222884, 35.13689697])"
      ]
     },
     "execution_count": 93,
     "metadata": {
      "tags": []
     },
     "output_type": "execute_result"
    }
   ],
   "source": [
    "df5_arma.forecast(steps=24)[0]"
   ]
  },
  {
   "cell_type": "code",
   "execution_count": 0,
   "metadata": {
    "colab": {},
    "colab_type": "code",
    "id": "69hp4JCdwmBo"
   },
   "outputs": [],
   "source": []
  },
  {
   "cell_type": "markdown",
   "metadata": {
    "colab_type": "text",
    "id": "PQzzFPMe61w2"
   },
   "source": [
    "## **Till now Forecasted for next 24 hours**"
   ]
  },
  {
   "cell_type": "code",
   "execution_count": 0,
   "metadata": {
    "colab": {},
    "colab_type": "code",
    "id": "-RnNAiCJ7FV1"
   },
   "outputs": [],
   "source": [
    "from sklearn.metrics import mean_squared_error"
   ]
  },
  {
   "cell_type": "code",
   "execution_count": 0,
   "metadata": {
    "colab": {},
    "colab_type": "code",
    "id": "ZFx0oJ_R74Bi"
   },
   "outputs": [],
   "source": [
    "def MAPE(y, yhat): \n",
    "    y, yhat = np.array(y), np.array(yhat)\n",
    "    try:\n",
    "        mape =  round(np.sum(np.abs(yhat - y)) / np.sum(y) * 100,3)\n",
    "    except:\n",
    "        print(\"Observed values are empty\")\n",
    "        mape = np.nan\n",
    "    return mape"
   ]
  },
  {
   "cell_type": "code",
   "execution_count": 60,
   "metadata": {
    "colab": {
     "base_uri": "https://localhost:8080/",
     "height": 34
    },
    "colab_type": "code",
    "id": "FkA2jw1JuXdX",
    "outputId": "e1007886-f832-46ed-d772-79951842904d"
   },
   "outputs": [
    {
     "name": "stdout",
     "output_type": "stream",
     "text": [
      "11.314209707021854 17.251\n"
     ]
    }
   ],
   "source": [
    "rmse             =   np.sqrt(mean_squared_error(data['obs'], data['est']))\n",
    "mape             =   MAPE(data['obs'], data['est'])\n",
    "print(rmse,mape)"
   ]
  },
  {
   "cell_type": "code",
   "execution_count": 62,
   "metadata": {
    "colab": {
     "base_uri": "https://localhost:8080/",
     "height": 105
    },
    "colab_type": "code",
    "id": "8RGh4Nq9_4ER",
    "outputId": "07da4a03-905f-4367-9ead-c47b115da667"
   },
   "outputs": [
    {
     "data": {
      "text/plain": [
       "array([34.64231973, 34.77271681, 34.81210218, 34.84768419, 34.87983013,\n",
       "       34.90887181, 34.93510901, 34.95881254, 34.98022708, 34.99957367,\n",
       "       35.017052  , 35.03284249, 35.04710813, 35.05999617, 35.07163964,\n",
       "       35.08215873, 35.09166202, 35.10024759, 35.10800408, 35.11501154,\n",
       "       35.12134231, 35.12706173, 35.13222884, 35.13689697])"
      ]
     },
     "execution_count": 62,
     "metadata": {
      "tags": []
     },
     "output_type": "execute_result"
    }
   ],
   "source": [
    "df5_arma.forecast(steps=24)[0]"
   ]
  },
  {
   "cell_type": "code",
   "execution_count": 28,
   "metadata": {
    "colab": {
     "base_uri": "https://localhost:8080/",
     "height": 286
    },
    "colab_type": "code",
    "id": "60fHY61aCOVz",
    "outputId": "42427302-c939-4c87-8d04-da5f13d06f9c"
   },
   "outputs": [
    {
     "data": {
      "text/plain": [
       "[<matplotlib.lines.Line2D at 0x7efe6f5fbcf8>]"
      ]
     },
     "execution_count": 28,
     "metadata": {
      "tags": []
     },
     "output_type": "execute_result"
    },
    {
     "data": {
      "image/png": "[encoded data removed]",
      "text/plain": [
       "<Figure size 432x288 with 1 Axes>"
      ]
     },
     "metadata": {
      "tags": []
     },
     "output_type": "display_data"
    }
   ],
   "source": [
    "plt.plot(df5_arma.forecast(steps=24)[0])"
   ]
  },
  {
   "cell_type": "code",
   "execution_count": 70,
   "metadata": {
    "colab": {
     "base_uri": "https://localhost:8080/",
     "height": 227
    },
    "colab_type": "code",
    "id": "g6FsiYHS-dSj",
    "outputId": "f3fcc47d-d215-4bb7-d65a-7f3f4137eed9"
   },
   "outputs": [
    {
     "data": {
      "text/html": [
       "<div>\n",
       "<style scoped>\n",
       "    .dataframe tbody tr th:only-of-type {\n",
       "        vertical-align: middle;\n",
       "    }\n",
       "\n",
       "    .dataframe tbody tr th {\n",
       "        vertical-align: top;\n",
       "    }\n",
       "\n",
       "    .dataframe thead th {\n",
       "        text-align: right;\n",
       "    }\n",
       "</style>\n",
       "<table border=\"1\" class=\"dataframe\">\n",
       "  <thead>\n",
       "    <tr style=\"text-align: right;\">\n",
       "      <th></th>\n",
       "      <th>PM2.5</th>\n",
       "    </tr>\n",
       "    <tr>\n",
       "      <th>From Date</th>\n",
       "      <th></th>\n",
       "    </tr>\n",
       "  </thead>\n",
       "  <tbody>\n",
       "    <tr>\n",
       "      <th>2017-01-01 00:00:00</th>\n",
       "      <td>26.97</td>\n",
       "    </tr>\n",
       "    <tr>\n",
       "      <th>2017-01-01 01:00:00</th>\n",
       "      <td>34.88</td>\n",
       "    </tr>\n",
       "    <tr>\n",
       "      <th>2017-01-01 02:00:00</th>\n",
       "      <td>57.49</td>\n",
       "    </tr>\n",
       "    <tr>\n",
       "      <th>2017-01-01 03:00:00</th>\n",
       "      <td>62.75</td>\n",
       "    </tr>\n",
       "    <tr>\n",
       "      <th>2017-01-01 04:00:00</th>\n",
       "      <td>67.49</td>\n",
       "    </tr>\n",
       "  </tbody>\n",
       "</table>\n",
       "</div>"
      ],
      "text/plain": [
       "                     PM2.5\n",
       "From Date                 \n",
       "2017-01-01 00:00:00  26.97\n",
       "2017-01-01 01:00:00  34.88\n",
       "2017-01-01 02:00:00  57.49\n",
       "2017-01-01 03:00:00  62.75\n",
       "2017-01-01 04:00:00  67.49"
      ]
     },
     "execution_count": 70,
     "metadata": {
      "tags": []
     },
     "output_type": "execute_result"
    }
   ],
   "source": [
    "df6=df5.reset_index(name='PM2.5')\n",
    "df6.set_index(df6['From Date'],inplace=True)\n",
    "df6.drop('From Date',1,inplace=True)\n",
    "df6.head()"
   ]
  },
  {
   "cell_type": "code",
   "execution_count": 0,
   "metadata": {
    "colab": {},
    "colab_type": "code",
    "id": "595PD1ssEFHd"
   },
   "outputs": [],
   "source": [
    "from   statsmodels.tsa.holtwinters     import  ExponentialSmoothing"
   ]
  },
  {
   "cell_type": "code",
   "execution_count": 0,
   "metadata": {
    "colab": {},
    "colab_type": "code",
    "id": "uXUpObF_Lqxa"
   },
   "outputs": [],
   "source": [
    "train                 = df6[0 : int(len(df6) * 0.7)] \n",
    "test                  = df6[int(len(df6) * 0.7):]"
   ]
  },
  {
   "cell_type": "code",
   "execution_count": 81,
   "metadata": {
    "colab": {
     "base_uri": "https://localhost:8080/",
     "height": 34
    },
    "colab_type": "code",
    "id": "1MwNXQ1EMrmQ",
    "outputId": "6bfb5f27-9ef7-41ae-87a7-a6b3b9d92d10"
   },
   "outputs": [
    {
     "data": {
      "text/plain": [
       "(5256, 1)"
      ]
     },
     "execution_count": 81,
     "metadata": {
      "tags": []
     },
     "output_type": "execute_result"
    }
   ],
   "source": [
    "test.shape"
   ]
  },
  {
   "cell_type": "code",
   "execution_count": 0,
   "metadata": {
    "colab": {},
    "colab_type": "code",
    "id": "wUDxwFdDMeXu"
   },
   "outputs": [],
   "source": [
    "y_hat_avg = test.copy()\n",
    "\n",
    "y_hat_avg['Holt_Winter_M'] = pred1.forecast(len(test))"
   ]
  },
  {
   "cell_type": "code",
   "execution_count": 75,
   "metadata": {
    "colab": {
     "base_uri": "https://localhost:8080/",
     "height": 1000
    },
    "colab_type": "code",
    "id": "bTcoymEUKAzO",
    "outputId": "044153f1-7ff0-4990-f308-c763be924a62"
   },
   "outputs": [
    {
     "name": "stdout",
     "output_type": "stream",
     "text": [
      "\n",
      "== Holt-Winters Additive ETS(A,A,A) Parameters ==\n",
      "\n",
      "Smoothing Level:  0.9552\n",
      "Smoothing Slope:  0.0\n",
      "Smoothing Seasonal:  0.0435\n",
      "Initial Level:  32.4387\n",
      "Initial Slope:  0.0\n",
      "Initial Seasons:  [ 3.9679 -1.4478  0.0422 -5.4589 15.0145 17.6856 26.4126 31.8677 42.1151\n",
      " 41.7333 30.8056 17.6346]\n",
      "\n",
      "                         Y_hat      Y\n",
      "From Date                            \n",
      "2018-05-27 00:00:00  36.657134  33.23\n",
      "2018-05-27 01:00:00  36.928017  30.89\n",
      "2018-05-27 02:00:00  34.823469  32.51\n",
      "2018-05-27 03:00:00  36.120638  34.14\n",
      "2018-05-27 04:00:00  37.067520  36.68\n",
      "2018-05-27 05:00:00  38.845302  39.22\n",
      "2018-05-27 06:00:00  40.320770  38.20\n",
      "2018-05-27 07:00:00  39.706754  37.19\n",
      "2018-05-27 08:00:00  36.522372  43.95\n",
      "2018-05-27 09:00:00  37.133884  50.70\n",
      "2018-05-27 10:00:00  35.520530  58.47\n",
      "2018-05-27 11:00:00  35.819685  66.28\n",
      "2018-05-27 12:00:00  36.657133  63.92\n",
      "2018-05-27 13:00:00  36.928017  61.57\n",
      "2018-05-27 14:00:00  34.823469  66.40\n",
      "2018-05-27 15:00:00  36.120637  71.22\n",
      "2018-05-27 16:00:00  37.067520  66.59\n",
      "2018-05-27 17:00:00  38.845301  61.92\n",
      "2018-05-27 18:00:00  40.320769  57.35\n",
      "2018-05-27 19:00:00  39.706754  52.83\n",
      "2018-05-27 20:00:00  36.522371  47.96\n",
      "2018-05-27 21:00:00  37.133883  43.08\n",
      "2018-05-27 22:00:00  35.520529  38.09\n",
      "2018-05-27 23:00:00  35.819685  33.12\n",
      "2018-05-28 00:00:00  36.657133  29.63\n",
      "2018-05-28 01:00:00  36.928016  26.15\n",
      "2018-05-28 02:00:00  34.823468  25.27\n",
      "2018-05-28 03:00:00  36.120636  24.42\n",
      "2018-05-28 04:00:00  37.067519  28.32\n",
      "2018-05-28 05:00:00  38.845301  32.21\n",
      "...                        ...    ...\n",
      "2018-12-30 18:00:00  40.320440  39.02\n",
      "2018-12-30 19:00:00  39.706424  41.78\n",
      "2018-12-30 20:00:00  36.522042  41.79\n",
      "2018-12-30 21:00:00  37.133554  42.36\n",
      "2018-12-30 22:00:00  35.520200  41.11\n",
      "2018-12-30 23:00:00  35.819355  39.95\n",
      "2018-12-31 00:00:00  36.656803  39.81\n",
      "2018-12-31 01:00:00  36.927687  39.43\n",
      "2018-12-31 02:00:00  34.823139  38.65\n",
      "2018-12-31 03:00:00  36.120307  17.83\n",
      "2018-12-31 04:00:00  37.067189  17.17\n",
      "2018-12-31 05:00:00  38.844971  18.68\n",
      "2018-12-31 06:00:00  40.320439  22.40\n",
      "2018-12-31 07:00:00  39.706423  26.59\n",
      "2018-12-31 08:00:00  36.522041  29.16\n",
      "2018-12-31 09:00:00  37.133553  33.41\n",
      "2018-12-31 10:00:00  35.520199  35.02\n",
      "2018-12-31 11:00:00  35.819354  34.24\n",
      "2018-12-31 12:00:00  36.656803  34.72\n",
      "2018-12-31 13:00:00  36.927686  34.56\n",
      "2018-12-31 14:00:00  34.823138  35.80\n",
      "2018-12-31 15:00:00  36.120306  44.53\n",
      "2018-12-31 16:00:00  37.067189  39.20\n",
      "2018-12-31 17:00:00  38.844971  34.47\n",
      "2018-12-31 18:00:00  40.320439  35.50\n",
      "2018-12-31 19:00:00  39.706423  34.07\n",
      "2018-12-31 20:00:00  36.522040  33.35\n",
      "2018-12-31 21:00:00  37.133552  33.80\n",
      "2018-12-31 22:00:00  35.520198  35.17\n",
      "2018-12-31 23:00:00  35.819354  34.86\n",
      "\n",
      "[5256 rows x 2 columns]\n"
     ]
    }
   ],
   "source": [
    "pred1 = ExponentialSmoothing(np.asarray(train['PM2.5']), trend='additive', damped=False, seasonal='additive',\n",
    "                                  seasonal_periods = 12).fit() #[:'2017-01-01']\n",
    "print('')\n",
    "print('== Holt-Winters Additive ETS(A,A,A) Parameters ==')\n",
    "print('')\n",
    "alpha_value = np.round(pred1.params['smoothing_level'], 4)\n",
    "beta_value  = np.round(pred1.params['smoothing_slope'], 4)\n",
    "gamma_value = np.round(pred1.params['smoothing_seasonal'], 4) \n",
    "\n",
    "print('Smoothing Level: ', alpha_value)\n",
    "print('Smoothing Slope: ', beta_value)\n",
    "print('Smoothing Seasonal: ', gamma_value)\n",
    "\n",
    "print('Initial Level: ', np.round(pred1.params['initial_level'], 4))\n",
    "print('Initial Slope: ', np.round(pred1.params['initial_slope'], 4))\n",
    "print('Initial Seasons: ', np.round(pred1.params['initial_seasons'], 4))\n",
    "print('')\n",
    "\n",
    "\n",
    "\n",
    "y_pred1 =  pred1.forecast(steps = 5256)\n",
    "df_pred1 = pd.DataFrame({'Y_hat':y_pred1,'Y':test['PM2.5']})\n",
    "print(df_pred1)"
   ]
  },
  {
   "cell_type": "code",
   "execution_count": 87,
   "metadata": {
    "colab": {
     "base_uri": "https://localhost:8080/",
     "height": 400
    },
    "colab_type": "code",
    "id": "QgQBXL5ELRBA",
    "outputId": "10b19a9a-6962-486f-e0a9-06d8621cbe0f"
   },
   "outputs": [
    {
     "name": "stderr",
     "output_type": "stream",
     "text": [
      "/usr/local/lib/python3.6/dist-packages/matplotlib/font_manager.py:1241: UserWarning: findfont: Font family ['Arial'] not found. Falling back to DejaVu Sans.\n",
      "  (prop.get_family(), self.defaultFamily[fontext]))\n"
     ]
    },
    {
     "data": {
      "image/png": "[encoded data removed]",
      "text/plain": [
       "<Figure size 432x288 with 1 Axes>"
      ]
     },
     "metadata": {
      "tags": []
     },
     "output_type": "display_data"
    }
   ],
   "source": [
    "plt.plot(train['PM2.5'].values,                                                           label ='Train')\n",
    "plt.plot([None for i in train.values] + [x for x in test['PM2.5'].values],                label  ='Test')\n",
    "plt.plot([None for i in train.values] + [x for x in y_hat_avg['Holt_Winter_M'].values], label  = 'HW_AMM')\n",
    "\n",
    "plt.title('Holt-Winters Multiplicative  Parameters:\\n  alpha = ' + str(alpha_value) + '  Beta:' + \\\n",
    "          str(beta_value) + '  Gamma: ' + str(gamma_value), family = 'Arial', fontsize = 20)\n",
    "plt.ylabel('PM2.5')\n",
    "plt.xlabel('Month')\n",
    "plt.xticks(rotation = 90)\n",
    "plt.legend(loc='best')\n",
    "plt.show()"
   ]
  },
  {
   "cell_type": "code",
   "execution_count": 0,
   "metadata": {
    "colab": {},
    "colab_type": "code",
    "id": "kMDOppfyMMfA"
   },
   "outputs": [],
   "source": [
    "rmse             =  np.sqrt(mean_squared_error(test['PM2.5'], y_hat_avg['Holt_Winter_M']))\n",
    "mape             =  MAPE(test['PM2.5'], y_hat_avg['Holt_Winter_M'])\n"
   ]
  },
  {
   "cell_type": "code",
   "execution_count": 89,
   "metadata": {
    "colab": {
     "base_uri": "https://localhost:8080/",
     "height": 52
    },
    "colab_type": "code",
    "id": "mCpt62nRRnsI",
    "outputId": "427cf968-6522-4e90-ce2d-ba9faff04b6e"
   },
   "outputs": [
    {
     "name": "stdout",
     "output_type": "stream",
     "text": [
      "24.131437079333892\n",
      "47.539\n"
     ]
    }
   ],
   "source": [
    "print(rmse)\n",
    "print(mape)"
   ]
  },
  {
   "cell_type": "markdown",
   "metadata": {
    "colab_type": "text",
    "id": "mTgO9iNRrdSw"
   },
   "source": [
    "Arima seems to be the Best"
   ]
  },
  {
   "cell_type": "code",
   "execution_count": 5,
   "metadata": {
    "colab": {},
    "colab_type": "code",
    "id": "jb18O3AaRtYL"
   },
   "outputs": [],
   "source": [
    "import datetime\n",
    "lis=[]\n",
    "x = datetime.datetime(2019, 1, 1)\n",
    "\n",
    "for i in range(1,720):\n",
    "    x=x+datetime.timedelta(hours=1)\n",
    "    lis.append(x.strftime(\"%d-%m-%Y %H:%M:%S\"))"
   ]
  },
  {
   "cell_type": "code",
   "execution_count": 10,
   "metadata": {},
   "outputs": [],
   "source": [
    "import pandas as pd"
   ]
  },
  {
   "cell_type": "code",
   "execution_count": 12,
   "metadata": {},
   "outputs": [],
   "source": [
    "date=pd.DataFrame(lis)"
   ]
  },
  {
   "cell_type": "code",
   "execution_count": 13,
   "metadata": {},
   "outputs": [],
   "source": [
    "date.to_csv(\"D:/greatlakes/capstone/2019_date.csv\")"
   ]
  },
  {
   "cell_type": "code",
   "execution_count": null,
   "metadata": {},
   "outputs": [],
   "source": []
  }
 ],
 "metadata": {
  "colab": {
   "collapsed_sections": [],
   "name": "timeseries_velachery_arima.ipynb",
   "provenance": [],
   "toc_visible": true
  },
  "kernelspec": {
   "display_name": "Python 3",
   "language": "python",
   "name": "python3"
  },
  "language_info": {
   "codemirror_mode": {
    "name": "ipython",
    "version": 3
   },
   "file_extension": ".py",
   "mimetype": "text/x-python",
   "name": "python",
   "nbconvert_exporter": "python",
   "pygments_lexer": "ipython3",
   "version": "3.7.0"
  }
 },
 "nbformat": 4,
 "nbformat_minor": 1
}
