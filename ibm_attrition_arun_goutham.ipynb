{
 "cells": [
  {
   "cell_type": "code",
   "execution_count": 1,
   "metadata": {},
   "outputs": [],
   "source": [
    "import pandas as pd\n",
    "import numpy as np\n",
    "import seaborn as sns\n",
    "import matplotlib.pyplot as plt\n",
    "from sklearn.model_selection import train_test_split,KFold\n",
    "from sklearn.metrics import accuracy_score,auc,roc_curve,confusion_matrix\n",
    "from sklearn.preprocessing import StandardScaler"
   ]
  },
  {
   "cell_type": "markdown",
   "metadata": {},
   "source": [
    "## Loading the Dataset"
   ]
  },
  {
   "cell_type": "code",
   "execution_count": 2,
   "metadata": {},
   "outputs": [],
   "source": [
    "df=pd.read_csv(\"D:/greatlakes/datasets/IBM_HR_ATTRITION/IBM-HR-Employee-Attrition.csv\")"
   ]
  },
  {
   "cell_type": "code",
   "execution_count": 3,
   "metadata": {},
   "outputs": [
    {
     "data": {
      "text/html": [
       "<div>\n",
       "<style scoped>\n",
       "    .dataframe tbody tr th:only-of-type {\n",
       "        vertical-align: middle;\n",
       "    }\n",
       "\n",
       "    .dataframe tbody tr th {\n",
       "        vertical-align: top;\n",
       "    }\n",
       "\n",
       "    .dataframe thead th {\n",
       "        text-align: right;\n",
       "    }\n",
       "</style>\n",
       "<table border=\"1\" class=\"dataframe\">\n",
       "  <thead>\n",
       "    <tr style=\"text-align: right;\">\n",
       "      <th></th>\n",
       "      <th>Age</th>\n",
       "      <th>Attrition</th>\n",
       "      <th>BusinessTravel</th>\n",
       "      <th>DailyRate</th>\n",
       "      <th>Department</th>\n",
       "      <th>DistanceFromHome</th>\n",
       "      <th>Education</th>\n",
       "      <th>EducationField</th>\n",
       "      <th>EmployeeCount</th>\n",
       "      <th>EmployeeNumber</th>\n",
       "      <th>...</th>\n",
       "      <th>RelationshipSatisfaction</th>\n",
       "      <th>StandardHours</th>\n",
       "      <th>StockOptionLevel</th>\n",
       "      <th>TotalWorkingYears</th>\n",
       "      <th>TrainingTimesLastYear</th>\n",
       "      <th>WorkLifeBalance</th>\n",
       "      <th>YearsAtCompany</th>\n",
       "      <th>YearsInCurrentRole</th>\n",
       "      <th>YearsSinceLastPromotion</th>\n",
       "      <th>YearsWithCurrManager</th>\n",
       "    </tr>\n",
       "  </thead>\n",
       "  <tbody>\n",
       "    <tr>\n",
       "      <th>0</th>\n",
       "      <td>41</td>\n",
       "      <td>Yes</td>\n",
       "      <td>Travel_Rarely</td>\n",
       "      <td>1102</td>\n",
       "      <td>Sales</td>\n",
       "      <td>1</td>\n",
       "      <td>2</td>\n",
       "      <td>Life Sciences</td>\n",
       "      <td>1</td>\n",
       "      <td>1</td>\n",
       "      <td>...</td>\n",
       "      <td>1</td>\n",
       "      <td>80</td>\n",
       "      <td>0</td>\n",
       "      <td>8</td>\n",
       "      <td>0</td>\n",
       "      <td>1</td>\n",
       "      <td>6</td>\n",
       "      <td>4</td>\n",
       "      <td>0</td>\n",
       "      <td>5</td>\n",
       "    </tr>\n",
       "    <tr>\n",
       "      <th>1</th>\n",
       "      <td>49</td>\n",
       "      <td>No</td>\n",
       "      <td>Travel_Frequently</td>\n",
       "      <td>279</td>\n",
       "      <td>Research &amp; Development</td>\n",
       "      <td>8</td>\n",
       "      <td>1</td>\n",
       "      <td>Life Sciences</td>\n",
       "      <td>1</td>\n",
       "      <td>2</td>\n",
       "      <td>...</td>\n",
       "      <td>4</td>\n",
       "      <td>80</td>\n",
       "      <td>1</td>\n",
       "      <td>10</td>\n",
       "      <td>3</td>\n",
       "      <td>3</td>\n",
       "      <td>10</td>\n",
       "      <td>7</td>\n",
       "      <td>1</td>\n",
       "      <td>7</td>\n",
       "    </tr>\n",
       "    <tr>\n",
       "      <th>2</th>\n",
       "      <td>37</td>\n",
       "      <td>Yes</td>\n",
       "      <td>Travel_Rarely</td>\n",
       "      <td>1373</td>\n",
       "      <td>Research &amp; Development</td>\n",
       "      <td>2</td>\n",
       "      <td>2</td>\n",
       "      <td>Other</td>\n",
       "      <td>1</td>\n",
       "      <td>4</td>\n",
       "      <td>...</td>\n",
       "      <td>2</td>\n",
       "      <td>80</td>\n",
       "      <td>0</td>\n",
       "      <td>7</td>\n",
       "      <td>3</td>\n",
       "      <td>3</td>\n",
       "      <td>0</td>\n",
       "      <td>0</td>\n",
       "      <td>0</td>\n",
       "      <td>0</td>\n",
       "    </tr>\n",
       "    <tr>\n",
       "      <th>3</th>\n",
       "      <td>33</td>\n",
       "      <td>No</td>\n",
       "      <td>Travel_Frequently</td>\n",
       "      <td>1392</td>\n",
       "      <td>Research &amp; Development</td>\n",
       "      <td>3</td>\n",
       "      <td>4</td>\n",
       "      <td>Life Sciences</td>\n",
       "      <td>1</td>\n",
       "      <td>5</td>\n",
       "      <td>...</td>\n",
       "      <td>3</td>\n",
       "      <td>80</td>\n",
       "      <td>0</td>\n",
       "      <td>8</td>\n",
       "      <td>3</td>\n",
       "      <td>3</td>\n",
       "      <td>8</td>\n",
       "      <td>7</td>\n",
       "      <td>3</td>\n",
       "      <td>0</td>\n",
       "    </tr>\n",
       "    <tr>\n",
       "      <th>4</th>\n",
       "      <td>27</td>\n",
       "      <td>No</td>\n",
       "      <td>Travel_Rarely</td>\n",
       "      <td>591</td>\n",
       "      <td>Research &amp; Development</td>\n",
       "      <td>2</td>\n",
       "      <td>1</td>\n",
       "      <td>Medical</td>\n",
       "      <td>1</td>\n",
       "      <td>7</td>\n",
       "      <td>...</td>\n",
       "      <td>4</td>\n",
       "      <td>80</td>\n",
       "      <td>1</td>\n",
       "      <td>6</td>\n",
       "      <td>3</td>\n",
       "      <td>3</td>\n",
       "      <td>2</td>\n",
       "      <td>2</td>\n",
       "      <td>2</td>\n",
       "      <td>2</td>\n",
       "    </tr>\n",
       "  </tbody>\n",
       "</table>\n",
       "<p>5 rows × 35 columns</p>\n",
       "</div>"
      ],
      "text/plain": [
       "   Age Attrition     BusinessTravel  DailyRate              Department  \\\n",
       "0   41       Yes      Travel_Rarely       1102                   Sales   \n",
       "1   49        No  Travel_Frequently        279  Research & Development   \n",
       "2   37       Yes      Travel_Rarely       1373  Research & Development   \n",
       "3   33        No  Travel_Frequently       1392  Research & Development   \n",
       "4   27        No      Travel_Rarely        591  Research & Development   \n",
       "\n",
       "   DistanceFromHome  Education EducationField  EmployeeCount  EmployeeNumber  \\\n",
       "0                 1          2  Life Sciences              1               1   \n",
       "1                 8          1  Life Sciences              1               2   \n",
       "2                 2          2          Other              1               4   \n",
       "3                 3          4  Life Sciences              1               5   \n",
       "4                 2          1        Medical              1               7   \n",
       "\n",
       "           ...           RelationshipSatisfaction StandardHours  \\\n",
       "0          ...                                  1            80   \n",
       "1          ...                                  4            80   \n",
       "2          ...                                  2            80   \n",
       "3          ...                                  3            80   \n",
       "4          ...                                  4            80   \n",
       "\n",
       "   StockOptionLevel  TotalWorkingYears  TrainingTimesLastYear WorkLifeBalance  \\\n",
       "0                 0                  8                      0               1   \n",
       "1                 1                 10                      3               3   \n",
       "2                 0                  7                      3               3   \n",
       "3                 0                  8                      3               3   \n",
       "4                 1                  6                      3               3   \n",
       "\n",
       "   YearsAtCompany YearsInCurrentRole  YearsSinceLastPromotion  \\\n",
       "0               6                  4                        0   \n",
       "1              10                  7                        1   \n",
       "2               0                  0                        0   \n",
       "3               8                  7                        3   \n",
       "4               2                  2                        2   \n",
       "\n",
       "   YearsWithCurrManager  \n",
       "0                     5  \n",
       "1                     7  \n",
       "2                     0  \n",
       "3                     0  \n",
       "4                     2  \n",
       "\n",
       "[5 rows x 35 columns]"
      ]
     },
     "execution_count": 3,
     "metadata": {},
     "output_type": "execute_result"
    }
   ],
   "source": [
    "df.head()"
   ]
  },
  {
   "cell_type": "code",
   "execution_count": 4,
   "metadata": {},
   "outputs": [
    {
     "data": {
      "text/plain": [
       "(1470, 35)"
      ]
     },
     "execution_count": 4,
     "metadata": {},
     "output_type": "execute_result"
    }
   ],
   "source": [
    "df.shape"
   ]
  },
  {
   "cell_type": "markdown",
   "metadata": {},
   "source": [
    "## EDA"
   ]
  },
  {
   "cell_type": "code",
   "execution_count": 5,
   "metadata": {},
   "outputs": [
    {
     "data": {
      "text/html": [
       "<div>\n",
       "<style scoped>\n",
       "    .dataframe tbody tr th:only-of-type {\n",
       "        vertical-align: middle;\n",
       "    }\n",
       "\n",
       "    .dataframe tbody tr th {\n",
       "        vertical-align: top;\n",
       "    }\n",
       "\n",
       "    .dataframe thead th {\n",
       "        text-align: right;\n",
       "    }\n",
       "</style>\n",
       "<table border=\"1\" class=\"dataframe\">\n",
       "  <thead>\n",
       "    <tr style=\"text-align: right;\">\n",
       "      <th></th>\n",
       "      <th>Age</th>\n",
       "      <th>DailyRate</th>\n",
       "      <th>DistanceFromHome</th>\n",
       "      <th>Education</th>\n",
       "      <th>EmployeeCount</th>\n",
       "      <th>EmployeeNumber</th>\n",
       "      <th>EnvironmentSatisfaction</th>\n",
       "      <th>HourlyRate</th>\n",
       "      <th>JobInvolvement</th>\n",
       "      <th>JobLevel</th>\n",
       "      <th>...</th>\n",
       "      <th>RelationshipSatisfaction</th>\n",
       "      <th>StandardHours</th>\n",
       "      <th>StockOptionLevel</th>\n",
       "      <th>TotalWorkingYears</th>\n",
       "      <th>TrainingTimesLastYear</th>\n",
       "      <th>WorkLifeBalance</th>\n",
       "      <th>YearsAtCompany</th>\n",
       "      <th>YearsInCurrentRole</th>\n",
       "      <th>YearsSinceLastPromotion</th>\n",
       "      <th>YearsWithCurrManager</th>\n",
       "    </tr>\n",
       "  </thead>\n",
       "  <tbody>\n",
       "    <tr>\n",
       "      <th>count</th>\n",
       "      <td>1470.000000</td>\n",
       "      <td>1470.000000</td>\n",
       "      <td>1470.000000</td>\n",
       "      <td>1470.000000</td>\n",
       "      <td>1470.0</td>\n",
       "      <td>1470.000000</td>\n",
       "      <td>1470.000000</td>\n",
       "      <td>1470.000000</td>\n",
       "      <td>1470.000000</td>\n",
       "      <td>1470.000000</td>\n",
       "      <td>...</td>\n",
       "      <td>1470.000000</td>\n",
       "      <td>1470.0</td>\n",
       "      <td>1470.000000</td>\n",
       "      <td>1470.000000</td>\n",
       "      <td>1470.000000</td>\n",
       "      <td>1470.000000</td>\n",
       "      <td>1470.000000</td>\n",
       "      <td>1470.000000</td>\n",
       "      <td>1470.000000</td>\n",
       "      <td>1470.000000</td>\n",
       "    </tr>\n",
       "    <tr>\n",
       "      <th>mean</th>\n",
       "      <td>36.923810</td>\n",
       "      <td>802.485714</td>\n",
       "      <td>9.192517</td>\n",
       "      <td>2.912925</td>\n",
       "      <td>1.0</td>\n",
       "      <td>1024.865306</td>\n",
       "      <td>2.721769</td>\n",
       "      <td>65.891156</td>\n",
       "      <td>2.729932</td>\n",
       "      <td>2.063946</td>\n",
       "      <td>...</td>\n",
       "      <td>2.712245</td>\n",
       "      <td>80.0</td>\n",
       "      <td>0.793878</td>\n",
       "      <td>11.279592</td>\n",
       "      <td>2.799320</td>\n",
       "      <td>2.761224</td>\n",
       "      <td>7.008163</td>\n",
       "      <td>4.229252</td>\n",
       "      <td>2.187755</td>\n",
       "      <td>4.123129</td>\n",
       "    </tr>\n",
       "    <tr>\n",
       "      <th>std</th>\n",
       "      <td>9.135373</td>\n",
       "      <td>403.509100</td>\n",
       "      <td>8.106864</td>\n",
       "      <td>1.024165</td>\n",
       "      <td>0.0</td>\n",
       "      <td>602.024335</td>\n",
       "      <td>1.093082</td>\n",
       "      <td>20.329428</td>\n",
       "      <td>0.711561</td>\n",
       "      <td>1.106940</td>\n",
       "      <td>...</td>\n",
       "      <td>1.081209</td>\n",
       "      <td>0.0</td>\n",
       "      <td>0.852077</td>\n",
       "      <td>7.780782</td>\n",
       "      <td>1.289271</td>\n",
       "      <td>0.706476</td>\n",
       "      <td>6.126525</td>\n",
       "      <td>3.623137</td>\n",
       "      <td>3.222430</td>\n",
       "      <td>3.568136</td>\n",
       "    </tr>\n",
       "    <tr>\n",
       "      <th>min</th>\n",
       "      <td>18.000000</td>\n",
       "      <td>102.000000</td>\n",
       "      <td>1.000000</td>\n",
       "      <td>1.000000</td>\n",
       "      <td>1.0</td>\n",
       "      <td>1.000000</td>\n",
       "      <td>1.000000</td>\n",
       "      <td>30.000000</td>\n",
       "      <td>1.000000</td>\n",
       "      <td>1.000000</td>\n",
       "      <td>...</td>\n",
       "      <td>1.000000</td>\n",
       "      <td>80.0</td>\n",
       "      <td>0.000000</td>\n",
       "      <td>0.000000</td>\n",
       "      <td>0.000000</td>\n",
       "      <td>1.000000</td>\n",
       "      <td>0.000000</td>\n",
       "      <td>0.000000</td>\n",
       "      <td>0.000000</td>\n",
       "      <td>0.000000</td>\n",
       "    </tr>\n",
       "    <tr>\n",
       "      <th>25%</th>\n",
       "      <td>30.000000</td>\n",
       "      <td>465.000000</td>\n",
       "      <td>2.000000</td>\n",
       "      <td>2.000000</td>\n",
       "      <td>1.0</td>\n",
       "      <td>491.250000</td>\n",
       "      <td>2.000000</td>\n",
       "      <td>48.000000</td>\n",
       "      <td>2.000000</td>\n",
       "      <td>1.000000</td>\n",
       "      <td>...</td>\n",
       "      <td>2.000000</td>\n",
       "      <td>80.0</td>\n",
       "      <td>0.000000</td>\n",
       "      <td>6.000000</td>\n",
       "      <td>2.000000</td>\n",
       "      <td>2.000000</td>\n",
       "      <td>3.000000</td>\n",
       "      <td>2.000000</td>\n",
       "      <td>0.000000</td>\n",
       "      <td>2.000000</td>\n",
       "    </tr>\n",
       "    <tr>\n",
       "      <th>50%</th>\n",
       "      <td>36.000000</td>\n",
       "      <td>802.000000</td>\n",
       "      <td>7.000000</td>\n",
       "      <td>3.000000</td>\n",
       "      <td>1.0</td>\n",
       "      <td>1020.500000</td>\n",
       "      <td>3.000000</td>\n",
       "      <td>66.000000</td>\n",
       "      <td>3.000000</td>\n",
       "      <td>2.000000</td>\n",
       "      <td>...</td>\n",
       "      <td>3.000000</td>\n",
       "      <td>80.0</td>\n",
       "      <td>1.000000</td>\n",
       "      <td>10.000000</td>\n",
       "      <td>3.000000</td>\n",
       "      <td>3.000000</td>\n",
       "      <td>5.000000</td>\n",
       "      <td>3.000000</td>\n",
       "      <td>1.000000</td>\n",
       "      <td>3.000000</td>\n",
       "    </tr>\n",
       "    <tr>\n",
       "      <th>75%</th>\n",
       "      <td>43.000000</td>\n",
       "      <td>1157.000000</td>\n",
       "      <td>14.000000</td>\n",
       "      <td>4.000000</td>\n",
       "      <td>1.0</td>\n",
       "      <td>1555.750000</td>\n",
       "      <td>4.000000</td>\n",
       "      <td>83.750000</td>\n",
       "      <td>3.000000</td>\n",
       "      <td>3.000000</td>\n",
       "      <td>...</td>\n",
       "      <td>4.000000</td>\n",
       "      <td>80.0</td>\n",
       "      <td>1.000000</td>\n",
       "      <td>15.000000</td>\n",
       "      <td>3.000000</td>\n",
       "      <td>3.000000</td>\n",
       "      <td>9.000000</td>\n",
       "      <td>7.000000</td>\n",
       "      <td>3.000000</td>\n",
       "      <td>7.000000</td>\n",
       "    </tr>\n",
       "    <tr>\n",
       "      <th>max</th>\n",
       "      <td>60.000000</td>\n",
       "      <td>1499.000000</td>\n",
       "      <td>29.000000</td>\n",
       "      <td>5.000000</td>\n",
       "      <td>1.0</td>\n",
       "      <td>2068.000000</td>\n",
       "      <td>4.000000</td>\n",
       "      <td>100.000000</td>\n",
       "      <td>4.000000</td>\n",
       "      <td>5.000000</td>\n",
       "      <td>...</td>\n",
       "      <td>4.000000</td>\n",
       "      <td>80.0</td>\n",
       "      <td>3.000000</td>\n",
       "      <td>40.000000</td>\n",
       "      <td>6.000000</td>\n",
       "      <td>4.000000</td>\n",
       "      <td>40.000000</td>\n",
       "      <td>18.000000</td>\n",
       "      <td>15.000000</td>\n",
       "      <td>17.000000</td>\n",
       "    </tr>\n",
       "  </tbody>\n",
       "</table>\n",
       "<p>8 rows × 26 columns</p>\n",
       "</div>"
      ],
      "text/plain": [
       "               Age    DailyRate  DistanceFromHome    Education  EmployeeCount  \\\n",
       "count  1470.000000  1470.000000       1470.000000  1470.000000         1470.0   \n",
       "mean     36.923810   802.485714          9.192517     2.912925            1.0   \n",
       "std       9.135373   403.509100          8.106864     1.024165            0.0   \n",
       "min      18.000000   102.000000          1.000000     1.000000            1.0   \n",
       "25%      30.000000   465.000000          2.000000     2.000000            1.0   \n",
       "50%      36.000000   802.000000          7.000000     3.000000            1.0   \n",
       "75%      43.000000  1157.000000         14.000000     4.000000            1.0   \n",
       "max      60.000000  1499.000000         29.000000     5.000000            1.0   \n",
       "\n",
       "       EmployeeNumber  EnvironmentSatisfaction   HourlyRate  JobInvolvement  \\\n",
       "count     1470.000000              1470.000000  1470.000000     1470.000000   \n",
       "mean      1024.865306                 2.721769    65.891156        2.729932   \n",
       "std        602.024335                 1.093082    20.329428        0.711561   \n",
       "min          1.000000                 1.000000    30.000000        1.000000   \n",
       "25%        491.250000                 2.000000    48.000000        2.000000   \n",
       "50%       1020.500000                 3.000000    66.000000        3.000000   \n",
       "75%       1555.750000                 4.000000    83.750000        3.000000   \n",
       "max       2068.000000                 4.000000   100.000000        4.000000   \n",
       "\n",
       "          JobLevel          ...           RelationshipSatisfaction  \\\n",
       "count  1470.000000          ...                        1470.000000   \n",
       "mean      2.063946          ...                           2.712245   \n",
       "std       1.106940          ...                           1.081209   \n",
       "min       1.000000          ...                           1.000000   \n",
       "25%       1.000000          ...                           2.000000   \n",
       "50%       2.000000          ...                           3.000000   \n",
       "75%       3.000000          ...                           4.000000   \n",
       "max       5.000000          ...                           4.000000   \n",
       "\n",
       "       StandardHours  StockOptionLevel  TotalWorkingYears  \\\n",
       "count         1470.0       1470.000000        1470.000000   \n",
       "mean            80.0          0.793878          11.279592   \n",
       "std              0.0          0.852077           7.780782   \n",
       "min             80.0          0.000000           0.000000   \n",
       "25%             80.0          0.000000           6.000000   \n",
       "50%             80.0          1.000000          10.000000   \n",
       "75%             80.0          1.000000          15.000000   \n",
       "max             80.0          3.000000          40.000000   \n",
       "\n",
       "       TrainingTimesLastYear  WorkLifeBalance  YearsAtCompany  \\\n",
       "count            1470.000000      1470.000000     1470.000000   \n",
       "mean                2.799320         2.761224        7.008163   \n",
       "std                 1.289271         0.706476        6.126525   \n",
       "min                 0.000000         1.000000        0.000000   \n",
       "25%                 2.000000         2.000000        3.000000   \n",
       "50%                 3.000000         3.000000        5.000000   \n",
       "75%                 3.000000         3.000000        9.000000   \n",
       "max                 6.000000         4.000000       40.000000   \n",
       "\n",
       "       YearsInCurrentRole  YearsSinceLastPromotion  YearsWithCurrManager  \n",
       "count         1470.000000              1470.000000           1470.000000  \n",
       "mean             4.229252                 2.187755              4.123129  \n",
       "std              3.623137                 3.222430              3.568136  \n",
       "min              0.000000                 0.000000              0.000000  \n",
       "25%              2.000000                 0.000000              2.000000  \n",
       "50%              3.000000                 1.000000              3.000000  \n",
       "75%              7.000000                 3.000000              7.000000  \n",
       "max             18.000000                15.000000             17.000000  \n",
       "\n",
       "[8 rows x 26 columns]"
      ]
     },
     "execution_count": 5,
     "metadata": {},
     "output_type": "execute_result"
    }
   ],
   "source": [
    "df.describe()"
   ]
  },
  {
   "cell_type": "code",
   "execution_count": 6,
   "metadata": {},
   "outputs": [
    {
     "name": "stdout",
     "output_type": "stream",
     "text": [
      "<class 'pandas.core.frame.DataFrame'>\n",
      "RangeIndex: 1470 entries, 0 to 1469\n",
      "Data columns (total 35 columns):\n",
      "Age                         1470 non-null int64\n",
      "Attrition                   1470 non-null object\n",
      "BusinessTravel              1470 non-null object\n",
      "DailyRate                   1470 non-null int64\n",
      "Department                  1470 non-null object\n",
      "DistanceFromHome            1470 non-null int64\n",
      "Education                   1470 non-null int64\n",
      "EducationField              1470 non-null object\n",
      "EmployeeCount               1470 non-null int64\n",
      "EmployeeNumber              1470 non-null int64\n",
      "EnvironmentSatisfaction     1470 non-null int64\n",
      "Gender                      1470 non-null object\n",
      "HourlyRate                  1470 non-null int64\n",
      "JobInvolvement              1470 non-null int64\n",
      "JobLevel                    1470 non-null int64\n",
      "JobRole                     1470 non-null object\n",
      "JobSatisfaction             1470 non-null int64\n",
      "MaritalStatus               1470 non-null object\n",
      "MonthlyIncome               1470 non-null int64\n",
      "MonthlyRate                 1470 non-null int64\n",
      "NumCompaniesWorked          1470 non-null int64\n",
      "Over18                      1470 non-null object\n",
      "OverTime                    1470 non-null object\n",
      "PercentSalaryHike           1470 non-null int64\n",
      "PerformanceRating           1470 non-null int64\n",
      "RelationshipSatisfaction    1470 non-null int64\n",
      "StandardHours               1470 non-null int64\n",
      "StockOptionLevel            1470 non-null int64\n",
      "TotalWorkingYears           1470 non-null int64\n",
      "TrainingTimesLastYear       1470 non-null int64\n",
      "WorkLifeBalance             1470 non-null int64\n",
      "YearsAtCompany              1470 non-null int64\n",
      "YearsInCurrentRole          1470 non-null int64\n",
      "YearsSinceLastPromotion     1470 non-null int64\n",
      "YearsWithCurrManager        1470 non-null int64\n",
      "dtypes: int64(26), object(9)\n",
      "memory usage: 402.0+ KB\n"
     ]
    }
   ],
   "source": [
    "df.info()"
   ]
  },
  {
   "cell_type": "code",
   "execution_count": 7,
   "metadata": {},
   "outputs": [
    {
     "data": {
      "text/plain": [
       "Index(['Age', 'DailyRate', 'DistanceFromHome', 'Education', 'EmployeeCount',\n",
       "       'EmployeeNumber', 'EnvironmentSatisfaction', 'HourlyRate',\n",
       "       'JobInvolvement', 'JobLevel', 'JobSatisfaction', 'MonthlyIncome',\n",
       "       'MonthlyRate', 'NumCompaniesWorked', 'PercentSalaryHike',\n",
       "       'PerformanceRating', 'RelationshipSatisfaction', 'StandardHours',\n",
       "       'StockOptionLevel', 'TotalWorkingYears', 'TrainingTimesLastYear',\n",
       "       'WorkLifeBalance', 'YearsAtCompany', 'YearsInCurrentRole',\n",
       "       'YearsSinceLastPromotion', 'YearsWithCurrManager'],\n",
       "      dtype='object')"
      ]
     },
     "execution_count": 7,
     "metadata": {},
     "output_type": "execute_result"
    }
   ],
   "source": [
    "df._get_numeric_data().columns"
   ]
  },
  {
   "cell_type": "code",
   "execution_count": 8,
   "metadata": {},
   "outputs": [
    {
     "data": {
      "text/plain": [
       "Age                         0\n",
       "Attrition                   0\n",
       "BusinessTravel              0\n",
       "DailyRate                   0\n",
       "Department                  0\n",
       "DistanceFromHome            0\n",
       "Education                   0\n",
       "EducationField              0\n",
       "EmployeeCount               0\n",
       "EmployeeNumber              0\n",
       "EnvironmentSatisfaction     0\n",
       "Gender                      0\n",
       "HourlyRate                  0\n",
       "JobInvolvement              0\n",
       "JobLevel                    0\n",
       "JobRole                     0\n",
       "JobSatisfaction             0\n",
       "MaritalStatus               0\n",
       "MonthlyIncome               0\n",
       "MonthlyRate                 0\n",
       "NumCompaniesWorked          0\n",
       "Over18                      0\n",
       "OverTime                    0\n",
       "PercentSalaryHike           0\n",
       "PerformanceRating           0\n",
       "RelationshipSatisfaction    0\n",
       "StandardHours               0\n",
       "StockOptionLevel            0\n",
       "TotalWorkingYears           0\n",
       "TrainingTimesLastYear       0\n",
       "WorkLifeBalance             0\n",
       "YearsAtCompany              0\n",
       "YearsInCurrentRole          0\n",
       "YearsSinceLastPromotion     0\n",
       "YearsWithCurrManager        0\n",
       "dtype: int64"
      ]
     },
     "execution_count": 8,
     "metadata": {},
     "output_type": "execute_result"
    }
   ],
   "source": [
    "df.isna().sum()"
   ]
  },
  {
   "cell_type": "code",
   "execution_count": 10,
   "metadata": {},
   "outputs": [
    {
     "data": {
      "text/plain": [
       "(array([ 0,  1,  2,  3,  4,  5,  6,  7,  8,  9, 10, 11, 12, 13, 14, 15, 16,\n",
       "        17, 18, 19, 20, 21, 22, 23, 24, 25]),\n",
       " <a list of 26 Text xticklabel objects>)"
      ]
     },
     "execution_count": 10,
     "metadata": {},
     "output_type": "execute_result"
    },
    {
     "data": {
      "image/png": "[encoded data removed]",
      "text/plain": [
       "<Figure size 720x360 with 1 Axes>"
      ]
     },
     "metadata": {
      "needs_background": "light"
     },
     "output_type": "display_data"
    }
   ],
   "source": [
    "plt.figure(figsize=(10,5))\n",
    "sns.boxplot(data=df)\n",
    "plt.xticks(rotation=90)"
   ]
  },
  {
   "cell_type": "markdown",
   "metadata": {},
   "source": [
    "We can find some outliers in the monthly income feature"
   ]
  },
  {
   "cell_type": "code",
   "execution_count": 11,
   "metadata": {},
   "outputs": [
    {
     "name": "stdout",
     "output_type": "stream",
     "text": [
      "0\n"
     ]
    }
   ],
   "source": [
    "#checking for any other type of Na values in the data frame\n",
    "count=0\n",
    "for i in df:\n",
    "    if(i=='NaN'):\n",
    "        count+=1\n",
    "print(count)"
   ]
  },
  {
   "cell_type": "markdown",
   "metadata": {},
   "source": [
    "After removing the outliers in monthly income feature"
   ]
  },
  {
   "cell_type": "code",
   "execution_count": 15,
   "metadata": {},
   "outputs": [
    {
     "data": {
      "text/plain": [
       "<matplotlib.axes._subplots.AxesSubplot at 0x1b6abfa2b0>"
      ]
     },
     "execution_count": 15,
     "metadata": {},
     "output_type": "execute_result"
    },
    {
     "data": {
      "image/png": "[encoded data removed]",
      "text/plain": [
       "<Figure size 432x288 with 1 Axes>"
      ]
     },
     "metadata": {
      "needs_background": "light"
     },
     "output_type": "display_data"
    }
   ],
   "source": [
    "sns.boxplot(x='MonthlyIncome',data=df)"
   ]
  },
  {
   "cell_type": "markdown",
   "metadata": {},
   "source": [
    "Capping the outliers method"
   ]
  },
  {
   "cell_type": "code",
   "execution_count": 13,
   "metadata": {},
   "outputs": [],
   "source": [
    "iqr=df['MonthlyIncome'].quantile(.75)-df['MonthlyIncome'].quantile(.25)\n",
    "up=df['MonthlyIncome'].quantile(.75)+(1.5*iqr)\n",
    "down=df['MonthlyIncome'].quantile(.25)-(1.5*iqr)"
   ]
  },
  {
   "cell_type": "code",
   "execution_count": 14,
   "metadata": {},
   "outputs": [],
   "source": [
    "for i in df['MonthlyIncome']:\n",
    "    if(i>up):\n",
    "        df['MonthlyIncome']=df['MonthlyIncome'].replace(to_replace=i, value=up)"
   ]
  },
  {
   "cell_type": "markdown",
   "metadata": {},
   "source": [
    "### Label Encoding"
   ]
  },
  {
   "cell_type": "code",
   "execution_count": 16,
   "metadata": {},
   "outputs": [
    {
     "data": {
      "text/plain": [
       "No     1233\n",
       "Yes     237\n",
       "Name: Attrition, dtype: int64"
      ]
     },
     "execution_count": 16,
     "metadata": {},
     "output_type": "execute_result"
    }
   ],
   "source": [
    "df.Attrition.value_counts()"
   ]
  },
  {
   "cell_type": "code",
   "execution_count": 17,
   "metadata": {},
   "outputs": [],
   "source": [
    "df['Attrition']=df.Attrition.map({'Yes':1,'No':0})"
   ]
  },
  {
   "cell_type": "code",
   "execution_count": 18,
   "metadata": {},
   "outputs": [
    {
     "data": {
      "text/plain": [
       "Travel_Rarely        1043\n",
       "Travel_Frequently     277\n",
       "Non-Travel            150\n",
       "Name: BusinessTravel, dtype: int64"
      ]
     },
     "execution_count": 18,
     "metadata": {},
     "output_type": "execute_result"
    }
   ],
   "source": [
    "df.BusinessTravel.value_counts()"
   ]
  },
  {
   "cell_type": "code",
   "execution_count": 19,
   "metadata": {},
   "outputs": [],
   "source": [
    "df.BusinessTravel=df.BusinessTravel.map({'Travel_Rarely':1,'Travel_Frequently':2,'Non-Travel':3})"
   ]
  },
  {
   "cell_type": "code",
   "execution_count": 20,
   "metadata": {},
   "outputs": [
    {
     "data": {
      "text/plain": [
       "Research & Development    961\n",
       "Sales                     446\n",
       "Human Resources            63\n",
       "Name: Department, dtype: int64"
      ]
     },
     "execution_count": 20,
     "metadata": {},
     "output_type": "execute_result"
    }
   ],
   "source": [
    "df.Department.value_counts()"
   ]
  },
  {
   "cell_type": "code",
   "execution_count": 21,
   "metadata": {},
   "outputs": [],
   "source": [
    "df.Department=df.Department.map({'Research & Development':1,'Sales':2,'Human Resources':3})"
   ]
  },
  {
   "cell_type": "code",
   "execution_count": 22,
   "metadata": {},
   "outputs": [],
   "source": [
    "from sklearn import preprocessing"
   ]
  },
  {
   "cell_type": "code",
   "execution_count": 23,
   "metadata": {},
   "outputs": [],
   "source": [
    "le=preprocessing.LabelEncoder()\n",
    "df['EducationField']=le.fit_transform(df['EducationField'])"
   ]
  },
  {
   "cell_type": "code",
   "execution_count": 24,
   "metadata": {},
   "outputs": [],
   "source": [
    "df['Gender']=le.fit_transform(df['Gender'])"
   ]
  },
  {
   "cell_type": "code",
   "execution_count": 25,
   "metadata": {},
   "outputs": [],
   "source": [
    "df['JobRole']=le.fit_transform(df['JobRole'])"
   ]
  },
  {
   "cell_type": "code",
   "execution_count": 26,
   "metadata": {},
   "outputs": [],
   "source": [
    "df['MaritalStatus']=le.fit_transform(df['MaritalStatus'])"
   ]
  },
  {
   "cell_type": "code",
   "execution_count": 27,
   "metadata": {},
   "outputs": [],
   "source": [
    "df['Over18']=df.Over18.map({'Y':1})"
   ]
  },
  {
   "cell_type": "code",
   "execution_count": 28,
   "metadata": {},
   "outputs": [],
   "source": [
    "df['OverTime']=df.OverTime.map({'Yes':1,'No':0})"
   ]
  },
  {
   "cell_type": "code",
   "execution_count": 29,
   "metadata": {},
   "outputs": [
    {
     "data": {
      "text/plain": [
       "0    1\n",
       "1    0\n",
       "2    1\n",
       "3    0\n",
       "4    0\n",
       "Name: Attrition, dtype: int64"
      ]
     },
     "execution_count": 29,
     "metadata": {},
     "output_type": "execute_result"
    }
   ],
   "source": [
    "df['Attrition'].head()"
   ]
  },
  {
   "cell_type": "markdown",
   "metadata": {},
   "source": [
    "### Scaling only the Numerical data in the data frame"
   ]
  },
  {
   "cell_type": "code",
   "execution_count": 45,
   "metadata": {},
   "outputs": [],
   "source": [
    "df5=df.copy()"
   ]
  },
  {
   "cell_type": "code",
   "execution_count": 46,
   "metadata": {},
   "outputs": [],
   "source": [
    "df5=df5.drop(['Age', 'DailyRate', 'DistanceFromHome', 'Education', 'EmployeeCount',\n",
    "       'EmployeeNumber', 'EnvironmentSatisfaction', 'HourlyRate',\n",
    "       'JobInvolvement', 'JobLevel', 'JobSatisfaction', 'MonthlyIncome',\n",
    "       'MonthlyRate', 'NumCompaniesWorked', 'PercentSalaryHike',\n",
    "       'PerformanceRating', 'RelationshipSatisfaction', 'StandardHours',\n",
    "       'StockOptionLevel', 'TotalWorkingYears', 'TrainingTimesLastYear',\n",
    "       'WorkLifeBalance', 'YearsAtCompany', 'YearsInCurrentRole',\n",
    "       'YearsSinceLastPromotion', 'YearsWithCurrManager'],1)"
   ]
  },
  {
   "cell_type": "code",
   "execution_count": 47,
   "metadata": {},
   "outputs": [
    {
     "data": {
      "text/plain": [
       "Index(['Attrition', 'BusinessTravel', 'Department', 'EducationField', 'Gender',\n",
       "       'JobRole', 'MaritalStatus', 'Over18', 'OverTime'],\n",
       "      dtype='object')"
      ]
     },
     "execution_count": 47,
     "metadata": {},
     "output_type": "execute_result"
    }
   ],
   "source": [
    "df5.columns"
   ]
  },
  {
   "cell_type": "code",
   "execution_count": 30,
   "metadata": {},
   "outputs": [],
   "source": [
    "colnames=df[['Age', 'DailyRate', 'DistanceFromHome', 'Education', 'EmployeeCount',\n",
    "       'EmployeeNumber', 'EnvironmentSatisfaction', 'HourlyRate',\n",
    "       'JobInvolvement', 'JobLevel', 'JobSatisfaction', 'MonthlyIncome',\n",
    "       'MonthlyRate', 'NumCompaniesWorked', 'PercentSalaryHike',\n",
    "       'PerformanceRating', 'RelationshipSatisfaction', 'StandardHours',\n",
    "       'StockOptionLevel', 'TotalWorkingYears', 'TrainingTimesLastYear',\n",
    "       'WorkLifeBalance', 'YearsAtCompany', 'YearsInCurrentRole',\n",
    "       'YearsSinceLastPromotion', 'YearsWithCurrManager']]"
   ]
  },
  {
   "cell_type": "code",
   "execution_count": 32,
   "metadata": {},
   "outputs": [],
   "source": [
    "df1=df.copy()"
   ]
  },
  {
   "cell_type": "code",
   "execution_count": 34,
   "metadata": {},
   "outputs": [],
   "source": [
    "df1=df1.drop(['Age', 'DailyRate', 'DistanceFromHome', 'Education', 'EmployeeCount',\n",
    "       'EmployeeNumber', 'EnvironmentSatisfaction', 'HourlyRate',\n",
    "       'JobInvolvement', 'JobLevel', 'JobSatisfaction', 'MonthlyIncome',\n",
    "       'MonthlyRate', 'NumCompaniesWorked', 'PercentSalaryHike',\n",
    "       'PerformanceRating', 'RelationshipSatisfaction', 'StandardHours',\n",
    "       'StockOptionLevel', 'TotalWorkingYears', 'TrainingTimesLastYear',\n",
    "       'WorkLifeBalance', 'YearsAtCompany', 'YearsInCurrentRole',\n",
    "       'YearsSinceLastPromotion', 'YearsWithCurrManager'],1)"
   ]
  },
  {
   "cell_type": "code",
   "execution_count": 35,
   "metadata": {},
   "outputs": [],
   "source": [
    "df1=np.array(df1)"
   ]
  },
  {
   "cell_type": "code",
   "execution_count": 38,
   "metadata": {},
   "outputs": [
    {
     "data": {
      "text/plain": [
       "array([[1, 1, 2, ..., 2, 1, 1],\n",
       "       [0, 2, 1, ..., 1, 1, 0],\n",
       "       [1, 1, 1, ..., 2, 1, 1],\n",
       "       ...,\n",
       "       [0, 1, 1, ..., 1, 1, 1],\n",
       "       [0, 2, 2, ..., 1, 1, 0],\n",
       "       [0, 1, 1, ..., 1, 1, 0]], dtype=int64)"
      ]
     },
     "execution_count": 38,
     "metadata": {},
     "output_type": "execute_result"
    }
   ],
   "source": [
    "df1"
   ]
  },
  {
   "cell_type": "code",
   "execution_count": 39,
   "metadata": {},
   "outputs": [],
   "source": [
    "from sklearn.preprocessing import StandardScaler\n",
    "sc=StandardScaler()\n",
    "colnames=sc.fit_transform(colnames)"
   ]
  },
  {
   "cell_type": "code",
   "execution_count": 42,
   "metadata": {},
   "outputs": [],
   "source": [
    "z=np.hstack((df1,colnames))"
   ]
  },
  {
   "cell_type": "code",
   "execution_count": 49,
   "metadata": {},
   "outputs": [],
   "source": [
    "df2=pd.DataFrame(z,columns=['Attrition', 'BusinessTravel', 'Department', 'EducationField', 'Gender',\n",
    "       'JobRole', 'MaritalStatus', 'Over18', 'OverTime','Age', 'DailyRate', 'DistanceFromHome', 'Education', 'EmployeeCount',\n",
    "       'EmployeeNumber', 'EnvironmentSatisfaction', 'HourlyRate',\n",
    "       'JobInvolvement', 'JobLevel', 'JobSatisfaction', 'MonthlyIncome',\n",
    "       'MonthlyRate', 'NumCompaniesWorked', 'PercentSalaryHike',\n",
    "       'PerformanceRating', 'RelationshipSatisfaction', 'StandardHours',\n",
    "       'StockOptionLevel', 'TotalWorkingYears', 'TrainingTimesLastYear',\n",
    "       'WorkLifeBalance', 'YearsAtCompany', 'YearsInCurrentRole',\n",
    "       'YearsSinceLastPromotion', 'YearsWithCurrManager'])"
   ]
  },
  {
   "cell_type": "code",
   "execution_count": 55,
   "metadata": {},
   "outputs": [],
   "source": [
    "cat=['Attrition', 'BusinessTravel', 'Department', 'EducationField', 'Gender',\n",
    "       'JobRole', 'MaritalStatus', 'Over18', 'OverTime']"
   ]
  },
  {
   "cell_type": "code",
   "execution_count": 59,
   "metadata": {},
   "outputs": [],
   "source": [
    "for i in cat:\n",
    "    df2[i]=df2[i].astype('category')"
   ]
  },
  {
   "cell_type": "markdown",
   "metadata": {},
   "source": [
    "Successfully scaled all the numerical data using standard scaler and stored all the independent variables into a dataframe df2"
   ]
  },
  {
   "cell_type": "markdown",
   "metadata": {},
   "source": [
    "### Splitting the data"
   ]
  },
  {
   "cell_type": "code",
   "execution_count": 62,
   "metadata": {},
   "outputs": [],
   "source": [
    "x=df2.drop('Attrition',1)\n",
    "y=df2['Attrition']"
   ]
  },
  {
   "cell_type": "code",
   "execution_count": 67,
   "metadata": {},
   "outputs": [],
   "source": [
    "x1=np.array(x)\n",
    "y1=np.array(y)"
   ]
  },
  {
   "cell_type": "markdown",
   "metadata": {},
   "source": [
    "### Performing Train test split"
   ]
  },
  {
   "cell_type": "code",
   "execution_count": 118,
   "metadata": {},
   "outputs": [],
   "source": [
    "xtrain,xtest,ytrain,ytest=train_test_split(x1,y1,test_size=0.3,random_state=0)"
   ]
  },
  {
   "cell_type": "markdown",
   "metadata": {},
   "source": [
    "### Model Instantiation"
   ]
  },
  {
   "cell_type": "code",
   "execution_count": 78,
   "metadata": {},
   "outputs": [],
   "source": [
    "from sklearn.linear_model  import LogisticRegression\n",
    "from sklearn.tree import DecisionTreeClassifier\n",
    "from sklearn.ensemble import RandomForestClassifier,BaggingClassifier"
   ]
  },
  {
   "cell_type": "code",
   "execution_count": 79,
   "metadata": {},
   "outputs": [],
   "source": [
    "dt=DecisionTreeClassifier()\n",
    "lr=LogisticRegression()\n",
    "rf=RandomForestClassifier()"
   ]
  },
  {
   "cell_type": "code",
   "execution_count": 85,
   "metadata": {},
   "outputs": [],
   "source": [
    "from sklearn import metrics"
   ]
  },
  {
   "cell_type": "markdown",
   "metadata": {},
   "source": [
    "### Perfoming GridsearchCV and Model training"
   ]
  },
  {
   "cell_type": "code",
   "execution_count": 92,
   "metadata": {},
   "outputs": [],
   "source": [
    "from sklearn.model_selection import GridSearchCV"
   ]
  },
  {
   "cell_type": "code",
   "execution_count": 102,
   "metadata": {},
   "outputs": [
    {
     "data": {
      "text/plain": [
       "{'criterion': 'gini', 'max_depth': 28}"
      ]
     },
     "execution_count": 102,
     "metadata": {},
     "output_type": "execute_result"
    }
   ],
   "source": [
    "params={'max_depth':np.arange(1,60),'criterion':['entropy','gini']}\n",
    "gs=GridSearchCV(dt,params,cv=3,scoring='recall')\n",
    "gs.fit(x1,y1)\n",
    "gs.best_params_"
   ]
  },
  {
   "cell_type": "code",
   "execution_count": 144,
   "metadata": {},
   "outputs": [
    {
     "name": "stdout",
     "output_type": "stream",
     "text": [
      "Accuracy for RandomForest Supervised:\n",
      " 0.8616780045351474\n",
      "AUC for RandomForest Supervised 0.5932614555256064\n"
     ]
    },
    {
     "data": {
      "text/plain": [
       "array([[366,   5],\n",
       "       [ 56,  14]], dtype=int64)"
      ]
     },
     "execution_count": 144,
     "metadata": {},
     "output_type": "execute_result"
    }
   ],
   "source": [
    "# Random Forest model\n",
    "rf.fit(xtrain, ytrain)\n",
    "\n",
    "y_random_sup = rf.predict(xtest) \n",
    "y_random_sup_met=metrics.accuracy_score(ytest,y_random_sup)\n",
    "random_conf_sup=metrics.confusion_matrix(ytest,y_random_sup)\n",
    "fpr,tpr,_=roc_curve(ytest,y_random_sup)\n",
    "random_auc_sup=(auc(fpr,tpr))\n",
    "print(\"Accuracy for RandomForest Supervised:\\n\",y_random_sup_met)\n",
    "print(\"AUC for RandomForest Supervised\",random_auc_sup)\n",
    "random_conf_sup"
   ]
  },
  {
   "cell_type": "code",
   "execution_count": 146,
   "metadata": {},
   "outputs": [
    {
     "name": "stdout",
     "output_type": "stream",
     "text": [
      "Accuracy for Logistic Regression:  0.8798185941043084\n",
      "AUC for Logistic Regression Supervised:  0.6677897574123989\n"
     ]
    },
    {
     "data": {
      "text/plain": [
       "array([[363,   8],\n",
       "       [ 45,  25]], dtype=int64)"
      ]
     },
     "execution_count": 146,
     "metadata": {},
     "output_type": "execute_result"
    }
   ],
   "source": [
    "# Logistic Regression model\n",
    "lr.fit(xtrain, ytrain)\n",
    "\n",
    "log_model_scaled = lr.predict(xtest) \n",
    "y_log_model_scaled_met=metrics.accuracy_score(ytest,log_model_scaled)\n",
    "log_conf_sup=metrics.confusion_matrix(ytest,log_model_scaled)\n",
    "fpr,tpr,_=roc_curve(ytest,log_model_scaled)\n",
    "log_auc_sup=(auc(fpr,tpr))\n",
    "print(\"Accuracy for Logistic Regression: \",y_log_model_scaled_met)\n",
    "print(\"AUC for Logistic Regression Supervised: \",log_auc_sup)\n",
    "log_conf_sup"
   ]
  },
  {
   "cell_type": "code",
   "execution_count": 147,
   "metadata": {},
   "outputs": [
    {
     "name": "stdout",
     "output_type": "stream",
     "text": [
      "Accuracy for Decision Tree:  0.7755102040816326\n",
      "AUC for Decision Tree Supervised:  0.6057951482479784\n"
     ]
    },
    {
     "data": {
      "text/plain": [
       "array([[317,  54],\n",
       "       [ 45,  25]], dtype=int64)"
      ]
     },
     "execution_count": 147,
     "metadata": {},
     "output_type": "execute_result"
    }
   ],
   "source": [
    "# Decision Tree model\n",
    " \n",
    "dt.fit(xtrain, ytrain)\n",
    "\n",
    "tree_model_scaled = dt.predict(xtest) \n",
    "tree_model_scaled_met=metrics.accuracy_score(ytest,tree_model_scaled)\n",
    "tree_conf_sup=metrics.confusion_matrix(ytest,tree_model_scaled)\n",
    "fpr,tpr,_=roc_curve(ytest,tree_model_scaled)\n",
    "tree_auc_sup=(auc(fpr,tpr))\n",
    "print(\"Accuracy for Decision Tree: \",tree_model_scaled_met)\n",
    "print(\"AUC for Decision Tree Supervised: \",tree_auc_sup)\n",
    "tree_conf_sup"
   ]
  },
  {
   "cell_type": "code",
   "execution_count": 127,
   "metadata": {},
   "outputs": [],
   "source": [
    "from sklearn.neighbors import KNeighborsClassifier"
   ]
  },
  {
   "cell_type": "code",
   "execution_count": 148,
   "metadata": {},
   "outputs": [
    {
     "name": "stdout",
     "output_type": "stream",
     "text": [
      "Accuracy for KNN supervised:\n",
      " 0.8571428571428571\n",
      "AUC for KNN Supervised:  0.5731805929919137\n"
     ]
    },
    {
     "data": {
      "text/plain": [
       "array([[367,   4],\n",
       "       [ 59,  11]], dtype=int64)"
      ]
     },
     "execution_count": 148,
     "metadata": {},
     "output_type": "execute_result"
    }
   ],
   "source": [
    "# KNN model\n",
    "\n",
    "KNN_model_sv = KNeighborsClassifier()  \n",
    "KNN_model_sv.fit(xtrain, ytrain)\n",
    "\n",
    "KNN_model_scaled = KNN_model_sv.predict(xtest) \n",
    "KNN_model_scaled_met=metrics.accuracy_score(ytest,KNN_model_scaled)\n",
    "knn_conf_sup=metrics.confusion_matrix(ytest,KNN_model_scaled)\n",
    "fpr,tpr,_=roc_curve(ytest,KNN_model_scaled)\n",
    "knn_auc_sup=(auc(fpr,tpr))\n",
    "print(\"Accuracy for KNN supervised:\\n\",KNN_model_scaled_met)\n",
    "print(\"AUC for KNN Supervised: \",knn_auc_sup)\n",
    "knn_conf_sup"
   ]
  },
  {
   "cell_type": "code",
   "execution_count": 134,
   "metadata": {},
   "outputs": [
    {
     "data": {
      "text/plain": [
       "{'n_neighbors': 1, 'weights': 'uniform'}"
      ]
     },
     "execution_count": 134,
     "metadata": {},
     "output_type": "execute_result"
    }
   ],
   "source": [
    "params={'n_neighbors':np.arange(1,60),'weights':['uniform','distance']}\n",
    "gs=GridSearchCV(KNN_model_sv,params,cv=3,scoring='recall')\n",
    "gs.fit(x1,y1)\n",
    "gs.best_params_"
   ]
  },
  {
   "cell_type": "code",
   "execution_count": 135,
   "metadata": {},
   "outputs": [],
   "source": [
    "from sklearn.svm import SVC\n",
    "from sklearn.naive_bayes import GaussianNB"
   ]
  },
  {
   "cell_type": "code",
   "execution_count": 103,
   "metadata": {},
   "outputs": [],
   "source": [
    "import warnings\n",
    "warnings.filterwarnings('ignore')"
   ]
  },
  {
   "cell_type": "code",
   "execution_count": 149,
   "metadata": {},
   "outputs": [
    {
     "name": "stdout",
     "output_type": "stream",
     "text": [
      "Accuracy for NB supervised:  0.7913832199546486\n",
      "AUC for NB Supervised:  0.7369272237196764\n"
     ]
    },
    {
     "data": {
      "text/plain": [
       "array([[303,  68],\n",
       "       [ 24,  46]], dtype=int64)"
      ]
     },
     "execution_count": 149,
     "metadata": {},
     "output_type": "execute_result"
    }
   ],
   "source": [
    "# Naive model\n",
    "\n",
    "Naive_model_sv = GaussianNB()  \n",
    "Naive_model_sv.fit(xtrain, ytrain)\n",
    "\n",
    "Naive_model_scaled = Naive_model_sv.predict(xtest) \n",
    "Naive_model_scaled_met=metrics.accuracy_score(ytest,Naive_model_scaled)\n",
    "nb_conf_sup=metrics.confusion_matrix(ytest,Naive_model_scaled)\n",
    "fpr,tpr,_=roc_curve(ytest,Naive_model_scaled)\n",
    "nb_auc_sup=(auc(fpr,tpr))\n",
    "print(\"Accuracy for NB supervised: \",Naive_model_scaled_met)\n",
    "print(\"AUC for NB Supervised: \",nb_auc_sup)\n",
    "nb_conf_sup"
   ]
  },
  {
   "cell_type": "code",
   "execution_count": 150,
   "metadata": {},
   "outputs": [
    {
     "name": "stdout",
     "output_type": "stream",
     "text": [
      "Accuracy for SVM supervised:  0.8480725623582767\n",
      "AUC for SVM Supervised:  0.5272237196765498\n"
     ]
    },
    {
     "data": {
      "text/plain": [
       "array([[370,   1],\n",
       "       [ 66,   4]], dtype=int64)"
      ]
     },
     "execution_count": 150,
     "metadata": {},
     "output_type": "execute_result"
    }
   ],
   "source": [
    "# SVM model\n",
    "\n",
    "SVM_model_sv = SVC()  \n",
    "SVM_model_sv.fit(xtrain, ytrain)\n",
    "\n",
    "SVM_model_scaled = SVM_model_sv.predict(xtest) \n",
    "SVM_model_scaled_met=metrics.accuracy_score(ytest,SVM_model_scaled)\n",
    "svm_conf_sup=metrics.confusion_matrix(ytest,SVM_model_scaled)\n",
    "fpr,tpr,_=roc_curve(ytest,SVM_model_scaled)\n",
    "svm_auc_sup=(auc(fpr,tpr))\n",
    "print(\"Accuracy for SVM supervised: \",SVM_model_scaled_met)\n",
    "print(\"AUC for SVM Supervised: \",svm_auc_sup)\n",
    "svm_conf_sup"
   ]
  },
  {
   "cell_type": "code",
   "execution_count": 155,
   "metadata": {},
   "outputs": [
    {
     "data": {
      "text/html": [
       "<div>\n",
       "<style scoped>\n",
       "    .dataframe tbody tr th:only-of-type {\n",
       "        vertical-align: middle;\n",
       "    }\n",
       "\n",
       "    .dataframe tbody tr th {\n",
       "        vertical-align: top;\n",
       "    }\n",
       "\n",
       "    .dataframe thead th {\n",
       "        text-align: right;\n",
       "    }\n",
       "</style>\n",
       "<table border=\"1\" class=\"dataframe\">\n",
       "  <thead>\n",
       "    <tr style=\"text-align: right;\">\n",
       "      <th></th>\n",
       "      <th>Accuracy_Scores_supervised</th>\n",
       "      <th>AUC</th>\n",
       "    </tr>\n",
       "  </thead>\n",
       "  <tbody>\n",
       "    <tr>\n",
       "      <th>Logistic Regression Supervised</th>\n",
       "      <td>0.879819</td>\n",
       "      <td>0.667790</td>\n",
       "    </tr>\n",
       "    <tr>\n",
       "      <th>Random Forest Supervised</th>\n",
       "      <td>0.861678</td>\n",
       "      <td>0.593261</td>\n",
       "    </tr>\n",
       "    <tr>\n",
       "      <th>KNN supervised</th>\n",
       "      <td>0.857143</td>\n",
       "      <td>0.573181</td>\n",
       "    </tr>\n",
       "    <tr>\n",
       "      <th>SVM supervised</th>\n",
       "      <td>0.848073</td>\n",
       "      <td>0.527224</td>\n",
       "    </tr>\n",
       "    <tr>\n",
       "      <th>NB supervised</th>\n",
       "      <td>0.791383</td>\n",
       "      <td>0.736927</td>\n",
       "    </tr>\n",
       "    <tr>\n",
       "      <th>DT Supervised</th>\n",
       "      <td>0.775510</td>\n",
       "      <td>0.605795</td>\n",
       "    </tr>\n",
       "  </tbody>\n",
       "</table>\n",
       "</div>"
      ],
      "text/plain": [
       "                                Accuracy_Scores_supervised       AUC\n",
       "Logistic Regression Supervised                    0.879819  0.667790\n",
       "Random Forest Supervised                          0.861678  0.593261\n",
       "KNN supervised                                    0.857143  0.573181\n",
       "SVM supervised                                    0.848073  0.527224\n",
       "NB supervised                                     0.791383  0.736927\n",
       "DT Supervised                                     0.775510  0.605795"
      ]
     },
     "execution_count": 155,
     "metadata": {},
     "output_type": "execute_result"
    }
   ],
   "source": [
    "Accuracy_Scores_3=pd.DataFrame({\"Accuracy_Scores_supervised\":[y_random_sup_met,y_log_model_scaled_met,tree_model_scaled_met,\n",
    "                                     KNN_model_scaled_met,Naive_model_scaled_met,SVM_model_scaled_met],\"AUC\":[random_auc_sup,log_auc_sup,tree_auc_sup,knn_auc_sup,nb_auc_sup,svm_auc_sup]},index= [\"Random Forest Supervised\",\"Logistic Regression Supervised\",\"DT Supervised\",\n",
    "                                     \"KNN supervised\",\"NB supervised\",\"SVM supervised\"])\n",
    "\n",
    "Accuracy_Scores_3.sort_values(by=\"Accuracy_Scores_supervised\",ascending=False)"
   ]
  },
  {
   "cell_type": "markdown",
   "metadata": {},
   "source": [
    "Comparing to other model Logistic Regression produce more accuracy. Eventhough the AUC of NB is high its Accuracy is less hence choose Logistic Regression"
   ]
  },
  {
   "cell_type": "markdown",
   "metadata": {},
   "source": [
    "### Incresing the model accuracy"
   ]
  },
  {
   "cell_type": "code",
   "execution_count": 168,
   "metadata": {},
   "outputs": [],
   "source": [
    "dt_reg=DecisionTreeClassifier(criterion='entropy',max_depth=28,random_state=0)\n",
    "lr_reg=LogisticRegression(penalty='l1',random_state=0)"
   ]
  },
  {
   "cell_type": "code",
   "execution_count": 169,
   "metadata": {},
   "outputs": [
    {
     "name": "stdout",
     "output_type": "stream",
     "text": [
      "Accuracy for Decision reg_tree:  0.8072562358276644\n",
      "AUC for Decision reg_tree Supervised:  0.6014824797843665\n"
     ]
    },
    {
     "data": {
      "text/plain": [
       "array([[335,  36],\n",
       "       [ 49,  21]], dtype=int64)"
      ]
     },
     "execution_count": 169,
     "metadata": {},
     "output_type": "execute_result"
    }
   ],
   "source": [
    "# Decision reg_tree model\n",
    " \n",
    "dt_reg.fit(xtrain, ytrain)\n",
    "\n",
    "reg_tree_model_scaled = dt_reg.predict(xtest) \n",
    "reg_tree_model_scaled_met=metrics.accuracy_score(ytest,reg_tree_model_scaled)\n",
    "reg_tree_conf_sup=metrics.confusion_matrix(ytest,reg_tree_model_scaled)\n",
    "fpr,tpr,_=roc_curve(ytest,reg_tree_model_scaled)\n",
    "reg_tree_auc_sup=(auc(fpr,tpr))\n",
    "print(\"Accuracy for Decision reg_tree: \",reg_tree_model_scaled_met)\n",
    "print(\"AUC for Decision reg_tree Supervised: \",reg_tree_auc_sup)\n",
    "reg_tree_conf_sup"
   ]
  },
  {
   "cell_type": "code",
   "execution_count": 170,
   "metadata": {},
   "outputs": [
    {
     "name": "stdout",
     "output_type": "stream",
     "text": [
      "Accuracy for reg_logistic Regression:  0.8820861678004536\n",
      "AUC for reg_logistic Regression Supervised:  0.6691374663072777\n"
     ]
    },
    {
     "data": {
      "text/plain": [
       "array([[364,   7],\n",
       "       [ 45,  25]], dtype=int64)"
      ]
     },
     "execution_count": 170,
     "metadata": {},
     "output_type": "execute_result"
    }
   ],
   "source": [
    "# reg_logistic Regression model\n",
    "lr_reg.fit(xtrain, ytrain)\n",
    "\n",
    "reg_log_model_scaled = lr_reg.predict(xtest) \n",
    "y_reg_log_model_scaled_met=metrics.accuracy_score(ytest,reg_log_model_scaled)\n",
    "reg_log_conf_sup=metrics.confusion_matrix(ytest,reg_log_model_scaled)\n",
    "fpr,tpr,_=roc_curve(ytest,reg_log_model_scaled)\n",
    "reg_log_auc_sup=(auc(fpr,tpr))\n",
    "print(\"Accuracy for reg_logistic Regression: \",y_reg_log_model_scaled_met)\n",
    "print(\"AUC for reg_logistic Regression Supervised: \",reg_log_auc_sup)\n",
    "reg_log_conf_sup"
   ]
  },
  {
   "cell_type": "code",
   "execution_count": 171,
   "metadata": {},
   "outputs": [],
   "source": [
    "#we cannot find much difference between the non regularised models and regularised models"
   ]
  },
  {
   "cell_type": "code",
   "execution_count": null,
   "metadata": {},
   "outputs": [],
   "source": []
  },
  {
   "cell_type": "code",
   "execution_count": 180,
   "metadata": {},
   "outputs": [
    {
     "name": "stdout",
     "output_type": "stream",
     "text": [
      "Accuracy for Bagged Logistic Regression:  0.8820861678004536\n",
      "AUC for Bagged logistic Regression Supervised:  0.6677897574123989\n"
     ]
    },
    {
     "data": {
      "text/plain": [
       "array([[363,   8],\n",
       "       [ 44,  26]], dtype=int64)"
      ]
     },
     "execution_count": 180,
     "metadata": {},
     "output_type": "execute_result"
    }
   ],
   "source": [
    "bag_lr=BaggingClassifier(base_estimator=lr,n_estimators=30,random_state=30)\n",
    "bag_lr.fit(xtrain, ytrain)\n",
    "\n",
    "bag_log_model_scaled = bag_lr.predict(xtest) \n",
    "bag_log_model_scaled_met=metrics.accuracy_score(ytest,bag_log_model_scaled)\n",
    "bag_log_conf_sup=metrics.confusion_matrix(ytest,bag_log_model_scaled)\n",
    "fpr,tpr,_=roc_curve(ytest,log_model_scaled)\n",
    "bag_log_auc_sup=(auc(fpr,tpr))\n",
    "print(\"Accuracy for Bagged Logistic Regression: \",bag_log_model_scaled_met)\n",
    "print(\"AUC for Bagged logistic Regression Supervised: \",bag_log_auc_sup)\n",
    "bag_log_conf_sup"
   ]
  },
  {
   "cell_type": "code",
   "execution_count": 183,
   "metadata": {},
   "outputs": [],
   "source": [
    "models=[]\n",
    "models.append(('DecisionTree',dt)) #fully grown dt\n",
    "models.append(('DT_Regularized',dt_reg))\n",
    "models.append(('RandomForest',rf))\n",
    "models.append(('LR',lr))\n",
    "models.append(('Bagged_lr',bag_lr))\n",
    "models.append(('SVM',SVM_model_sv))\n",
    "models.append(('KNN',KNN_model_sv))\n",
    "models.append(('NB',Naive_model_sv))"
   ]
  },
  {
   "cell_type": "code",
   "execution_count": 184,
   "metadata": {},
   "outputs": [
    {
     "name": "stdout",
     "output_type": "stream",
     "text": [
      "DecisionTree: 0.389087 (0.002173)\n",
      "DT_Regularized: 0.347376 (0.000984)\n",
      "RandomForest: 0.145208 (0.002438)\n",
      "LR: 0.373584 (0.006603)\n",
      "Bagged_lr: 0.378235 (0.006423)\n",
      "SVM: 0.096999 (0.000154)\n",
      "KNN: 0.107827 (0.000576)\n",
      "NB: 0.602062 (0.001475)\n"
     ]
    }
   ],
   "source": [
    "results=[]\n",
    "names=[]\n",
    "for name,model in models:\n",
    "    kfold=model_selection.KFold(n_splits=5,random_state=2)\n",
    "    cv_results=model_selection.cross_val_score(model,x,y,cv=kfold,scoring='recall')\n",
    "    results.append(cv_results)\n",
    "    names.append(name)\n",
    "    msg=\"%s: %f (%f)\" % (name,np.mean(cv_results),np.var(cv_results,ddof=1))\n",
    "    print(msg)"
   ]
  },
  {
   "cell_type": "markdown",
   "metadata": {},
   "source": [
    "SVM has less variance error, but in terms of accuracy wise svm not performs well"
   ]
  },
  {
   "cell_type": "code",
   "execution_count": 187,
   "metadata": {},
   "outputs": [],
   "source": [
    "from sklearn.ensemble import GradientBoostingClassifier"
   ]
  },
  {
   "cell_type": "code",
   "execution_count": 190,
   "metadata": {},
   "outputs": [
    {
     "name": "stdout",
     "output_type": "stream",
     "text": [
      "Accuracy for Gradient Boost Classifier Supervised:  0.8752834467120182\n",
      "AUC for Gradient Boost Classifier Supervised:  0.6677897574123989\n"
     ]
    },
    {
     "data": {
      "text/plain": [
       "array([[363,   8],\n",
       "       [ 47,  23]], dtype=int64)"
      ]
     },
     "execution_count": 190,
     "metadata": {},
     "output_type": "execute_result"
    }
   ],
   "source": [
    "gbs=GradientBoostingClassifier()\n",
    "gbs.fit(xtrain, ytrain)\n",
    "\n",
    "gbs_model_scaled = gbs.predict(xtest) \n",
    "gbs_model_scaled_met=metrics.accuracy_score(ytest,gbs_model_scaled)\n",
    "gbs_conf_sup=metrics.confusion_matrix(ytest,gbs_model_scaled)\n",
    "fpr,tpr,_=roc_curve(ytest,log_model_scaled)\n",
    "gbs_auc_sup=(auc(fpr,tpr))\n",
    "print(\"Accuracy for Gradient Boost Classifier Supervised: \",gbs_model_scaled_met)\n",
    "print(\"AUC for Gradient Boost Classifier Supervised: \",gbs_auc_sup)\n",
    "gbs_conf_sup"
   ]
  },
  {
   "cell_type": "markdown",
   "metadata": {},
   "source": [
    "### ------------------------------------------------------------------------------------------------------------------------------------------------------------"
   ]
  },
  {
   "cell_type": "markdown",
   "metadata": {},
   "source": [
    "# Unsupervised Learning"
   ]
  },
  {
   "cell_type": "code",
   "execution_count": 206,
   "metadata": {},
   "outputs": [
    {
     "data": {
      "text/html": [
       "<div>\n",
       "<style scoped>\n",
       "    .dataframe tbody tr th:only-of-type {\n",
       "        vertical-align: middle;\n",
       "    }\n",
       "\n",
       "    .dataframe tbody tr th {\n",
       "        vertical-align: top;\n",
       "    }\n",
       "\n",
       "    .dataframe thead th {\n",
       "        text-align: right;\n",
       "    }\n",
       "</style>\n",
       "<table border=\"1\" class=\"dataframe\">\n",
       "  <thead>\n",
       "    <tr style=\"text-align: right;\">\n",
       "      <th></th>\n",
       "      <th>BusinessTravel</th>\n",
       "      <th>Department</th>\n",
       "      <th>EducationField</th>\n",
       "      <th>Gender</th>\n",
       "      <th>JobRole</th>\n",
       "      <th>MaritalStatus</th>\n",
       "      <th>Over18</th>\n",
       "      <th>OverTime</th>\n",
       "      <th>Age</th>\n",
       "      <th>DailyRate</th>\n",
       "      <th>...</th>\n",
       "      <th>StandardHours</th>\n",
       "      <th>StockOptionLevel</th>\n",
       "      <th>TotalWorkingYears</th>\n",
       "      <th>TrainingTimesLastYear</th>\n",
       "      <th>WorkLifeBalance</th>\n",
       "      <th>YearsAtCompany</th>\n",
       "      <th>YearsInCurrentRole</th>\n",
       "      <th>YearsSinceLastPromotion</th>\n",
       "      <th>YearsWithCurrManager</th>\n",
       "      <th>target</th>\n",
       "    </tr>\n",
       "  </thead>\n",
       "  <tbody>\n",
       "    <tr>\n",
       "      <th>0</th>\n",
       "      <td>1</td>\n",
       "      <td>2</td>\n",
       "      <td>1</td>\n",
       "      <td>0</td>\n",
       "      <td>7</td>\n",
       "      <td>2</td>\n",
       "      <td>1</td>\n",
       "      <td>1</td>\n",
       "      <td>0.446350</td>\n",
       "      <td>0.742527</td>\n",
       "      <td>...</td>\n",
       "      <td>0.0</td>\n",
       "      <td>-0.932014</td>\n",
       "      <td>-0.421642</td>\n",
       "      <td>-2.171982</td>\n",
       "      <td>-2.493820</td>\n",
       "      <td>-0.164613</td>\n",
       "      <td>-0.063296</td>\n",
       "      <td>-0.679146</td>\n",
       "      <td>0.245834</td>\n",
       "      <td>1</td>\n",
       "    </tr>\n",
       "    <tr>\n",
       "      <th>1</th>\n",
       "      <td>2</td>\n",
       "      <td>1</td>\n",
       "      <td>1</td>\n",
       "      <td>1</td>\n",
       "      <td>6</td>\n",
       "      <td>1</td>\n",
       "      <td>1</td>\n",
       "      <td>0</td>\n",
       "      <td>1.322365</td>\n",
       "      <td>-1.297775</td>\n",
       "      <td>...</td>\n",
       "      <td>0.0</td>\n",
       "      <td>0.241988</td>\n",
       "      <td>-0.164511</td>\n",
       "      <td>0.155707</td>\n",
       "      <td>0.338096</td>\n",
       "      <td>0.488508</td>\n",
       "      <td>0.764998</td>\n",
       "      <td>-0.368715</td>\n",
       "      <td>0.806541</td>\n",
       "      <td>1</td>\n",
       "    </tr>\n",
       "    <tr>\n",
       "      <th>2</th>\n",
       "      <td>1</td>\n",
       "      <td>1</td>\n",
       "      <td>4</td>\n",
       "      <td>1</td>\n",
       "      <td>2</td>\n",
       "      <td>2</td>\n",
       "      <td>1</td>\n",
       "      <td>1</td>\n",
       "      <td>0.008343</td>\n",
       "      <td>1.414363</td>\n",
       "      <td>...</td>\n",
       "      <td>0.0</td>\n",
       "      <td>-0.932014</td>\n",
       "      <td>-0.550208</td>\n",
       "      <td>0.155707</td>\n",
       "      <td>0.338096</td>\n",
       "      <td>-1.144294</td>\n",
       "      <td>-1.167687</td>\n",
       "      <td>-0.679146</td>\n",
       "      <td>-1.155935</td>\n",
       "      <td>0</td>\n",
       "    </tr>\n",
       "    <tr>\n",
       "      <th>3</th>\n",
       "      <td>2</td>\n",
       "      <td>1</td>\n",
       "      <td>1</td>\n",
       "      <td>0</td>\n",
       "      <td>6</td>\n",
       "      <td>1</td>\n",
       "      <td>1</td>\n",
       "      <td>1</td>\n",
       "      <td>-0.429664</td>\n",
       "      <td>1.461466</td>\n",
       "      <td>...</td>\n",
       "      <td>0.0</td>\n",
       "      <td>-0.932014</td>\n",
       "      <td>-0.421642</td>\n",
       "      <td>0.155707</td>\n",
       "      <td>0.338096</td>\n",
       "      <td>0.161947</td>\n",
       "      <td>0.764998</td>\n",
       "      <td>0.252146</td>\n",
       "      <td>-1.155935</td>\n",
       "      <td>1</td>\n",
       "    </tr>\n",
       "    <tr>\n",
       "      <th>4</th>\n",
       "      <td>1</td>\n",
       "      <td>1</td>\n",
       "      <td>3</td>\n",
       "      <td>1</td>\n",
       "      <td>2</td>\n",
       "      <td>1</td>\n",
       "      <td>1</td>\n",
       "      <td>0</td>\n",
       "      <td>-1.086676</td>\n",
       "      <td>-0.524295</td>\n",
       "      <td>...</td>\n",
       "      <td>0.0</td>\n",
       "      <td>0.241988</td>\n",
       "      <td>-0.678774</td>\n",
       "      <td>0.155707</td>\n",
       "      <td>0.338096</td>\n",
       "      <td>-0.817734</td>\n",
       "      <td>-0.615492</td>\n",
       "      <td>-0.058285</td>\n",
       "      <td>-0.595227</td>\n",
       "      <td>0</td>\n",
       "    </tr>\n",
       "  </tbody>\n",
       "</table>\n",
       "<p>5 rows × 35 columns</p>\n",
       "</div>"
      ],
      "text/plain": [
       "  BusinessTravel Department EducationField Gender JobRole MaritalStatus  \\\n",
       "0              1          2              1      0       7             2   \n",
       "1              2          1              1      1       6             1   \n",
       "2              1          1              4      1       2             2   \n",
       "3              2          1              1      0       6             1   \n",
       "4              1          1              3      1       2             1   \n",
       "\n",
       "  Over18 OverTime       Age  DailyRate   ...    StandardHours  \\\n",
       "0      1        1  0.446350   0.742527   ...              0.0   \n",
       "1      1        0  1.322365  -1.297775   ...              0.0   \n",
       "2      1        1  0.008343   1.414363   ...              0.0   \n",
       "3      1        1 -0.429664   1.461466   ...              0.0   \n",
       "4      1        0 -1.086676  -0.524295   ...              0.0   \n",
       "\n",
       "   StockOptionLevel  TotalWorkingYears  TrainingTimesLastYear  \\\n",
       "0         -0.932014          -0.421642              -2.171982   \n",
       "1          0.241988          -0.164511               0.155707   \n",
       "2         -0.932014          -0.550208               0.155707   \n",
       "3         -0.932014          -0.421642               0.155707   \n",
       "4          0.241988          -0.678774               0.155707   \n",
       "\n",
       "   WorkLifeBalance  YearsAtCompany  YearsInCurrentRole  \\\n",
       "0        -2.493820       -0.164613           -0.063296   \n",
       "1         0.338096        0.488508            0.764998   \n",
       "2         0.338096       -1.144294           -1.167687   \n",
       "3         0.338096        0.161947            0.764998   \n",
       "4         0.338096       -0.817734           -0.615492   \n",
       "\n",
       "   YearsSinceLastPromotion  YearsWithCurrManager  target  \n",
       "0                -0.679146              0.245834       1  \n",
       "1                -0.368715              0.806541       1  \n",
       "2                -0.679146             -1.155935       0  \n",
       "3                 0.252146             -1.155935       1  \n",
       "4                -0.058285             -0.595227       0  \n",
       "\n",
       "[5 rows x 35 columns]"
      ]
     },
     "execution_count": 206,
     "metadata": {},
     "output_type": "execute_result"
    }
   ],
   "source": [
    "df3.head()"
   ]
  },
  {
   "cell_type": "code",
   "execution_count": 195,
   "metadata": {},
   "outputs": [],
   "source": [
    "df3=df2.copy()"
   ]
  },
  {
   "cell_type": "code",
   "execution_count": 196,
   "metadata": {},
   "outputs": [],
   "source": [
    "df3=df3.drop(['Attrition'],1)"
   ]
  },
  {
   "cell_type": "code",
   "execution_count": 199,
   "metadata": {},
   "outputs": [],
   "source": [
    "from sklearn.cluster import KMeans,AgglomerativeClustering"
   ]
  },
  {
   "cell_type": "code",
   "execution_count": 200,
   "metadata": {},
   "outputs": [],
   "source": [
    "x_km=df3\n",
    "y_check=df2['Attrition']"
   ]
  },
  {
   "cell_type": "code",
   "execution_count": 202,
   "metadata": {},
   "outputs": [
    {
     "data": {
      "text/html": [
       "<div>\n",
       "<style scoped>\n",
       "    .dataframe tbody tr th:only-of-type {\n",
       "        vertical-align: middle;\n",
       "    }\n",
       "\n",
       "    .dataframe tbody tr th {\n",
       "        vertical-align: top;\n",
       "    }\n",
       "\n",
       "    .dataframe thead th {\n",
       "        text-align: right;\n",
       "    }\n",
       "</style>\n",
       "<table border=\"1\" class=\"dataframe\">\n",
       "  <thead>\n",
       "    <tr style=\"text-align: right;\">\n",
       "      <th></th>\n",
       "      <th>Accuracy_Scores</th>\n",
       "    </tr>\n",
       "  </thead>\n",
       "  <tbody>\n",
       "    <tr>\n",
       "      <th>Agglomerative_cluster</th>\n",
       "      <td>0.489116</td>\n",
       "    </tr>\n",
       "    <tr>\n",
       "      <th>Kmean_cluster</th>\n",
       "      <td>0.463946</td>\n",
       "    </tr>\n",
       "  </tbody>\n",
       "</table>\n",
       "</div>"
      ],
      "text/plain": [
       "                       Accuracy_Scores\n",
       "Agglomerative_cluster         0.489116\n",
       "Kmean_cluster                 0.463946"
      ]
     },
     "execution_count": 202,
     "metadata": {},
     "output_type": "execute_result"
    }
   ],
   "source": [
    "kmeans=KMeans(n_clusters=2).fit(x_km)\n",
    "pred_target_km= list(kmeans.labels_)\n",
    "kmean_acc = metrics.accuracy_score(y_check,pred_target_km)\n",
    "\n",
    "#________________________________________________________________________________\n",
    "\n",
    "agg_cluster = AgglomerativeClustering(n_clusters = 2, linkage=\"ward\")\n",
    "pred_target_agg = list(agg_cluster.fit_predict(x_km))\n",
    "agg_acc = metrics.accuracy_score(y_check,pred_target_agg)\n",
    "\n",
    "compare = pd.DataFrame({\"Accuracy_Scores\":[kmean_acc,agg_acc]},index=[\"Kmean_cluster\",\"Agglomerative_cluster\"])\n",
    "compare.sort_values(by=\"Accuracy_Scores\",ascending=False)"
   ]
  },
  {
   "cell_type": "code",
   "execution_count": 204,
   "metadata": {},
   "outputs": [],
   "source": [
    "df3['target']=pred_target_agg"
   ]
  },
  {
   "cell_type": "code",
   "execution_count": 203,
   "metadata": {},
   "outputs": [],
   "source": [
    "#agglomerative clustering performs good relative to Kmeans"
   ]
  },
  {
   "cell_type": "code",
   "execution_count": 207,
   "metadata": {},
   "outputs": [],
   "source": [
    "y_cl=df3['target']"
   ]
  },
  {
   "cell_type": "code",
   "execution_count": 208,
   "metadata": {},
   "outputs": [],
   "source": [
    "x_train, x_test, y_train, y_test = train_test_split(x_km,y_cl,test_size=0.3, random_state=0)  "
   ]
  },
  {
   "cell_type": "code",
   "execution_count": 239,
   "metadata": {},
   "outputs": [
    {
     "name": "stdout",
     "output_type": "stream",
     "text": [
      "Accuracy for Random Forest Unsupervised:  0.9931972789115646\n",
      "AUC for RandomForest Unsupervised 0.5104629629629629\n"
     ]
    },
    {
     "data": {
      "text/plain": [
       "array([[209,   7],\n",
       "       [213,  12]], dtype=int64)"
      ]
     },
     "execution_count": 239,
     "metadata": {},
     "output_type": "execute_result"
    }
   ],
   "source": [
    "# Random Forest model\n",
    "random_us = RandomForestClassifier()  \n",
    "random_us.fit(x_train, y_train)\n",
    "\n",
    "random_us_pred = random_us.predict(x_test) \n",
    "random_us_acc=metrics.accuracy_score(y_test,random_us_pred)\n",
    "random_conf_us=metrics.confusion_matrix(y_test,y_random_sup)\n",
    "fpr,tpr,_=roc_curve(y_test,y_random_sup)\n",
    "random_auc_us=(auc(fpr,tpr))\n",
    "\n",
    "print(\"Accuracy for Random Forest Unsupervised: \",random_us_acc)\n",
    "print(\"AUC for RandomForest Unsupervised\",random_auc_us)\n",
    "random_conf_us"
   ]
  },
  {
   "cell_type": "code",
   "execution_count": 241,
   "metadata": {},
   "outputs": [
    {
     "name": "stdout",
     "output_type": "stream",
     "text": [
      "Accuracy for Logistic Regression Unsupervised:  0.9977324263038548\n",
      "AUC for  Logistic Regression Unsupervised 0.9977777777777778\n"
     ]
    },
    {
     "data": {
      "text/plain": [
       "array([[216,   0],\n",
       "       [  1, 224]], dtype=int64)"
      ]
     },
     "execution_count": 241,
     "metadata": {},
     "output_type": "execute_result"
    }
   ],
   "source": [
    "# Logistic Regression model\n",
    "\n",
    "log_model_us = LogisticRegression()  \n",
    "log_model_us.fit(x_train, y_train)\n",
    "\n",
    "log_us_pred = log_model_us.predict(x_test) \n",
    "log_us_acc=metrics.accuracy_score(y_test,log_us_pred)\n",
    "log_conf_us=metrics.confusion_matrix(y_test,log_us_pred)\n",
    "fpr,tpr,_=roc_curve(y_test,log_us_pred)\n",
    "log_auc_us=(auc(fpr,tpr))\n",
    "\n",
    "print(\"Accuracy for Logistic Regression Unsupervised: \" ,log_us_acc)\n",
    "print(\"AUC for  Logistic Regression Unsupervised\",log_auc_us)\n",
    "log_conf_us"
   ]
  },
  {
   "cell_type": "code",
   "execution_count": 242,
   "metadata": {},
   "outputs": [
    {
     "name": "stdout",
     "output_type": "stream",
     "text": [
      "Accuracy for Decision dt Unsupervised:  1.0\n",
      "AUC for  Decision dt Unsupervised  1.0\n"
     ]
    },
    {
     "data": {
      "text/plain": [
       "array([[216,   0],\n",
       "       [  0, 225]], dtype=int64)"
      ]
     },
     "execution_count": 242,
     "metadata": {},
     "output_type": "execute_result"
    }
   ],
   "source": [
    "#Decision dt model\n",
    "\n",
    "dt_us = DecisionTreeClassifier()  \n",
    "dt_us.fit(x_train, y_train)\n",
    "\n",
    "dt_us_pred = dt_us.predict(x_test) \n",
    "dt_us_acc=metrics.accuracy_score(y_test,dt_us_pred)\n",
    "dt_conf_us=metrics.confusion_matrix(y_test,dt_us_pred)\n",
    "fpr,tpr,_=roc_curve(y_test,dt_us_pred)\n",
    "dt_auc_us=(auc(fpr,tpr))\n",
    "print(\"Accuracy for Decision dt Unsupervised: \",dt_us_acc)\n",
    "print(\"AUC for  Decision dt Unsupervised \",dt_auc_us)\n",
    "dt_conf_us"
   ]
  },
  {
   "cell_type": "code",
   "execution_count": 244,
   "metadata": {},
   "outputs": [
    {
     "name": "stdout",
     "output_type": "stream",
     "text": [
      "Accuracy for KNN Unsupervised:  0.9659863945578231\n",
      "AUC for KNN Unsupervised:  0.965648148148148\n"
     ]
    },
    {
     "data": {
      "text/plain": [
       "array([[205,  11],\n",
       "       [  4, 221]], dtype=int64)"
      ]
     },
     "execution_count": 244,
     "metadata": {},
     "output_type": "execute_result"
    }
   ],
   "source": [
    "# KNN model\n",
    "\n",
    "knn_us = KNeighborsClassifier()  \n",
    "knn_us.fit(x_train, y_train)\n",
    "\n",
    "knn_us_pred = knn_us.predict(x_test) \n",
    "knn_us_acc=metrics.accuracy_score(y_test,knn_us_pred)\n",
    "knn_us_conf=metrics.confusion_matrix(y_test,knn_us_pred)\n",
    "fpr,tpr,_=roc_curve(y_test,knn_us_pred)\n",
    "knn_us_auc=(auc(fpr,tpr))\n",
    "print(\"Accuracy for KNN Unsupervised: \",knn_us_acc)\n",
    "print(\"AUC for KNN Unsupervised: \",knn_us_auc)\n",
    "knn_us_conf"
   ]
  },
  {
   "cell_type": "code",
   "execution_count": 245,
   "metadata": {},
   "outputs": [
    {
     "name": "stdout",
     "output_type": "stream",
     "text": [
      "Accuracy for NB unsupervised:  1.0\n",
      "AUC for NB Unsupervised:  1.0\n"
     ]
    },
    {
     "data": {
      "text/plain": [
       "array([[216,   0],\n",
       "       [  0, 225]], dtype=int64)"
      ]
     },
     "execution_count": 245,
     "metadata": {},
     "output_type": "execute_result"
    }
   ],
   "source": [
    "# Naive model\n",
    "\n",
    "nb_us = GaussianNB()  \n",
    "nb_us.fit(x_train, y_train)\n",
    "\n",
    "nb_us_pred = nb_us.predict(x_test) \n",
    "nb_us_acc=metrics.accuracy_score(y_test,nb_us_pred)\n",
    "nb_us_conf=metrics.confusion_matrix(y_test,nb_us_pred)\n",
    "fpr,tpr,_=roc_curve(y_test,nb_us_pred)\n",
    "nb_us_auc=(auc(fpr,tpr))\n",
    "print(\"Accuracy for NB unsupervised: \",nb_us_acc)\n",
    "print(\"AUC for NB Unsupervised: \",nb_us_auc)\n",
    "nb_us_conf"
   ]
  },
  {
   "cell_type": "code",
   "execution_count": 246,
   "metadata": {},
   "outputs": [
    {
     "name": "stdout",
     "output_type": "stream",
     "text": [
      "Accuracy for SVM Unsupervised:  0.9863945578231292\n",
      "AUC for svm Unsupervised:  0.9863888888888891\n"
     ]
    },
    {
     "data": {
      "text/plain": [
       "array([[213,   3],\n",
       "       [  3, 222]], dtype=int64)"
      ]
     },
     "execution_count": 246,
     "metadata": {},
     "output_type": "execute_result"
    }
   ],
   "source": [
    "# SVM model\n",
    "\n",
    "svm_us = SVC()  \n",
    "svm_us.fit(x_train, y_train)\n",
    "\n",
    "svm_us_pred = svm_us.predict(x_test) \n",
    "svm_us_acc=metrics.accuracy_score(y_test,svm_us_pred)\n",
    "svm_us_conf=metrics.confusion_matrix(y_test,svm_us_pred)\n",
    "fpr,tpr,_=roc_curve(y_test,svm_us_pred)\n",
    "svm_us_auc=(auc(fpr,tpr))\n",
    "print(\"Accuracy for SVM Unsupervised: \",svm_us_acc)\n",
    "print(\"AUC for svm Unsupervised: \",svm_us_auc)\n",
    "svm_us_conf"
   ]
  },
  {
   "cell_type": "code",
   "execution_count": 247,
   "metadata": {},
   "outputs": [
    {
     "data": {
      "text/html": [
       "<div>\n",
       "<style scoped>\n",
       "    .dataframe tbody tr th:only-of-type {\n",
       "        vertical-align: middle;\n",
       "    }\n",
       "\n",
       "    .dataframe tbody tr th {\n",
       "        vertical-align: top;\n",
       "    }\n",
       "\n",
       "    .dataframe thead th {\n",
       "        text-align: right;\n",
       "    }\n",
       "</style>\n",
       "<table border=\"1\" class=\"dataframe\">\n",
       "  <thead>\n",
       "    <tr style=\"text-align: right;\">\n",
       "      <th></th>\n",
       "      <th>Accuracy_Scores_Unsupervised</th>\n",
       "      <th>AUC Unsupervised</th>\n",
       "      <th>Accuracy_Scores_supervised</th>\n",
       "      <th>AUC Supervised</th>\n",
       "    </tr>\n",
       "  </thead>\n",
       "  <tbody>\n",
       "    <tr>\n",
       "      <th>Random Forest</th>\n",
       "      <td>0.993197</td>\n",
       "      <td>0.510463</td>\n",
       "      <td>0.861678</td>\n",
       "      <td>0.593261</td>\n",
       "    </tr>\n",
       "    <tr>\n",
       "      <th>Logistic Regression</th>\n",
       "      <td>0.997732</td>\n",
       "      <td>0.997778</td>\n",
       "      <td>0.879819</td>\n",
       "      <td>0.667790</td>\n",
       "    </tr>\n",
       "    <tr>\n",
       "      <th>DT</th>\n",
       "      <td>1.000000</td>\n",
       "      <td>1.000000</td>\n",
       "      <td>0.775510</td>\n",
       "      <td>0.605795</td>\n",
       "    </tr>\n",
       "    <tr>\n",
       "      <th>KNN</th>\n",
       "      <td>1.000000</td>\n",
       "      <td>0.965648</td>\n",
       "      <td>0.857143</td>\n",
       "      <td>0.573181</td>\n",
       "    </tr>\n",
       "    <tr>\n",
       "      <th>NB</th>\n",
       "      <td>1.000000</td>\n",
       "      <td>1.000000</td>\n",
       "      <td>0.791383</td>\n",
       "      <td>0.736927</td>\n",
       "    </tr>\n",
       "    <tr>\n",
       "      <th>SVM</th>\n",
       "      <td>0.986395</td>\n",
       "      <td>0.986389</td>\n",
       "      <td>0.848073</td>\n",
       "      <td>0.527224</td>\n",
       "    </tr>\n",
       "  </tbody>\n",
       "</table>\n",
       "</div>"
      ],
      "text/plain": [
       "                     Accuracy_Scores_Unsupervised  AUC Unsupervised  \\\n",
       "Random Forest                            0.993197          0.510463   \n",
       "Logistic Regression                      0.997732          0.997778   \n",
       "DT                                       1.000000          1.000000   \n",
       "KNN                                      1.000000          0.965648   \n",
       "NB                                       1.000000          1.000000   \n",
       "SVM                                      0.986395          0.986389   \n",
       "\n",
       "                     Accuracy_Scores_supervised  AUC Supervised  \n",
       "Random Forest                          0.861678        0.593261  \n",
       "Logistic Regression                    0.879819        0.667790  \n",
       "DT                                     0.775510        0.605795  \n",
       "KNN                                    0.857143        0.573181  \n",
       "NB                                     0.791383        0.736927  \n",
       "SVM                                    0.848073        0.527224  "
      ]
     },
     "execution_count": 247,
     "metadata": {},
     "output_type": "execute_result"
    }
   ],
   "source": [
    "Accuracy_Scores_final=pd.DataFrame({\"Accuracy_Scores_Unsupervised\":[random_us_acc,log_us_acc,dt_us_acc,\n",
    "                                     dt_us_acc,nb_us_acc,svm_us_acc],\"AUC Unsupervised\":[random_auc_us,log_auc_us,dt_auc_us,knn_us_auc,nb_us_auc,svm_us_auc],\"Accuracy_Scores_supervised\":[y_random_sup_met,y_log_model_scaled_met,tree_model_scaled_met, KNN_model_scaled_met,Naive_model_scaled_met,SVM_model_scaled_met],\"AUC Supervised\":[random_auc_sup,log_auc_sup,tree_auc_sup,knn_auc_sup,nb_auc_sup,svm_auc_sup]},\n",
    "                                     index= [\"Random Forest\",\"Logistic Regression\",\"DT\",\n",
    "                                     \"KNN\",\"NB\",\"SVM\"])\n",
    "Accuracy_Scores_final.sort"
   ]
  },
  {
   "cell_type": "markdown",
   "metadata": {},
   "source": [
    "# Inference:\n",
    "While comparing the models the accuracy score of all unsupervised models are high relative to supervised also accoring to AUC both supervised and unsupervised are different. So we can select __Logistic Regressor__ as the __best model__ since it performs good on both supervised and unsupervised learning "
   ]
  },
  {
   "cell_type": "markdown",
   "metadata": {},
   "source": [
    "## Applyig PCA for Logistic Regressor Supervised:"
   ]
  },
  {
   "cell_type": "code",
   "execution_count": 234,
   "metadata": {},
   "outputs": [],
   "source": [
    "pca = PCA()  \n",
    "xtrain_sup = pca.fit_transform(xtrain)  \n",
    "xtest_sup = pca.transform(xtest)  "
   ]
  },
  {
   "cell_type": "code",
   "execution_count": 236,
   "metadata": {},
   "outputs": [],
   "source": [
    "lr_pca_sup=LogisticRegression()"
   ]
  },
  {
   "cell_type": "code",
   "execution_count": 237,
   "metadata": {},
   "outputs": [
    {
     "name": "stdout",
     "output_type": "stream",
     "text": [
      "Accuracy for Logistic Regression supervised with PCA:  0.8798185941043084\n",
      "AUC for Logistic Regression Supervised with PCA:  0.6677897574123989\n"
     ]
    },
    {
     "data": {
      "text/plain": [
       "array([[363,   8],\n",
       "       [ 45,  25]], dtype=int64)"
      ]
     },
     "execution_count": 237,
     "metadata": {},
     "output_type": "execute_result"
    }
   ],
   "source": [
    "lr_pca_sup.fit(xtrain, ytrain)\n",
    "\n",
    "log_sup_pca = lr_pca_sup.predict(xtest) \n",
    "log_sup_pca_acc=metrics.accuracy_score(ytest,log_sup_pca)\n",
    "log_sup_pca_conf=metrics.confusion_matrix(ytest,log_sup_pca)\n",
    "fpr,tpr,_=roc_curve(ytest,log_sup_pca)\n",
    "log_sup_pca_auc=(auc(fpr,tpr))\n",
    "print(\"Accuracy for Logistic Regression supervised with PCA: \",log_sup_pca_acc)\n",
    "print(\"AUC for Logistic Regression Supervised with PCA: \",log_sup_pca_auc)\n",
    "log_sup_pca_conf"
   ]
  },
  {
   "cell_type": "code",
   "execution_count": 248,
   "metadata": {},
   "outputs": [],
   "source": [
    "pca1 = PCA()  \n",
    "xtrain_us = pca1.fit_transform(x_train)  \n",
    "xtest_us = pca1.transform(x_test)  "
   ]
  },
  {
   "cell_type": "code",
   "execution_count": 250,
   "metadata": {},
   "outputs": [
    {
     "name": "stdout",
     "output_type": "stream",
     "text": [
      "Accuracy for Logistic Regression unsupervised with PCA:  0.9977324263038548\n",
      "AUC for Logistic Regression unsupervised with PCA:  0.9977777777777778\n"
     ]
    },
    {
     "data": {
      "text/plain": [
       "array([[216,   0],\n",
       "       [  1, 224]], dtype=int64)"
      ]
     },
     "execution_count": 250,
     "metadata": {},
     "output_type": "execute_result"
    }
   ],
   "source": [
    "lr_pca_us=LogisticRegression()\n",
    "lr_pca_us.fit(xtrain_us, y_train)\n",
    "\n",
    "log_us_pca = lr_pca_us.predict(xtest_us) \n",
    "log_us_pca_acc=metrics.accuracy_score(y_test,log_us_pca)\n",
    "log_us_pca_conf=metrics.confusion_matrix(y_test,log_us_pca)\n",
    "fpr,tpr,_=roc_curve(y_test,log_us_pca)\n",
    "log_us_pca_auc=(auc(fpr,tpr))\n",
    "print(\"Accuracy for Logistic Regression unsupervised with PCA: \",log_us_pca_acc)\n",
    "print(\"AUC for Logistic Regression unsupervised with PCA: \",log_us_pca_auc)\n",
    "log_us_pca_conf"
   ]
  },
  {
   "cell_type": "markdown",
   "metadata": {},
   "source": [
    "Inference2:\n",
    "With or without PCA Logistic Regressor unsupervised performs same. Hence for this dataset either we can do PCA or not"
   ]
  },
  {
   "cell_type": "code",
   "execution_count": null,
   "metadata": {},
   "outputs": [],
   "source": []
  }
 ],
 "metadata": {
  "kernelspec": {
   "display_name": "Python 3",
   "language": "python",
   "name": "python3"
  },
  "language_info": {
   "codemirror_mode": {
    "name": "ipython",
    "version": 3
   },
   "file_extension": ".py",
   "mimetype": "text/x-python",
   "name": "python",
   "nbconvert_exporter": "python",
   "pygments_lexer": "ipython3",
   "version": "3.7.0"
  }
 },
 "nbformat": 4,
 "nbformat_minor": 2
}
