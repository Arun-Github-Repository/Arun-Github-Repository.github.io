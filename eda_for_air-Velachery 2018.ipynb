{
 "cells": [
  {
   "cell_type": "code",
   "execution_count": 213,
   "metadata": {},
   "outputs": [],
   "source": [
    "import pandas as pd\n",
    "import numpy as np\n",
    "import matplotlib.pyplot as plt\n",
    "import seaborn as sns\n",
    "from scipy.stats import stats\n",
    "import warnings;\n",
    "warnings.filterwarnings(\"ignore\")"
   ]
  },
  {
   "cell_type": "code",
   "execution_count": 214,
   "metadata": {},
   "outputs": [],
   "source": [
    "df1=pd.read_excel('vel_2018.xlsx')"
   ]
  },
  {
   "cell_type": "code",
   "execution_count": 215,
   "metadata": {},
   "outputs": [
    {
     "data": {
      "text/html": [
       "<div>\n",
       "<style scoped>\n",
       "    .dataframe tbody tr th:only-of-type {\n",
       "        vertical-align: middle;\n",
       "    }\n",
       "\n",
       "    .dataframe tbody tr th {\n",
       "        vertical-align: top;\n",
       "    }\n",
       "\n",
       "    .dataframe thead th {\n",
       "        text-align: right;\n",
       "    }\n",
       "</style>\n",
       "<table border=\"1\" class=\"dataframe\">\n",
       "  <thead>\n",
       "    <tr style=\"text-align: right;\">\n",
       "      <th></th>\n",
       "      <th>From Date</th>\n",
       "      <th>To Date</th>\n",
       "      <th>CO</th>\n",
       "      <th>Ozone</th>\n",
       "      <th>NO2</th>\n",
       "      <th>NO</th>\n",
       "      <th>NOx</th>\n",
       "      <th>SO2</th>\n",
       "      <th>RH</th>\n",
       "      <th>VWS</th>\n",
       "      <th>...</th>\n",
       "      <th>WD</th>\n",
       "      <th>BP</th>\n",
       "      <th>PM2.5</th>\n",
       "      <th>Temp</th>\n",
       "      <th>SR</th>\n",
       "      <th>Benzene</th>\n",
       "      <th>MP-Xylene</th>\n",
       "      <th>Toluene</th>\n",
       "      <th>O</th>\n",
       "      <th>Eth-Benzene</th>\n",
       "    </tr>\n",
       "  </thead>\n",
       "  <tbody>\n",
       "    <tr>\n",
       "      <th>0</th>\n",
       "      <td>01-01-2018 00:00</td>\n",
       "      <td>01-01-2018 01:00</td>\n",
       "      <td>0</td>\n",
       "      <td>27.17</td>\n",
       "      <td>12.67</td>\n",
       "      <td>4.89</td>\n",
       "      <td>7.94</td>\n",
       "      <td>5.11</td>\n",
       "      <td>96.28</td>\n",
       "      <td>0.15</td>\n",
       "      <td>...</td>\n",
       "      <td>345.76</td>\n",
       "      <td>1008.15</td>\n",
       "      <td>70.05</td>\n",
       "      <td>None</td>\n",
       "      <td>0</td>\n",
       "      <td>1.66</td>\n",
       "      <td>0</td>\n",
       "      <td>5.23</td>\n",
       "      <td>2.19</td>\n",
       "      <td>NaN</td>\n",
       "    </tr>\n",
       "    <tr>\n",
       "      <th>1</th>\n",
       "      <td>01-01-2018 01:00</td>\n",
       "      <td>01-01-2018 02:00</td>\n",
       "      <td>0</td>\n",
       "      <td>29.96</td>\n",
       "      <td>12.65</td>\n",
       "      <td>4.89</td>\n",
       "      <td>7.93</td>\n",
       "      <td>5.38</td>\n",
       "      <td>96.11</td>\n",
       "      <td>0.15</td>\n",
       "      <td>...</td>\n",
       "      <td>344.63</td>\n",
       "      <td>1007.5</td>\n",
       "      <td>74.38</td>\n",
       "      <td>None</td>\n",
       "      <td>0</td>\n",
       "      <td>1.5</td>\n",
       "      <td>0</td>\n",
       "      <td>4.53</td>\n",
       "      <td>1.15</td>\n",
       "      <td>NaN</td>\n",
       "    </tr>\n",
       "    <tr>\n",
       "      <th>2</th>\n",
       "      <td>01-01-2018 02:00</td>\n",
       "      <td>01-01-2018 03:00</td>\n",
       "      <td>0</td>\n",
       "      <td>25.63</td>\n",
       "      <td>12.77</td>\n",
       "      <td>4.91</td>\n",
       "      <td>8.01</td>\n",
       "      <td>5.46</td>\n",
       "      <td>94.56</td>\n",
       "      <td>0.17</td>\n",
       "      <td>...</td>\n",
       "      <td>348.01</td>\n",
       "      <td>1007</td>\n",
       "      <td>76.47</td>\n",
       "      <td>None</td>\n",
       "      <td>0</td>\n",
       "      <td>1.54</td>\n",
       "      <td>0</td>\n",
       "      <td>4.36</td>\n",
       "      <td>0.48</td>\n",
       "      <td>NaN</td>\n",
       "    </tr>\n",
       "    <tr>\n",
       "      <th>3</th>\n",
       "      <td>01-01-2018 03:00</td>\n",
       "      <td>01-01-2018 04:00</td>\n",
       "      <td>0</td>\n",
       "      <td>32.77</td>\n",
       "      <td>12.44</td>\n",
       "      <td>4.84</td>\n",
       "      <td>7.75</td>\n",
       "      <td>4.04</td>\n",
       "      <td>90.09</td>\n",
       "      <td>0.17</td>\n",
       "      <td>...</td>\n",
       "      <td>350.67</td>\n",
       "      <td>1006.62</td>\n",
       "      <td>78.92</td>\n",
       "      <td>None</td>\n",
       "      <td>0</td>\n",
       "      <td>0.75</td>\n",
       "      <td>0</td>\n",
       "      <td>3.74</td>\n",
       "      <td>0</td>\n",
       "      <td>NaN</td>\n",
       "    </tr>\n",
       "    <tr>\n",
       "      <th>4</th>\n",
       "      <td>01-01-2018 04:00</td>\n",
       "      <td>01-01-2018 05:00</td>\n",
       "      <td>0</td>\n",
       "      <td>23.97</td>\n",
       "      <td>12.26</td>\n",
       "      <td>4.8</td>\n",
       "      <td>7.63</td>\n",
       "      <td>3.43</td>\n",
       "      <td>90.64</td>\n",
       "      <td>0.14</td>\n",
       "      <td>...</td>\n",
       "      <td>333.23</td>\n",
       "      <td>1006.6</td>\n",
       "      <td>56.75</td>\n",
       "      <td>None</td>\n",
       "      <td>0</td>\n",
       "      <td>0</td>\n",
       "      <td>0</td>\n",
       "      <td>3.14</td>\n",
       "      <td>0</td>\n",
       "      <td>NaN</td>\n",
       "    </tr>\n",
       "  </tbody>\n",
       "</table>\n",
       "<p>5 rows × 21 columns</p>\n",
       "</div>"
      ],
      "text/plain": [
       "          From Date           To Date CO  Ozone    NO2    NO   NOx   SO2  \\\n",
       "0  01-01-2018 00:00  01-01-2018 01:00  0  27.17  12.67  4.89  7.94  5.11   \n",
       "1  01-01-2018 01:00  01-01-2018 02:00  0  29.96  12.65  4.89  7.93  5.38   \n",
       "2  01-01-2018 02:00  01-01-2018 03:00  0  25.63  12.77  4.91  8.01  5.46   \n",
       "3  01-01-2018 03:00  01-01-2018 04:00  0  32.77  12.44  4.84  7.75  4.04   \n",
       "4  01-01-2018 04:00  01-01-2018 05:00  0  23.97  12.26   4.8  7.63  3.43   \n",
       "\n",
       "      RH   VWS  ...      WD       BP  PM2.5  Temp SR Benzene MP-Xylene  \\\n",
       "0  96.28  0.15  ...  345.76  1008.15  70.05  None  0    1.66         0   \n",
       "1  96.11  0.15  ...  344.63   1007.5  74.38  None  0     1.5         0   \n",
       "2  94.56  0.17  ...  348.01     1007  76.47  None  0    1.54         0   \n",
       "3  90.09  0.17  ...  350.67  1006.62  78.92  None  0    0.75         0   \n",
       "4  90.64  0.14  ...  333.23   1006.6  56.75  None  0       0         0   \n",
       "\n",
       "  Toluene     O Eth-Benzene  \n",
       "0    5.23  2.19         NaN  \n",
       "1    4.53  1.15         NaN  \n",
       "2    4.36  0.48         NaN  \n",
       "3    3.74     0         NaN  \n",
       "4    3.14     0         NaN  \n",
       "\n",
       "[5 rows x 21 columns]"
      ]
     },
     "execution_count": 215,
     "metadata": {},
     "output_type": "execute_result"
    }
   ],
   "source": [
    "df1.head()"
   ]
  },
  {
   "cell_type": "code",
   "execution_count": 216,
   "metadata": {},
   "outputs": [],
   "source": [
    "df=df1[['From Date','BP','CO','VWS','WD','WS','NO','NO2','PM2.5','RH','SO2','SR']]"
   ]
  },
  {
   "cell_type": "code",
   "execution_count": 217,
   "metadata": {},
   "outputs": [
    {
     "data": {
      "text/html": [
       "<div>\n",
       "<style scoped>\n",
       "    .dataframe tbody tr th:only-of-type {\n",
       "        vertical-align: middle;\n",
       "    }\n",
       "\n",
       "    .dataframe tbody tr th {\n",
       "        vertical-align: top;\n",
       "    }\n",
       "\n",
       "    .dataframe thead th {\n",
       "        text-align: right;\n",
       "    }\n",
       "</style>\n",
       "<table border=\"1\" class=\"dataframe\">\n",
       "  <thead>\n",
       "    <tr style=\"text-align: right;\">\n",
       "      <th></th>\n",
       "      <th>From Date</th>\n",
       "      <th>BP</th>\n",
       "      <th>CO</th>\n",
       "      <th>VWS</th>\n",
       "      <th>WD</th>\n",
       "      <th>WS</th>\n",
       "      <th>NO</th>\n",
       "      <th>NO2</th>\n",
       "      <th>PM2.5</th>\n",
       "      <th>RH</th>\n",
       "      <th>SO2</th>\n",
       "      <th>SR</th>\n",
       "    </tr>\n",
       "  </thead>\n",
       "  <tbody>\n",
       "    <tr>\n",
       "      <th>0</th>\n",
       "      <td>01-01-2018 00:00</td>\n",
       "      <td>1008.15</td>\n",
       "      <td>0</td>\n",
       "      <td>0.15</td>\n",
       "      <td>345.76</td>\n",
       "      <td>1.02</td>\n",
       "      <td>4.89</td>\n",
       "      <td>12.67</td>\n",
       "      <td>70.05</td>\n",
       "      <td>96.28</td>\n",
       "      <td>5.11</td>\n",
       "      <td>0</td>\n",
       "    </tr>\n",
       "    <tr>\n",
       "      <th>1</th>\n",
       "      <td>01-01-2018 01:00</td>\n",
       "      <td>1007.5</td>\n",
       "      <td>0</td>\n",
       "      <td>0.15</td>\n",
       "      <td>344.63</td>\n",
       "      <td>0.93</td>\n",
       "      <td>4.89</td>\n",
       "      <td>12.65</td>\n",
       "      <td>74.38</td>\n",
       "      <td>96.11</td>\n",
       "      <td>5.38</td>\n",
       "      <td>0</td>\n",
       "    </tr>\n",
       "    <tr>\n",
       "      <th>2</th>\n",
       "      <td>01-01-2018 02:00</td>\n",
       "      <td>1007</td>\n",
       "      <td>0</td>\n",
       "      <td>0.17</td>\n",
       "      <td>348.01</td>\n",
       "      <td>1.13</td>\n",
       "      <td>4.91</td>\n",
       "      <td>12.77</td>\n",
       "      <td>76.47</td>\n",
       "      <td>94.56</td>\n",
       "      <td>5.46</td>\n",
       "      <td>0</td>\n",
       "    </tr>\n",
       "    <tr>\n",
       "      <th>3</th>\n",
       "      <td>01-01-2018 03:00</td>\n",
       "      <td>1006.62</td>\n",
       "      <td>0</td>\n",
       "      <td>0.17</td>\n",
       "      <td>350.67</td>\n",
       "      <td>1.17</td>\n",
       "      <td>4.84</td>\n",
       "      <td>12.44</td>\n",
       "      <td>78.92</td>\n",
       "      <td>90.09</td>\n",
       "      <td>4.04</td>\n",
       "      <td>0</td>\n",
       "    </tr>\n",
       "    <tr>\n",
       "      <th>4</th>\n",
       "      <td>01-01-2018 04:00</td>\n",
       "      <td>1006.6</td>\n",
       "      <td>0</td>\n",
       "      <td>0.14</td>\n",
       "      <td>333.23</td>\n",
       "      <td>0.88</td>\n",
       "      <td>4.8</td>\n",
       "      <td>12.26</td>\n",
       "      <td>56.75</td>\n",
       "      <td>90.64</td>\n",
       "      <td>3.43</td>\n",
       "      <td>0</td>\n",
       "    </tr>\n",
       "  </tbody>\n",
       "</table>\n",
       "</div>"
      ],
      "text/plain": [
       "          From Date       BP CO   VWS      WD    WS    NO    NO2  PM2.5  \\\n",
       "0  01-01-2018 00:00  1008.15  0  0.15  345.76  1.02  4.89  12.67  70.05   \n",
       "1  01-01-2018 01:00   1007.5  0  0.15  344.63  0.93  4.89  12.65  74.38   \n",
       "2  01-01-2018 02:00     1007  0  0.17  348.01  1.13  4.91  12.77  76.47   \n",
       "3  01-01-2018 03:00  1006.62  0  0.17  350.67  1.17  4.84  12.44  78.92   \n",
       "4  01-01-2018 04:00   1006.6  0  0.14  333.23  0.88   4.8  12.26  56.75   \n",
       "\n",
       "      RH   SO2 SR  \n",
       "0  96.28  5.11  0  \n",
       "1  96.11  5.38  0  \n",
       "2  94.56  5.46  0  \n",
       "3  90.09  4.04  0  \n",
       "4  90.64  3.43  0  "
      ]
     },
     "execution_count": 217,
     "metadata": {},
     "output_type": "execute_result"
    }
   ],
   "source": [
    "df.head()"
   ]
  },
  {
   "cell_type": "code",
   "execution_count": 218,
   "metadata": {},
   "outputs": [
    {
     "data": {
      "text/plain": [
       "(8760, 12)"
      ]
     },
     "execution_count": 218,
     "metadata": {},
     "output_type": "execute_result"
    }
   ],
   "source": [
    "df.shape"
   ]
  },
  {
   "cell_type": "code",
   "execution_count": 219,
   "metadata": {},
   "outputs": [
    {
     "name": "stdout",
     "output_type": "stream",
     "text": [
      "<class 'pandas.core.frame.DataFrame'>\n",
      "RangeIndex: 8760 entries, 0 to 8759\n",
      "Data columns (total 12 columns):\n",
      "From Date    8760 non-null object\n",
      "BP           8760 non-null object\n",
      "CO           8760 non-null object\n",
      "VWS          8760 non-null object\n",
      "WD           8760 non-null object\n",
      "WS           8760 non-null object\n",
      "NO           8760 non-null object\n",
      "NO2          8760 non-null object\n",
      "PM2.5        8760 non-null object\n",
      "RH           8760 non-null object\n",
      "SO2          8760 non-null object\n",
      "SR           8760 non-null object\n",
      "dtypes: object(12)\n",
      "memory usage: 821.4+ KB\n"
     ]
    }
   ],
   "source": [
    "df.info()"
   ]
  },
  {
   "cell_type": "code",
   "execution_count": 220,
   "metadata": {},
   "outputs": [],
   "source": [
    "for i in df.columns:\n",
    "    for j in df[i]:\n",
    "        if(j=='None'):\n",
    "            df[i]=df[i].replace(j,np.nan)"
   ]
  },
  {
   "cell_type": "code",
   "execution_count": 221,
   "metadata": {},
   "outputs": [
    {
     "name": "stdout",
     "output_type": "stream",
     "text": [
      "Percentage of Null values in Velachery 2018:  0.9684170471841705\n"
     ]
    }
   ],
   "source": [
    "print(\"Percentage of Null values in Velachery 2018: \",((df.isna().sum()/(len(df)*12)).sum())*100)"
   ]
  },
  {
   "cell_type": "code",
   "execution_count": 222,
   "metadata": {},
   "outputs": [
    {
     "data": {
      "text/plain": [
       "From Date      0\n",
       "BP            35\n",
       "CO            87\n",
       "VWS           34\n",
       "WD            34\n",
       "WS            34\n",
       "NO           117\n",
       "NO2          117\n",
       "PM2.5         34\n",
       "RH            81\n",
       "SO2          108\n",
       "SR           337\n",
       "dtype: int64"
      ]
     },
     "execution_count": 222,
     "metadata": {},
     "output_type": "execute_result"
    }
   ],
   "source": [
    "df.isna().sum()"
   ]
  },
  {
   "cell_type": "code",
   "execution_count": 223,
   "metadata": {},
   "outputs": [],
   "source": [
    "list1=['BP','CO','VWS','WD','WS','NO','NO2','PM2.5','RH','SO2','SR']\n",
    "count=0\n",
    "for i in list1:\n",
    "    for j in df[i]:\n",
    "        if(j<0):\n",
    "            count=count+1"
   ]
  },
  {
   "cell_type": "code",
   "execution_count": 224,
   "metadata": {},
   "outputs": [
    {
     "data": {
      "text/plain": [
       "0.00017123287671232877"
      ]
     },
     "execution_count": 224,
     "metadata": {},
     "output_type": "execute_result"
    }
   ],
   "source": [
    "count/(len(df)*12)"
   ]
  },
  {
   "cell_type": "code",
   "execution_count": 225,
   "metadata": {},
   "outputs": [],
   "source": [
    "for col in list1:\n",
    "    if(col!='VWS'):\n",
    "        for j in df[col]:\n",
    "            if(j<0):\n",
    "                df[col]=df[col].replace(j,np.nan)"
   ]
  },
  {
   "cell_type": "code",
   "execution_count": 226,
   "metadata": {},
   "outputs": [
    {
     "name": "stdout",
     "output_type": "stream",
     "text": [
      "Percentage of Null values in Velachery 2018:  0.9845890410958905\n"
     ]
    }
   ],
   "source": [
    "print(\"Percentage of Null values in Velachery 2018: \",((df.isna().sum()/(len(df)*12)).sum())*100)"
   ]
  },
  {
   "cell_type": "code",
   "execution_count": 227,
   "metadata": {},
   "outputs": [
    {
     "data": {
      "text/plain": [
       "From Date      0\n",
       "BP            35\n",
       "CO            87\n",
       "VWS           34\n",
       "WD            34\n",
       "WS            34\n",
       "NO           117\n",
       "NO2          117\n",
       "PM2.5         51\n",
       "RH            81\n",
       "SO2          108\n",
       "SR           337\n",
       "dtype: int64"
      ]
     },
     "execution_count": 227,
     "metadata": {},
     "output_type": "execute_result"
    }
   ],
   "source": [
    "df.isna().sum()"
   ]
  },
  {
   "cell_type": "code",
   "execution_count": 228,
   "metadata": {},
   "outputs": [],
   "source": [
    "df=df.dropna(axis=0,subset=['PM2.5'])"
   ]
  },
  {
   "cell_type": "code",
   "execution_count": 229,
   "metadata": {},
   "outputs": [],
   "source": [
    "m=['BP','CO','VWS','WD','WS','NO','NO2','PM2.5','RH','SO2','SR']\n",
    "for col in m:\n",
    "    df[col] = df[col].interpolate(method='nearest',limit_direction = 'both')"
   ]
  },
  {
   "cell_type": "code",
   "execution_count": 230,
   "metadata": {},
   "outputs": [
    {
     "data": {
      "text/plain": [
       "From Date    0\n",
       "BP           0\n",
       "CO           0\n",
       "VWS          0\n",
       "WD           0\n",
       "WS           0\n",
       "NO           0\n",
       "NO2          0\n",
       "PM2.5        0\n",
       "RH           0\n",
       "SO2          0\n",
       "SR           0\n",
       "dtype: int64"
      ]
     },
     "execution_count": 230,
     "metadata": {},
     "output_type": "execute_result"
    }
   ],
   "source": [
    "df.isna().sum()"
   ]
  },
  {
   "cell_type": "code",
   "execution_count": 231,
   "metadata": {},
   "outputs": [],
   "source": [
    "df['BP']=df['BP'].astype(float)\n",
    "df['CO']=df['CO'].astype(float)\n",
    "df['VWS']=df['VWS'].astype(float)\n",
    "df['WD']=df['WD'].astype(float)\n",
    "df['WS']=df['WS'].astype(float)\n",
    "df['NO']=df['NO'].astype(float)\n",
    "df['NO2']=df['NO2'].astype(float)\n",
    "df['PM2.5']=df['PM2.5'].astype(float)\n",
    "df['RH']=df['RH'].astype(float)\n",
    "df['SO2']=df['SO2'].astype(float)\n",
    "df['SR']=df['SR'].astype(float)"
   ]
  },
  {
   "cell_type": "code",
   "execution_count": 232,
   "metadata": {},
   "outputs": [
    {
     "data": {
      "text/html": [
       "<div>\n",
       "<style scoped>\n",
       "    .dataframe tbody tr th:only-of-type {\n",
       "        vertical-align: middle;\n",
       "    }\n",
       "\n",
       "    .dataframe tbody tr th {\n",
       "        vertical-align: top;\n",
       "    }\n",
       "\n",
       "    .dataframe thead th {\n",
       "        text-align: right;\n",
       "    }\n",
       "</style>\n",
       "<table border=\"1\" class=\"dataframe\">\n",
       "  <thead>\n",
       "    <tr style=\"text-align: right;\">\n",
       "      <th></th>\n",
       "      <th>From Date</th>\n",
       "      <th>BP</th>\n",
       "      <th>CO</th>\n",
       "      <th>VWS</th>\n",
       "      <th>WD</th>\n",
       "      <th>WS</th>\n",
       "      <th>NO</th>\n",
       "      <th>NO2</th>\n",
       "      <th>PM2.5</th>\n",
       "      <th>RH</th>\n",
       "      <th>SO2</th>\n",
       "      <th>SR</th>\n",
       "    </tr>\n",
       "  </thead>\n",
       "  <tbody>\n",
       "    <tr>\n",
       "      <th>0</th>\n",
       "      <td>01-01-2018 00:00</td>\n",
       "      <td>1008.15</td>\n",
       "      <td>0.0</td>\n",
       "      <td>0.15</td>\n",
       "      <td>345.76</td>\n",
       "      <td>1.02</td>\n",
       "      <td>4.89</td>\n",
       "      <td>12.67</td>\n",
       "      <td>70.05</td>\n",
       "      <td>96.28</td>\n",
       "      <td>5.11</td>\n",
       "      <td>0.0</td>\n",
       "    </tr>\n",
       "    <tr>\n",
       "      <th>1</th>\n",
       "      <td>01-01-2018 01:00</td>\n",
       "      <td>1007.50</td>\n",
       "      <td>0.0</td>\n",
       "      <td>0.15</td>\n",
       "      <td>344.63</td>\n",
       "      <td>0.93</td>\n",
       "      <td>4.89</td>\n",
       "      <td>12.65</td>\n",
       "      <td>74.38</td>\n",
       "      <td>96.11</td>\n",
       "      <td>5.38</td>\n",
       "      <td>0.0</td>\n",
       "    </tr>\n",
       "    <tr>\n",
       "      <th>2</th>\n",
       "      <td>01-01-2018 02:00</td>\n",
       "      <td>1007.00</td>\n",
       "      <td>0.0</td>\n",
       "      <td>0.17</td>\n",
       "      <td>348.01</td>\n",
       "      <td>1.13</td>\n",
       "      <td>4.91</td>\n",
       "      <td>12.77</td>\n",
       "      <td>76.47</td>\n",
       "      <td>94.56</td>\n",
       "      <td>5.46</td>\n",
       "      <td>0.0</td>\n",
       "    </tr>\n",
       "    <tr>\n",
       "      <th>3</th>\n",
       "      <td>01-01-2018 03:00</td>\n",
       "      <td>1006.62</td>\n",
       "      <td>0.0</td>\n",
       "      <td>0.17</td>\n",
       "      <td>350.67</td>\n",
       "      <td>1.17</td>\n",
       "      <td>4.84</td>\n",
       "      <td>12.44</td>\n",
       "      <td>78.92</td>\n",
       "      <td>90.09</td>\n",
       "      <td>4.04</td>\n",
       "      <td>0.0</td>\n",
       "    </tr>\n",
       "    <tr>\n",
       "      <th>4</th>\n",
       "      <td>01-01-2018 04:00</td>\n",
       "      <td>1006.60</td>\n",
       "      <td>0.0</td>\n",
       "      <td>0.14</td>\n",
       "      <td>333.23</td>\n",
       "      <td>0.88</td>\n",
       "      <td>4.80</td>\n",
       "      <td>12.26</td>\n",
       "      <td>56.75</td>\n",
       "      <td>90.64</td>\n",
       "      <td>3.43</td>\n",
       "      <td>0.0</td>\n",
       "    </tr>\n",
       "  </tbody>\n",
       "</table>\n",
       "</div>"
      ],
      "text/plain": [
       "          From Date       BP   CO   VWS      WD    WS    NO    NO2  PM2.5  \\\n",
       "0  01-01-2018 00:00  1008.15  0.0  0.15  345.76  1.02  4.89  12.67  70.05   \n",
       "1  01-01-2018 01:00  1007.50  0.0  0.15  344.63  0.93  4.89  12.65  74.38   \n",
       "2  01-01-2018 02:00  1007.00  0.0  0.17  348.01  1.13  4.91  12.77  76.47   \n",
       "3  01-01-2018 03:00  1006.62  0.0  0.17  350.67  1.17  4.84  12.44  78.92   \n",
       "4  01-01-2018 04:00  1006.60  0.0  0.14  333.23  0.88  4.80  12.26  56.75   \n",
       "\n",
       "      RH   SO2   SR  \n",
       "0  96.28  5.11  0.0  \n",
       "1  96.11  5.38  0.0  \n",
       "2  94.56  5.46  0.0  \n",
       "3  90.09  4.04  0.0  \n",
       "4  90.64  3.43  0.0  "
      ]
     },
     "execution_count": 232,
     "metadata": {},
     "output_type": "execute_result"
    }
   ],
   "source": [
    "df.head()"
   ]
  },
  {
   "cell_type": "code",
   "execution_count": 233,
   "metadata": {},
   "outputs": [
    {
     "data": {
      "text/html": [
       "<div>\n",
       "<style scoped>\n",
       "    .dataframe tbody tr th:only-of-type {\n",
       "        vertical-align: middle;\n",
       "    }\n",
       "\n",
       "    .dataframe tbody tr th {\n",
       "        vertical-align: top;\n",
       "    }\n",
       "\n",
       "    .dataframe thead th {\n",
       "        text-align: right;\n",
       "    }\n",
       "</style>\n",
       "<table border=\"1\" class=\"dataframe\">\n",
       "  <thead>\n",
       "    <tr style=\"text-align: right;\">\n",
       "      <th></th>\n",
       "      <th>BP</th>\n",
       "      <th>CO</th>\n",
       "      <th>VWS</th>\n",
       "      <th>WD</th>\n",
       "      <th>WS</th>\n",
       "      <th>NO</th>\n",
       "      <th>NO2</th>\n",
       "      <th>PM2.5</th>\n",
       "      <th>RH</th>\n",
       "      <th>SO2</th>\n",
       "      <th>SR</th>\n",
       "    </tr>\n",
       "  </thead>\n",
       "  <tbody>\n",
       "    <tr>\n",
       "      <th>count</th>\n",
       "      <td>8709.000000</td>\n",
       "      <td>8709.000000</td>\n",
       "      <td>8709.000000</td>\n",
       "      <td>8709.000000</td>\n",
       "      <td>8709.000000</td>\n",
       "      <td>8709.000000</td>\n",
       "      <td>8709.000000</td>\n",
       "      <td>8709.000000</td>\n",
       "      <td>8709.000000</td>\n",
       "      <td>8709.000000</td>\n",
       "      <td>8709.000000</td>\n",
       "    </tr>\n",
       "    <tr>\n",
       "      <th>mean</th>\n",
       "      <td>1006.378809</td>\n",
       "      <td>0.768582</td>\n",
       "      <td>0.196401</td>\n",
       "      <td>157.677366</td>\n",
       "      <td>1.483074</td>\n",
       "      <td>10.687147</td>\n",
       "      <td>18.339459</td>\n",
       "      <td>40.141233</td>\n",
       "      <td>59.094697</td>\n",
       "      <td>4.911101</td>\n",
       "      <td>195.638724</td>\n",
       "    </tr>\n",
       "    <tr>\n",
       "      <th>std</th>\n",
       "      <td>15.655681</td>\n",
       "      <td>0.511721</td>\n",
       "      <td>0.069959</td>\n",
       "      <td>91.996923</td>\n",
       "      <td>0.848072</td>\n",
       "      <td>10.428880</td>\n",
       "      <td>13.443051</td>\n",
       "      <td>22.746556</td>\n",
       "      <td>19.725944</td>\n",
       "      <td>3.217121</td>\n",
       "      <td>282.959884</td>\n",
       "    </tr>\n",
       "    <tr>\n",
       "      <th>min</th>\n",
       "      <td>503.250000</td>\n",
       "      <td>0.000000</td>\n",
       "      <td>-0.050000</td>\n",
       "      <td>1.300000</td>\n",
       "      <td>0.130000</td>\n",
       "      <td>0.000000</td>\n",
       "      <td>0.000000</td>\n",
       "      <td>0.000000</td>\n",
       "      <td>0.000000</td>\n",
       "      <td>0.000000</td>\n",
       "      <td>0.000000</td>\n",
       "    </tr>\n",
       "    <tr>\n",
       "      <th>25%</th>\n",
       "      <td>1002.900000</td>\n",
       "      <td>0.550000</td>\n",
       "      <td>0.140000</td>\n",
       "      <td>73.320000</td>\n",
       "      <td>0.820000</td>\n",
       "      <td>5.400000</td>\n",
       "      <td>12.110000</td>\n",
       "      <td>22.050000</td>\n",
       "      <td>43.880000</td>\n",
       "      <td>3.710000</td>\n",
       "      <td>0.450000</td>\n",
       "    </tr>\n",
       "    <tr>\n",
       "      <th>50%</th>\n",
       "      <td>1006.530000</td>\n",
       "      <td>0.700000</td>\n",
       "      <td>0.190000</td>\n",
       "      <td>166.320000</td>\n",
       "      <td>1.260000</td>\n",
       "      <td>9.330000</td>\n",
       "      <td>14.660000</td>\n",
       "      <td>36.520000</td>\n",
       "      <td>58.090000</td>\n",
       "      <td>4.580000</td>\n",
       "      <td>16.150000</td>\n",
       "    </tr>\n",
       "    <tr>\n",
       "      <th>75%</th>\n",
       "      <td>1010.000000</td>\n",
       "      <td>0.900000</td>\n",
       "      <td>0.240000</td>\n",
       "      <td>212.690000</td>\n",
       "      <td>1.960000</td>\n",
       "      <td>11.520000</td>\n",
       "      <td>19.940000</td>\n",
       "      <td>54.560000</td>\n",
       "      <td>73.130000</td>\n",
       "      <td>5.750000</td>\n",
       "      <td>355.330000</td>\n",
       "    </tr>\n",
       "    <tr>\n",
       "      <th>max</th>\n",
       "      <td>1046.330000</td>\n",
       "      <td>10.000000</td>\n",
       "      <td>0.490000</td>\n",
       "      <td>357.690000</td>\n",
       "      <td>5.040000</td>\n",
       "      <td>223.880000</td>\n",
       "      <td>202.220000</td>\n",
       "      <td>265.430000</td>\n",
       "      <td>99.900000</td>\n",
       "      <td>132.140000</td>\n",
       "      <td>997.050000</td>\n",
       "    </tr>\n",
       "  </tbody>\n",
       "</table>\n",
       "</div>"
      ],
      "text/plain": [
       "                BP           CO          VWS           WD           WS  \\\n",
       "count  8709.000000  8709.000000  8709.000000  8709.000000  8709.000000   \n",
       "mean   1006.378809     0.768582     0.196401   157.677366     1.483074   \n",
       "std      15.655681     0.511721     0.069959    91.996923     0.848072   \n",
       "min     503.250000     0.000000    -0.050000     1.300000     0.130000   \n",
       "25%    1002.900000     0.550000     0.140000    73.320000     0.820000   \n",
       "50%    1006.530000     0.700000     0.190000   166.320000     1.260000   \n",
       "75%    1010.000000     0.900000     0.240000   212.690000     1.960000   \n",
       "max    1046.330000    10.000000     0.490000   357.690000     5.040000   \n",
       "\n",
       "                NO          NO2        PM2.5           RH          SO2  \\\n",
       "count  8709.000000  8709.000000  8709.000000  8709.000000  8709.000000   \n",
       "mean     10.687147    18.339459    40.141233    59.094697     4.911101   \n",
       "std      10.428880    13.443051    22.746556    19.725944     3.217121   \n",
       "min       0.000000     0.000000     0.000000     0.000000     0.000000   \n",
       "25%       5.400000    12.110000    22.050000    43.880000     3.710000   \n",
       "50%       9.330000    14.660000    36.520000    58.090000     4.580000   \n",
       "75%      11.520000    19.940000    54.560000    73.130000     5.750000   \n",
       "max     223.880000   202.220000   265.430000    99.900000   132.140000   \n",
       "\n",
       "                SR  \n",
       "count  8709.000000  \n",
       "mean    195.638724  \n",
       "std     282.959884  \n",
       "min       0.000000  \n",
       "25%       0.450000  \n",
       "50%      16.150000  \n",
       "75%     355.330000  \n",
       "max     997.050000  "
      ]
     },
     "execution_count": 233,
     "metadata": {},
     "output_type": "execute_result"
    }
   ],
   "source": [
    "df.describe()"
   ]
  },
  {
   "cell_type": "code",
   "execution_count": 234,
   "metadata": {},
   "outputs": [
    {
     "data": {
      "text/plain": [
       "\"df['CO'] = np.where((df.CO >60),df['CO']/1000,df.CO)\\ndf\""
      ]
     },
     "execution_count": 234,
     "metadata": {},
     "output_type": "execute_result"
    }
   ],
   "source": [
    "\"\"\"df['CO'] = np.where((df.CO >60),df['CO']/1000,df.CO)\n",
    "df\"\"\""
   ]
  },
  {
   "cell_type": "code",
   "execution_count": 235,
   "metadata": {},
   "outputs": [
    {
     "data": {
      "text/plain": [
       "From Date    0\n",
       "BP           0\n",
       "CO           0\n",
       "VWS          0\n",
       "WD           0\n",
       "WS           0\n",
       "NO           0\n",
       "NO2          0\n",
       "PM2.5        0\n",
       "RH           0\n",
       "SO2          0\n",
       "SR           0\n",
       "dtype: int64"
      ]
     },
     "execution_count": 235,
     "metadata": {},
     "output_type": "execute_result"
    }
   ],
   "source": [
    "df.isna().sum()"
   ]
  },
  {
   "cell_type": "code",
   "execution_count": 236,
   "metadata": {},
   "outputs": [
    {
     "data": {
      "text/plain": [
       "<matplotlib.axes._subplots.AxesSubplot at 0x1bef758b7b8>"
      ]
     },
     "execution_count": 236,
     "metadata": {},
     "output_type": "execute_result"
    },
    {
     "data": {
      "image/png": "[encoded data removed]",
      "text/plain": [
       "<Figure size 432x288 with 1 Axes>"
      ]
     },
     "metadata": {
      "needs_background": "light"
     },
     "output_type": "display_data"
    }
   ],
   "source": [
    "sns.boxplot(data=df)"
   ]
  },
  {
   "cell_type": "code",
   "execution_count": 237,
   "metadata": {},
   "outputs": [
    {
     "data": {
      "text/plain": [
       "(8709, 12)"
      ]
     },
     "execution_count": 237,
     "metadata": {},
     "output_type": "execute_result"
    }
   ],
   "source": [
    "df.shape"
   ]
  },
  {
   "cell_type": "code",
   "execution_count": 238,
   "metadata": {},
   "outputs": [],
   "source": [
    "df['location']=1\n",
    "df['location']=df['location'].astype('category')"
   ]
  },
  {
   "cell_type": "code",
   "execution_count": 239,
   "metadata": {},
   "outputs": [
    {
     "data": {
      "text/html": [
       "<div>\n",
       "<style scoped>\n",
       "    .dataframe tbody tr th:only-of-type {\n",
       "        vertical-align: middle;\n",
       "    }\n",
       "\n",
       "    .dataframe tbody tr th {\n",
       "        vertical-align: top;\n",
       "    }\n",
       "\n",
       "    .dataframe thead th {\n",
       "        text-align: right;\n",
       "    }\n",
       "</style>\n",
       "<table border=\"1\" class=\"dataframe\">\n",
       "  <thead>\n",
       "    <tr style=\"text-align: right;\">\n",
       "      <th></th>\n",
       "      <th>From Date</th>\n",
       "      <th>BP</th>\n",
       "      <th>CO</th>\n",
       "      <th>VWS</th>\n",
       "      <th>WD</th>\n",
       "      <th>WS</th>\n",
       "      <th>NO</th>\n",
       "      <th>NO2</th>\n",
       "      <th>PM2.5</th>\n",
       "      <th>RH</th>\n",
       "      <th>SO2</th>\n",
       "      <th>SR</th>\n",
       "      <th>location</th>\n",
       "    </tr>\n",
       "  </thead>\n",
       "  <tbody>\n",
       "    <tr>\n",
       "      <th>0</th>\n",
       "      <td>01-01-2018 00:00</td>\n",
       "      <td>1008.15</td>\n",
       "      <td>0.0</td>\n",
       "      <td>0.15</td>\n",
       "      <td>345.76</td>\n",
       "      <td>1.02</td>\n",
       "      <td>4.89</td>\n",
       "      <td>12.67</td>\n",
       "      <td>70.05</td>\n",
       "      <td>96.28</td>\n",
       "      <td>5.11</td>\n",
       "      <td>0.0</td>\n",
       "      <td>1</td>\n",
       "    </tr>\n",
       "    <tr>\n",
       "      <th>1</th>\n",
       "      <td>01-01-2018 01:00</td>\n",
       "      <td>1007.50</td>\n",
       "      <td>0.0</td>\n",
       "      <td>0.15</td>\n",
       "      <td>344.63</td>\n",
       "      <td>0.93</td>\n",
       "      <td>4.89</td>\n",
       "      <td>12.65</td>\n",
       "      <td>74.38</td>\n",
       "      <td>96.11</td>\n",
       "      <td>5.38</td>\n",
       "      <td>0.0</td>\n",
       "      <td>1</td>\n",
       "    </tr>\n",
       "    <tr>\n",
       "      <th>2</th>\n",
       "      <td>01-01-2018 02:00</td>\n",
       "      <td>1007.00</td>\n",
       "      <td>0.0</td>\n",
       "      <td>0.17</td>\n",
       "      <td>348.01</td>\n",
       "      <td>1.13</td>\n",
       "      <td>4.91</td>\n",
       "      <td>12.77</td>\n",
       "      <td>76.47</td>\n",
       "      <td>94.56</td>\n",
       "      <td>5.46</td>\n",
       "      <td>0.0</td>\n",
       "      <td>1</td>\n",
       "    </tr>\n",
       "    <tr>\n",
       "      <th>3</th>\n",
       "      <td>01-01-2018 03:00</td>\n",
       "      <td>1006.62</td>\n",
       "      <td>0.0</td>\n",
       "      <td>0.17</td>\n",
       "      <td>350.67</td>\n",
       "      <td>1.17</td>\n",
       "      <td>4.84</td>\n",
       "      <td>12.44</td>\n",
       "      <td>78.92</td>\n",
       "      <td>90.09</td>\n",
       "      <td>4.04</td>\n",
       "      <td>0.0</td>\n",
       "      <td>1</td>\n",
       "    </tr>\n",
       "    <tr>\n",
       "      <th>4</th>\n",
       "      <td>01-01-2018 04:00</td>\n",
       "      <td>1006.60</td>\n",
       "      <td>0.0</td>\n",
       "      <td>0.14</td>\n",
       "      <td>333.23</td>\n",
       "      <td>0.88</td>\n",
       "      <td>4.80</td>\n",
       "      <td>12.26</td>\n",
       "      <td>56.75</td>\n",
       "      <td>90.64</td>\n",
       "      <td>3.43</td>\n",
       "      <td>0.0</td>\n",
       "      <td>1</td>\n",
       "    </tr>\n",
       "  </tbody>\n",
       "</table>\n",
       "</div>"
      ],
      "text/plain": [
       "          From Date       BP   CO   VWS      WD    WS    NO    NO2  PM2.5  \\\n",
       "0  01-01-2018 00:00  1008.15  0.0  0.15  345.76  1.02  4.89  12.67  70.05   \n",
       "1  01-01-2018 01:00  1007.50  0.0  0.15  344.63  0.93  4.89  12.65  74.38   \n",
       "2  01-01-2018 02:00  1007.00  0.0  0.17  348.01  1.13  4.91  12.77  76.47   \n",
       "3  01-01-2018 03:00  1006.62  0.0  0.17  350.67  1.17  4.84  12.44  78.92   \n",
       "4  01-01-2018 04:00  1006.60  0.0  0.14  333.23  0.88  4.80  12.26  56.75   \n",
       "\n",
       "      RH   SO2   SR location  \n",
       "0  96.28  5.11  0.0        1  \n",
       "1  96.11  5.38  0.0        1  \n",
       "2  94.56  5.46  0.0        1  \n",
       "3  90.09  4.04  0.0        1  \n",
       "4  90.64  3.43  0.0        1  "
      ]
     },
     "execution_count": 239,
     "metadata": {},
     "output_type": "execute_result"
    }
   ],
   "source": [
    "df.head()"
   ]
  },
  {
   "cell_type": "code",
   "execution_count": 240,
   "metadata": {},
   "outputs": [
    {
     "data": {
      "text/plain": [
       "<matplotlib.axes._subplots.AxesSubplot at 0x1bef79bb710>"
      ]
     },
     "execution_count": 240,
     "metadata": {},
     "output_type": "execute_result"
    },
    {
     "data": {
      "image/png": "[encoded data removed]",
      "text/plain": [
       "<Figure size 1080x720 with 2 Axes>"
      ]
     },
     "metadata": {
      "needs_background": "light"
     },
     "output_type": "display_data"
    }
   ],
   "source": [
    "m=df.corr()\n",
    "plt.subplots(figsize=(15,10))\n",
    "sns.heatmap(m,annot=True)"
   ]
  },
  {
   "cell_type": "code",
   "execution_count": 241,
   "metadata": {},
   "outputs": [
    {
     "data": {
      "text/plain": [
       "Index(['From Date', 'BP', 'CO', 'VWS', 'WD', 'WS', 'NO', 'NO2', 'PM2.5', 'RH',\n",
       "       'SO2', 'SR', 'location'],\n",
       "      dtype='object')"
      ]
     },
     "execution_count": 241,
     "metadata": {},
     "output_type": "execute_result"
    }
   ],
   "source": [
    "df.columns"
   ]
  },
  {
   "cell_type": "code",
   "execution_count": 242,
   "metadata": {},
   "outputs": [
    {
     "data": {
      "text/plain": [
       "\"iqr_bp=df['BP'].quantile(.75)-df['BP'].quantile(.25)\\nup_bp=df['BP'].quantile(.75)+(1.5*iqr_bp)\\nlow_bp=df['BP'].quantile(.25)-(1.5*iqr_bp)\\n\\niqr_co=df['CO'].quantile(.75)-df['CO'].quantile(.25)\\nup_co=df['CO'].quantile(.75)+(1.5*iqr_co)\\nlow_co=df['CO'].quantile(.25)-(1.5*iqr_co)\\n\\niqr_wd=df['WD'].quantile(.75)-df['WD'].quantile(.25)\\nup_wd=df['WD'].quantile(.75)+(1.5*iqr_wd)\\nlow_wd=df['WD'].quantile(.25)-(1.5*iqr_wd)\\n\\n\\niqr_vws=df['VWS'].quantile(.75)-df['VWS'].quantile(.25)\\nup_vws=df['VWS'].quantile(.75)+(1.5*iqr_vws)\\nlow_vws=df['VWS'].quantile(.25)-(1.5*iqr_vws)\\n\\n\\niqr_ws=df['WS'].quantile(.75)-df['WS'].quantile(.25)\\nup_ws=df['WS'].quantile(.75)+(1.5*iqr_ws)\\nlow_ws=df['WS'].quantile(.25)-(1.5*iqr_ws)\\n\\niqr_no=df['NO'].quantile(.75)-df['NO'].quantile(.25)\\nup_no=df['NO'].quantile(.75)+(1.5*iqr_no)\\nlow_no=df['NO'].quantile(.25)-(1.5*iqr_no)\\n\\niqr_no2=df['NO2'].quantile(.75)-df['NO2'].quantile(.25)\\nup_no2=df['NO2'].quantile(.75)+(1.5*iqr_no2)\\nlow_no2=df['NO2'].quantile(.25)-(1.5*iqr_no2)\\n\\n\\niqr_pm=df['PM2.5'].quantile(.75)-df['PM2.5'].quantile(.25)\\nup_pm=df['PM2.5'].quantile(.75)+(1.5*iqr_pm)\\nlow_pm=df['PM2.5'].quantile(.25)-(1.5*iqr_pm)\\n\\niqr_rh=df['RH'].quantile(.75)-df['RH'].quantile(.25)\\nup_rh=df['RH'].quantile(.75)+(1.5*iqr_rh)\\nlow_rh=df['RH'].quantile(.25)-(1.5*iqr_rh)\\n\\niqr_so2=df['SO2'].quantile(.75)-df['SO2'].quantile(.25)\\nup_so2=df['SO2'].quantile(.75)+(1.5*iqr_so2)\\nlow_so2=df['SO2'].quantile(.25)-(1.5*iqr_so2)\\n\\niqr_sr=df['SR'].quantile(.75)-df['SR'].quantile(.25)\\nup_sr=df['SR'].quantile(.75)+(1.5*iqr_sr)\\nlow_sr=df['SR'].quantile(.25)-(1.5*iqr_sr)\\n\""
      ]
     },
     "execution_count": 242,
     "metadata": {},
     "output_type": "execute_result"
    }
   ],
   "source": [
    "\"\"\"iqr_bp=df['BP'].quantile(.75)-df['BP'].quantile(.25)\n",
    "up_bp=df['BP'].quantile(.75)+(1.5*iqr_bp)\n",
    "low_bp=df['BP'].quantile(.25)-(1.5*iqr_bp)\n",
    "\n",
    "iqr_co=df['CO'].quantile(.75)-df['CO'].quantile(.25)\n",
    "up_co=df['CO'].quantile(.75)+(1.5*iqr_co)\n",
    "low_co=df['CO'].quantile(.25)-(1.5*iqr_co)\n",
    "\n",
    "iqr_wd=df['WD'].quantile(.75)-df['WD'].quantile(.25)\n",
    "up_wd=df['WD'].quantile(.75)+(1.5*iqr_wd)\n",
    "low_wd=df['WD'].quantile(.25)-(1.5*iqr_wd)\n",
    "\n",
    "\n",
    "iqr_vws=df['VWS'].quantile(.75)-df['VWS'].quantile(.25)\n",
    "up_vws=df['VWS'].quantile(.75)+(1.5*iqr_vws)\n",
    "low_vws=df['VWS'].quantile(.25)-(1.5*iqr_vws)\n",
    "\n",
    "\n",
    "iqr_ws=df['WS'].quantile(.75)-df['WS'].quantile(.25)\n",
    "up_ws=df['WS'].quantile(.75)+(1.5*iqr_ws)\n",
    "low_ws=df['WS'].quantile(.25)-(1.5*iqr_ws)\n",
    "\n",
    "iqr_no=df['NO'].quantile(.75)-df['NO'].quantile(.25)\n",
    "up_no=df['NO'].quantile(.75)+(1.5*iqr_no)\n",
    "low_no=df['NO'].quantile(.25)-(1.5*iqr_no)\n",
    "\n",
    "iqr_no2=df['NO2'].quantile(.75)-df['NO2'].quantile(.25)\n",
    "up_no2=df['NO2'].quantile(.75)+(1.5*iqr_no2)\n",
    "low_no2=df['NO2'].quantile(.25)-(1.5*iqr_no2)\n",
    "\n",
    "\n",
    "iqr_pm=df['PM2.5'].quantile(.75)-df['PM2.5'].quantile(.25)\n",
    "up_pm=df['PM2.5'].quantile(.75)+(1.5*iqr_pm)\n",
    "low_pm=df['PM2.5'].quantile(.25)-(1.5*iqr_pm)\n",
    "\n",
    "iqr_rh=df['RH'].quantile(.75)-df['RH'].quantile(.25)\n",
    "up_rh=df['RH'].quantile(.75)+(1.5*iqr_rh)\n",
    "low_rh=df['RH'].quantile(.25)-(1.5*iqr_rh)\n",
    "\n",
    "iqr_so2=df['SO2'].quantile(.75)-df['SO2'].quantile(.25)\n",
    "up_so2=df['SO2'].quantile(.75)+(1.5*iqr_so2)\n",
    "low_so2=df['SO2'].quantile(.25)-(1.5*iqr_so2)\n",
    "\n",
    "iqr_sr=df['SR'].quantile(.75)-df['SR'].quantile(.25)\n",
    "up_sr=df['SR'].quantile(.75)+(1.5*iqr_sr)\n",
    "low_sr=df['SR'].quantile(.25)-(1.5*iqr_sr)\n",
    "\"\"\""
   ]
  },
  {
   "cell_type": "code",
   "execution_count": 243,
   "metadata": {},
   "outputs": [
    {
     "data": {
      "text/plain": [
       "\"for i in df['CO']:\\n    if(i>up_co):\\n        df['CO']=df['CO'].replace(i,up_co)\\n\\nfor i in df['NO2']:\\n    if(i>up_no2):\\n        df['NO2']=df['NO2'].replace(i,up_no2)\\nfor i in df['NO']:\\n    if(i>up_no):\\n        df['NO']=df['NO'].replace(i,up_no)\\n\\nfor i in df['SO2']:\\n    if(i>up_so2):\\n        df['SO2']=df['SO2'].replace(i,up_so2)\\n        \\nfor i in df['RH']:\\n    if(i>up_rh):\\n        df['RH']=df['RH'].replace(i,up_rh)\\n        \\nfor i in df['VWS']:\\n    if(i>up_vws):\\n        df['VWS']=df['VWS'].replace(i,up_vws)\\n        \\nfor i in df['WS']:\\n    if(i>up_ws):\\n        df['WS']=df['WS'].replace(i,up_ws)\\n        \\nfor i in df['WD']:\\n    if(i>up_wd):\\n        df['WD']=df['WD'].replace(i,up_wd)\\n        \\nfor i in df['PM2.5']:\\n    if(i>up_pm):\\n        df['PM2.5']=df['PM2.5'].replace(i,up_pm)\\n        \\nfor i in df['SR']:\\n    if(i>up_sr):\\n        df['SR']=df['SR'].replace(i,up_sr)\\n\\nfor i in df['BP']:\\n    if(i<low_bp):\\n        df['BP']=df['BP'].replace(i,low_bp)\\n    elif(i>up_bp):\\n        df['BP']=df['BP'].replace(i,up_bp)\""
      ]
     },
     "execution_count": 243,
     "metadata": {},
     "output_type": "execute_result"
    }
   ],
   "source": [
    "\"\"\"for i in df['CO']:\n",
    "    if(i>up_co):\n",
    "        df['CO']=df['CO'].replace(i,up_co)\n",
    "\n",
    "for i in df['NO2']:\n",
    "    if(i>up_no2):\n",
    "        df['NO2']=df['NO2'].replace(i,up_no2)\n",
    "for i in df['NO']:\n",
    "    if(i>up_no):\n",
    "        df['NO']=df['NO'].replace(i,up_no)\n",
    "\n",
    "for i in df['SO2']:\n",
    "    if(i>up_so2):\n",
    "        df['SO2']=df['SO2'].replace(i,up_so2)\n",
    "        \n",
    "for i in df['RH']:\n",
    "    if(i>up_rh):\n",
    "        df['RH']=df['RH'].replace(i,up_rh)\n",
    "        \n",
    "for i in df['VWS']:\n",
    "    if(i>up_vws):\n",
    "        df['VWS']=df['VWS'].replace(i,up_vws)\n",
    "        \n",
    "for i in df['WS']:\n",
    "    if(i>up_ws):\n",
    "        df['WS']=df['WS'].replace(i,up_ws)\n",
    "        \n",
    "for i in df['WD']:\n",
    "    if(i>up_wd):\n",
    "        df['WD']=df['WD'].replace(i,up_wd)\n",
    "        \n",
    "for i in df['PM2.5']:\n",
    "    if(i>up_pm):\n",
    "        df['PM2.5']=df['PM2.5'].replace(i,up_pm)\n",
    "        \n",
    "for i in df['SR']:\n",
    "    if(i>up_sr):\n",
    "        df['SR']=df['SR'].replace(i,up_sr)\n",
    "\n",
    "for i in df['BP']:\n",
    "    if(i<low_bp):\n",
    "        df['BP']=df['BP'].replace(i,low_bp)\n",
    "    elif(i>up_bp):\n",
    "        df['BP']=df['BP'].replace(i,up_bp)\"\"\""
   ]
  },
  {
   "cell_type": "code",
   "execution_count": 244,
   "metadata": {},
   "outputs": [
    {
     "data": {
      "text/plain": [
       "<matplotlib.axes._subplots.AxesSubplot at 0x1bef9481cf8>"
      ]
     },
     "execution_count": 244,
     "metadata": {},
     "output_type": "execute_result"
    },
    {
     "data": {
      "image/png": "[encoded data removed]",
      "text/plain": [
       "<Figure size 432x288 with 1 Axes>"
      ]
     },
     "metadata": {
      "needs_background": "light"
     },
     "output_type": "display_data"
    }
   ],
   "source": [
    "sns.boxplot(data=df)"
   ]
  },
  {
   "cell_type": "code",
   "execution_count": 245,
   "metadata": {},
   "outputs": [],
   "source": [
    "result_csv1 = df.to_csv (r'C:\\dse_new\\eda_vel_18.csv', index = None, header=True)"
   ]
  },
  {
   "cell_type": "code",
   "execution_count": null,
   "metadata": {},
   "outputs": [],
   "source": []
  },
  {
   "cell_type": "markdown",
   "metadata": {},
   "source": [
    "# Upto this basic EDA is done"
   ]
  }
 ],
 "metadata": {
  "kernelspec": {
   "display_name": "Python 3",
   "language": "python",
   "name": "python3"
  },
  "language_info": {
   "codemirror_mode": {
    "name": "ipython",
    "version": 3
   },
   "file_extension": ".py",
   "mimetype": "text/x-python",
   "name": "python",
   "nbconvert_exporter": "python",
   "pygments_lexer": "ipython3",
   "version": "3.7.0"
  }
 },
 "nbformat": 4,
 "nbformat_minor": 2
}
