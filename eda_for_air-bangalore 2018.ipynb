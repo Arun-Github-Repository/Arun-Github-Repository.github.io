{
 "cells": [
  {
   "cell_type": "code",
   "execution_count": 117,
   "metadata": {},
   "outputs": [],
   "source": [
    "import pandas as pd\n",
    "import numpy as np\n",
    "import matplotlib.pyplot as plt\n",
    "import seaborn as sns\n",
    "from scipy.stats import stats\n",
    "import warnings;\n",
    "warnings.filterwarnings(\"ignore\")"
   ]
  },
  {
   "cell_type": "code",
   "execution_count": 118,
   "metadata": {},
   "outputs": [],
   "source": [
    "df1=pd.read_excel('blore_2018.xlsx')"
   ]
  },
  {
   "cell_type": "code",
   "execution_count": 119,
   "metadata": {},
   "outputs": [
    {
     "data": {
      "text/html": [
       "<div>\n",
       "<style scoped>\n",
       "    .dataframe tbody tr th:only-of-type {\n",
       "        vertical-align: middle;\n",
       "    }\n",
       "\n",
       "    .dataframe tbody tr th {\n",
       "        vertical-align: top;\n",
       "    }\n",
       "\n",
       "    .dataframe thead th {\n",
       "        text-align: right;\n",
       "    }\n",
       "</style>\n",
       "<table border=\"1\" class=\"dataframe\">\n",
       "  <thead>\n",
       "    <tr style=\"text-align: right;\">\n",
       "      <th></th>\n",
       "      <th>From Date</th>\n",
       "      <th>To Date</th>\n",
       "      <th>BP</th>\n",
       "      <th>Benzene</th>\n",
       "      <th>MP-Xylene</th>\n",
       "      <th>O</th>\n",
       "      <th>Toluene</th>\n",
       "      <th>CO</th>\n",
       "      <th>Eth-Benzene</th>\n",
       "      <th>PM2.5</th>\n",
       "      <th>NO</th>\n",
       "      <th>NO2</th>\n",
       "      <th>NOx</th>\n",
       "      <th>Ozone</th>\n",
       "      <th>RH</th>\n",
       "      <th>SR</th>\n",
       "      <th>SO2</th>\n",
       "      <th>VWS</th>\n",
       "      <th>WD</th>\n",
       "      <th>WS</th>\n",
       "    </tr>\n",
       "  </thead>\n",
       "  <tbody>\n",
       "    <tr>\n",
       "      <th>0</th>\n",
       "      <td>01-01-2018 00:00</td>\n",
       "      <td>01-01-2018 01:00</td>\n",
       "      <td>1010.3</td>\n",
       "      <td>None</td>\n",
       "      <td>None</td>\n",
       "      <td>None</td>\n",
       "      <td>NaN</td>\n",
       "      <td>1452.3</td>\n",
       "      <td>None</td>\n",
       "      <td>None</td>\n",
       "      <td>57.31</td>\n",
       "      <td>105.86</td>\n",
       "      <td>None</td>\n",
       "      <td>3.69</td>\n",
       "      <td>94.05</td>\n",
       "      <td>-99.99</td>\n",
       "      <td>3.53</td>\n",
       "      <td>-0.13</td>\n",
       "      <td>43.14</td>\n",
       "      <td>0.53</td>\n",
       "    </tr>\n",
       "    <tr>\n",
       "      <th>1</th>\n",
       "      <td>01-01-2018 01:00</td>\n",
       "      <td>01-01-2018 02:00</td>\n",
       "      <td>1010.3</td>\n",
       "      <td>None</td>\n",
       "      <td>None</td>\n",
       "      <td>None</td>\n",
       "      <td>NaN</td>\n",
       "      <td>1466.92</td>\n",
       "      <td>None</td>\n",
       "      <td>None</td>\n",
       "      <td>53.55</td>\n",
       "      <td>107.19</td>\n",
       "      <td>None</td>\n",
       "      <td>3.98</td>\n",
       "      <td>94.05</td>\n",
       "      <td>-99.99</td>\n",
       "      <td>3.17</td>\n",
       "      <td>-0.13</td>\n",
       "      <td>73.61</td>\n",
       "      <td>0.74</td>\n",
       "    </tr>\n",
       "    <tr>\n",
       "      <th>2</th>\n",
       "      <td>01-01-2018 02:00</td>\n",
       "      <td>01-01-2018 03:00</td>\n",
       "      <td>1010.3</td>\n",
       "      <td>None</td>\n",
       "      <td>None</td>\n",
       "      <td>None</td>\n",
       "      <td>NaN</td>\n",
       "      <td>1537.8</td>\n",
       "      <td>None</td>\n",
       "      <td>None</td>\n",
       "      <td>28.41</td>\n",
       "      <td>75.01</td>\n",
       "      <td>None</td>\n",
       "      <td>7.52</td>\n",
       "      <td>94.05</td>\n",
       "      <td>-99.99</td>\n",
       "      <td>3.01</td>\n",
       "      <td>-0.13</td>\n",
       "      <td>69.82</td>\n",
       "      <td>0.71</td>\n",
       "    </tr>\n",
       "    <tr>\n",
       "      <th>3</th>\n",
       "      <td>01-01-2018 03:00</td>\n",
       "      <td>01-01-2018 04:00</td>\n",
       "      <td>1010.3</td>\n",
       "      <td>None</td>\n",
       "      <td>None</td>\n",
       "      <td>None</td>\n",
       "      <td>NaN</td>\n",
       "      <td>1438.1</td>\n",
       "      <td>None</td>\n",
       "      <td>None</td>\n",
       "      <td>16.79</td>\n",
       "      <td>51.3</td>\n",
       "      <td>None</td>\n",
       "      <td>15.63</td>\n",
       "      <td>94.06</td>\n",
       "      <td>-99.99</td>\n",
       "      <td>3.6</td>\n",
       "      <td>-0.13</td>\n",
       "      <td>172.13</td>\n",
       "      <td>0.52</td>\n",
       "    </tr>\n",
       "    <tr>\n",
       "      <th>4</th>\n",
       "      <td>01-01-2018 04:00</td>\n",
       "      <td>01-01-2018 05:00</td>\n",
       "      <td>1010.3</td>\n",
       "      <td>None</td>\n",
       "      <td>None</td>\n",
       "      <td>None</td>\n",
       "      <td>NaN</td>\n",
       "      <td>1414.3</td>\n",
       "      <td>None</td>\n",
       "      <td>None</td>\n",
       "      <td>10.64</td>\n",
       "      <td>37.84</td>\n",
       "      <td>None</td>\n",
       "      <td>43.59</td>\n",
       "      <td>81.61</td>\n",
       "      <td>-99.99</td>\n",
       "      <td>3.4</td>\n",
       "      <td>-0.13</td>\n",
       "      <td>212.24</td>\n",
       "      <td>0.28</td>\n",
       "    </tr>\n",
       "  </tbody>\n",
       "</table>\n",
       "</div>"
      ],
      "text/plain": [
       "          From Date           To Date      BP Benzene MP-Xylene     O  \\\n",
       "0  01-01-2018 00:00  01-01-2018 01:00  1010.3    None      None  None   \n",
       "1  01-01-2018 01:00  01-01-2018 02:00  1010.3    None      None  None   \n",
       "2  01-01-2018 02:00  01-01-2018 03:00  1010.3    None      None  None   \n",
       "3  01-01-2018 03:00  01-01-2018 04:00  1010.3    None      None  None   \n",
       "4  01-01-2018 04:00  01-01-2018 05:00  1010.3    None      None  None   \n",
       "\n",
       "   Toluene       CO Eth-Benzene PM2.5     NO     NO2   NOx  Ozone     RH  \\\n",
       "0      NaN   1452.3        None  None  57.31  105.86  None   3.69  94.05   \n",
       "1      NaN  1466.92        None  None  53.55  107.19  None   3.98  94.05   \n",
       "2      NaN   1537.8        None  None  28.41   75.01  None   7.52  94.05   \n",
       "3      NaN   1438.1        None  None  16.79    51.3  None  15.63  94.06   \n",
       "4      NaN   1414.3        None  None  10.64   37.84  None  43.59  81.61   \n",
       "\n",
       "      SR   SO2   VWS      WD    WS  \n",
       "0 -99.99  3.53 -0.13   43.14  0.53  \n",
       "1 -99.99  3.17 -0.13   73.61  0.74  \n",
       "2 -99.99  3.01 -0.13   69.82  0.71  \n",
       "3 -99.99   3.6 -0.13  172.13  0.52  \n",
       "4 -99.99   3.4 -0.13  212.24  0.28  "
      ]
     },
     "execution_count": 119,
     "metadata": {},
     "output_type": "execute_result"
    }
   ],
   "source": [
    "df1.head()"
   ]
  },
  {
   "cell_type": "code",
   "execution_count": 120,
   "metadata": {},
   "outputs": [],
   "source": [
    "df=df1[['From Date','BP','CO','VWS','WD','WS','NO','NO2','PM2.5','RH','SO2','SR']]"
   ]
  },
  {
   "cell_type": "code",
   "execution_count": 121,
   "metadata": {},
   "outputs": [
    {
     "data": {
      "text/html": [
       "<div>\n",
       "<style scoped>\n",
       "    .dataframe tbody tr th:only-of-type {\n",
       "        vertical-align: middle;\n",
       "    }\n",
       "\n",
       "    .dataframe tbody tr th {\n",
       "        vertical-align: top;\n",
       "    }\n",
       "\n",
       "    .dataframe thead th {\n",
       "        text-align: right;\n",
       "    }\n",
       "</style>\n",
       "<table border=\"1\" class=\"dataframe\">\n",
       "  <thead>\n",
       "    <tr style=\"text-align: right;\">\n",
       "      <th></th>\n",
       "      <th>From Date</th>\n",
       "      <th>BP</th>\n",
       "      <th>CO</th>\n",
       "      <th>VWS</th>\n",
       "      <th>WD</th>\n",
       "      <th>WS</th>\n",
       "      <th>NO</th>\n",
       "      <th>NO2</th>\n",
       "      <th>PM2.5</th>\n",
       "      <th>RH</th>\n",
       "      <th>SO2</th>\n",
       "      <th>SR</th>\n",
       "    </tr>\n",
       "  </thead>\n",
       "  <tbody>\n",
       "    <tr>\n",
       "      <th>0</th>\n",
       "      <td>01-01-2018 00:00</td>\n",
       "      <td>1010.3</td>\n",
       "      <td>1452.3</td>\n",
       "      <td>-0.13</td>\n",
       "      <td>43.14</td>\n",
       "      <td>0.53</td>\n",
       "      <td>57.31</td>\n",
       "      <td>105.86</td>\n",
       "      <td>None</td>\n",
       "      <td>94.05</td>\n",
       "      <td>3.53</td>\n",
       "      <td>-99.99</td>\n",
       "    </tr>\n",
       "    <tr>\n",
       "      <th>1</th>\n",
       "      <td>01-01-2018 01:00</td>\n",
       "      <td>1010.3</td>\n",
       "      <td>1466.92</td>\n",
       "      <td>-0.13</td>\n",
       "      <td>73.61</td>\n",
       "      <td>0.74</td>\n",
       "      <td>53.55</td>\n",
       "      <td>107.19</td>\n",
       "      <td>None</td>\n",
       "      <td>94.05</td>\n",
       "      <td>3.17</td>\n",
       "      <td>-99.99</td>\n",
       "    </tr>\n",
       "    <tr>\n",
       "      <th>2</th>\n",
       "      <td>01-01-2018 02:00</td>\n",
       "      <td>1010.3</td>\n",
       "      <td>1537.8</td>\n",
       "      <td>-0.13</td>\n",
       "      <td>69.82</td>\n",
       "      <td>0.71</td>\n",
       "      <td>28.41</td>\n",
       "      <td>75.01</td>\n",
       "      <td>None</td>\n",
       "      <td>94.05</td>\n",
       "      <td>3.01</td>\n",
       "      <td>-99.99</td>\n",
       "    </tr>\n",
       "    <tr>\n",
       "      <th>3</th>\n",
       "      <td>01-01-2018 03:00</td>\n",
       "      <td>1010.3</td>\n",
       "      <td>1438.1</td>\n",
       "      <td>-0.13</td>\n",
       "      <td>172.13</td>\n",
       "      <td>0.52</td>\n",
       "      <td>16.79</td>\n",
       "      <td>51.3</td>\n",
       "      <td>None</td>\n",
       "      <td>94.06</td>\n",
       "      <td>3.6</td>\n",
       "      <td>-99.99</td>\n",
       "    </tr>\n",
       "    <tr>\n",
       "      <th>4</th>\n",
       "      <td>01-01-2018 04:00</td>\n",
       "      <td>1010.3</td>\n",
       "      <td>1414.3</td>\n",
       "      <td>-0.13</td>\n",
       "      <td>212.24</td>\n",
       "      <td>0.28</td>\n",
       "      <td>10.64</td>\n",
       "      <td>37.84</td>\n",
       "      <td>None</td>\n",
       "      <td>81.61</td>\n",
       "      <td>3.4</td>\n",
       "      <td>-99.99</td>\n",
       "    </tr>\n",
       "  </tbody>\n",
       "</table>\n",
       "</div>"
      ],
      "text/plain": [
       "          From Date      BP       CO   VWS      WD    WS     NO     NO2 PM2.5  \\\n",
       "0  01-01-2018 00:00  1010.3   1452.3 -0.13   43.14  0.53  57.31  105.86  None   \n",
       "1  01-01-2018 01:00  1010.3  1466.92 -0.13   73.61  0.74  53.55  107.19  None   \n",
       "2  01-01-2018 02:00  1010.3   1537.8 -0.13   69.82  0.71  28.41   75.01  None   \n",
       "3  01-01-2018 03:00  1010.3   1438.1 -0.13  172.13  0.52  16.79    51.3  None   \n",
       "4  01-01-2018 04:00  1010.3   1414.3 -0.13  212.24  0.28  10.64   37.84  None   \n",
       "\n",
       "      RH   SO2     SR  \n",
       "0  94.05  3.53 -99.99  \n",
       "1  94.05  3.17 -99.99  \n",
       "2  94.05  3.01 -99.99  \n",
       "3  94.06   3.6 -99.99  \n",
       "4  81.61   3.4 -99.99  "
      ]
     },
     "execution_count": 121,
     "metadata": {},
     "output_type": "execute_result"
    }
   ],
   "source": [
    "df.head()"
   ]
  },
  {
   "cell_type": "code",
   "execution_count": 122,
   "metadata": {},
   "outputs": [
    {
     "data": {
      "text/plain": [
       "(8737, 12)"
      ]
     },
     "execution_count": 122,
     "metadata": {},
     "output_type": "execute_result"
    }
   ],
   "source": [
    "df.shape"
   ]
  },
  {
   "cell_type": "code",
   "execution_count": 123,
   "metadata": {},
   "outputs": [
    {
     "name": "stdout",
     "output_type": "stream",
     "text": [
      "<class 'pandas.core.frame.DataFrame'>\n",
      "RangeIndex: 8737 entries, 0 to 8736\n",
      "Data columns (total 12 columns):\n",
      "From Date    8737 non-null object\n",
      "BP           8737 non-null object\n",
      "CO           8737 non-null object\n",
      "VWS          8737 non-null object\n",
      "WD           8737 non-null object\n",
      "WS           8737 non-null object\n",
      "NO           8737 non-null object\n",
      "NO2          8737 non-null object\n",
      "PM2.5        8737 non-null object\n",
      "RH           8737 non-null object\n",
      "SO2          8737 non-null object\n",
      "SR           8737 non-null object\n",
      "dtypes: object(12)\n",
      "memory usage: 819.2+ KB\n"
     ]
    }
   ],
   "source": [
    "df.info()"
   ]
  },
  {
   "cell_type": "code",
   "execution_count": 124,
   "metadata": {},
   "outputs": [],
   "source": [
    "for i in df.columns:\n",
    "    for j in df[i]:\n",
    "        if(j=='None'):\n",
    "            df[i]=df[i].replace(j,np.nan)"
   ]
  },
  {
   "cell_type": "code",
   "execution_count": 125,
   "metadata": {},
   "outputs": [
    {
     "name": "stdout",
     "output_type": "stream",
     "text": [
      "Percentage of Null values in Banglaore 2018:  16.571286864293615\n"
     ]
    }
   ],
   "source": [
    "print(\"Percentage of Null values in Banglaore 2018: \",((df.isna().sum()/(len(df)*12)).sum())*100)"
   ]
  },
  {
   "cell_type": "code",
   "execution_count": 126,
   "metadata": {},
   "outputs": [
    {
     "data": {
      "text/plain": [
       "From Date       0\n",
       "BP            949\n",
       "CO           1018\n",
       "VWS           944\n",
       "WD            949\n",
       "WS            944\n",
       "NO            954\n",
       "NO2           955\n",
       "PM2.5        1005\n",
       "RH           7580\n",
       "SO2          1131\n",
       "SR            945\n",
       "dtype: int64"
      ]
     },
     "execution_count": 126,
     "metadata": {},
     "output_type": "execute_result"
    }
   ],
   "source": [
    "df.isna().sum()"
   ]
  },
  {
   "cell_type": "code",
   "execution_count": 127,
   "metadata": {},
   "outputs": [],
   "source": [
    "list1=['BP','CO','VWS','WD','WS','NO','NO2','PM2.5','RH','SO2','SR']\n",
    "count=0\n",
    "for i in list1:\n",
    "    for j in df[i]:\n",
    "        if(j<0):\n",
    "            count=count+1"
   ]
  },
  {
   "cell_type": "code",
   "execution_count": 128,
   "metadata": {},
   "outputs": [
    {
     "data": {
      "text/plain": [
       "0.05500553202853763"
      ]
     },
     "execution_count": 128,
     "metadata": {},
     "output_type": "execute_result"
    }
   ],
   "source": [
    "count/(len(df)*12)"
   ]
  },
  {
   "cell_type": "code",
   "execution_count": 129,
   "metadata": {},
   "outputs": [],
   "source": [
    "for col in list1:\n",
    "    if(col!='VWS'):\n",
    "        for j in df[col]:\n",
    "            if(j<0):\n",
    "                df[col]=df[col].replace(j,np.nan)"
   ]
  },
  {
   "cell_type": "code",
   "execution_count": 130,
   "metadata": {},
   "outputs": [
    {
     "name": "stdout",
     "output_type": "stream",
     "text": [
      "Percentage of Null values in Bangalore 2018:  17.568005799091985\n"
     ]
    }
   ],
   "source": [
    "print(\"Percentage of Null values in Bangalore 2018: \",((df.isna().sum()/(len(df)*12)).sum())*100)"
   ]
  },
  {
   "cell_type": "code",
   "execution_count": 131,
   "metadata": {},
   "outputs": [
    {
     "data": {
      "text/plain": [
       "From Date       0\n",
       "BP            949\n",
       "CO           1018\n",
       "VWS           944\n",
       "WD            949\n",
       "WS            944\n",
       "NO            954\n",
       "NO2           955\n",
       "PM2.5        1005\n",
       "RH           7580\n",
       "SO2          1131\n",
       "SR           1990\n",
       "dtype: int64"
      ]
     },
     "execution_count": 131,
     "metadata": {},
     "output_type": "execute_result"
    }
   ],
   "source": [
    "df.isna().sum()"
   ]
  },
  {
   "cell_type": "code",
   "execution_count": 132,
   "metadata": {},
   "outputs": [],
   "source": [
    "df=df.dropna(axis=0,subset=['PM2.5'])"
   ]
  },
  {
   "cell_type": "code",
   "execution_count": 133,
   "metadata": {},
   "outputs": [],
   "source": [
    "m=['BP','CO','VWS','WD','WS','NO','NO2','PM2.5','RH','SO2','SR']\n",
    "for col in m:\n",
    "    df[col] = df[col].interpolate(method='nearest',limit_direction = 'both')"
   ]
  },
  {
   "cell_type": "code",
   "execution_count": 134,
   "metadata": {},
   "outputs": [
    {
     "data": {
      "text/plain": [
       "From Date       0\n",
       "BP              0\n",
       "CO              0\n",
       "VWS             0\n",
       "WD              0\n",
       "WS              0\n",
       "NO              0\n",
       "NO2             0\n",
       "PM2.5           0\n",
       "RH           6609\n",
       "SO2             0\n",
       "SR            963\n",
       "dtype: int64"
      ]
     },
     "execution_count": 134,
     "metadata": {},
     "output_type": "execute_result"
    }
   ],
   "source": [
    "df.isna().sum()"
   ]
  },
  {
   "cell_type": "code",
   "execution_count": 135,
   "metadata": {},
   "outputs": [],
   "source": [
    "df['RH'].replace(np.nan,df['RH'].mean(),inplace=True)\n",
    "df['SR'].replace(np.nan,df['SR'].mean(),inplace=True)"
   ]
  },
  {
   "cell_type": "code",
   "execution_count": 136,
   "metadata": {},
   "outputs": [
    {
     "data": {
      "text/plain": [
       "From Date    0\n",
       "BP           0\n",
       "CO           0\n",
       "VWS          0\n",
       "WD           0\n",
       "WS           0\n",
       "NO           0\n",
       "NO2          0\n",
       "PM2.5        0\n",
       "RH           0\n",
       "SO2          0\n",
       "SR           0\n",
       "dtype: int64"
      ]
     },
     "execution_count": 136,
     "metadata": {},
     "output_type": "execute_result"
    }
   ],
   "source": [
    "df.isna().sum()"
   ]
  },
  {
   "cell_type": "code",
   "execution_count": 137,
   "metadata": {},
   "outputs": [],
   "source": [
    "df['BP']=df['BP'].astype(float)\n",
    "df['CO']=df['CO'].astype(float)\n",
    "df['VWS']=df['VWS'].astype(float)\n",
    "df['WD']=df['WD'].astype(float)\n",
    "df['WS']=df['WS'].astype(float)\n",
    "df['NO']=df['NO'].astype(float)\n",
    "df['NO2']=df['NO2'].astype(float)\n",
    "df['PM2.5']=df['PM2.5'].astype(float)\n",
    "df['RH']=df['RH'].astype(float)\n",
    "df['SO2']=df['SO2'].astype(float)\n",
    "df['SR']=df['SR'].astype(float)"
   ]
  },
  {
   "cell_type": "code",
   "execution_count": 138,
   "metadata": {},
   "outputs": [
    {
     "data": {
      "text/html": [
       "<div>\n",
       "<style scoped>\n",
       "    .dataframe tbody tr th:only-of-type {\n",
       "        vertical-align: middle;\n",
       "    }\n",
       "\n",
       "    .dataframe tbody tr th {\n",
       "        vertical-align: top;\n",
       "    }\n",
       "\n",
       "    .dataframe thead th {\n",
       "        text-align: right;\n",
       "    }\n",
       "</style>\n",
       "<table border=\"1\" class=\"dataframe\">\n",
       "  <thead>\n",
       "    <tr style=\"text-align: right;\">\n",
       "      <th></th>\n",
       "      <th>From Date</th>\n",
       "      <th>BP</th>\n",
       "      <th>CO</th>\n",
       "      <th>VWS</th>\n",
       "      <th>WD</th>\n",
       "      <th>WS</th>\n",
       "      <th>NO</th>\n",
       "      <th>NO2</th>\n",
       "      <th>PM2.5</th>\n",
       "      <th>RH</th>\n",
       "      <th>SO2</th>\n",
       "      <th>SR</th>\n",
       "    </tr>\n",
       "  </thead>\n",
       "  <tbody>\n",
       "    <tr>\n",
       "      <th>14</th>\n",
       "      <td>01-01-2018 14:00</td>\n",
       "      <td>1010.38</td>\n",
       "      <td>1323.73</td>\n",
       "      <td>-0.13</td>\n",
       "      <td>101.78</td>\n",
       "      <td>0.50</td>\n",
       "      <td>0.11</td>\n",
       "      <td>20.64</td>\n",
       "      <td>8.00</td>\n",
       "      <td>32.38</td>\n",
       "      <td>2.69</td>\n",
       "      <td>153.870409</td>\n",
       "    </tr>\n",
       "    <tr>\n",
       "      <th>15</th>\n",
       "      <td>01-01-2018 15:00</td>\n",
       "      <td>1010.75</td>\n",
       "      <td>1604.50</td>\n",
       "      <td>-0.12</td>\n",
       "      <td>233.44</td>\n",
       "      <td>0.56</td>\n",
       "      <td>0.11</td>\n",
       "      <td>18.24</td>\n",
       "      <td>13.00</td>\n",
       "      <td>30.95</td>\n",
       "      <td>4.12</td>\n",
       "      <td>153.870409</td>\n",
       "    </tr>\n",
       "    <tr>\n",
       "      <th>16</th>\n",
       "      <td>01-01-2018 16:00</td>\n",
       "      <td>1010.37</td>\n",
       "      <td>1273.05</td>\n",
       "      <td>-0.13</td>\n",
       "      <td>228.97</td>\n",
       "      <td>0.59</td>\n",
       "      <td>0.23</td>\n",
       "      <td>19.75</td>\n",
       "      <td>27.07</td>\n",
       "      <td>31.94</td>\n",
       "      <td>4.85</td>\n",
       "      <td>153.870409</td>\n",
       "    </tr>\n",
       "    <tr>\n",
       "      <th>17</th>\n",
       "      <td>01-01-2018 17:00</td>\n",
       "      <td>1010.30</td>\n",
       "      <td>1471.65</td>\n",
       "      <td>-0.13</td>\n",
       "      <td>240.37</td>\n",
       "      <td>0.71</td>\n",
       "      <td>0.91</td>\n",
       "      <td>23.66</td>\n",
       "      <td>32.59</td>\n",
       "      <td>33.77</td>\n",
       "      <td>3.62</td>\n",
       "      <td>153.870409</td>\n",
       "    </tr>\n",
       "    <tr>\n",
       "      <th>18</th>\n",
       "      <td>01-01-2018 18:00</td>\n",
       "      <td>1010.30</td>\n",
       "      <td>2622.27</td>\n",
       "      <td>-0.13</td>\n",
       "      <td>102.74</td>\n",
       "      <td>0.66</td>\n",
       "      <td>22.73</td>\n",
       "      <td>88.78</td>\n",
       "      <td>35.67</td>\n",
       "      <td>44.95</td>\n",
       "      <td>4.11</td>\n",
       "      <td>153.870409</td>\n",
       "    </tr>\n",
       "  </tbody>\n",
       "</table>\n",
       "</div>"
      ],
      "text/plain": [
       "           From Date       BP       CO   VWS      WD    WS     NO    NO2  \\\n",
       "14  01-01-2018 14:00  1010.38  1323.73 -0.13  101.78  0.50   0.11  20.64   \n",
       "15  01-01-2018 15:00  1010.75  1604.50 -0.12  233.44  0.56   0.11  18.24   \n",
       "16  01-01-2018 16:00  1010.37  1273.05 -0.13  228.97  0.59   0.23  19.75   \n",
       "17  01-01-2018 17:00  1010.30  1471.65 -0.13  240.37  0.71   0.91  23.66   \n",
       "18  01-01-2018 18:00  1010.30  2622.27 -0.13  102.74  0.66  22.73  88.78   \n",
       "\n",
       "    PM2.5     RH   SO2          SR  \n",
       "14   8.00  32.38  2.69  153.870409  \n",
       "15  13.00  30.95  4.12  153.870409  \n",
       "16  27.07  31.94  4.85  153.870409  \n",
       "17  32.59  33.77  3.62  153.870409  \n",
       "18  35.67  44.95  4.11  153.870409  "
      ]
     },
     "execution_count": 138,
     "metadata": {},
     "output_type": "execute_result"
    }
   ],
   "source": [
    "df.head()"
   ]
  },
  {
   "cell_type": "code",
   "execution_count": 139,
   "metadata": {},
   "outputs": [
    {
     "data": {
      "text/html": [
       "<div>\n",
       "<style scoped>\n",
       "    .dataframe tbody tr th:only-of-type {\n",
       "        vertical-align: middle;\n",
       "    }\n",
       "\n",
       "    .dataframe tbody tr th {\n",
       "        vertical-align: top;\n",
       "    }\n",
       "\n",
       "    .dataframe thead th {\n",
       "        text-align: right;\n",
       "    }\n",
       "</style>\n",
       "<table border=\"1\" class=\"dataframe\">\n",
       "  <thead>\n",
       "    <tr style=\"text-align: right;\">\n",
       "      <th></th>\n",
       "      <th>BP</th>\n",
       "      <th>CO</th>\n",
       "      <th>VWS</th>\n",
       "      <th>WD</th>\n",
       "      <th>WS</th>\n",
       "      <th>NO</th>\n",
       "      <th>NO2</th>\n",
       "      <th>PM2.5</th>\n",
       "      <th>RH</th>\n",
       "      <th>SO2</th>\n",
       "      <th>SR</th>\n",
       "    </tr>\n",
       "  </thead>\n",
       "  <tbody>\n",
       "    <tr>\n",
       "      <th>count</th>\n",
       "      <td>7732.000000</td>\n",
       "      <td>7732.000000</td>\n",
       "      <td>7732.000000</td>\n",
       "      <td>7732.000000</td>\n",
       "      <td>7732.000000</td>\n",
       "      <td>7732.000000</td>\n",
       "      <td>7732.000000</td>\n",
       "      <td>7732.000000</td>\n",
       "      <td>7732.000000</td>\n",
       "      <td>7732.000000</td>\n",
       "      <td>7732.000000</td>\n",
       "    </tr>\n",
       "    <tr>\n",
       "      <th>mean</th>\n",
       "      <td>1006.829161</td>\n",
       "      <td>186.202256</td>\n",
       "      <td>-0.030731</td>\n",
       "      <td>151.638389</td>\n",
       "      <td>0.785565</td>\n",
       "      <td>6.232469</td>\n",
       "      <td>20.830297</td>\n",
       "      <td>27.658989</td>\n",
       "      <td>59.565102</td>\n",
       "      <td>3.411352</td>\n",
       "      <td>153.870409</td>\n",
       "    </tr>\n",
       "    <tr>\n",
       "      <th>std</th>\n",
       "      <td>50.130135</td>\n",
       "      <td>500.969808</td>\n",
       "      <td>0.082942</td>\n",
       "      <td>86.284371</td>\n",
       "      <td>0.143702</td>\n",
       "      <td>12.347712</td>\n",
       "      <td>23.620826</td>\n",
       "      <td>33.350863</td>\n",
       "      <td>11.314756</td>\n",
       "      <td>5.168322</td>\n",
       "      <td>226.305887</td>\n",
       "    </tr>\n",
       "    <tr>\n",
       "      <th>min</th>\n",
       "      <td>0.000000</td>\n",
       "      <td>0.000000</td>\n",
       "      <td>-0.620000</td>\n",
       "      <td>0.000000</td>\n",
       "      <td>0.000000</td>\n",
       "      <td>0.000000</td>\n",
       "      <td>0.000000</td>\n",
       "      <td>0.000000</td>\n",
       "      <td>5.800000</td>\n",
       "      <td>0.000000</td>\n",
       "      <td>0.000000</td>\n",
       "    </tr>\n",
       "    <tr>\n",
       "      <th>25%</th>\n",
       "      <td>1006.515000</td>\n",
       "      <td>0.750000</td>\n",
       "      <td>-0.120000</td>\n",
       "      <td>72.857500</td>\n",
       "      <td>0.720000</td>\n",
       "      <td>0.000000</td>\n",
       "      <td>0.000000</td>\n",
       "      <td>14.267500</td>\n",
       "      <td>59.565102</td>\n",
       "      <td>0.000000</td>\n",
       "      <td>7.130000</td>\n",
       "    </tr>\n",
       "    <tr>\n",
       "      <th>50%</th>\n",
       "      <td>1010.300000</td>\n",
       "      <td>0.830000</td>\n",
       "      <td>-0.040000</td>\n",
       "      <td>104.280000</td>\n",
       "      <td>0.810000</td>\n",
       "      <td>4.390000</td>\n",
       "      <td>16.280000</td>\n",
       "      <td>20.715000</td>\n",
       "      <td>59.565102</td>\n",
       "      <td>3.410000</td>\n",
       "      <td>17.220000</td>\n",
       "    </tr>\n",
       "    <tr>\n",
       "      <th>75%</th>\n",
       "      <td>1011.070000</td>\n",
       "      <td>1.410000</td>\n",
       "      <td>0.030000</td>\n",
       "      <td>244.562500</td>\n",
       "      <td>0.890000</td>\n",
       "      <td>6.660000</td>\n",
       "      <td>26.090000</td>\n",
       "      <td>32.210000</td>\n",
       "      <td>59.565102</td>\n",
       "      <td>4.490000</td>\n",
       "      <td>168.820000</td>\n",
       "    </tr>\n",
       "    <tr>\n",
       "      <th>max</th>\n",
       "      <td>1029.950000</td>\n",
       "      <td>5363.250000</td>\n",
       "      <td>0.260000</td>\n",
       "      <td>351.070000</td>\n",
       "      <td>1.120000</td>\n",
       "      <td>221.390000</td>\n",
       "      <td>217.740000</td>\n",
       "      <td>999.990000</td>\n",
       "      <td>104.080000</td>\n",
       "      <td>64.200000</td>\n",
       "      <td>999.990000</td>\n",
       "    </tr>\n",
       "  </tbody>\n",
       "</table>\n",
       "</div>"
      ],
      "text/plain": [
       "                BP           CO          VWS           WD           WS  \\\n",
       "count  7732.000000  7732.000000  7732.000000  7732.000000  7732.000000   \n",
       "mean   1006.829161   186.202256    -0.030731   151.638389     0.785565   \n",
       "std      50.130135   500.969808     0.082942    86.284371     0.143702   \n",
       "min       0.000000     0.000000    -0.620000     0.000000     0.000000   \n",
       "25%    1006.515000     0.750000    -0.120000    72.857500     0.720000   \n",
       "50%    1010.300000     0.830000    -0.040000   104.280000     0.810000   \n",
       "75%    1011.070000     1.410000     0.030000   244.562500     0.890000   \n",
       "max    1029.950000  5363.250000     0.260000   351.070000     1.120000   \n",
       "\n",
       "                NO          NO2        PM2.5           RH          SO2  \\\n",
       "count  7732.000000  7732.000000  7732.000000  7732.000000  7732.000000   \n",
       "mean      6.232469    20.830297    27.658989    59.565102     3.411352   \n",
       "std      12.347712    23.620826    33.350863    11.314756     5.168322   \n",
       "min       0.000000     0.000000     0.000000     5.800000     0.000000   \n",
       "25%       0.000000     0.000000    14.267500    59.565102     0.000000   \n",
       "50%       4.390000    16.280000    20.715000    59.565102     3.410000   \n",
       "75%       6.660000    26.090000    32.210000    59.565102     4.490000   \n",
       "max     221.390000   217.740000   999.990000   104.080000    64.200000   \n",
       "\n",
       "                SR  \n",
       "count  7732.000000  \n",
       "mean    153.870409  \n",
       "std     226.305887  \n",
       "min       0.000000  \n",
       "25%       7.130000  \n",
       "50%      17.220000  \n",
       "75%     168.820000  \n",
       "max     999.990000  "
      ]
     },
     "execution_count": 139,
     "metadata": {},
     "output_type": "execute_result"
    }
   ],
   "source": [
    "df.describe()"
   ]
  },
  {
   "cell_type": "code",
   "execution_count": 140,
   "metadata": {},
   "outputs": [
    {
     "data": {
      "text/plain": [
       "284    45.55\n",
       "Name: CO, dtype: float64"
      ]
     },
     "execution_count": 140,
     "metadata": {},
     "output_type": "execute_result"
    }
   ],
   "source": [
    "df['CO'][(df['CO']>10) & (df['CO']<100)]"
   ]
  },
  {
   "cell_type": "code",
   "execution_count": 141,
   "metadata": {},
   "outputs": [],
   "source": [
    "df['CO'] = np.where((df.CO >100),df['CO']/1000,df.CO)\n"
   ]
  },
  {
   "cell_type": "code",
   "execution_count": 142,
   "metadata": {},
   "outputs": [
    {
     "data": {
      "text/plain": [
       "From Date    0\n",
       "BP           0\n",
       "CO           0\n",
       "VWS          0\n",
       "WD           0\n",
       "WS           0\n",
       "NO           0\n",
       "NO2          0\n",
       "PM2.5        0\n",
       "RH           0\n",
       "SO2          0\n",
       "SR           0\n",
       "dtype: int64"
      ]
     },
     "execution_count": 142,
     "metadata": {},
     "output_type": "execute_result"
    }
   ],
   "source": [
    "df.isna().sum()"
   ]
  },
  {
   "cell_type": "code",
   "execution_count": 143,
   "metadata": {},
   "outputs": [
    {
     "data": {
      "text/plain": [
       "<matplotlib.axes._subplots.AxesSubplot at 0x1e60e5f9898>"
      ]
     },
     "execution_count": 143,
     "metadata": {},
     "output_type": "execute_result"
    },
    {
     "data": {
      "image/png": "[encoded data removed]",
      "text/plain": [
       "<Figure size 432x288 with 1 Axes>"
      ]
     },
     "metadata": {
      "needs_background": "light"
     },
     "output_type": "display_data"
    }
   ],
   "source": [
    "sns.boxplot(data=df)"
   ]
  },
  {
   "cell_type": "code",
   "execution_count": 144,
   "metadata": {},
   "outputs": [
    {
     "data": {
      "text/plain": [
       "(7732, 12)"
      ]
     },
     "execution_count": 144,
     "metadata": {},
     "output_type": "execute_result"
    }
   ],
   "source": [
    "df.shape"
   ]
  },
  {
   "cell_type": "code",
   "execution_count": 145,
   "metadata": {},
   "outputs": [],
   "source": [
    "df['location']=4\n",
    "df['location']=df['location'].astype('category')"
   ]
  },
  {
   "cell_type": "code",
   "execution_count": 146,
   "metadata": {},
   "outputs": [
    {
     "data": {
      "text/html": [
       "<div>\n",
       "<style scoped>\n",
       "    .dataframe tbody tr th:only-of-type {\n",
       "        vertical-align: middle;\n",
       "    }\n",
       "\n",
       "    .dataframe tbody tr th {\n",
       "        vertical-align: top;\n",
       "    }\n",
       "\n",
       "    .dataframe thead th {\n",
       "        text-align: right;\n",
       "    }\n",
       "</style>\n",
       "<table border=\"1\" class=\"dataframe\">\n",
       "  <thead>\n",
       "    <tr style=\"text-align: right;\">\n",
       "      <th></th>\n",
       "      <th>From Date</th>\n",
       "      <th>BP</th>\n",
       "      <th>CO</th>\n",
       "      <th>VWS</th>\n",
       "      <th>WD</th>\n",
       "      <th>WS</th>\n",
       "      <th>NO</th>\n",
       "      <th>NO2</th>\n",
       "      <th>PM2.5</th>\n",
       "      <th>RH</th>\n",
       "      <th>SO2</th>\n",
       "      <th>SR</th>\n",
       "      <th>location</th>\n",
       "    </tr>\n",
       "  </thead>\n",
       "  <tbody>\n",
       "    <tr>\n",
       "      <th>14</th>\n",
       "      <td>01-01-2018 14:00</td>\n",
       "      <td>1010.38</td>\n",
       "      <td>1.32373</td>\n",
       "      <td>-0.13</td>\n",
       "      <td>101.78</td>\n",
       "      <td>0.50</td>\n",
       "      <td>0.11</td>\n",
       "      <td>20.64</td>\n",
       "      <td>8.00</td>\n",
       "      <td>32.38</td>\n",
       "      <td>2.69</td>\n",
       "      <td>153.870409</td>\n",
       "      <td>4</td>\n",
       "    </tr>\n",
       "    <tr>\n",
       "      <th>15</th>\n",
       "      <td>01-01-2018 15:00</td>\n",
       "      <td>1010.75</td>\n",
       "      <td>1.60450</td>\n",
       "      <td>-0.12</td>\n",
       "      <td>233.44</td>\n",
       "      <td>0.56</td>\n",
       "      <td>0.11</td>\n",
       "      <td>18.24</td>\n",
       "      <td>13.00</td>\n",
       "      <td>30.95</td>\n",
       "      <td>4.12</td>\n",
       "      <td>153.870409</td>\n",
       "      <td>4</td>\n",
       "    </tr>\n",
       "    <tr>\n",
       "      <th>16</th>\n",
       "      <td>01-01-2018 16:00</td>\n",
       "      <td>1010.37</td>\n",
       "      <td>1.27305</td>\n",
       "      <td>-0.13</td>\n",
       "      <td>228.97</td>\n",
       "      <td>0.59</td>\n",
       "      <td>0.23</td>\n",
       "      <td>19.75</td>\n",
       "      <td>27.07</td>\n",
       "      <td>31.94</td>\n",
       "      <td>4.85</td>\n",
       "      <td>153.870409</td>\n",
       "      <td>4</td>\n",
       "    </tr>\n",
       "    <tr>\n",
       "      <th>17</th>\n",
       "      <td>01-01-2018 17:00</td>\n",
       "      <td>1010.30</td>\n",
       "      <td>1.47165</td>\n",
       "      <td>-0.13</td>\n",
       "      <td>240.37</td>\n",
       "      <td>0.71</td>\n",
       "      <td>0.91</td>\n",
       "      <td>23.66</td>\n",
       "      <td>32.59</td>\n",
       "      <td>33.77</td>\n",
       "      <td>3.62</td>\n",
       "      <td>153.870409</td>\n",
       "      <td>4</td>\n",
       "    </tr>\n",
       "    <tr>\n",
       "      <th>18</th>\n",
       "      <td>01-01-2018 18:00</td>\n",
       "      <td>1010.30</td>\n",
       "      <td>2.62227</td>\n",
       "      <td>-0.13</td>\n",
       "      <td>102.74</td>\n",
       "      <td>0.66</td>\n",
       "      <td>22.73</td>\n",
       "      <td>88.78</td>\n",
       "      <td>35.67</td>\n",
       "      <td>44.95</td>\n",
       "      <td>4.11</td>\n",
       "      <td>153.870409</td>\n",
       "      <td>4</td>\n",
       "    </tr>\n",
       "  </tbody>\n",
       "</table>\n",
       "</div>"
      ],
      "text/plain": [
       "           From Date       BP       CO   VWS      WD    WS     NO    NO2  \\\n",
       "14  01-01-2018 14:00  1010.38  1.32373 -0.13  101.78  0.50   0.11  20.64   \n",
       "15  01-01-2018 15:00  1010.75  1.60450 -0.12  233.44  0.56   0.11  18.24   \n",
       "16  01-01-2018 16:00  1010.37  1.27305 -0.13  228.97  0.59   0.23  19.75   \n",
       "17  01-01-2018 17:00  1010.30  1.47165 -0.13  240.37  0.71   0.91  23.66   \n",
       "18  01-01-2018 18:00  1010.30  2.62227 -0.13  102.74  0.66  22.73  88.78   \n",
       "\n",
       "    PM2.5     RH   SO2          SR location  \n",
       "14   8.00  32.38  2.69  153.870409        4  \n",
       "15  13.00  30.95  4.12  153.870409        4  \n",
       "16  27.07  31.94  4.85  153.870409        4  \n",
       "17  32.59  33.77  3.62  153.870409        4  \n",
       "18  35.67  44.95  4.11  153.870409        4  "
      ]
     },
     "execution_count": 146,
     "metadata": {},
     "output_type": "execute_result"
    }
   ],
   "source": [
    "df.head()"
   ]
  },
  {
   "cell_type": "code",
   "execution_count": 147,
   "metadata": {},
   "outputs": [
    {
     "data": {
      "text/plain": [
       "<matplotlib.axes._subplots.AxesSubplot at 0x1e60f97a080>"
      ]
     },
     "execution_count": 147,
     "metadata": {},
     "output_type": "execute_result"
    },
    {
     "data": {
      "image/png": "[encoded data removed]",
      "text/plain": [
       "<Figure size 1080x720 with 2 Axes>"
      ]
     },
     "metadata": {
      "needs_background": "light"
     },
     "output_type": "display_data"
    }
   ],
   "source": [
    "m=df.corr()\n",
    "plt.subplots(figsize=(15,10))\n",
    "sns.heatmap(m,annot=True)"
   ]
  },
  {
   "cell_type": "code",
   "execution_count": 148,
   "metadata": {},
   "outputs": [
    {
     "data": {
      "text/plain": [
       "Index(['From Date', 'BP', 'CO', 'VWS', 'WD', 'WS', 'NO', 'NO2', 'PM2.5', 'RH',\n",
       "       'SO2', 'SR', 'location'],\n",
       "      dtype='object')"
      ]
     },
     "execution_count": 148,
     "metadata": {},
     "output_type": "execute_result"
    }
   ],
   "source": [
    "df.columns"
   ]
  },
  {
   "cell_type": "code",
   "execution_count": 149,
   "metadata": {},
   "outputs": [
    {
     "data": {
      "text/plain": [
       "\"iqr_bp=df['BP'].quantile(.75)-df['BP'].quantile(.25)\\nup_bp=df['BP'].quantile(.75)+(1.5*iqr_bp)\\nlow_bp=df['BP'].quantile(.25)-(1.5*iqr_bp)\\n\\niqr_co=df['CO'].quantile(.75)-df['CO'].quantile(.25)\\nup_co=df['CO'].quantile(.75)+(1.5*iqr_co)\\nlow_co=df['CO'].quantile(.25)-(1.5*iqr_co)\\n\\niqr_wd=df['WD'].quantile(.75)-df['WD'].quantile(.25)\\nup_wd=df['WD'].quantile(.75)+(1.5*iqr_wd)\\nlow_wd=df['WD'].quantile(.25)-(1.5*iqr_wd)\\n\\n\\niqr_vws=df['VWS'].quantile(.75)-df['VWS'].quantile(.25)\\nup_vws=df['VWS'].quantile(.75)+(1.5*iqr_vws)\\nlow_vws=df['VWS'].quantile(.25)-(1.5*iqr_vws)\\n\\n\\niqr_ws=df['WS'].quantile(.75)-df['WS'].quantile(.25)\\nup_ws=df['WS'].quantile(.75)+(1.5*iqr_ws)\\nlow_ws=df['WS'].quantile(.25)-(1.5*iqr_ws)\\n\\niqr_no=df['NO'].quantile(.75)-df['NO'].quantile(.25)\\nup_no=df['NO'].quantile(.75)+(1.5*iqr_no)\\nlow_no=df['NO'].quantile(.25)-(1.5*iqr_no)\\n\\niqr_no2=df['NO2'].quantile(.75)-df['NO2'].quantile(.25)\\nup_no2=df['NO2'].quantile(.75)+(1.5*iqr_no2)\\nlow_no2=df['NO2'].quantile(.25)-(1.5*iqr_no2)\\n\\n\\niqr_pm=df['PM2.5'].quantile(.75)-df['PM2.5'].quantile(.25)\\nup_pm=df['PM2.5'].quantile(.75)+(1.5*iqr_pm)\\nlow_pm=df['PM2.5'].quantile(.25)-(1.5*iqr_pm)\\n\\niqr_rh=df['RH'].quantile(.75)-df['RH'].quantile(.25)\\nup_rh=df['RH'].quantile(.75)+(1.5*iqr_rh)\\nlow_rh=df['RH'].quantile(.25)-(1.5*iqr_rh)\\n\\niqr_so2=df['SO2'].quantile(.75)-df['SO2'].quantile(.25)\\nup_so2=df['SO2'].quantile(.75)+(1.5*iqr_so2)\\nlow_so2=df['SO2'].quantile(.25)-(1.5*iqr_so2)\\n\\niqr_sr=df['SR'].quantile(.75)-df['SR'].quantile(.25)\\nup_sr=df['SR'].quantile(.75)+(1.5*iqr_sr)\\nlow_sr=df['SR'].quantile(.25)-(1.5*iqr_sr)\\n\""
      ]
     },
     "execution_count": 149,
     "metadata": {},
     "output_type": "execute_result"
    }
   ],
   "source": [
    "\"\"\"iqr_bp=df['BP'].quantile(.75)-df['BP'].quantile(.25)\n",
    "up_bp=df['BP'].quantile(.75)+(1.5*iqr_bp)\n",
    "low_bp=df['BP'].quantile(.25)-(1.5*iqr_bp)\n",
    "\n",
    "iqr_co=df['CO'].quantile(.75)-df['CO'].quantile(.25)\n",
    "up_co=df['CO'].quantile(.75)+(1.5*iqr_co)\n",
    "low_co=df['CO'].quantile(.25)-(1.5*iqr_co)\n",
    "\n",
    "iqr_wd=df['WD'].quantile(.75)-df['WD'].quantile(.25)\n",
    "up_wd=df['WD'].quantile(.75)+(1.5*iqr_wd)\n",
    "low_wd=df['WD'].quantile(.25)-(1.5*iqr_wd)\n",
    "\n",
    "\n",
    "iqr_vws=df['VWS'].quantile(.75)-df['VWS'].quantile(.25)\n",
    "up_vws=df['VWS'].quantile(.75)+(1.5*iqr_vws)\n",
    "low_vws=df['VWS'].quantile(.25)-(1.5*iqr_vws)\n",
    "\n",
    "\n",
    "iqr_ws=df['WS'].quantile(.75)-df['WS'].quantile(.25)\n",
    "up_ws=df['WS'].quantile(.75)+(1.5*iqr_ws)\n",
    "low_ws=df['WS'].quantile(.25)-(1.5*iqr_ws)\n",
    "\n",
    "iqr_no=df['NO'].quantile(.75)-df['NO'].quantile(.25)\n",
    "up_no=df['NO'].quantile(.75)+(1.5*iqr_no)\n",
    "low_no=df['NO'].quantile(.25)-(1.5*iqr_no)\n",
    "\n",
    "iqr_no2=df['NO2'].quantile(.75)-df['NO2'].quantile(.25)\n",
    "up_no2=df['NO2'].quantile(.75)+(1.5*iqr_no2)\n",
    "low_no2=df['NO2'].quantile(.25)-(1.5*iqr_no2)\n",
    "\n",
    "\n",
    "iqr_pm=df['PM2.5'].quantile(.75)-df['PM2.5'].quantile(.25)\n",
    "up_pm=df['PM2.5'].quantile(.75)+(1.5*iqr_pm)\n",
    "low_pm=df['PM2.5'].quantile(.25)-(1.5*iqr_pm)\n",
    "\n",
    "iqr_rh=df['RH'].quantile(.75)-df['RH'].quantile(.25)\n",
    "up_rh=df['RH'].quantile(.75)+(1.5*iqr_rh)\n",
    "low_rh=df['RH'].quantile(.25)-(1.5*iqr_rh)\n",
    "\n",
    "iqr_so2=df['SO2'].quantile(.75)-df['SO2'].quantile(.25)\n",
    "up_so2=df['SO2'].quantile(.75)+(1.5*iqr_so2)\n",
    "low_so2=df['SO2'].quantile(.25)-(1.5*iqr_so2)\n",
    "\n",
    "iqr_sr=df['SR'].quantile(.75)-df['SR'].quantile(.25)\n",
    "up_sr=df['SR'].quantile(.75)+(1.5*iqr_sr)\n",
    "low_sr=df['SR'].quantile(.25)-(1.5*iqr_sr)\n",
    "\"\"\""
   ]
  },
  {
   "cell_type": "code",
   "execution_count": 150,
   "metadata": {},
   "outputs": [
    {
     "data": {
      "text/plain": [
       "\"for i in df['CO']:\\n    if(i>up_co):\\n        df['CO']=df['CO'].replace(i,up_co)\\n\\nfor i in df['NO2']:\\n    if(i>up_no2):\\n        df['NO2']=df['NO2'].replace(i,up_no2)\\nfor i in df['NO']:\\n    if(i>up_no):\\n        df['NO']=df['NO'].replace(i,up_no)\\n\\nfor i in df['SO2']:\\n    if(i>up_so2):\\n        df['SO2']=df['SO2'].replace(i,up_so2)\\n        \\nfor i in df['RH']:\\n    if(i>up_rh):\\n        df['RH']=df['RH'].replace(i,up_rh)\\n        \\nfor i in df['VWS']:\\n    if(i>up_vws):\\n        df['VWS']=df['VWS'].replace(i,up_vws)\\n        \\nfor i in df['WS']:\\n    if(i>up_ws):\\n        df['WS']=df['WS'].replace(i,up_ws)\\n        \\nfor i in df['WD']:\\n    if(i>up_wd):\\n        df['WD']=df['WD'].replace(i,up_wd)\\n        \\nfor i in df['PM2.5']:\\n    if(i>up_pm):\\n        df['PM2.5']=df['PM2.5'].replace(i,up_pm)\\n        \\nfor i in df['SR']:\\n    if(i>up_sr):\\n        df['SR']=df['SR'].replace(i,up_sr)\\n\\nfor i in df['BP']:\\n    if(i<low_bp):\\n        df['BP']=df['BP'].replace(i,low_bp)\\n    elif(i>up_bp):\\n        df['BP']=df['BP'].replace(i,up_bp)\""
      ]
     },
     "execution_count": 150,
     "metadata": {},
     "output_type": "execute_result"
    }
   ],
   "source": [
    "\"\"\"for i in df['CO']:\n",
    "    if(i>up_co):\n",
    "        df['CO']=df['CO'].replace(i,up_co)\n",
    "\n",
    "for i in df['NO2']:\n",
    "    if(i>up_no2):\n",
    "        df['NO2']=df['NO2'].replace(i,up_no2)\n",
    "for i in df['NO']:\n",
    "    if(i>up_no):\n",
    "        df['NO']=df['NO'].replace(i,up_no)\n",
    "\n",
    "for i in df['SO2']:\n",
    "    if(i>up_so2):\n",
    "        df['SO2']=df['SO2'].replace(i,up_so2)\n",
    "        \n",
    "for i in df['RH']:\n",
    "    if(i>up_rh):\n",
    "        df['RH']=df['RH'].replace(i,up_rh)\n",
    "        \n",
    "for i in df['VWS']:\n",
    "    if(i>up_vws):\n",
    "        df['VWS']=df['VWS'].replace(i,up_vws)\n",
    "        \n",
    "for i in df['WS']:\n",
    "    if(i>up_ws):\n",
    "        df['WS']=df['WS'].replace(i,up_ws)\n",
    "        \n",
    "for i in df['WD']:\n",
    "    if(i>up_wd):\n",
    "        df['WD']=df['WD'].replace(i,up_wd)\n",
    "        \n",
    "for i in df['PM2.5']:\n",
    "    if(i>up_pm):\n",
    "        df['PM2.5']=df['PM2.5'].replace(i,up_pm)\n",
    "        \n",
    "for i in df['SR']:\n",
    "    if(i>up_sr):\n",
    "        df['SR']=df['SR'].replace(i,up_sr)\n",
    "\n",
    "for i in df['BP']:\n",
    "    if(i<low_bp):\n",
    "        df['BP']=df['BP'].replace(i,low_bp)\n",
    "    elif(i>up_bp):\n",
    "        df['BP']=df['BP'].replace(i,up_bp)\"\"\""
   ]
  },
  {
   "cell_type": "code",
   "execution_count": 151,
   "metadata": {},
   "outputs": [
    {
     "data": {
      "text/plain": [
       "<matplotlib.axes._subplots.AxesSubplot at 0x1e60e4604e0>"
      ]
     },
     "execution_count": 151,
     "metadata": {},
     "output_type": "execute_result"
    },
    {
     "data": {
      "image/png": "[encoded data removed]",
      "text/plain": [
       "<Figure size 432x288 with 1 Axes>"
      ]
     },
     "metadata": {
      "needs_background": "light"
     },
     "output_type": "display_data"
    }
   ],
   "source": [
    "sns.boxplot(data=df)"
   ]
  },
  {
   "cell_type": "code",
   "execution_count": 152,
   "metadata": {},
   "outputs": [],
   "source": [
    "result_csv1 = df.to_csv (r'C:\\dse_new\\eda_blore_18.csv', index = None, header=True)"
   ]
  },
  {
   "cell_type": "markdown",
   "metadata": {},
   "source": [
    "# Upto this basic EDA is done"
   ]
  },
  {
   "cell_type": "markdown",
   "metadata": {},
   "source": [
    "# ---------------------------------------------------------------------------------------------------------------"
   ]
  },
  {
   "cell_type": "code",
   "execution_count": 153,
   "metadata": {},
   "outputs": [
    {
     "data": {
      "text/html": [
       "<div>\n",
       "<style scoped>\n",
       "    .dataframe tbody tr th:only-of-type {\n",
       "        vertical-align: middle;\n",
       "    }\n",
       "\n",
       "    .dataframe tbody tr th {\n",
       "        vertical-align: top;\n",
       "    }\n",
       "\n",
       "    .dataframe thead th {\n",
       "        text-align: right;\n",
       "    }\n",
       "</style>\n",
       "<table border=\"1\" class=\"dataframe\">\n",
       "  <thead>\n",
       "    <tr style=\"text-align: right;\">\n",
       "      <th></th>\n",
       "      <th>BP</th>\n",
       "      <th>CO</th>\n",
       "      <th>VWS</th>\n",
       "      <th>WD</th>\n",
       "      <th>WS</th>\n",
       "      <th>NO</th>\n",
       "      <th>NO2</th>\n",
       "      <th>PM2.5</th>\n",
       "      <th>RH</th>\n",
       "      <th>SO2</th>\n",
       "      <th>SR</th>\n",
       "    </tr>\n",
       "  </thead>\n",
       "  <tbody>\n",
       "    <tr>\n",
       "      <th>count</th>\n",
       "      <td>7732.000000</td>\n",
       "      <td>7732.000000</td>\n",
       "      <td>7732.000000</td>\n",
       "      <td>7732.000000</td>\n",
       "      <td>7732.000000</td>\n",
       "      <td>7732.000000</td>\n",
       "      <td>7732.000000</td>\n",
       "      <td>7732.000000</td>\n",
       "      <td>7732.000000</td>\n",
       "      <td>7732.000000</td>\n",
       "      <td>7732.000000</td>\n",
       "    </tr>\n",
       "    <tr>\n",
       "      <th>mean</th>\n",
       "      <td>1006.829161</td>\n",
       "      <td>1.116947</td>\n",
       "      <td>-0.030731</td>\n",
       "      <td>151.638389</td>\n",
       "      <td>0.785565</td>\n",
       "      <td>6.232469</td>\n",
       "      <td>20.830297</td>\n",
       "      <td>27.658989</td>\n",
       "      <td>59.565102</td>\n",
       "      <td>3.411352</td>\n",
       "      <td>153.870409</td>\n",
       "    </tr>\n",
       "    <tr>\n",
       "      <th>std</th>\n",
       "      <td>50.130135</td>\n",
       "      <td>1.130455</td>\n",
       "      <td>0.082942</td>\n",
       "      <td>86.284371</td>\n",
       "      <td>0.143702</td>\n",
       "      <td>12.347712</td>\n",
       "      <td>23.620826</td>\n",
       "      <td>33.350863</td>\n",
       "      <td>11.314756</td>\n",
       "      <td>5.168322</td>\n",
       "      <td>226.305887</td>\n",
       "    </tr>\n",
       "    <tr>\n",
       "      <th>min</th>\n",
       "      <td>0.000000</td>\n",
       "      <td>0.000000</td>\n",
       "      <td>-0.620000</td>\n",
       "      <td>0.000000</td>\n",
       "      <td>0.000000</td>\n",
       "      <td>0.000000</td>\n",
       "      <td>0.000000</td>\n",
       "      <td>0.000000</td>\n",
       "      <td>5.800000</td>\n",
       "      <td>0.000000</td>\n",
       "      <td>0.000000</td>\n",
       "    </tr>\n",
       "    <tr>\n",
       "      <th>25%</th>\n",
       "      <td>1006.515000</td>\n",
       "      <td>0.750000</td>\n",
       "      <td>-0.120000</td>\n",
       "      <td>72.857500</td>\n",
       "      <td>0.720000</td>\n",
       "      <td>0.000000</td>\n",
       "      <td>0.000000</td>\n",
       "      <td>14.267500</td>\n",
       "      <td>59.565102</td>\n",
       "      <td>0.000000</td>\n",
       "      <td>7.130000</td>\n",
       "    </tr>\n",
       "    <tr>\n",
       "      <th>50%</th>\n",
       "      <td>1010.300000</td>\n",
       "      <td>0.830000</td>\n",
       "      <td>-0.040000</td>\n",
       "      <td>104.280000</td>\n",
       "      <td>0.810000</td>\n",
       "      <td>4.390000</td>\n",
       "      <td>16.280000</td>\n",
       "      <td>20.715000</td>\n",
       "      <td>59.565102</td>\n",
       "      <td>3.410000</td>\n",
       "      <td>17.220000</td>\n",
       "    </tr>\n",
       "    <tr>\n",
       "      <th>75%</th>\n",
       "      <td>1011.070000</td>\n",
       "      <td>1.340000</td>\n",
       "      <td>0.030000</td>\n",
       "      <td>244.562500</td>\n",
       "      <td>0.890000</td>\n",
       "      <td>6.660000</td>\n",
       "      <td>26.090000</td>\n",
       "      <td>32.210000</td>\n",
       "      <td>59.565102</td>\n",
       "      <td>4.490000</td>\n",
       "      <td>168.820000</td>\n",
       "    </tr>\n",
       "    <tr>\n",
       "      <th>max</th>\n",
       "      <td>1029.950000</td>\n",
       "      <td>45.550000</td>\n",
       "      <td>0.260000</td>\n",
       "      <td>351.070000</td>\n",
       "      <td>1.120000</td>\n",
       "      <td>221.390000</td>\n",
       "      <td>217.740000</td>\n",
       "      <td>999.990000</td>\n",
       "      <td>104.080000</td>\n",
       "      <td>64.200000</td>\n",
       "      <td>999.990000</td>\n",
       "    </tr>\n",
       "  </tbody>\n",
       "</table>\n",
       "</div>"
      ],
      "text/plain": [
       "                BP           CO          VWS           WD           WS  \\\n",
       "count  7732.000000  7732.000000  7732.000000  7732.000000  7732.000000   \n",
       "mean   1006.829161     1.116947    -0.030731   151.638389     0.785565   \n",
       "std      50.130135     1.130455     0.082942    86.284371     0.143702   \n",
       "min       0.000000     0.000000    -0.620000     0.000000     0.000000   \n",
       "25%    1006.515000     0.750000    -0.120000    72.857500     0.720000   \n",
       "50%    1010.300000     0.830000    -0.040000   104.280000     0.810000   \n",
       "75%    1011.070000     1.340000     0.030000   244.562500     0.890000   \n",
       "max    1029.950000    45.550000     0.260000   351.070000     1.120000   \n",
       "\n",
       "                NO          NO2        PM2.5           RH          SO2  \\\n",
       "count  7732.000000  7732.000000  7732.000000  7732.000000  7732.000000   \n",
       "mean      6.232469    20.830297    27.658989    59.565102     3.411352   \n",
       "std      12.347712    23.620826    33.350863    11.314756     5.168322   \n",
       "min       0.000000     0.000000     0.000000     5.800000     0.000000   \n",
       "25%       0.000000     0.000000    14.267500    59.565102     0.000000   \n",
       "50%       4.390000    16.280000    20.715000    59.565102     3.410000   \n",
       "75%       6.660000    26.090000    32.210000    59.565102     4.490000   \n",
       "max     221.390000   217.740000   999.990000   104.080000    64.200000   \n",
       "\n",
       "                SR  \n",
       "count  7732.000000  \n",
       "mean    153.870409  \n",
       "std     226.305887  \n",
       "min       0.000000  \n",
       "25%       7.130000  \n",
       "50%      17.220000  \n",
       "75%     168.820000  \n",
       "max     999.990000  "
      ]
     },
     "execution_count": 153,
     "metadata": {},
     "output_type": "execute_result"
    }
   ],
   "source": [
    "df.describe()"
   ]
  },
  {
   "cell_type": "code",
   "execution_count": null,
   "metadata": {},
   "outputs": [],
   "source": []
  }
 ],
 "metadata": {
  "kernelspec": {
   "display_name": "Python 3",
   "language": "python",
   "name": "python3"
  },
  "language_info": {
   "codemirror_mode": {
    "name": "ipython",
    "version": 3
   },
   "file_extension": ".py",
   "mimetype": "text/x-python",
   "name": "python",
   "nbconvert_exporter": "python",
   "pygments_lexer": "ipython3",
   "version": "3.6.8"
  }
 },
 "nbformat": 4,
 "nbformat_minor": 2
}
